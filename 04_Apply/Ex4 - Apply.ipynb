{
 "cells": [
  {
   "cell_type": "code",
   "metadata": {
    "tags": [],
    "cell_id": "00000-6be634a1-8db1-40ec-963d-0caeac6abcab",
    "deepnote_cell_type": "code"
   },
   "source": "# Start writing code here...",
   "execution_count": null,
   "outputs": []
  },
  {
   "cell_type": "markdown",
   "source": "# Students Alcohol Consumption",
   "metadata": {
    "tags": [],
    "is_collapsed": false,
    "cell_id": "00001-d8a77f77-8a3e-4cd6-9059-99d3910813f1",
    "deepnote_cell_type": "text-cell-h1"
   }
  },
  {
   "cell_type": "code",
   "metadata": {
    "tags": [],
    "cell_id": "00002-754f85bd-3dc2-48f4-a5c4-1984a192e6a7",
    "deepnote_to_be_reexecuted": false,
    "source_hash": "85f41547",
    "execution_start": 1640443611805,
    "execution_millis": 34,
    "deepnote_cell_type": "code"
   },
   "source": "import pandas as pd\nimport numpy",
   "execution_count": null,
   "outputs": []
  },
  {
   "cell_type": "code",
   "metadata": {
    "tags": [],
    "cell_id": "00003-33d88a5a-4f27-4ec8-892c-8531f5a008b9",
    "deepnote_to_be_reexecuted": false,
    "source_hash": "f81e13e",
    "execution_start": 1640443613873,
    "execution_millis": 934,
    "deepnote_cell_type": "code"
   },
   "source": "csv_url = 'https://raw.githubusercontent.com/guipsamora/pandas_exercises/master/04_Apply/Students_Alcohol_Consumption/student-mat.csv'\ndf = pd.read_csv(csv_url)\ndf.head()",
   "execution_count": null,
   "outputs": [
    {
     "output_type": "execute_result",
     "execution_count": 2,
     "data": {
      "application/vnd.deepnote.dataframe.v3+json": {
       "column_count": 33,
       "row_count": 5,
       "columns": [
        {
         "name": "school",
         "dtype": "object",
         "stats": {
          "unique_count": 1,
          "nan_count": 0,
          "categories": [
           {
            "name": "GP",
            "count": 5
           }
          ]
         }
        },
        {
         "name": "sex",
         "dtype": "object",
         "stats": {
          "unique_count": 1,
          "nan_count": 0,
          "categories": [
           {
            "name": "F",
            "count": 5
           }
          ]
         }
        },
        {
         "name": "age",
         "dtype": "int64",
         "stats": {
          "unique_count": 4,
          "nan_count": 0,
          "min": "15",
          "max": "18",
          "histogram": [
           {
            "bin_start": 15,
            "bin_end": 15.3,
            "count": 2
           },
           {
            "bin_start": 15.3,
            "bin_end": 15.6,
            "count": 0
           },
           {
            "bin_start": 15.6,
            "bin_end": 15.9,
            "count": 0
           },
           {
            "bin_start": 15.9,
            "bin_end": 16.2,
            "count": 1
           },
           {
            "bin_start": 16.2,
            "bin_end": 16.5,
            "count": 0
           },
           {
            "bin_start": 16.5,
            "bin_end": 16.8,
            "count": 0
           },
           {
            "bin_start": 16.8,
            "bin_end": 17.1,
            "count": 1
           },
           {
            "bin_start": 17.1,
            "bin_end": 17.4,
            "count": 0
           },
           {
            "bin_start": 17.4,
            "bin_end": 17.7,
            "count": 0
           },
           {
            "bin_start": 17.7,
            "bin_end": 18,
            "count": 1
           }
          ]
         }
        },
        {
         "name": "address",
         "dtype": "object",
         "stats": {
          "unique_count": 1,
          "nan_count": 0,
          "categories": [
           {
            "name": "U",
            "count": 5
           }
          ]
         }
        },
        {
         "name": "famsize",
         "dtype": "object",
         "stats": {
          "unique_count": 2,
          "nan_count": 0,
          "categories": [
           {
            "name": "GT3",
            "count": 4
           },
           {
            "name": "LE3",
            "count": 1
           }
          ]
         }
        },
        {
         "name": "Pstatus",
         "dtype": "object",
         "stats": {
          "unique_count": 2,
          "nan_count": 0,
          "categories": [
           {
            "name": "T",
            "count": 4
           },
           {
            "name": "A",
            "count": 1
           }
          ]
         }
        },
        {
         "name": "Medu",
         "dtype": "int64",
         "stats": {
          "unique_count": 3,
          "nan_count": 0,
          "min": "1",
          "max": "4",
          "histogram": [
           {
            "bin_start": 1,
            "bin_end": 1.3,
            "count": 2
           },
           {
            "bin_start": 1.3,
            "bin_end": 1.6,
            "count": 0
           },
           {
            "bin_start": 1.6,
            "bin_end": 1.9,
            "count": 0
           },
           {
            "bin_start": 1.9,
            "bin_end": 2.2,
            "count": 0
           },
           {
            "bin_start": 2.2,
            "bin_end": 2.5,
            "count": 0
           },
           {
            "bin_start": 2.5,
            "bin_end": 2.8,
            "count": 0
           },
           {
            "bin_start": 2.8,
            "bin_end": 3.1,
            "count": 1
           },
           {
            "bin_start": 3.1,
            "bin_end": 3.4,
            "count": 0
           },
           {
            "bin_start": 3.4,
            "bin_end": 3.6999999999999997,
            "count": 0
           },
           {
            "bin_start": 3.6999999999999997,
            "bin_end": 4,
            "count": 2
           }
          ]
         }
        },
        {
         "name": "Fedu",
         "dtype": "int64",
         "stats": {
          "unique_count": 4,
          "nan_count": 0,
          "min": "1",
          "max": "4",
          "histogram": [
           {
            "bin_start": 1,
            "bin_end": 1.3,
            "count": 2
           },
           {
            "bin_start": 1.3,
            "bin_end": 1.6,
            "count": 0
           },
           {
            "bin_start": 1.6,
            "bin_end": 1.9,
            "count": 0
           },
           {
            "bin_start": 1.9,
            "bin_end": 2.2,
            "count": 1
           },
           {
            "bin_start": 2.2,
            "bin_end": 2.5,
            "count": 0
           },
           {
            "bin_start": 2.5,
            "bin_end": 2.8,
            "count": 0
           },
           {
            "bin_start": 2.8,
            "bin_end": 3.1,
            "count": 1
           },
           {
            "bin_start": 3.1,
            "bin_end": 3.4,
            "count": 0
           },
           {
            "bin_start": 3.4,
            "bin_end": 3.6999999999999997,
            "count": 0
           },
           {
            "bin_start": 3.6999999999999997,
            "bin_end": 4,
            "count": 1
           }
          ]
         }
        },
        {
         "name": "Mjob",
         "dtype": "object",
         "stats": {
          "unique_count": 3,
          "nan_count": 0,
          "categories": [
           {
            "name": "at_home",
            "count": 3
           },
           {
            "name": "health",
            "count": 1
           },
           {
            "name": "other",
            "count": 1
           }
          ]
         }
        },
        {
         "name": "Fjob",
         "dtype": "object",
         "stats": {
          "unique_count": 3,
          "nan_count": 0,
          "categories": [
           {
            "name": "other",
            "count": 3
           },
           {
            "name": "teacher",
            "count": 1
           },
           {
            "name": "services",
            "count": 1
           }
          ]
         }
        },
        {
         "name": "reason",
         "dtype": "object",
         "stats": {
          "unique_count": 3,
          "nan_count": 0,
          "categories": [
           {
            "name": "course",
            "count": 2
           },
           {
            "name": "home",
            "count": 2
           },
           {
            "name": "other",
            "count": 1
           }
          ]
         }
        },
        {
         "name": "guardian",
         "dtype": "object",
         "stats": {
          "unique_count": 2,
          "nan_count": 0,
          "categories": [
           {
            "name": "mother",
            "count": 3
           },
           {
            "name": "father",
            "count": 2
           }
          ]
         }
        },
        {
         "name": "traveltime",
         "dtype": "int64",
         "stats": {
          "unique_count": 2,
          "nan_count": 0,
          "min": "1",
          "max": "2",
          "histogram": [
           {
            "bin_start": 1,
            "bin_end": 1.1,
            "count": 4
           },
           {
            "bin_start": 1.1,
            "bin_end": 1.2,
            "count": 0
           },
           {
            "bin_start": 1.2,
            "bin_end": 1.3,
            "count": 0
           },
           {
            "bin_start": 1.3,
            "bin_end": 1.4,
            "count": 0
           },
           {
            "bin_start": 1.4,
            "bin_end": 1.5,
            "count": 0
           },
           {
            "bin_start": 1.5,
            "bin_end": 1.6,
            "count": 0
           },
           {
            "bin_start": 1.6,
            "bin_end": 1.7000000000000002,
            "count": 0
           },
           {
            "bin_start": 1.7000000000000002,
            "bin_end": 1.8,
            "count": 0
           },
           {
            "bin_start": 1.8,
            "bin_end": 1.9,
            "count": 0
           },
           {
            "bin_start": 1.9,
            "bin_end": 2,
            "count": 1
           }
          ]
         }
        },
        {
         "name": "studytime",
         "dtype": "int64",
         "stats": {
          "unique_count": 2,
          "nan_count": 0,
          "min": "2",
          "max": "3",
          "histogram": [
           {
            "bin_start": 2,
            "bin_end": 2.1,
            "count": 4
           },
           {
            "bin_start": 2.1,
            "bin_end": 2.2,
            "count": 0
           },
           {
            "bin_start": 2.2,
            "bin_end": 2.3,
            "count": 0
           },
           {
            "bin_start": 2.3,
            "bin_end": 2.4,
            "count": 0
           },
           {
            "bin_start": 2.4,
            "bin_end": 2.5,
            "count": 0
           },
           {
            "bin_start": 2.5,
            "bin_end": 2.6,
            "count": 0
           },
           {
            "bin_start": 2.6,
            "bin_end": 2.7,
            "count": 0
           },
           {
            "bin_start": 2.7,
            "bin_end": 2.8,
            "count": 0
           },
           {
            "bin_start": 2.8,
            "bin_end": 2.9,
            "count": 0
           },
           {
            "bin_start": 2.9,
            "bin_end": 3,
            "count": 1
           }
          ]
         }
        },
        {
         "name": "failures",
         "dtype": "int64",
         "stats": {
          "unique_count": 2,
          "nan_count": 0,
          "min": "0",
          "max": "3",
          "histogram": [
           {
            "bin_start": 0,
            "bin_end": 0.3,
            "count": 4
           },
           {
            "bin_start": 0.3,
            "bin_end": 0.6,
            "count": 0
           },
           {
            "bin_start": 0.6,
            "bin_end": 0.8999999999999999,
            "count": 0
           },
           {
            "bin_start": 0.8999999999999999,
            "bin_end": 1.2,
            "count": 0
           },
           {
            "bin_start": 1.2,
            "bin_end": 1.5,
            "count": 0
           },
           {
            "bin_start": 1.5,
            "bin_end": 1.7999999999999998,
            "count": 0
           },
           {
            "bin_start": 1.7999999999999998,
            "bin_end": 2.1,
            "count": 0
           },
           {
            "bin_start": 2.1,
            "bin_end": 2.4,
            "count": 0
           },
           {
            "bin_start": 2.4,
            "bin_end": 2.6999999999999997,
            "count": 0
           },
           {
            "bin_start": 2.6999999999999997,
            "bin_end": 3,
            "count": 1
           }
          ]
         }
        },
        {
         "name": "schoolsup",
         "dtype": "object",
         "stats": {
          "unique_count": 2,
          "nan_count": 0,
          "categories": [
           {
            "name": "no",
            "count": 3
           },
           {
            "name": "yes",
            "count": 2
           }
          ]
         }
        },
        {
         "name": "famsup",
         "dtype": "object",
         "stats": {
          "unique_count": 2,
          "nan_count": 0,
          "categories": [
           {
            "name": "yes",
            "count": 3
           },
           {
            "name": "no",
            "count": 2
           }
          ]
         }
        },
        {
         "name": "paid",
         "dtype": "object",
         "stats": {
          "unique_count": 2,
          "nan_count": 0,
          "categories": [
           {
            "name": "yes",
            "count": 3
           },
           {
            "name": "no",
            "count": 2
           }
          ]
         }
        },
        {
         "name": "activities",
         "dtype": "object",
         "stats": {
          "unique_count": 2,
          "nan_count": 0,
          "categories": [
           {
            "name": "no",
            "count": 4
           },
           {
            "name": "yes",
            "count": 1
           }
          ]
         }
        },
        {
         "name": "nursery",
         "dtype": "object",
         "stats": {
          "unique_count": 2,
          "nan_count": 0,
          "categories": [
           {
            "name": "yes",
            "count": 4
           },
           {
            "name": "no",
            "count": 1
           }
          ]
         }
        },
        {
         "name": "higher",
         "dtype": "object",
         "stats": {
          "unique_count": 1,
          "nan_count": 0,
          "categories": [
           {
            "name": "yes",
            "count": 5
           }
          ]
         }
        },
        {
         "name": "internet",
         "dtype": "object",
         "stats": {
          "unique_count": 2,
          "nan_count": 0,
          "categories": [
           {
            "name": "yes",
            "count": 3
           },
           {
            "name": "no",
            "count": 2
           }
          ]
         }
        },
        {
         "name": "romantic",
         "dtype": "object",
         "stats": {
          "unique_count": 2,
          "nan_count": 0,
          "categories": [
           {
            "name": "no",
            "count": 4
           },
           {
            "name": "yes",
            "count": 1
           }
          ]
         }
        },
        {
         "name": "famrel",
         "dtype": "int64",
         "stats": {
          "unique_count": 3,
          "nan_count": 0,
          "min": "3",
          "max": "5",
          "histogram": [
           {
            "bin_start": 3,
            "bin_end": 3.2,
            "count": 1
           },
           {
            "bin_start": 3.2,
            "bin_end": 3.4,
            "count": 0
           },
           {
            "bin_start": 3.4,
            "bin_end": 3.6,
            "count": 0
           },
           {
            "bin_start": 3.6,
            "bin_end": 3.8,
            "count": 0
           },
           {
            "bin_start": 3.8,
            "bin_end": 4,
            "count": 0
           },
           {
            "bin_start": 4,
            "bin_end": 4.2,
            "count": 3
           },
           {
            "bin_start": 4.2,
            "bin_end": 4.4,
            "count": 0
           },
           {
            "bin_start": 4.4,
            "bin_end": 4.6,
            "count": 0
           },
           {
            "bin_start": 4.6,
            "bin_end": 4.8,
            "count": 0
           },
           {
            "bin_start": 4.8,
            "bin_end": 5,
            "count": 1
           }
          ]
         }
        },
        {
         "name": "freetime",
         "dtype": "int64",
         "stats": {
          "unique_count": 2,
          "nan_count": 0,
          "min": "2",
          "max": "3",
          "histogram": [
           {
            "bin_start": 2,
            "bin_end": 2.1,
            "count": 1
           },
           {
            "bin_start": 2.1,
            "bin_end": 2.2,
            "count": 0
           },
           {
            "bin_start": 2.2,
            "bin_end": 2.3,
            "count": 0
           },
           {
            "bin_start": 2.3,
            "bin_end": 2.4,
            "count": 0
           },
           {
            "bin_start": 2.4,
            "bin_end": 2.5,
            "count": 0
           },
           {
            "bin_start": 2.5,
            "bin_end": 2.6,
            "count": 0
           },
           {
            "bin_start": 2.6,
            "bin_end": 2.7,
            "count": 0
           },
           {
            "bin_start": 2.7,
            "bin_end": 2.8,
            "count": 0
           },
           {
            "bin_start": 2.8,
            "bin_end": 2.9,
            "count": 0
           },
           {
            "bin_start": 2.9,
            "bin_end": 3,
            "count": 4
           }
          ]
         }
        },
        {
         "name": "goout",
         "dtype": "int64",
         "stats": {
          "unique_count": 3,
          "nan_count": 0,
          "min": "2",
          "max": "4",
          "histogram": [
           {
            "bin_start": 2,
            "bin_end": 2.2,
            "count": 3
           },
           {
            "bin_start": 2.2,
            "bin_end": 2.4,
            "count": 0
           },
           {
            "bin_start": 2.4,
            "bin_end": 2.6,
            "count": 0
           },
           {
            "bin_start": 2.6,
            "bin_end": 2.8,
            "count": 0
           },
           {
            "bin_start": 2.8,
            "bin_end": 3,
            "count": 0
           },
           {
            "bin_start": 3,
            "bin_end": 3.2,
            "count": 1
           },
           {
            "bin_start": 3.2,
            "bin_end": 3.4000000000000004,
            "count": 0
           },
           {
            "bin_start": 3.4000000000000004,
            "bin_end": 3.6,
            "count": 0
           },
           {
            "bin_start": 3.6,
            "bin_end": 3.8,
            "count": 0
           },
           {
            "bin_start": 3.8,
            "bin_end": 4,
            "count": 1
           }
          ]
         }
        },
        {
         "name": "Dalc",
         "dtype": "int64",
         "stats": {
          "unique_count": 2,
          "nan_count": 0,
          "min": "1",
          "max": "2",
          "histogram": [
           {
            "bin_start": 1,
            "bin_end": 1.1,
            "count": 4
           },
           {
            "bin_start": 1.1,
            "bin_end": 1.2,
            "count": 0
           },
           {
            "bin_start": 1.2,
            "bin_end": 1.3,
            "count": 0
           },
           {
            "bin_start": 1.3,
            "bin_end": 1.4,
            "count": 0
           },
           {
            "bin_start": 1.4,
            "bin_end": 1.5,
            "count": 0
           },
           {
            "bin_start": 1.5,
            "bin_end": 1.6,
            "count": 0
           },
           {
            "bin_start": 1.6,
            "bin_end": 1.7000000000000002,
            "count": 0
           },
           {
            "bin_start": 1.7000000000000002,
            "bin_end": 1.8,
            "count": 0
           },
           {
            "bin_start": 1.8,
            "bin_end": 1.9,
            "count": 0
           },
           {
            "bin_start": 1.9,
            "bin_end": 2,
            "count": 1
           }
          ]
         }
        },
        {
         "name": "Walc",
         "dtype": "int64",
         "stats": {
          "unique_count": 3,
          "nan_count": 0,
          "min": "1",
          "max": "3",
          "histogram": [
           {
            "bin_start": 1,
            "bin_end": 1.2,
            "count": 3
           },
           {
            "bin_start": 1.2,
            "bin_end": 1.4,
            "count": 0
           },
           {
            "bin_start": 1.4,
            "bin_end": 1.6,
            "count": 0
           },
           {
            "bin_start": 1.6,
            "bin_end": 1.8,
            "count": 0
           },
           {
            "bin_start": 1.8,
            "bin_end": 2,
            "count": 0
           },
           {
            "bin_start": 2,
            "bin_end": 2.2,
            "count": 1
           },
           {
            "bin_start": 2.2,
            "bin_end": 2.4000000000000004,
            "count": 0
           },
           {
            "bin_start": 2.4000000000000004,
            "bin_end": 2.6,
            "count": 0
           },
           {
            "bin_start": 2.6,
            "bin_end": 2.8,
            "count": 0
           },
           {
            "bin_start": 2.8,
            "bin_end": 3,
            "count": 1
           }
          ]
         }
        },
        {
         "name": "health",
         "dtype": "int64",
         "stats": {
          "unique_count": 2,
          "nan_count": 0,
          "min": "3",
          "max": "5",
          "histogram": [
           {
            "bin_start": 3,
            "bin_end": 3.2,
            "count": 3
           },
           {
            "bin_start": 3.2,
            "bin_end": 3.4,
            "count": 0
           },
           {
            "bin_start": 3.4,
            "bin_end": 3.6,
            "count": 0
           },
           {
            "bin_start": 3.6,
            "bin_end": 3.8,
            "count": 0
           },
           {
            "bin_start": 3.8,
            "bin_end": 4,
            "count": 0
           },
           {
            "bin_start": 4,
            "bin_end": 4.2,
            "count": 0
           },
           {
            "bin_start": 4.2,
            "bin_end": 4.4,
            "count": 0
           },
           {
            "bin_start": 4.4,
            "bin_end": 4.6,
            "count": 0
           },
           {
            "bin_start": 4.6,
            "bin_end": 4.8,
            "count": 0
           },
           {
            "bin_start": 4.8,
            "bin_end": 5,
            "count": 2
           }
          ]
         }
        },
        {
         "name": "absences",
         "dtype": "int64",
         "stats": {
          "unique_count": 4,
          "nan_count": 0,
          "min": "2",
          "max": "10",
          "histogram": [
           {
            "bin_start": 2,
            "bin_end": 2.8,
            "count": 1
           },
           {
            "bin_start": 2.8,
            "bin_end": 3.6,
            "count": 0
           },
           {
            "bin_start": 3.6,
            "bin_end": 4.4,
            "count": 2
           },
           {
            "bin_start": 4.4,
            "bin_end": 5.2,
            "count": 0
           },
           {
            "bin_start": 5.2,
            "bin_end": 6,
            "count": 0
           },
           {
            "bin_start": 6,
            "bin_end": 6.800000000000001,
            "count": 1
           },
           {
            "bin_start": 6.800000000000001,
            "bin_end": 7.6000000000000005,
            "count": 0
           },
           {
            "bin_start": 7.6000000000000005,
            "bin_end": 8.4,
            "count": 0
           },
           {
            "bin_start": 8.4,
            "bin_end": 9.2,
            "count": 0
           },
           {
            "bin_start": 9.2,
            "bin_end": 10,
            "count": 1
           }
          ]
         }
        },
        {
         "name": "G1",
         "dtype": "int64",
         "stats": {
          "unique_count": 4,
          "nan_count": 0,
          "min": "5",
          "max": "15",
          "histogram": [
           {
            "bin_start": 5,
            "bin_end": 6,
            "count": 2
           },
           {
            "bin_start": 6,
            "bin_end": 7,
            "count": 1
           },
           {
            "bin_start": 7,
            "bin_end": 8,
            "count": 1
           },
           {
            "bin_start": 8,
            "bin_end": 9,
            "count": 0
           },
           {
            "bin_start": 9,
            "bin_end": 10,
            "count": 0
           },
           {
            "bin_start": 10,
            "bin_end": 11,
            "count": 0
           },
           {
            "bin_start": 11,
            "bin_end": 12,
            "count": 0
           },
           {
            "bin_start": 12,
            "bin_end": 13,
            "count": 0
           },
           {
            "bin_start": 13,
            "bin_end": 14,
            "count": 0
           },
           {
            "bin_start": 14,
            "bin_end": 15,
            "count": 1
           }
          ]
         }
        },
        {
         "name": "G2",
         "dtype": "int64",
         "stats": {
          "unique_count": 5,
          "nan_count": 0,
          "min": "5",
          "max": "14",
          "histogram": [
           {
            "bin_start": 5,
            "bin_end": 5.9,
            "count": 1
           },
           {
            "bin_start": 5.9,
            "bin_end": 6.8,
            "count": 1
           },
           {
            "bin_start": 6.8,
            "bin_end": 7.7,
            "count": 0
           },
           {
            "bin_start": 7.7,
            "bin_end": 8.6,
            "count": 1
           },
           {
            "bin_start": 8.6,
            "bin_end": 9.5,
            "count": 0
           },
           {
            "bin_start": 9.5,
            "bin_end": 10.4,
            "count": 1
           },
           {
            "bin_start": 10.4,
            "bin_end": 11.3,
            "count": 0
           },
           {
            "bin_start": 11.3,
            "bin_end": 12.2,
            "count": 0
           },
           {
            "bin_start": 12.2,
            "bin_end": 13.1,
            "count": 0
           },
           {
            "bin_start": 13.1,
            "bin_end": 14,
            "count": 1
           }
          ]
         }
        },
        {
         "name": "G3",
         "dtype": "int64",
         "stats": {
          "unique_count": 3,
          "nan_count": 0,
          "min": "6",
          "max": "15",
          "histogram": [
           {
            "bin_start": 6,
            "bin_end": 6.9,
            "count": 2
           },
           {
            "bin_start": 6.9,
            "bin_end": 7.8,
            "count": 0
           },
           {
            "bin_start": 7.8,
            "bin_end": 8.7,
            "count": 0
           },
           {
            "bin_start": 8.7,
            "bin_end": 9.6,
            "count": 0
           },
           {
            "bin_start": 9.6,
            "bin_end": 10.5,
            "count": 2
           },
           {
            "bin_start": 10.5,
            "bin_end": 11.4,
            "count": 0
           },
           {
            "bin_start": 11.4,
            "bin_end": 12.3,
            "count": 0
           },
           {
            "bin_start": 12.3,
            "bin_end": 13.2,
            "count": 0
           },
           {
            "bin_start": 13.2,
            "bin_end": 14.1,
            "count": 0
           },
           {
            "bin_start": 14.1,
            "bin_end": 15,
            "count": 1
           }
          ]
         }
        },
        {
         "name": "_deepnote_index_column",
         "dtype": "int64"
        }
       ],
       "rows": [
        {
         "school": "GP",
         "sex": "F",
         "age": 18,
         "address": "U",
         "famsize": "GT3",
         "Pstatus": "A",
         "Medu": 4,
         "Fedu": 4,
         "Mjob": "at_home",
         "Fjob": "teacher",
         "reason": "course",
         "guardian": "mother",
         "traveltime": 2,
         "studytime": 2,
         "failures": 0,
         "schoolsup": "yes",
         "famsup": "no",
         "paid": "no",
         "activities": "no",
         "nursery": "yes",
         "higher": "yes",
         "internet": "no",
         "romantic": "no",
         "famrel": 4,
         "freetime": 3,
         "goout": 4,
         "Dalc": 1,
         "Walc": 1,
         "health": 3,
         "absences": 6,
         "G1": 5,
         "G2": 6,
         "G3": 6,
         "_deepnote_index_column": 0
        },
        {
         "school": "GP",
         "sex": "F",
         "age": 17,
         "address": "U",
         "famsize": "GT3",
         "Pstatus": "T",
         "Medu": 1,
         "Fedu": 1,
         "Mjob": "at_home",
         "Fjob": "other",
         "reason": "course",
         "guardian": "father",
         "traveltime": 1,
         "studytime": 2,
         "failures": 0,
         "schoolsup": "no",
         "famsup": "yes",
         "paid": "no",
         "activities": "no",
         "nursery": "no",
         "higher": "yes",
         "internet": "yes",
         "romantic": "no",
         "famrel": 5,
         "freetime": 3,
         "goout": 3,
         "Dalc": 1,
         "Walc": 1,
         "health": 3,
         "absences": 4,
         "G1": 5,
         "G2": 5,
         "G3": 6,
         "_deepnote_index_column": 1
        },
        {
         "school": "GP",
         "sex": "F",
         "age": 15,
         "address": "U",
         "famsize": "LE3",
         "Pstatus": "T",
         "Medu": 1,
         "Fedu": 1,
         "Mjob": "at_home",
         "Fjob": "other",
         "reason": "other",
         "guardian": "mother",
         "traveltime": 1,
         "studytime": 2,
         "failures": 3,
         "schoolsup": "yes",
         "famsup": "no",
         "paid": "yes",
         "activities": "no",
         "nursery": "yes",
         "higher": "yes",
         "internet": "yes",
         "romantic": "no",
         "famrel": 4,
         "freetime": 3,
         "goout": 2,
         "Dalc": 2,
         "Walc": 3,
         "health": 3,
         "absences": 10,
         "G1": 7,
         "G2": 8,
         "G3": 10,
         "_deepnote_index_column": 2
        },
        {
         "school": "GP",
         "sex": "F",
         "age": 15,
         "address": "U",
         "famsize": "GT3",
         "Pstatus": "T",
         "Medu": 4,
         "Fedu": 2,
         "Mjob": "health",
         "Fjob": "services",
         "reason": "home",
         "guardian": "mother",
         "traveltime": 1,
         "studytime": 3,
         "failures": 0,
         "schoolsup": "no",
         "famsup": "yes",
         "paid": "yes",
         "activities": "yes",
         "nursery": "yes",
         "higher": "yes",
         "internet": "yes",
         "romantic": "yes",
         "famrel": 3,
         "freetime": 2,
         "goout": 2,
         "Dalc": 1,
         "Walc": 1,
         "health": 5,
         "absences": 2,
         "G1": 15,
         "G2": 14,
         "G3": 15,
         "_deepnote_index_column": 3
        },
        {
         "school": "GP",
         "sex": "F",
         "age": 16,
         "address": "U",
         "famsize": "GT3",
         "Pstatus": "T",
         "Medu": 3,
         "Fedu": 3,
         "Mjob": "other",
         "Fjob": "other",
         "reason": "home",
         "guardian": "father",
         "traveltime": 1,
         "studytime": 2,
         "failures": 0,
         "schoolsup": "no",
         "famsup": "yes",
         "paid": "yes",
         "activities": "no",
         "nursery": "yes",
         "higher": "yes",
         "internet": "no",
         "romantic": "no",
         "famrel": 4,
         "freetime": 3,
         "goout": 2,
         "Dalc": 1,
         "Walc": 2,
         "health": 5,
         "absences": 4,
         "G1": 6,
         "G2": 10,
         "G3": 10,
         "_deepnote_index_column": 4
        }
       ]
      },
      "text/plain": "  school sex  age address famsize Pstatus  Medu  Fedu     Mjob      Fjob  ...  \\\n0     GP   F   18       U     GT3       A     4     4  at_home   teacher  ...   \n1     GP   F   17       U     GT3       T     1     1  at_home     other  ...   \n2     GP   F   15       U     LE3       T     1     1  at_home     other  ...   \n3     GP   F   15       U     GT3       T     4     2   health  services  ...   \n4     GP   F   16       U     GT3       T     3     3    other     other  ...   \n\n  famrel freetime  goout  Dalc  Walc health absences  G1  G2  G3  \n0      4        3      4     1     1      3        6   5   6   6  \n1      5        3      3     1     1      3        4   5   5   6  \n2      4        3      2     2     3      3       10   7   8  10  \n3      3        2      2     1     1      5        2  15  14  15  \n4      4        3      2     1     2      5        4   6  10  10  \n\n[5 rows x 33 columns]",
      "text/html": "<div>\n<style scoped>\n    .dataframe tbody tr th:only-of-type {\n        vertical-align: middle;\n    }\n\n    .dataframe tbody tr th {\n        vertical-align: top;\n    }\n\n    .dataframe thead th {\n        text-align: right;\n    }\n</style>\n<table border=\"1\" class=\"dataframe\">\n  <thead>\n    <tr style=\"text-align: right;\">\n      <th></th>\n      <th>school</th>\n      <th>sex</th>\n      <th>age</th>\n      <th>address</th>\n      <th>famsize</th>\n      <th>Pstatus</th>\n      <th>Medu</th>\n      <th>Fedu</th>\n      <th>Mjob</th>\n      <th>Fjob</th>\n      <th>...</th>\n      <th>famrel</th>\n      <th>freetime</th>\n      <th>goout</th>\n      <th>Dalc</th>\n      <th>Walc</th>\n      <th>health</th>\n      <th>absences</th>\n      <th>G1</th>\n      <th>G2</th>\n      <th>G3</th>\n    </tr>\n  </thead>\n  <tbody>\n    <tr>\n      <th>0</th>\n      <td>GP</td>\n      <td>F</td>\n      <td>18</td>\n      <td>U</td>\n      <td>GT3</td>\n      <td>A</td>\n      <td>4</td>\n      <td>4</td>\n      <td>at_home</td>\n      <td>teacher</td>\n      <td>...</td>\n      <td>4</td>\n      <td>3</td>\n      <td>4</td>\n      <td>1</td>\n      <td>1</td>\n      <td>3</td>\n      <td>6</td>\n      <td>5</td>\n      <td>6</td>\n      <td>6</td>\n    </tr>\n    <tr>\n      <th>1</th>\n      <td>GP</td>\n      <td>F</td>\n      <td>17</td>\n      <td>U</td>\n      <td>GT3</td>\n      <td>T</td>\n      <td>1</td>\n      <td>1</td>\n      <td>at_home</td>\n      <td>other</td>\n      <td>...</td>\n      <td>5</td>\n      <td>3</td>\n      <td>3</td>\n      <td>1</td>\n      <td>1</td>\n      <td>3</td>\n      <td>4</td>\n      <td>5</td>\n      <td>5</td>\n      <td>6</td>\n    </tr>\n    <tr>\n      <th>2</th>\n      <td>GP</td>\n      <td>F</td>\n      <td>15</td>\n      <td>U</td>\n      <td>LE3</td>\n      <td>T</td>\n      <td>1</td>\n      <td>1</td>\n      <td>at_home</td>\n      <td>other</td>\n      <td>...</td>\n      <td>4</td>\n      <td>3</td>\n      <td>2</td>\n      <td>2</td>\n      <td>3</td>\n      <td>3</td>\n      <td>10</td>\n      <td>7</td>\n      <td>8</td>\n      <td>10</td>\n    </tr>\n    <tr>\n      <th>3</th>\n      <td>GP</td>\n      <td>F</td>\n      <td>15</td>\n      <td>U</td>\n      <td>GT3</td>\n      <td>T</td>\n      <td>4</td>\n      <td>2</td>\n      <td>health</td>\n      <td>services</td>\n      <td>...</td>\n      <td>3</td>\n      <td>2</td>\n      <td>2</td>\n      <td>1</td>\n      <td>1</td>\n      <td>5</td>\n      <td>2</td>\n      <td>15</td>\n      <td>14</td>\n      <td>15</td>\n    </tr>\n    <tr>\n      <th>4</th>\n      <td>GP</td>\n      <td>F</td>\n      <td>16</td>\n      <td>U</td>\n      <td>GT3</td>\n      <td>T</td>\n      <td>3</td>\n      <td>3</td>\n      <td>other</td>\n      <td>other</td>\n      <td>...</td>\n      <td>4</td>\n      <td>3</td>\n      <td>2</td>\n      <td>1</td>\n      <td>2</td>\n      <td>5</td>\n      <td>4</td>\n      <td>6</td>\n      <td>10</td>\n      <td>10</td>\n    </tr>\n  </tbody>\n</table>\n<p>5 rows × 33 columns</p>\n</div>"
     },
     "metadata": {}
    }
   ]
  },
  {
   "cell_type": "code",
   "metadata": {
    "tags": [],
    "cell_id": "00004-dc731561-75a5-44ab-9929-20f97fd84e88",
    "deepnote_to_be_reexecuted": false,
    "source_hash": "d6b636c1",
    "execution_start": 1640443616600,
    "execution_millis": 134,
    "deepnote_cell_type": "code"
   },
   "source": "#Step 4. For the purpose of this exercise slice the dataframe from 'school' until the 'guardian' column\ndf1 = df.loc[:,'school':'guardian']\ndf1.head()",
   "execution_count": null,
   "outputs": [
    {
     "output_type": "execute_result",
     "execution_count": 3,
     "data": {
      "application/vnd.deepnote.dataframe.v3+json": {
       "column_count": 12,
       "row_count": 5,
       "columns": [
        {
         "name": "school",
         "dtype": "object",
         "stats": {
          "unique_count": 1,
          "nan_count": 0,
          "categories": [
           {
            "name": "GP",
            "count": 5
           }
          ]
         }
        },
        {
         "name": "sex",
         "dtype": "object",
         "stats": {
          "unique_count": 1,
          "nan_count": 0,
          "categories": [
           {
            "name": "F",
            "count": 5
           }
          ]
         }
        },
        {
         "name": "age",
         "dtype": "int64",
         "stats": {
          "unique_count": 4,
          "nan_count": 0,
          "min": "15",
          "max": "18",
          "histogram": [
           {
            "bin_start": 15,
            "bin_end": 15.3,
            "count": 2
           },
           {
            "bin_start": 15.3,
            "bin_end": 15.6,
            "count": 0
           },
           {
            "bin_start": 15.6,
            "bin_end": 15.9,
            "count": 0
           },
           {
            "bin_start": 15.9,
            "bin_end": 16.2,
            "count": 1
           },
           {
            "bin_start": 16.2,
            "bin_end": 16.5,
            "count": 0
           },
           {
            "bin_start": 16.5,
            "bin_end": 16.8,
            "count": 0
           },
           {
            "bin_start": 16.8,
            "bin_end": 17.1,
            "count": 1
           },
           {
            "bin_start": 17.1,
            "bin_end": 17.4,
            "count": 0
           },
           {
            "bin_start": 17.4,
            "bin_end": 17.7,
            "count": 0
           },
           {
            "bin_start": 17.7,
            "bin_end": 18,
            "count": 1
           }
          ]
         }
        },
        {
         "name": "address",
         "dtype": "object",
         "stats": {
          "unique_count": 1,
          "nan_count": 0,
          "categories": [
           {
            "name": "U",
            "count": 5
           }
          ]
         }
        },
        {
         "name": "famsize",
         "dtype": "object",
         "stats": {
          "unique_count": 2,
          "nan_count": 0,
          "categories": [
           {
            "name": "GT3",
            "count": 4
           },
           {
            "name": "LE3",
            "count": 1
           }
          ]
         }
        },
        {
         "name": "Pstatus",
         "dtype": "object",
         "stats": {
          "unique_count": 2,
          "nan_count": 0,
          "categories": [
           {
            "name": "T",
            "count": 4
           },
           {
            "name": "A",
            "count": 1
           }
          ]
         }
        },
        {
         "name": "Medu",
         "dtype": "int64",
         "stats": {
          "unique_count": 3,
          "nan_count": 0,
          "min": "1",
          "max": "4",
          "histogram": [
           {
            "bin_start": 1,
            "bin_end": 1.3,
            "count": 2
           },
           {
            "bin_start": 1.3,
            "bin_end": 1.6,
            "count": 0
           },
           {
            "bin_start": 1.6,
            "bin_end": 1.9,
            "count": 0
           },
           {
            "bin_start": 1.9,
            "bin_end": 2.2,
            "count": 0
           },
           {
            "bin_start": 2.2,
            "bin_end": 2.5,
            "count": 0
           },
           {
            "bin_start": 2.5,
            "bin_end": 2.8,
            "count": 0
           },
           {
            "bin_start": 2.8,
            "bin_end": 3.1,
            "count": 1
           },
           {
            "bin_start": 3.1,
            "bin_end": 3.4,
            "count": 0
           },
           {
            "bin_start": 3.4,
            "bin_end": 3.6999999999999997,
            "count": 0
           },
           {
            "bin_start": 3.6999999999999997,
            "bin_end": 4,
            "count": 2
           }
          ]
         }
        },
        {
         "name": "Fedu",
         "dtype": "int64",
         "stats": {
          "unique_count": 4,
          "nan_count": 0,
          "min": "1",
          "max": "4",
          "histogram": [
           {
            "bin_start": 1,
            "bin_end": 1.3,
            "count": 2
           },
           {
            "bin_start": 1.3,
            "bin_end": 1.6,
            "count": 0
           },
           {
            "bin_start": 1.6,
            "bin_end": 1.9,
            "count": 0
           },
           {
            "bin_start": 1.9,
            "bin_end": 2.2,
            "count": 1
           },
           {
            "bin_start": 2.2,
            "bin_end": 2.5,
            "count": 0
           },
           {
            "bin_start": 2.5,
            "bin_end": 2.8,
            "count": 0
           },
           {
            "bin_start": 2.8,
            "bin_end": 3.1,
            "count": 1
           },
           {
            "bin_start": 3.1,
            "bin_end": 3.4,
            "count": 0
           },
           {
            "bin_start": 3.4,
            "bin_end": 3.6999999999999997,
            "count": 0
           },
           {
            "bin_start": 3.6999999999999997,
            "bin_end": 4,
            "count": 1
           }
          ]
         }
        },
        {
         "name": "Mjob",
         "dtype": "object",
         "stats": {
          "unique_count": 3,
          "nan_count": 0,
          "categories": [
           {
            "name": "at_home",
            "count": 3
           },
           {
            "name": "health",
            "count": 1
           },
           {
            "name": "other",
            "count": 1
           }
          ]
         }
        },
        {
         "name": "Fjob",
         "dtype": "object",
         "stats": {
          "unique_count": 3,
          "nan_count": 0,
          "categories": [
           {
            "name": "other",
            "count": 3
           },
           {
            "name": "teacher",
            "count": 1
           },
           {
            "name": "services",
            "count": 1
           }
          ]
         }
        },
        {
         "name": "reason",
         "dtype": "object",
         "stats": {
          "unique_count": 3,
          "nan_count": 0,
          "categories": [
           {
            "name": "course",
            "count": 2
           },
           {
            "name": "home",
            "count": 2
           },
           {
            "name": "other",
            "count": 1
           }
          ]
         }
        },
        {
         "name": "guardian",
         "dtype": "object",
         "stats": {
          "unique_count": 2,
          "nan_count": 0,
          "categories": [
           {
            "name": "mother",
            "count": 3
           },
           {
            "name": "father",
            "count": 2
           }
          ]
         }
        },
        {
         "name": "_deepnote_index_column",
         "dtype": "int64"
        }
       ],
       "rows": [
        {
         "school": "GP",
         "sex": "F",
         "age": 18,
         "address": "U",
         "famsize": "GT3",
         "Pstatus": "A",
         "Medu": 4,
         "Fedu": 4,
         "Mjob": "at_home",
         "Fjob": "teacher",
         "reason": "course",
         "guardian": "mother",
         "_deepnote_index_column": 0
        },
        {
         "school": "GP",
         "sex": "F",
         "age": 17,
         "address": "U",
         "famsize": "GT3",
         "Pstatus": "T",
         "Medu": 1,
         "Fedu": 1,
         "Mjob": "at_home",
         "Fjob": "other",
         "reason": "course",
         "guardian": "father",
         "_deepnote_index_column": 1
        },
        {
         "school": "GP",
         "sex": "F",
         "age": 15,
         "address": "U",
         "famsize": "LE3",
         "Pstatus": "T",
         "Medu": 1,
         "Fedu": 1,
         "Mjob": "at_home",
         "Fjob": "other",
         "reason": "other",
         "guardian": "mother",
         "_deepnote_index_column": 2
        },
        {
         "school": "GP",
         "sex": "F",
         "age": 15,
         "address": "U",
         "famsize": "GT3",
         "Pstatus": "T",
         "Medu": 4,
         "Fedu": 2,
         "Mjob": "health",
         "Fjob": "services",
         "reason": "home",
         "guardian": "mother",
         "_deepnote_index_column": 3
        },
        {
         "school": "GP",
         "sex": "F",
         "age": 16,
         "address": "U",
         "famsize": "GT3",
         "Pstatus": "T",
         "Medu": 3,
         "Fedu": 3,
         "Mjob": "other",
         "Fjob": "other",
         "reason": "home",
         "guardian": "father",
         "_deepnote_index_column": 4
        }
       ]
      },
      "text/plain": "  school sex  age address famsize Pstatus  Medu  Fedu     Mjob      Fjob  \\\n0     GP   F   18       U     GT3       A     4     4  at_home   teacher   \n1     GP   F   17       U     GT3       T     1     1  at_home     other   \n2     GP   F   15       U     LE3       T     1     1  at_home     other   \n3     GP   F   15       U     GT3       T     4     2   health  services   \n4     GP   F   16       U     GT3       T     3     3    other     other   \n\n   reason guardian  \n0  course   mother  \n1  course   father  \n2   other   mother  \n3    home   mother  \n4    home   father  ",
      "text/html": "<div>\n<style scoped>\n    .dataframe tbody tr th:only-of-type {\n        vertical-align: middle;\n    }\n\n    .dataframe tbody tr th {\n        vertical-align: top;\n    }\n\n    .dataframe thead th {\n        text-align: right;\n    }\n</style>\n<table border=\"1\" class=\"dataframe\">\n  <thead>\n    <tr style=\"text-align: right;\">\n      <th></th>\n      <th>school</th>\n      <th>sex</th>\n      <th>age</th>\n      <th>address</th>\n      <th>famsize</th>\n      <th>Pstatus</th>\n      <th>Medu</th>\n      <th>Fedu</th>\n      <th>Mjob</th>\n      <th>Fjob</th>\n      <th>reason</th>\n      <th>guardian</th>\n    </tr>\n  </thead>\n  <tbody>\n    <tr>\n      <th>0</th>\n      <td>GP</td>\n      <td>F</td>\n      <td>18</td>\n      <td>U</td>\n      <td>GT3</td>\n      <td>A</td>\n      <td>4</td>\n      <td>4</td>\n      <td>at_home</td>\n      <td>teacher</td>\n      <td>course</td>\n      <td>mother</td>\n    </tr>\n    <tr>\n      <th>1</th>\n      <td>GP</td>\n      <td>F</td>\n      <td>17</td>\n      <td>U</td>\n      <td>GT3</td>\n      <td>T</td>\n      <td>1</td>\n      <td>1</td>\n      <td>at_home</td>\n      <td>other</td>\n      <td>course</td>\n      <td>father</td>\n    </tr>\n    <tr>\n      <th>2</th>\n      <td>GP</td>\n      <td>F</td>\n      <td>15</td>\n      <td>U</td>\n      <td>LE3</td>\n      <td>T</td>\n      <td>1</td>\n      <td>1</td>\n      <td>at_home</td>\n      <td>other</td>\n      <td>other</td>\n      <td>mother</td>\n    </tr>\n    <tr>\n      <th>3</th>\n      <td>GP</td>\n      <td>F</td>\n      <td>15</td>\n      <td>U</td>\n      <td>GT3</td>\n      <td>T</td>\n      <td>4</td>\n      <td>2</td>\n      <td>health</td>\n      <td>services</td>\n      <td>home</td>\n      <td>mother</td>\n    </tr>\n    <tr>\n      <th>4</th>\n      <td>GP</td>\n      <td>F</td>\n      <td>16</td>\n      <td>U</td>\n      <td>GT3</td>\n      <td>T</td>\n      <td>3</td>\n      <td>3</td>\n      <td>other</td>\n      <td>other</td>\n      <td>home</td>\n      <td>father</td>\n    </tr>\n  </tbody>\n</table>\n</div>"
     },
     "metadata": {}
    }
   ]
  },
  {
   "cell_type": "code",
   "metadata": {
    "tags": [],
    "cell_id": "00005-8474b866-d672-426a-b3ae-9854b7098406",
    "deepnote_to_be_reexecuted": false,
    "source_hash": "b7c4f4bb",
    "execution_start": 1640443619476,
    "execution_millis": 5,
    "deepnote_cell_type": "code"
   },
   "source": "#Step 5. Create a lambda function that will capitalize strings.\ncapitalizer = lambda x:x.capitalize()",
   "execution_count": null,
   "outputs": []
  },
  {
   "cell_type": "code",
   "metadata": {
    "tags": [],
    "cell_id": "00006-98270c79-9375-4420-ba0d-284882346b22",
    "deepnote_to_be_reexecuted": false,
    "source_hash": "aaf62836",
    "execution_start": 1640443623971,
    "execution_millis": 5,
    "deepnote_output_heights": [
     232.375
    ],
    "deepnote_cell_type": "code"
   },
   "source": "#Step 6. Capitalize both Mjob and Fjob\ndf1['Mjob'].apply(capitalizer)\ndf1['Fjob'].apply(capitalizer)",
   "execution_count": null,
   "outputs": [
    {
     "output_type": "execute_result",
     "execution_count": 5,
     "data": {
      "text/plain": "0       Teacher\n1         Other\n2         Other\n3      Services\n4         Other\n         ...   \n390    Services\n391    Services\n392       Other\n393       Other\n394     At_home\nName: Fjob, Length: 395, dtype: object"
     },
     "metadata": {}
    }
   ]
  },
  {
   "cell_type": "code",
   "metadata": {
    "tags": [],
    "cell_id": "00007-6325ba09-2096-4567-9a9c-7fb511d68ade",
    "deepnote_to_be_reexecuted": false,
    "source_hash": "f270914b",
    "execution_start": 1640443626849,
    "execution_millis": 7,
    "deepnote_output_heights": [
     117.1875
    ],
    "deepnote_cell_type": "code"
   },
   "source": "#Step 7. Print the last elements of the data set.\ndf1.tail()",
   "execution_count": null,
   "outputs": [
    {
     "output_type": "execute_result",
     "execution_count": 6,
     "data": {
      "application/vnd.deepnote.dataframe.v3+json": {
       "column_count": 12,
       "row_count": 5,
       "columns": [
        {
         "name": "school",
         "dtype": "object",
         "stats": {
          "unique_count": 1,
          "nan_count": 0,
          "categories": [
           {
            "name": "MS",
            "count": 5
           }
          ]
         }
        },
        {
         "name": "sex",
         "dtype": "object",
         "stats": {
          "unique_count": 1,
          "nan_count": 0,
          "categories": [
           {
            "name": "M",
            "count": 5
           }
          ]
         }
        },
        {
         "name": "age",
         "dtype": "int64",
         "stats": {
          "unique_count": 5,
          "nan_count": 0,
          "min": "17",
          "max": "21",
          "histogram": [
           {
            "bin_start": 17,
            "bin_end": 17.4,
            "count": 1
           },
           {
            "bin_start": 17.4,
            "bin_end": 17.8,
            "count": 0
           },
           {
            "bin_start": 17.8,
            "bin_end": 18.2,
            "count": 1
           },
           {
            "bin_start": 18.2,
            "bin_end": 18.6,
            "count": 0
           },
           {
            "bin_start": 18.6,
            "bin_end": 19,
            "count": 0
           },
           {
            "bin_start": 19,
            "bin_end": 19.4,
            "count": 1
           },
           {
            "bin_start": 19.4,
            "bin_end": 19.8,
            "count": 0
           },
           {
            "bin_start": 19.8,
            "bin_end": 20.2,
            "count": 1
           },
           {
            "bin_start": 20.2,
            "bin_end": 20.6,
            "count": 0
           },
           {
            "bin_start": 20.6,
            "bin_end": 21,
            "count": 1
           }
          ]
         }
        },
        {
         "name": "address",
         "dtype": "object",
         "stats": {
          "unique_count": 2,
          "nan_count": 0,
          "categories": [
           {
            "name": "U",
            "count": 3
           },
           {
            "name": "R",
            "count": 2
           }
          ]
         }
        },
        {
         "name": "famsize",
         "dtype": "object",
         "stats": {
          "unique_count": 2,
          "nan_count": 0,
          "categories": [
           {
            "name": "LE3",
            "count": 4
           },
           {
            "name": "GT3",
            "count": 1
           }
          ]
         }
        },
        {
         "name": "Pstatus",
         "dtype": "object",
         "stats": {
          "unique_count": 2,
          "nan_count": 0,
          "categories": [
           {
            "name": "T",
            "count": 4
           },
           {
            "name": "A",
            "count": 1
           }
          ]
         }
        },
        {
         "name": "Medu",
         "dtype": "int64",
         "stats": {
          "unique_count": 3,
          "nan_count": 0,
          "min": "1",
          "max": "3",
          "histogram": [
           {
            "bin_start": 1,
            "bin_end": 1.2,
            "count": 2
           },
           {
            "bin_start": 1.2,
            "bin_end": 1.4,
            "count": 0
           },
           {
            "bin_start": 1.4,
            "bin_end": 1.6,
            "count": 0
           },
           {
            "bin_start": 1.6,
            "bin_end": 1.8,
            "count": 0
           },
           {
            "bin_start": 1.8,
            "bin_end": 2,
            "count": 0
           },
           {
            "bin_start": 2,
            "bin_end": 2.2,
            "count": 1
           },
           {
            "bin_start": 2.2,
            "bin_end": 2.4000000000000004,
            "count": 0
           },
           {
            "bin_start": 2.4000000000000004,
            "bin_end": 2.6,
            "count": 0
           },
           {
            "bin_start": 2.6,
            "bin_end": 2.8,
            "count": 0
           },
           {
            "bin_start": 2.8,
            "bin_end": 3,
            "count": 2
           }
          ]
         }
        },
        {
         "name": "Fedu",
         "dtype": "int64",
         "stats": {
          "unique_count": 2,
          "nan_count": 0,
          "min": "1",
          "max": "2",
          "histogram": [
           {
            "bin_start": 1,
            "bin_end": 1.1,
            "count": 3
           },
           {
            "bin_start": 1.1,
            "bin_end": 1.2,
            "count": 0
           },
           {
            "bin_start": 1.2,
            "bin_end": 1.3,
            "count": 0
           },
           {
            "bin_start": 1.3,
            "bin_end": 1.4,
            "count": 0
           },
           {
            "bin_start": 1.4,
            "bin_end": 1.5,
            "count": 0
           },
           {
            "bin_start": 1.5,
            "bin_end": 1.6,
            "count": 0
           },
           {
            "bin_start": 1.6,
            "bin_end": 1.7000000000000002,
            "count": 0
           },
           {
            "bin_start": 1.7000000000000002,
            "bin_end": 1.8,
            "count": 0
           },
           {
            "bin_start": 1.8,
            "bin_end": 1.9,
            "count": 0
           },
           {
            "bin_start": 1.9,
            "bin_end": 2,
            "count": 2
           }
          ]
         }
        },
        {
         "name": "Mjob",
         "dtype": "object",
         "stats": {
          "unique_count": 2,
          "nan_count": 0,
          "categories": [
           {
            "name": "services",
            "count": 3
           },
           {
            "name": "other",
            "count": 2
           }
          ]
         }
        },
        {
         "name": "Fjob",
         "dtype": "object",
         "stats": {
          "unique_count": 3,
          "nan_count": 0,
          "categories": [
           {
            "name": "services",
            "count": 2
           },
           {
            "name": "other",
            "count": 2
           },
           {
            "name": "at_home",
            "count": 1
           }
          ]
         }
        },
        {
         "name": "reason",
         "dtype": "object",
         "stats": {
          "unique_count": 1,
          "nan_count": 0,
          "categories": [
           {
            "name": "course",
            "count": 5
           }
          ]
         }
        },
        {
         "name": "guardian",
         "dtype": "object",
         "stats": {
          "unique_count": 3,
          "nan_count": 0,
          "categories": [
           {
            "name": "other",
            "count": 2
           },
           {
            "name": "mother",
            "count": 2
           },
           {
            "name": "father",
            "count": 1
           }
          ]
         }
        },
        {
         "name": "_deepnote_index_column",
         "dtype": "int64"
        }
       ],
       "rows": [
        {
         "school": "MS",
         "sex": "M",
         "age": 20,
         "address": "U",
         "famsize": "LE3",
         "Pstatus": "A",
         "Medu": 2,
         "Fedu": 2,
         "Mjob": "services",
         "Fjob": "services",
         "reason": "course",
         "guardian": "other",
         "_deepnote_index_column": 390
        },
        {
         "school": "MS",
         "sex": "M",
         "age": 17,
         "address": "U",
         "famsize": "LE3",
         "Pstatus": "T",
         "Medu": 3,
         "Fedu": 1,
         "Mjob": "services",
         "Fjob": "services",
         "reason": "course",
         "guardian": "mother",
         "_deepnote_index_column": 391
        },
        {
         "school": "MS",
         "sex": "M",
         "age": 21,
         "address": "R",
         "famsize": "GT3",
         "Pstatus": "T",
         "Medu": 1,
         "Fedu": 1,
         "Mjob": "other",
         "Fjob": "other",
         "reason": "course",
         "guardian": "other",
         "_deepnote_index_column": 392
        },
        {
         "school": "MS",
         "sex": "M",
         "age": 18,
         "address": "R",
         "famsize": "LE3",
         "Pstatus": "T",
         "Medu": 3,
         "Fedu": 2,
         "Mjob": "services",
         "Fjob": "other",
         "reason": "course",
         "guardian": "mother",
         "_deepnote_index_column": 393
        },
        {
         "school": "MS",
         "sex": "M",
         "age": 19,
         "address": "U",
         "famsize": "LE3",
         "Pstatus": "T",
         "Medu": 1,
         "Fedu": 1,
         "Mjob": "other",
         "Fjob": "at_home",
         "reason": "course",
         "guardian": "father",
         "_deepnote_index_column": 394
        }
       ]
      },
      "text/plain": "    school sex  age address famsize Pstatus  Medu  Fedu      Mjob      Fjob  \\\n390     MS   M   20       U     LE3       A     2     2  services  services   \n391     MS   M   17       U     LE3       T     3     1  services  services   \n392     MS   M   21       R     GT3       T     1     1     other     other   \n393     MS   M   18       R     LE3       T     3     2  services     other   \n394     MS   M   19       U     LE3       T     1     1     other   at_home   \n\n     reason guardian  \n390  course    other  \n391  course   mother  \n392  course    other  \n393  course   mother  \n394  course   father  ",
      "text/html": "<div>\n<style scoped>\n    .dataframe tbody tr th:only-of-type {\n        vertical-align: middle;\n    }\n\n    .dataframe tbody tr th {\n        vertical-align: top;\n    }\n\n    .dataframe thead th {\n        text-align: right;\n    }\n</style>\n<table border=\"1\" class=\"dataframe\">\n  <thead>\n    <tr style=\"text-align: right;\">\n      <th></th>\n      <th>school</th>\n      <th>sex</th>\n      <th>age</th>\n      <th>address</th>\n      <th>famsize</th>\n      <th>Pstatus</th>\n      <th>Medu</th>\n      <th>Fedu</th>\n      <th>Mjob</th>\n      <th>Fjob</th>\n      <th>reason</th>\n      <th>guardian</th>\n    </tr>\n  </thead>\n  <tbody>\n    <tr>\n      <th>390</th>\n      <td>MS</td>\n      <td>M</td>\n      <td>20</td>\n      <td>U</td>\n      <td>LE3</td>\n      <td>A</td>\n      <td>2</td>\n      <td>2</td>\n      <td>services</td>\n      <td>services</td>\n      <td>course</td>\n      <td>other</td>\n    </tr>\n    <tr>\n      <th>391</th>\n      <td>MS</td>\n      <td>M</td>\n      <td>17</td>\n      <td>U</td>\n      <td>LE3</td>\n      <td>T</td>\n      <td>3</td>\n      <td>1</td>\n      <td>services</td>\n      <td>services</td>\n      <td>course</td>\n      <td>mother</td>\n    </tr>\n    <tr>\n      <th>392</th>\n      <td>MS</td>\n      <td>M</td>\n      <td>21</td>\n      <td>R</td>\n      <td>GT3</td>\n      <td>T</td>\n      <td>1</td>\n      <td>1</td>\n      <td>other</td>\n      <td>other</td>\n      <td>course</td>\n      <td>other</td>\n    </tr>\n    <tr>\n      <th>393</th>\n      <td>MS</td>\n      <td>M</td>\n      <td>18</td>\n      <td>R</td>\n      <td>LE3</td>\n      <td>T</td>\n      <td>3</td>\n      <td>2</td>\n      <td>services</td>\n      <td>other</td>\n      <td>course</td>\n      <td>mother</td>\n    </tr>\n    <tr>\n      <th>394</th>\n      <td>MS</td>\n      <td>M</td>\n      <td>19</td>\n      <td>U</td>\n      <td>LE3</td>\n      <td>T</td>\n      <td>1</td>\n      <td>1</td>\n      <td>other</td>\n      <td>at_home</td>\n      <td>course</td>\n      <td>father</td>\n    </tr>\n  </tbody>\n</table>\n</div>"
     },
     "metadata": {}
    }
   ]
  },
  {
   "cell_type": "code",
   "metadata": {
    "tags": [],
    "cell_id": "00009-fe638003-799c-4fa2-9136-3b4e55098f5a",
    "deepnote_to_be_reexecuted": false,
    "source_hash": "620aa61",
    "execution_start": 1640443629086,
    "execution_millis": 83,
    "deepnote_cell_type": "code"
   },
   "source": "#Step 8. Did you notice the original dataframe is still lowercase? Why is that? Fix it and capitalize Mjob and Fjob.\ndf1['Mjob'] = df1['Mjob'].apply(capitalizer)\ndf1['Fjob'] = df1['Fjob'].apply(capitalizer)\ndf1.head()",
   "execution_count": null,
   "outputs": [
    {
     "output_type": "execute_result",
     "execution_count": 7,
     "data": {
      "application/vnd.deepnote.dataframe.v3+json": {
       "column_count": 12,
       "row_count": 5,
       "columns": [
        {
         "name": "school",
         "dtype": "object",
         "stats": {
          "unique_count": 1,
          "nan_count": 0,
          "categories": [
           {
            "name": "GP",
            "count": 5
           }
          ]
         }
        },
        {
         "name": "sex",
         "dtype": "object",
         "stats": {
          "unique_count": 1,
          "nan_count": 0,
          "categories": [
           {
            "name": "F",
            "count": 5
           }
          ]
         }
        },
        {
         "name": "age",
         "dtype": "int64",
         "stats": {
          "unique_count": 4,
          "nan_count": 0,
          "min": "15",
          "max": "18",
          "histogram": [
           {
            "bin_start": 15,
            "bin_end": 15.3,
            "count": 2
           },
           {
            "bin_start": 15.3,
            "bin_end": 15.6,
            "count": 0
           },
           {
            "bin_start": 15.6,
            "bin_end": 15.9,
            "count": 0
           },
           {
            "bin_start": 15.9,
            "bin_end": 16.2,
            "count": 1
           },
           {
            "bin_start": 16.2,
            "bin_end": 16.5,
            "count": 0
           },
           {
            "bin_start": 16.5,
            "bin_end": 16.8,
            "count": 0
           },
           {
            "bin_start": 16.8,
            "bin_end": 17.1,
            "count": 1
           },
           {
            "bin_start": 17.1,
            "bin_end": 17.4,
            "count": 0
           },
           {
            "bin_start": 17.4,
            "bin_end": 17.7,
            "count": 0
           },
           {
            "bin_start": 17.7,
            "bin_end": 18,
            "count": 1
           }
          ]
         }
        },
        {
         "name": "address",
         "dtype": "object",
         "stats": {
          "unique_count": 1,
          "nan_count": 0,
          "categories": [
           {
            "name": "U",
            "count": 5
           }
          ]
         }
        },
        {
         "name": "famsize",
         "dtype": "object",
         "stats": {
          "unique_count": 2,
          "nan_count": 0,
          "categories": [
           {
            "name": "GT3",
            "count": 4
           },
           {
            "name": "LE3",
            "count": 1
           }
          ]
         }
        },
        {
         "name": "Pstatus",
         "dtype": "object",
         "stats": {
          "unique_count": 2,
          "nan_count": 0,
          "categories": [
           {
            "name": "T",
            "count": 4
           },
           {
            "name": "A",
            "count": 1
           }
          ]
         }
        },
        {
         "name": "Medu",
         "dtype": "int64",
         "stats": {
          "unique_count": 3,
          "nan_count": 0,
          "min": "1",
          "max": "4",
          "histogram": [
           {
            "bin_start": 1,
            "bin_end": 1.3,
            "count": 2
           },
           {
            "bin_start": 1.3,
            "bin_end": 1.6,
            "count": 0
           },
           {
            "bin_start": 1.6,
            "bin_end": 1.9,
            "count": 0
           },
           {
            "bin_start": 1.9,
            "bin_end": 2.2,
            "count": 0
           },
           {
            "bin_start": 2.2,
            "bin_end": 2.5,
            "count": 0
           },
           {
            "bin_start": 2.5,
            "bin_end": 2.8,
            "count": 0
           },
           {
            "bin_start": 2.8,
            "bin_end": 3.1,
            "count": 1
           },
           {
            "bin_start": 3.1,
            "bin_end": 3.4,
            "count": 0
           },
           {
            "bin_start": 3.4,
            "bin_end": 3.6999999999999997,
            "count": 0
           },
           {
            "bin_start": 3.6999999999999997,
            "bin_end": 4,
            "count": 2
           }
          ]
         }
        },
        {
         "name": "Fedu",
         "dtype": "int64",
         "stats": {
          "unique_count": 4,
          "nan_count": 0,
          "min": "1",
          "max": "4",
          "histogram": [
           {
            "bin_start": 1,
            "bin_end": 1.3,
            "count": 2
           },
           {
            "bin_start": 1.3,
            "bin_end": 1.6,
            "count": 0
           },
           {
            "bin_start": 1.6,
            "bin_end": 1.9,
            "count": 0
           },
           {
            "bin_start": 1.9,
            "bin_end": 2.2,
            "count": 1
           },
           {
            "bin_start": 2.2,
            "bin_end": 2.5,
            "count": 0
           },
           {
            "bin_start": 2.5,
            "bin_end": 2.8,
            "count": 0
           },
           {
            "bin_start": 2.8,
            "bin_end": 3.1,
            "count": 1
           },
           {
            "bin_start": 3.1,
            "bin_end": 3.4,
            "count": 0
           },
           {
            "bin_start": 3.4,
            "bin_end": 3.6999999999999997,
            "count": 0
           },
           {
            "bin_start": 3.6999999999999997,
            "bin_end": 4,
            "count": 1
           }
          ]
         }
        },
        {
         "name": "Mjob",
         "dtype": "object",
         "stats": {
          "unique_count": 3,
          "nan_count": 0,
          "categories": [
           {
            "name": "At_home",
            "count": 3
           },
           {
            "name": "Health",
            "count": 1
           },
           {
            "name": "Other",
            "count": 1
           }
          ]
         }
        },
        {
         "name": "Fjob",
         "dtype": "object",
         "stats": {
          "unique_count": 3,
          "nan_count": 0,
          "categories": [
           {
            "name": "Other",
            "count": 3
           },
           {
            "name": "Teacher",
            "count": 1
           },
           {
            "name": "Services",
            "count": 1
           }
          ]
         }
        },
        {
         "name": "reason",
         "dtype": "object",
         "stats": {
          "unique_count": 3,
          "nan_count": 0,
          "categories": [
           {
            "name": "course",
            "count": 2
           },
           {
            "name": "home",
            "count": 2
           },
           {
            "name": "other",
            "count": 1
           }
          ]
         }
        },
        {
         "name": "guardian",
         "dtype": "object",
         "stats": {
          "unique_count": 2,
          "nan_count": 0,
          "categories": [
           {
            "name": "mother",
            "count": 3
           },
           {
            "name": "father",
            "count": 2
           }
          ]
         }
        },
        {
         "name": "_deepnote_index_column",
         "dtype": "int64"
        }
       ],
       "rows": [
        {
         "school": "GP",
         "sex": "F",
         "age": 18,
         "address": "U",
         "famsize": "GT3",
         "Pstatus": "A",
         "Medu": 4,
         "Fedu": 4,
         "Mjob": "At_home",
         "Fjob": "Teacher",
         "reason": "course",
         "guardian": "mother",
         "_deepnote_index_column": 0
        },
        {
         "school": "GP",
         "sex": "F",
         "age": 17,
         "address": "U",
         "famsize": "GT3",
         "Pstatus": "T",
         "Medu": 1,
         "Fedu": 1,
         "Mjob": "At_home",
         "Fjob": "Other",
         "reason": "course",
         "guardian": "father",
         "_deepnote_index_column": 1
        },
        {
         "school": "GP",
         "sex": "F",
         "age": 15,
         "address": "U",
         "famsize": "LE3",
         "Pstatus": "T",
         "Medu": 1,
         "Fedu": 1,
         "Mjob": "At_home",
         "Fjob": "Other",
         "reason": "other",
         "guardian": "mother",
         "_deepnote_index_column": 2
        },
        {
         "school": "GP",
         "sex": "F",
         "age": 15,
         "address": "U",
         "famsize": "GT3",
         "Pstatus": "T",
         "Medu": 4,
         "Fedu": 2,
         "Mjob": "Health",
         "Fjob": "Services",
         "reason": "home",
         "guardian": "mother",
         "_deepnote_index_column": 3
        },
        {
         "school": "GP",
         "sex": "F",
         "age": 16,
         "address": "U",
         "famsize": "GT3",
         "Pstatus": "T",
         "Medu": 3,
         "Fedu": 3,
         "Mjob": "Other",
         "Fjob": "Other",
         "reason": "home",
         "guardian": "father",
         "_deepnote_index_column": 4
        }
       ]
      },
      "text/plain": "  school sex  age address famsize Pstatus  Medu  Fedu     Mjob      Fjob  \\\n0     GP   F   18       U     GT3       A     4     4  At_home   Teacher   \n1     GP   F   17       U     GT3       T     1     1  At_home     Other   \n2     GP   F   15       U     LE3       T     1     1  At_home     Other   \n3     GP   F   15       U     GT3       T     4     2   Health  Services   \n4     GP   F   16       U     GT3       T     3     3    Other     Other   \n\n   reason guardian  \n0  course   mother  \n1  course   father  \n2   other   mother  \n3    home   mother  \n4    home   father  ",
      "text/html": "<div>\n<style scoped>\n    .dataframe tbody tr th:only-of-type {\n        vertical-align: middle;\n    }\n\n    .dataframe tbody tr th {\n        vertical-align: top;\n    }\n\n    .dataframe thead th {\n        text-align: right;\n    }\n</style>\n<table border=\"1\" class=\"dataframe\">\n  <thead>\n    <tr style=\"text-align: right;\">\n      <th></th>\n      <th>school</th>\n      <th>sex</th>\n      <th>age</th>\n      <th>address</th>\n      <th>famsize</th>\n      <th>Pstatus</th>\n      <th>Medu</th>\n      <th>Fedu</th>\n      <th>Mjob</th>\n      <th>Fjob</th>\n      <th>reason</th>\n      <th>guardian</th>\n    </tr>\n  </thead>\n  <tbody>\n    <tr>\n      <th>0</th>\n      <td>GP</td>\n      <td>F</td>\n      <td>18</td>\n      <td>U</td>\n      <td>GT3</td>\n      <td>A</td>\n      <td>4</td>\n      <td>4</td>\n      <td>At_home</td>\n      <td>Teacher</td>\n      <td>course</td>\n      <td>mother</td>\n    </tr>\n    <tr>\n      <th>1</th>\n      <td>GP</td>\n      <td>F</td>\n      <td>17</td>\n      <td>U</td>\n      <td>GT3</td>\n      <td>T</td>\n      <td>1</td>\n      <td>1</td>\n      <td>At_home</td>\n      <td>Other</td>\n      <td>course</td>\n      <td>father</td>\n    </tr>\n    <tr>\n      <th>2</th>\n      <td>GP</td>\n      <td>F</td>\n      <td>15</td>\n      <td>U</td>\n      <td>LE3</td>\n      <td>T</td>\n      <td>1</td>\n      <td>1</td>\n      <td>At_home</td>\n      <td>Other</td>\n      <td>other</td>\n      <td>mother</td>\n    </tr>\n    <tr>\n      <th>3</th>\n      <td>GP</td>\n      <td>F</td>\n      <td>15</td>\n      <td>U</td>\n      <td>GT3</td>\n      <td>T</td>\n      <td>4</td>\n      <td>2</td>\n      <td>Health</td>\n      <td>Services</td>\n      <td>home</td>\n      <td>mother</td>\n    </tr>\n    <tr>\n      <th>4</th>\n      <td>GP</td>\n      <td>F</td>\n      <td>16</td>\n      <td>U</td>\n      <td>GT3</td>\n      <td>T</td>\n      <td>3</td>\n      <td>3</td>\n      <td>Other</td>\n      <td>Other</td>\n      <td>home</td>\n      <td>father</td>\n    </tr>\n  </tbody>\n</table>\n</div>"
     },
     "metadata": {}
    }
   ]
  },
  {
   "cell_type": "code",
   "metadata": {
    "tags": [],
    "cell_id": "00009-e409a8d7-6a2a-4d42-9d0c-63e2337fbb97",
    "deepnote_to_be_reexecuted": false,
    "source_hash": "65535c55",
    "execution_start": 1640443642013,
    "execution_millis": 86,
    "deepnote_output_heights": [
     177
    ],
    "deepnote_cell_type": "code"
   },
   "source": "#Step 9. Create a function called majority that returns a boolean value to a new column called legal_drinker (Consider majority as older than 17 years old)\ndef majority(x):\n    if x>17:\n        return True\n    else:\n        return False\n\ndf1['legal_d'] = df1['age'].apply(majority)\ndf1.head()",
   "execution_count": null,
   "outputs": [
    {
     "output_type": "execute_result",
     "execution_count": 8,
     "data": {
      "application/vnd.deepnote.dataframe.v3+json": {
       "column_count": 13,
       "row_count": 5,
       "columns": [
        {
         "name": "school",
         "dtype": "object",
         "stats": {
          "unique_count": 1,
          "nan_count": 0,
          "categories": [
           {
            "name": "GP",
            "count": 5
           }
          ]
         }
        },
        {
         "name": "sex",
         "dtype": "object",
         "stats": {
          "unique_count": 1,
          "nan_count": 0,
          "categories": [
           {
            "name": "F",
            "count": 5
           }
          ]
         }
        },
        {
         "name": "age",
         "dtype": "int64",
         "stats": {
          "unique_count": 4,
          "nan_count": 0,
          "min": "15",
          "max": "18",
          "histogram": [
           {
            "bin_start": 15,
            "bin_end": 15.3,
            "count": 2
           },
           {
            "bin_start": 15.3,
            "bin_end": 15.6,
            "count": 0
           },
           {
            "bin_start": 15.6,
            "bin_end": 15.9,
            "count": 0
           },
           {
            "bin_start": 15.9,
            "bin_end": 16.2,
            "count": 1
           },
           {
            "bin_start": 16.2,
            "bin_end": 16.5,
            "count": 0
           },
           {
            "bin_start": 16.5,
            "bin_end": 16.8,
            "count": 0
           },
           {
            "bin_start": 16.8,
            "bin_end": 17.1,
            "count": 1
           },
           {
            "bin_start": 17.1,
            "bin_end": 17.4,
            "count": 0
           },
           {
            "bin_start": 17.4,
            "bin_end": 17.7,
            "count": 0
           },
           {
            "bin_start": 17.7,
            "bin_end": 18,
            "count": 1
           }
          ]
         }
        },
        {
         "name": "address",
         "dtype": "object",
         "stats": {
          "unique_count": 1,
          "nan_count": 0,
          "categories": [
           {
            "name": "U",
            "count": 5
           }
          ]
         }
        },
        {
         "name": "famsize",
         "dtype": "object",
         "stats": {
          "unique_count": 2,
          "nan_count": 0,
          "categories": [
           {
            "name": "GT3",
            "count": 4
           },
           {
            "name": "LE3",
            "count": 1
           }
          ]
         }
        },
        {
         "name": "Pstatus",
         "dtype": "object",
         "stats": {
          "unique_count": 2,
          "nan_count": 0,
          "categories": [
           {
            "name": "T",
            "count": 4
           },
           {
            "name": "A",
            "count": 1
           }
          ]
         }
        },
        {
         "name": "Medu",
         "dtype": "int64",
         "stats": {
          "unique_count": 3,
          "nan_count": 0,
          "min": "1",
          "max": "4",
          "histogram": [
           {
            "bin_start": 1,
            "bin_end": 1.3,
            "count": 2
           },
           {
            "bin_start": 1.3,
            "bin_end": 1.6,
            "count": 0
           },
           {
            "bin_start": 1.6,
            "bin_end": 1.9,
            "count": 0
           },
           {
            "bin_start": 1.9,
            "bin_end": 2.2,
            "count": 0
           },
           {
            "bin_start": 2.2,
            "bin_end": 2.5,
            "count": 0
           },
           {
            "bin_start": 2.5,
            "bin_end": 2.8,
            "count": 0
           },
           {
            "bin_start": 2.8,
            "bin_end": 3.1,
            "count": 1
           },
           {
            "bin_start": 3.1,
            "bin_end": 3.4,
            "count": 0
           },
           {
            "bin_start": 3.4,
            "bin_end": 3.6999999999999997,
            "count": 0
           },
           {
            "bin_start": 3.6999999999999997,
            "bin_end": 4,
            "count": 2
           }
          ]
         }
        },
        {
         "name": "Fedu",
         "dtype": "int64",
         "stats": {
          "unique_count": 4,
          "nan_count": 0,
          "min": "1",
          "max": "4",
          "histogram": [
           {
            "bin_start": 1,
            "bin_end": 1.3,
            "count": 2
           },
           {
            "bin_start": 1.3,
            "bin_end": 1.6,
            "count": 0
           },
           {
            "bin_start": 1.6,
            "bin_end": 1.9,
            "count": 0
           },
           {
            "bin_start": 1.9,
            "bin_end": 2.2,
            "count": 1
           },
           {
            "bin_start": 2.2,
            "bin_end": 2.5,
            "count": 0
           },
           {
            "bin_start": 2.5,
            "bin_end": 2.8,
            "count": 0
           },
           {
            "bin_start": 2.8,
            "bin_end": 3.1,
            "count": 1
           },
           {
            "bin_start": 3.1,
            "bin_end": 3.4,
            "count": 0
           },
           {
            "bin_start": 3.4,
            "bin_end": 3.6999999999999997,
            "count": 0
           },
           {
            "bin_start": 3.6999999999999997,
            "bin_end": 4,
            "count": 1
           }
          ]
         }
        },
        {
         "name": "Mjob",
         "dtype": "object",
         "stats": {
          "unique_count": 3,
          "nan_count": 0,
          "categories": [
           {
            "name": "At_home",
            "count": 3
           },
           {
            "name": "Health",
            "count": 1
           },
           {
            "name": "Other",
            "count": 1
           }
          ]
         }
        },
        {
         "name": "Fjob",
         "dtype": "object",
         "stats": {
          "unique_count": 3,
          "nan_count": 0,
          "categories": [
           {
            "name": "Other",
            "count": 3
           },
           {
            "name": "Teacher",
            "count": 1
           },
           {
            "name": "Services",
            "count": 1
           }
          ]
         }
        },
        {
         "name": "reason",
         "dtype": "object",
         "stats": {
          "unique_count": 3,
          "nan_count": 0,
          "categories": [
           {
            "name": "course",
            "count": 2
           },
           {
            "name": "home",
            "count": 2
           },
           {
            "name": "other",
            "count": 1
           }
          ]
         }
        },
        {
         "name": "guardian",
         "dtype": "object",
         "stats": {
          "unique_count": 2,
          "nan_count": 0,
          "categories": [
           {
            "name": "mother",
            "count": 3
           },
           {
            "name": "father",
            "count": 2
           }
          ]
         }
        },
        {
         "name": "legal_d",
         "dtype": "bool",
         "stats": {
          "unique_count": 2,
          "nan_count": 0,
          "categories": [
           {
            "name": "False",
            "count": 4
           },
           {
            "name": "True",
            "count": 1
           }
          ]
         }
        },
        {
         "name": "_deepnote_index_column",
         "dtype": "int64"
        }
       ],
       "rows": [
        {
         "school": "GP",
         "sex": "F",
         "age": 18,
         "address": "U",
         "famsize": "GT3",
         "Pstatus": "A",
         "Medu": 4,
         "Fedu": 4,
         "Mjob": "At_home",
         "Fjob": "Teacher",
         "reason": "course",
         "guardian": "mother",
         "legal_d": true,
         "_deepnote_index_column": 0
        },
        {
         "school": "GP",
         "sex": "F",
         "age": 17,
         "address": "U",
         "famsize": "GT3",
         "Pstatus": "T",
         "Medu": 1,
         "Fedu": 1,
         "Mjob": "At_home",
         "Fjob": "Other",
         "reason": "course",
         "guardian": "father",
         "legal_d": false,
         "_deepnote_index_column": 1
        },
        {
         "school": "GP",
         "sex": "F",
         "age": 15,
         "address": "U",
         "famsize": "LE3",
         "Pstatus": "T",
         "Medu": 1,
         "Fedu": 1,
         "Mjob": "At_home",
         "Fjob": "Other",
         "reason": "other",
         "guardian": "mother",
         "legal_d": false,
         "_deepnote_index_column": 2
        },
        {
         "school": "GP",
         "sex": "F",
         "age": 15,
         "address": "U",
         "famsize": "GT3",
         "Pstatus": "T",
         "Medu": 4,
         "Fedu": 2,
         "Mjob": "Health",
         "Fjob": "Services",
         "reason": "home",
         "guardian": "mother",
         "legal_d": false,
         "_deepnote_index_column": 3
        },
        {
         "school": "GP",
         "sex": "F",
         "age": 16,
         "address": "U",
         "famsize": "GT3",
         "Pstatus": "T",
         "Medu": 3,
         "Fedu": 3,
         "Mjob": "Other",
         "Fjob": "Other",
         "reason": "home",
         "guardian": "father",
         "legal_d": false,
         "_deepnote_index_column": 4
        }
       ]
      },
      "text/plain": "  school sex  age address famsize Pstatus  Medu  Fedu     Mjob      Fjob  \\\n0     GP   F   18       U     GT3       A     4     4  At_home   Teacher   \n1     GP   F   17       U     GT3       T     1     1  At_home     Other   \n2     GP   F   15       U     LE3       T     1     1  At_home     Other   \n3     GP   F   15       U     GT3       T     4     2   Health  Services   \n4     GP   F   16       U     GT3       T     3     3    Other     Other   \n\n   reason guardian  legal_d  \n0  course   mother     True  \n1  course   father    False  \n2   other   mother    False  \n3    home   mother    False  \n4    home   father    False  ",
      "text/html": "<div>\n<style scoped>\n    .dataframe tbody tr th:only-of-type {\n        vertical-align: middle;\n    }\n\n    .dataframe tbody tr th {\n        vertical-align: top;\n    }\n\n    .dataframe thead th {\n        text-align: right;\n    }\n</style>\n<table border=\"1\" class=\"dataframe\">\n  <thead>\n    <tr style=\"text-align: right;\">\n      <th></th>\n      <th>school</th>\n      <th>sex</th>\n      <th>age</th>\n      <th>address</th>\n      <th>famsize</th>\n      <th>Pstatus</th>\n      <th>Medu</th>\n      <th>Fedu</th>\n      <th>Mjob</th>\n      <th>Fjob</th>\n      <th>reason</th>\n      <th>guardian</th>\n      <th>legal_d</th>\n    </tr>\n  </thead>\n  <tbody>\n    <tr>\n      <th>0</th>\n      <td>GP</td>\n      <td>F</td>\n      <td>18</td>\n      <td>U</td>\n      <td>GT3</td>\n      <td>A</td>\n      <td>4</td>\n      <td>4</td>\n      <td>At_home</td>\n      <td>Teacher</td>\n      <td>course</td>\n      <td>mother</td>\n      <td>True</td>\n    </tr>\n    <tr>\n      <th>1</th>\n      <td>GP</td>\n      <td>F</td>\n      <td>17</td>\n      <td>U</td>\n      <td>GT3</td>\n      <td>T</td>\n      <td>1</td>\n      <td>1</td>\n      <td>At_home</td>\n      <td>Other</td>\n      <td>course</td>\n      <td>father</td>\n      <td>False</td>\n    </tr>\n    <tr>\n      <th>2</th>\n      <td>GP</td>\n      <td>F</td>\n      <td>15</td>\n      <td>U</td>\n      <td>LE3</td>\n      <td>T</td>\n      <td>1</td>\n      <td>1</td>\n      <td>At_home</td>\n      <td>Other</td>\n      <td>other</td>\n      <td>mother</td>\n      <td>False</td>\n    </tr>\n    <tr>\n      <th>3</th>\n      <td>GP</td>\n      <td>F</td>\n      <td>15</td>\n      <td>U</td>\n      <td>GT3</td>\n      <td>T</td>\n      <td>4</td>\n      <td>2</td>\n      <td>Health</td>\n      <td>Services</td>\n      <td>home</td>\n      <td>mother</td>\n      <td>False</td>\n    </tr>\n    <tr>\n      <th>4</th>\n      <td>GP</td>\n      <td>F</td>\n      <td>16</td>\n      <td>U</td>\n      <td>GT3</td>\n      <td>T</td>\n      <td>3</td>\n      <td>3</td>\n      <td>Other</td>\n      <td>Other</td>\n      <td>home</td>\n      <td>father</td>\n      <td>False</td>\n    </tr>\n  </tbody>\n</table>\n</div>"
     },
     "metadata": {}
    }
   ]
  },
  {
   "cell_type": "code",
   "metadata": {
    "tags": [],
    "cell_id": "00010-391bea7d-33d1-4a24-92b4-472f429cff11",
    "deepnote_to_be_reexecuted": false,
    "source_hash": "88f01c5",
    "execution_start": 1640443648046,
    "execution_millis": 93,
    "deepnote_output_heights": [
     520.34375
    ],
    "deepnote_cell_type": "code"
   },
   "source": "#Step 10. Multiply every number of the dataset by 10.\ndef times10(x):\n    if type(x) is int:\n        return 10*x\n    else:\n        return x\n\ndf1.applymap(times10).head(5)\n",
   "execution_count": null,
   "outputs": [
    {
     "output_type": "execute_result",
     "execution_count": 9,
     "data": {
      "application/vnd.deepnote.dataframe.v3+json": {
       "column_count": 13,
       "row_count": 5,
       "columns": [
        {
         "name": "school",
         "dtype": "object",
         "stats": {
          "unique_count": 1,
          "nan_count": 0,
          "categories": [
           {
            "name": "GP",
            "count": 5
           }
          ]
         }
        },
        {
         "name": "sex",
         "dtype": "object",
         "stats": {
          "unique_count": 1,
          "nan_count": 0,
          "categories": [
           {
            "name": "F",
            "count": 5
           }
          ]
         }
        },
        {
         "name": "age",
         "dtype": "int64",
         "stats": {
          "unique_count": 4,
          "nan_count": 0,
          "min": "150",
          "max": "180",
          "histogram": [
           {
            "bin_start": 150,
            "bin_end": 153,
            "count": 2
           },
           {
            "bin_start": 153,
            "bin_end": 156,
            "count": 0
           },
           {
            "bin_start": 156,
            "bin_end": 159,
            "count": 0
           },
           {
            "bin_start": 159,
            "bin_end": 162,
            "count": 1
           },
           {
            "bin_start": 162,
            "bin_end": 165,
            "count": 0
           },
           {
            "bin_start": 165,
            "bin_end": 168,
            "count": 0
           },
           {
            "bin_start": 168,
            "bin_end": 171,
            "count": 1
           },
           {
            "bin_start": 171,
            "bin_end": 174,
            "count": 0
           },
           {
            "bin_start": 174,
            "bin_end": 177,
            "count": 0
           },
           {
            "bin_start": 177,
            "bin_end": 180,
            "count": 1
           }
          ]
         }
        },
        {
         "name": "address",
         "dtype": "object",
         "stats": {
          "unique_count": 1,
          "nan_count": 0,
          "categories": [
           {
            "name": "U",
            "count": 5
           }
          ]
         }
        },
        {
         "name": "famsize",
         "dtype": "object",
         "stats": {
          "unique_count": 2,
          "nan_count": 0,
          "categories": [
           {
            "name": "GT3",
            "count": 4
           },
           {
            "name": "LE3",
            "count": 1
           }
          ]
         }
        },
        {
         "name": "Pstatus",
         "dtype": "object",
         "stats": {
          "unique_count": 2,
          "nan_count": 0,
          "categories": [
           {
            "name": "T",
            "count": 4
           },
           {
            "name": "A",
            "count": 1
           }
          ]
         }
        },
        {
         "name": "Medu",
         "dtype": "int64",
         "stats": {
          "unique_count": 3,
          "nan_count": 0,
          "min": "10",
          "max": "40",
          "histogram": [
           {
            "bin_start": 10,
            "bin_end": 13,
            "count": 2
           },
           {
            "bin_start": 13,
            "bin_end": 16,
            "count": 0
           },
           {
            "bin_start": 16,
            "bin_end": 19,
            "count": 0
           },
           {
            "bin_start": 19,
            "bin_end": 22,
            "count": 0
           },
           {
            "bin_start": 22,
            "bin_end": 25,
            "count": 0
           },
           {
            "bin_start": 25,
            "bin_end": 28,
            "count": 0
           },
           {
            "bin_start": 28,
            "bin_end": 31,
            "count": 1
           },
           {
            "bin_start": 31,
            "bin_end": 34,
            "count": 0
           },
           {
            "bin_start": 34,
            "bin_end": 37,
            "count": 0
           },
           {
            "bin_start": 37,
            "bin_end": 40,
            "count": 2
           }
          ]
         }
        },
        {
         "name": "Fedu",
         "dtype": "int64",
         "stats": {
          "unique_count": 4,
          "nan_count": 0,
          "min": "10",
          "max": "40",
          "histogram": [
           {
            "bin_start": 10,
            "bin_end": 13,
            "count": 2
           },
           {
            "bin_start": 13,
            "bin_end": 16,
            "count": 0
           },
           {
            "bin_start": 16,
            "bin_end": 19,
            "count": 0
           },
           {
            "bin_start": 19,
            "bin_end": 22,
            "count": 1
           },
           {
            "bin_start": 22,
            "bin_end": 25,
            "count": 0
           },
           {
            "bin_start": 25,
            "bin_end": 28,
            "count": 0
           },
           {
            "bin_start": 28,
            "bin_end": 31,
            "count": 1
           },
           {
            "bin_start": 31,
            "bin_end": 34,
            "count": 0
           },
           {
            "bin_start": 34,
            "bin_end": 37,
            "count": 0
           },
           {
            "bin_start": 37,
            "bin_end": 40,
            "count": 1
           }
          ]
         }
        },
        {
         "name": "Mjob",
         "dtype": "object",
         "stats": {
          "unique_count": 3,
          "nan_count": 0,
          "categories": [
           {
            "name": "At_home",
            "count": 3
           },
           {
            "name": "Health",
            "count": 1
           },
           {
            "name": "Other",
            "count": 1
           }
          ]
         }
        },
        {
         "name": "Fjob",
         "dtype": "object",
         "stats": {
          "unique_count": 3,
          "nan_count": 0,
          "categories": [
           {
            "name": "Other",
            "count": 3
           },
           {
            "name": "Teacher",
            "count": 1
           },
           {
            "name": "Services",
            "count": 1
           }
          ]
         }
        },
        {
         "name": "reason",
         "dtype": "object",
         "stats": {
          "unique_count": 3,
          "nan_count": 0,
          "categories": [
           {
            "name": "course",
            "count": 2
           },
           {
            "name": "home",
            "count": 2
           },
           {
            "name": "other",
            "count": 1
           }
          ]
         }
        },
        {
         "name": "guardian",
         "dtype": "object",
         "stats": {
          "unique_count": 2,
          "nan_count": 0,
          "categories": [
           {
            "name": "mother",
            "count": 3
           },
           {
            "name": "father",
            "count": 2
           }
          ]
         }
        },
        {
         "name": "legal_d",
         "dtype": "bool",
         "stats": {
          "unique_count": 2,
          "nan_count": 0,
          "categories": [
           {
            "name": "False",
            "count": 4
           },
           {
            "name": "True",
            "count": 1
           }
          ]
         }
        },
        {
         "name": "_deepnote_index_column",
         "dtype": "int64"
        }
       ],
       "rows": [
        {
         "school": "GP",
         "sex": "F",
         "age": 180,
         "address": "U",
         "famsize": "GT3",
         "Pstatus": "A",
         "Medu": 40,
         "Fedu": 40,
         "Mjob": "At_home",
         "Fjob": "Teacher",
         "reason": "course",
         "guardian": "mother",
         "legal_d": true,
         "_deepnote_index_column": 0
        },
        {
         "school": "GP",
         "sex": "F",
         "age": 170,
         "address": "U",
         "famsize": "GT3",
         "Pstatus": "T",
         "Medu": 10,
         "Fedu": 10,
         "Mjob": "At_home",
         "Fjob": "Other",
         "reason": "course",
         "guardian": "father",
         "legal_d": false,
         "_deepnote_index_column": 1
        },
        {
         "school": "GP",
         "sex": "F",
         "age": 150,
         "address": "U",
         "famsize": "LE3",
         "Pstatus": "T",
         "Medu": 10,
         "Fedu": 10,
         "Mjob": "At_home",
         "Fjob": "Other",
         "reason": "other",
         "guardian": "mother",
         "legal_d": false,
         "_deepnote_index_column": 2
        },
        {
         "school": "GP",
         "sex": "F",
         "age": 150,
         "address": "U",
         "famsize": "GT3",
         "Pstatus": "T",
         "Medu": 40,
         "Fedu": 20,
         "Mjob": "Health",
         "Fjob": "Services",
         "reason": "home",
         "guardian": "mother",
         "legal_d": false,
         "_deepnote_index_column": 3
        },
        {
         "school": "GP",
         "sex": "F",
         "age": 160,
         "address": "U",
         "famsize": "GT3",
         "Pstatus": "T",
         "Medu": 30,
         "Fedu": 30,
         "Mjob": "Other",
         "Fjob": "Other",
         "reason": "home",
         "guardian": "father",
         "legal_d": false,
         "_deepnote_index_column": 4
        }
       ]
      },
      "text/plain": "  school sex  age address famsize Pstatus  Medu  Fedu     Mjob      Fjob  \\\n0     GP   F  180       U     GT3       A    40    40  At_home   Teacher   \n1     GP   F  170       U     GT3       T    10    10  At_home     Other   \n2     GP   F  150       U     LE3       T    10    10  At_home     Other   \n3     GP   F  150       U     GT3       T    40    20   Health  Services   \n4     GP   F  160       U     GT3       T    30    30    Other     Other   \n\n   reason guardian  legal_d  \n0  course   mother     True  \n1  course   father    False  \n2   other   mother    False  \n3    home   mother    False  \n4    home   father    False  ",
      "text/html": "<div>\n<style scoped>\n    .dataframe tbody tr th:only-of-type {\n        vertical-align: middle;\n    }\n\n    .dataframe tbody tr th {\n        vertical-align: top;\n    }\n\n    .dataframe thead th {\n        text-align: right;\n    }\n</style>\n<table border=\"1\" class=\"dataframe\">\n  <thead>\n    <tr style=\"text-align: right;\">\n      <th></th>\n      <th>school</th>\n      <th>sex</th>\n      <th>age</th>\n      <th>address</th>\n      <th>famsize</th>\n      <th>Pstatus</th>\n      <th>Medu</th>\n      <th>Fedu</th>\n      <th>Mjob</th>\n      <th>Fjob</th>\n      <th>reason</th>\n      <th>guardian</th>\n      <th>legal_d</th>\n    </tr>\n  </thead>\n  <tbody>\n    <tr>\n      <th>0</th>\n      <td>GP</td>\n      <td>F</td>\n      <td>180</td>\n      <td>U</td>\n      <td>GT3</td>\n      <td>A</td>\n      <td>40</td>\n      <td>40</td>\n      <td>At_home</td>\n      <td>Teacher</td>\n      <td>course</td>\n      <td>mother</td>\n      <td>True</td>\n    </tr>\n    <tr>\n      <th>1</th>\n      <td>GP</td>\n      <td>F</td>\n      <td>170</td>\n      <td>U</td>\n      <td>GT3</td>\n      <td>T</td>\n      <td>10</td>\n      <td>10</td>\n      <td>At_home</td>\n      <td>Other</td>\n      <td>course</td>\n      <td>father</td>\n      <td>False</td>\n    </tr>\n    <tr>\n      <th>2</th>\n      <td>GP</td>\n      <td>F</td>\n      <td>150</td>\n      <td>U</td>\n      <td>LE3</td>\n      <td>T</td>\n      <td>10</td>\n      <td>10</td>\n      <td>At_home</td>\n      <td>Other</td>\n      <td>other</td>\n      <td>mother</td>\n      <td>False</td>\n    </tr>\n    <tr>\n      <th>3</th>\n      <td>GP</td>\n      <td>F</td>\n      <td>150</td>\n      <td>U</td>\n      <td>GT3</td>\n      <td>T</td>\n      <td>40</td>\n      <td>20</td>\n      <td>Health</td>\n      <td>Services</td>\n      <td>home</td>\n      <td>mother</td>\n      <td>False</td>\n    </tr>\n    <tr>\n      <th>4</th>\n      <td>GP</td>\n      <td>F</td>\n      <td>160</td>\n      <td>U</td>\n      <td>GT3</td>\n      <td>T</td>\n      <td>30</td>\n      <td>30</td>\n      <td>Other</td>\n      <td>Other</td>\n      <td>home</td>\n      <td>father</td>\n      <td>False</td>\n    </tr>\n  </tbody>\n</table>\n</div>"
     },
     "metadata": {}
    }
   ]
  },
  {
   "cell_type": "code",
   "metadata": {
    "tags": [],
    "cell_id": "00011-9babbed7-9f1f-4def-b43f-32e6622200ec",
    "deepnote_cell_type": "code"
   },
   "source": "",
   "execution_count": null,
   "outputs": []
  },
  {
   "cell_type": "markdown",
   "source": "# United States - Crime Rates - 1960 - 2014",
   "metadata": {
    "tags": [],
    "is_collapsed": false,
    "cell_id": "00012-6d7e6114-93ce-4fa4-ba8a-8eea7dfe6363",
    "deepnote_cell_type": "text-cell-h1"
   }
  },
  {
   "cell_type": "code",
   "metadata": {
    "tags": [],
    "cell_id": "00013-4c43879d-9767-4238-9312-c812d2456820",
    "deepnote_to_be_reexecuted": false,
    "source_hash": "b7dcc9c8",
    "execution_start": 1640443721669,
    "execution_millis": 0,
    "deepnote_cell_type": "code"
   },
   "source": "import numpy as np\nimport pandas as pd",
   "execution_count": null,
   "outputs": []
  },
  {
   "cell_type": "code",
   "metadata": {
    "tags": [],
    "cell_id": "00014-8bd7e1fe-3974-41dd-9b4d-b8f685cebe0c",
    "deepnote_to_be_reexecuted": false,
    "source_hash": "81becf04",
    "execution_start": 1640443730281,
    "execution_millis": 187,
    "deepnote_cell_type": "code"
   },
   "source": "url = \"https://raw.githubusercontent.com/guipsamora/pandas_exercises/master/04_Apply/US_Crime_Rates/US_Crime_Rates_1960_2014.csv\"\ncrime = pd.read_csv(url)\ncrime.head()",
   "execution_count": null,
   "outputs": [
    {
     "output_type": "execute_result",
     "execution_count": 12,
     "data": {
      "application/vnd.deepnote.dataframe.v3+json": {
       "column_count": 12,
       "row_count": 5,
       "columns": [
        {
         "name": "Year",
         "dtype": "int64",
         "stats": {
          "unique_count": 5,
          "nan_count": 0,
          "min": "1960",
          "max": "1964",
          "histogram": [
           {
            "bin_start": 1960,
            "bin_end": 1960.4,
            "count": 1
           },
           {
            "bin_start": 1960.4,
            "bin_end": 1960.8,
            "count": 0
           },
           {
            "bin_start": 1960.8,
            "bin_end": 1961.2,
            "count": 1
           },
           {
            "bin_start": 1961.2,
            "bin_end": 1961.6,
            "count": 0
           },
           {
            "bin_start": 1961.6,
            "bin_end": 1962,
            "count": 0
           },
           {
            "bin_start": 1962,
            "bin_end": 1962.4,
            "count": 1
           },
           {
            "bin_start": 1962.4,
            "bin_end": 1962.8,
            "count": 0
           },
           {
            "bin_start": 1962.8,
            "bin_end": 1963.2,
            "count": 1
           },
           {
            "bin_start": 1963.2,
            "bin_end": 1963.6,
            "count": 0
           },
           {
            "bin_start": 1963.6,
            "bin_end": 1964,
            "count": 1
           }
          ]
         }
        },
        {
         "name": "Population",
         "dtype": "int64",
         "stats": {
          "unique_count": 5,
          "nan_count": 0,
          "min": "179323175",
          "max": "191141000",
          "histogram": [
           {
            "bin_start": 179323175,
            "bin_end": 180504957.5,
            "count": 1
           },
           {
            "bin_start": 180504957.5,
            "bin_end": 181686740,
            "count": 0
           },
           {
            "bin_start": 181686740,
            "bin_end": 182868522.5,
            "count": 0
           },
           {
            "bin_start": 182868522.5,
            "bin_end": 184050305,
            "count": 1
           },
           {
            "bin_start": 184050305,
            "bin_end": 185232087.5,
            "count": 0
           },
           {
            "bin_start": 185232087.5,
            "bin_end": 186413870,
            "count": 1
           },
           {
            "bin_start": 186413870,
            "bin_end": 187595652.5,
            "count": 0
           },
           {
            "bin_start": 187595652.5,
            "bin_end": 188777435,
            "count": 1
           },
           {
            "bin_start": 188777435,
            "bin_end": 189959217.5,
            "count": 0
           },
           {
            "bin_start": 189959217.5,
            "bin_end": 191141000,
            "count": 1
           }
          ]
         }
        },
        {
         "name": "Total",
         "dtype": "int64",
         "stats": {
          "unique_count": 5,
          "nan_count": 0,
          "min": "3384200",
          "max": "4564600",
          "histogram": [
           {
            "bin_start": 3384200,
            "bin_end": 3502240,
            "count": 2
           },
           {
            "bin_start": 3502240,
            "bin_end": 3620280,
            "count": 0
           },
           {
            "bin_start": 3620280,
            "bin_end": 3738320,
            "count": 0
           },
           {
            "bin_start": 3738320,
            "bin_end": 3856360,
            "count": 1
           },
           {
            "bin_start": 3856360,
            "bin_end": 3974400,
            "count": 0
           },
           {
            "bin_start": 3974400,
            "bin_end": 4092440,
            "count": 0
           },
           {
            "bin_start": 4092440,
            "bin_end": 4210480,
            "count": 1
           },
           {
            "bin_start": 4210480,
            "bin_end": 4328520,
            "count": 0
           },
           {
            "bin_start": 4328520,
            "bin_end": 4446560,
            "count": 0
           },
           {
            "bin_start": 4446560,
            "bin_end": 4564600,
            "count": 1
           }
          ]
         }
        },
        {
         "name": "Violent",
         "dtype": "int64",
         "stats": {
          "unique_count": 5,
          "nan_count": 0,
          "min": "288460",
          "max": "364220",
          "histogram": [
           {
            "bin_start": 288460,
            "bin_end": 296036,
            "count": 2
           },
           {
            "bin_start": 296036,
            "bin_end": 303612,
            "count": 1
           },
           {
            "bin_start": 303612,
            "bin_end": 311188,
            "count": 0
           },
           {
            "bin_start": 311188,
            "bin_end": 318764,
            "count": 1
           },
           {
            "bin_start": 318764,
            "bin_end": 326340,
            "count": 0
           },
           {
            "bin_start": 326340,
            "bin_end": 333916,
            "count": 0
           },
           {
            "bin_start": 333916,
            "bin_end": 341492,
            "count": 0
           },
           {
            "bin_start": 341492,
            "bin_end": 349068,
            "count": 0
           },
           {
            "bin_start": 349068,
            "bin_end": 356644,
            "count": 0
           },
           {
            "bin_start": 356644,
            "bin_end": 364220,
            "count": 1
           }
          ]
         }
        },
        {
         "name": "Property",
         "dtype": "int64",
         "stats": {
          "unique_count": 5,
          "nan_count": 0,
          "min": "3095700",
          "max": "4200400",
          "histogram": [
           {
            "bin_start": 3095700,
            "bin_end": 3206170,
            "count": 2
           },
           {
            "bin_start": 3206170,
            "bin_end": 3316640,
            "count": 0
           },
           {
            "bin_start": 3316640,
            "bin_end": 3427110,
            "count": 0
           },
           {
            "bin_start": 3427110,
            "bin_end": 3537580,
            "count": 1
           },
           {
            "bin_start": 3537580,
            "bin_end": 3648050,
            "count": 0
           },
           {
            "bin_start": 3648050,
            "bin_end": 3758520,
            "count": 0
           },
           {
            "bin_start": 3758520,
            "bin_end": 3868990,
            "count": 1
           },
           {
            "bin_start": 3868990,
            "bin_end": 3979460,
            "count": 0
           },
           {
            "bin_start": 3979460,
            "bin_end": 4089930,
            "count": 0
           },
           {
            "bin_start": 4089930,
            "bin_end": 4200400,
            "count": 1
           }
          ]
         }
        },
        {
         "name": "Murder",
         "dtype": "int64",
         "stats": {
          "unique_count": 5,
          "nan_count": 0,
          "min": "8530",
          "max": "9360",
          "histogram": [
           {
            "bin_start": 8530,
            "bin_end": 8613,
            "count": 1
           },
           {
            "bin_start": 8613,
            "bin_end": 8696,
            "count": 1
           },
           {
            "bin_start": 8696,
            "bin_end": 8779,
            "count": 1
           },
           {
            "bin_start": 8779,
            "bin_end": 8862,
            "count": 0
           },
           {
            "bin_start": 8862,
            "bin_end": 8945,
            "count": 0
           },
           {
            "bin_start": 8945,
            "bin_end": 9028,
            "count": 0
           },
           {
            "bin_start": 9028,
            "bin_end": 9111,
            "count": 1
           },
           {
            "bin_start": 9111,
            "bin_end": 9194,
            "count": 0
           },
           {
            "bin_start": 9194,
            "bin_end": 9277,
            "count": 0
           },
           {
            "bin_start": 9277,
            "bin_end": 9360,
            "count": 1
           }
          ]
         }
        },
        {
         "name": "Forcible_Rape",
         "dtype": "int64",
         "stats": {
          "unique_count": 5,
          "nan_count": 0,
          "min": "17190",
          "max": "21420",
          "histogram": [
           {
            "bin_start": 17190,
            "bin_end": 17613,
            "count": 3
           },
           {
            "bin_start": 17613,
            "bin_end": 18036,
            "count": 1
           },
           {
            "bin_start": 18036,
            "bin_end": 18459,
            "count": 0
           },
           {
            "bin_start": 18459,
            "bin_end": 18882,
            "count": 0
           },
           {
            "bin_start": 18882,
            "bin_end": 19305,
            "count": 0
           },
           {
            "bin_start": 19305,
            "bin_end": 19728,
            "count": 0
           },
           {
            "bin_start": 19728,
            "bin_end": 20151,
            "count": 0
           },
           {
            "bin_start": 20151,
            "bin_end": 20574,
            "count": 0
           },
           {
            "bin_start": 20574,
            "bin_end": 20997,
            "count": 0
           },
           {
            "bin_start": 20997,
            "bin_end": 21420,
            "count": 1
           }
          ]
         }
        },
        {
         "name": "Robbery",
         "dtype": "int64",
         "stats": {
          "unique_count": 5,
          "nan_count": 0,
          "min": "106670",
          "max": "130390",
          "histogram": [
           {
            "bin_start": 106670,
            "bin_end": 109042,
            "count": 2
           },
           {
            "bin_start": 109042,
            "bin_end": 111414,
            "count": 1
           },
           {
            "bin_start": 111414,
            "bin_end": 113786,
            "count": 0
           },
           {
            "bin_start": 113786,
            "bin_end": 116158,
            "count": 0
           },
           {
            "bin_start": 116158,
            "bin_end": 118530,
            "count": 1
           },
           {
            "bin_start": 118530,
            "bin_end": 120902,
            "count": 0
           },
           {
            "bin_start": 120902,
            "bin_end": 123274,
            "count": 0
           },
           {
            "bin_start": 123274,
            "bin_end": 125646,
            "count": 0
           },
           {
            "bin_start": 125646,
            "bin_end": 128018,
            "count": 0
           },
           {
            "bin_start": 128018,
            "bin_end": 130390,
            "count": 1
           }
          ]
         }
        },
        {
         "name": "Aggravated_assault",
         "dtype": "int64",
         "stats": {
          "unique_count": 5,
          "nan_count": 0,
          "min": "154320",
          "max": "203050",
          "histogram": [
           {
            "bin_start": 154320,
            "bin_end": 159193,
            "count": 2
           },
           {
            "bin_start": 159193,
            "bin_end": 164066,
            "count": 0
           },
           {
            "bin_start": 164066,
            "bin_end": 168939,
            "count": 1
           },
           {
            "bin_start": 168939,
            "bin_end": 173812,
            "count": 0
           },
           {
            "bin_start": 173812,
            "bin_end": 178685,
            "count": 1
           },
           {
            "bin_start": 178685,
            "bin_end": 183558,
            "count": 0
           },
           {
            "bin_start": 183558,
            "bin_end": 188431,
            "count": 0
           },
           {
            "bin_start": 188431,
            "bin_end": 193304,
            "count": 0
           },
           {
            "bin_start": 193304,
            "bin_end": 198177,
            "count": 0
           },
           {
            "bin_start": 198177,
            "bin_end": 203050,
            "count": 1
           }
          ]
         }
        },
        {
         "name": "Burglary",
         "dtype": "int64",
         "stats": {
          "unique_count": 5,
          "nan_count": 0,
          "min": "912100",
          "max": "1213200",
          "histogram": [
           {
            "bin_start": 912100,
            "bin_end": 942210,
            "count": 1
           },
           {
            "bin_start": 942210,
            "bin_end": 972320,
            "count": 1
           },
           {
            "bin_start": 972320,
            "bin_end": 1002430,
            "count": 1
           },
           {
            "bin_start": 1002430,
            "bin_end": 1032540,
            "count": 0
           },
           {
            "bin_start": 1032540,
            "bin_end": 1062650,
            "count": 0
           },
           {
            "bin_start": 1062650,
            "bin_end": 1092760,
            "count": 1
           },
           {
            "bin_start": 1092760,
            "bin_end": 1122870,
            "count": 0
           },
           {
            "bin_start": 1122870,
            "bin_end": 1152980,
            "count": 0
           },
           {
            "bin_start": 1152980,
            "bin_end": 1183090,
            "count": 0
           },
           {
            "bin_start": 1183090,
            "bin_end": 1213200,
            "count": 1
           }
          ]
         }
        },
        {
         "name": "Larceny_Theft",
         "dtype": "int64",
         "stats": {
          "unique_count": 5,
          "nan_count": 0,
          "min": "1855400",
          "max": "2514400",
          "histogram": [
           {
            "bin_start": 1855400,
            "bin_end": 1921300,
            "count": 2
           },
           {
            "bin_start": 1921300,
            "bin_end": 1987200,
            "count": 0
           },
           {
            "bin_start": 1987200,
            "bin_end": 2053100,
            "count": 0
           },
           {
            "bin_start": 2053100,
            "bin_end": 2119000,
            "count": 1
           },
           {
            "bin_start": 2119000,
            "bin_end": 2184900,
            "count": 0
           },
           {
            "bin_start": 2184900,
            "bin_end": 2250800,
            "count": 0
           },
           {
            "bin_start": 2250800,
            "bin_end": 2316700,
            "count": 1
           },
           {
            "bin_start": 2316700,
            "bin_end": 2382600,
            "count": 0
           },
           {
            "bin_start": 2382600,
            "bin_end": 2448500,
            "count": 0
           },
           {
            "bin_start": 2448500,
            "bin_end": 2514400,
            "count": 1
           }
          ]
         }
        },
        {
         "name": "Vehicle_Theft",
         "dtype": "int64",
         "stats": {
          "unique_count": 5,
          "nan_count": 0,
          "min": "328200",
          "max": "472800",
          "histogram": [
           {
            "bin_start": 328200,
            "bin_end": 342660,
            "count": 2
           },
           {
            "bin_start": 342660,
            "bin_end": 357120,
            "count": 0
           },
           {
            "bin_start": 357120,
            "bin_end": 371580,
            "count": 1
           },
           {
            "bin_start": 371580,
            "bin_end": 386040,
            "count": 0
           },
           {
            "bin_start": 386040,
            "bin_end": 400500,
            "count": 0
           },
           {
            "bin_start": 400500,
            "bin_end": 414960,
            "count": 1
           },
           {
            "bin_start": 414960,
            "bin_end": 429420,
            "count": 0
           },
           {
            "bin_start": 429420,
            "bin_end": 443880,
            "count": 0
           },
           {
            "bin_start": 443880,
            "bin_end": 458340,
            "count": 0
           },
           {
            "bin_start": 458340,
            "bin_end": 472800,
            "count": 1
           }
          ]
         }
        },
        {
         "name": "_deepnote_index_column",
         "dtype": "int64"
        }
       ],
       "rows": [
        {
         "Year": 1960,
         "Population": 179323175,
         "Total": 3384200,
         "Violent": 288460,
         "Property": 3095700,
         "Murder": 9110,
         "Forcible_Rape": 17190,
         "Robbery": 107840,
         "Aggravated_assault": 154320,
         "Burglary": 912100,
         "Larceny_Theft": 1855400,
         "Vehicle_Theft": 328200,
         "_deepnote_index_column": 0
        },
        {
         "Year": 1961,
         "Population": 182992000,
         "Total": 3488000,
         "Violent": 289390,
         "Property": 3198600,
         "Murder": 8740,
         "Forcible_Rape": 17220,
         "Robbery": 106670,
         "Aggravated_assault": 156760,
         "Burglary": 949600,
         "Larceny_Theft": 1913000,
         "Vehicle_Theft": 336000,
         "_deepnote_index_column": 1
        },
        {
         "Year": 1962,
         "Population": 185771000,
         "Total": 3752200,
         "Violent": 301510,
         "Property": 3450700,
         "Murder": 8530,
         "Forcible_Rape": 17550,
         "Robbery": 110860,
         "Aggravated_assault": 164570,
         "Burglary": 994300,
         "Larceny_Theft": 2089600,
         "Vehicle_Theft": 366800,
         "_deepnote_index_column": 2
        },
        {
         "Year": 1963,
         "Population": 188483000,
         "Total": 4109500,
         "Violent": 316970,
         "Property": 3792500,
         "Murder": 8640,
         "Forcible_Rape": 17650,
         "Robbery": 116470,
         "Aggravated_assault": 174210,
         "Burglary": 1086400,
         "Larceny_Theft": 2297800,
         "Vehicle_Theft": 408300,
         "_deepnote_index_column": 3
        },
        {
         "Year": 1964,
         "Population": 191141000,
         "Total": 4564600,
         "Violent": 364220,
         "Property": 4200400,
         "Murder": 9360,
         "Forcible_Rape": 21420,
         "Robbery": 130390,
         "Aggravated_assault": 203050,
         "Burglary": 1213200,
         "Larceny_Theft": 2514400,
         "Vehicle_Theft": 472800,
         "_deepnote_index_column": 4
        }
       ]
      },
      "text/plain": "   Year  Population    Total  Violent  Property  Murder  Forcible_Rape  \\\n0  1960   179323175  3384200   288460   3095700    9110          17190   \n1  1961   182992000  3488000   289390   3198600    8740          17220   \n2  1962   185771000  3752200   301510   3450700    8530          17550   \n3  1963   188483000  4109500   316970   3792500    8640          17650   \n4  1964   191141000  4564600   364220   4200400    9360          21420   \n\n   Robbery  Aggravated_assault  Burglary  Larceny_Theft  Vehicle_Theft  \n0   107840              154320    912100        1855400         328200  \n1   106670              156760    949600        1913000         336000  \n2   110860              164570    994300        2089600         366800  \n3   116470              174210   1086400        2297800         408300  \n4   130390              203050   1213200        2514400         472800  ",
      "text/html": "<div>\n<style scoped>\n    .dataframe tbody tr th:only-of-type {\n        vertical-align: middle;\n    }\n\n    .dataframe tbody tr th {\n        vertical-align: top;\n    }\n\n    .dataframe thead th {\n        text-align: right;\n    }\n</style>\n<table border=\"1\" class=\"dataframe\">\n  <thead>\n    <tr style=\"text-align: right;\">\n      <th></th>\n      <th>Year</th>\n      <th>Population</th>\n      <th>Total</th>\n      <th>Violent</th>\n      <th>Property</th>\n      <th>Murder</th>\n      <th>Forcible_Rape</th>\n      <th>Robbery</th>\n      <th>Aggravated_assault</th>\n      <th>Burglary</th>\n      <th>Larceny_Theft</th>\n      <th>Vehicle_Theft</th>\n    </tr>\n  </thead>\n  <tbody>\n    <tr>\n      <th>0</th>\n      <td>1960</td>\n      <td>179323175</td>\n      <td>3384200</td>\n      <td>288460</td>\n      <td>3095700</td>\n      <td>9110</td>\n      <td>17190</td>\n      <td>107840</td>\n      <td>154320</td>\n      <td>912100</td>\n      <td>1855400</td>\n      <td>328200</td>\n    </tr>\n    <tr>\n      <th>1</th>\n      <td>1961</td>\n      <td>182992000</td>\n      <td>3488000</td>\n      <td>289390</td>\n      <td>3198600</td>\n      <td>8740</td>\n      <td>17220</td>\n      <td>106670</td>\n      <td>156760</td>\n      <td>949600</td>\n      <td>1913000</td>\n      <td>336000</td>\n    </tr>\n    <tr>\n      <th>2</th>\n      <td>1962</td>\n      <td>185771000</td>\n      <td>3752200</td>\n      <td>301510</td>\n      <td>3450700</td>\n      <td>8530</td>\n      <td>17550</td>\n      <td>110860</td>\n      <td>164570</td>\n      <td>994300</td>\n      <td>2089600</td>\n      <td>366800</td>\n    </tr>\n    <tr>\n      <th>3</th>\n      <td>1963</td>\n      <td>188483000</td>\n      <td>4109500</td>\n      <td>316970</td>\n      <td>3792500</td>\n      <td>8640</td>\n      <td>17650</td>\n      <td>116470</td>\n      <td>174210</td>\n      <td>1086400</td>\n      <td>2297800</td>\n      <td>408300</td>\n    </tr>\n    <tr>\n      <th>4</th>\n      <td>1964</td>\n      <td>191141000</td>\n      <td>4564600</td>\n      <td>364220</td>\n      <td>4200400</td>\n      <td>9360</td>\n      <td>21420</td>\n      <td>130390</td>\n      <td>203050</td>\n      <td>1213200</td>\n      <td>2514400</td>\n      <td>472800</td>\n    </tr>\n  </tbody>\n</table>\n</div>"
     },
     "metadata": {}
    }
   ]
  },
  {
   "cell_type": "code",
   "metadata": {
    "tags": [],
    "cell_id": "00015-ec5bf510-233e-4303-a4c5-6f6596003ea9",
    "deepnote_to_be_reexecuted": false,
    "source_hash": "6e1a009",
    "execution_start": 1640443768209,
    "execution_millis": 1,
    "deepnote_cell_type": "code"
   },
   "source": "#Step 4. What is the type of the columns?\ncrime.info()",
   "execution_count": null,
   "outputs": [
    {
     "name": "stdout",
     "text": "<class 'pandas.core.frame.DataFrame'>\nRangeIndex: 55 entries, 0 to 54\nData columns (total 12 columns):\n #   Column              Non-Null Count  Dtype\n---  ------              --------------  -----\n 0   Year                55 non-null     int64\n 1   Population          55 non-null     int64\n 2   Total               55 non-null     int64\n 3   Violent             55 non-null     int64\n 4   Property            55 non-null     int64\n 5   Murder              55 non-null     int64\n 6   Forcible_Rape       55 non-null     int64\n 7   Robbery             55 non-null     int64\n 8   Aggravated_assault  55 non-null     int64\n 9   Burglary            55 non-null     int64\n 10  Larceny_Theft       55 non-null     int64\n 11  Vehicle_Theft       55 non-null     int64\ndtypes: int64(12)\nmemory usage: 5.3 KB\n",
     "output_type": "stream",
     "data": {}
    }
   ]
  },
  {
   "cell_type": "code",
   "metadata": {
    "tags": [],
    "cell_id": "00016-94ad8450-a58d-49b1-b04c-52672c5228ce",
    "deepnote_to_be_reexecuted": false,
    "source_hash": "64b36957",
    "execution_start": 1640443856577,
    "execution_millis": 20,
    "deepnote_cell_type": "code"
   },
   "source": "#Step 5. Convert the type of the column Year to datetime64\ncrime.Year = pd.to_datetime(crime.Year, format='%Y')\ncrime.info()",
   "execution_count": null,
   "outputs": [
    {
     "name": "stdout",
     "text": "<class 'pandas.core.frame.DataFrame'>\nRangeIndex: 55 entries, 0 to 54\nData columns (total 12 columns):\n #   Column              Non-Null Count  Dtype         \n---  ------              --------------  -----         \n 0   Year                55 non-null     datetime64[ns]\n 1   Population          55 non-null     int64         \n 2   Total               55 non-null     int64         \n 3   Violent             55 non-null     int64         \n 4   Property            55 non-null     int64         \n 5   Murder              55 non-null     int64         \n 6   Forcible_Rape       55 non-null     int64         \n 7   Robbery             55 non-null     int64         \n 8   Aggravated_assault  55 non-null     int64         \n 9   Burglary            55 non-null     int64         \n 10  Larceny_Theft       55 non-null     int64         \n 11  Vehicle_Theft       55 non-null     int64         \ndtypes: datetime64[ns](1), int64(11)\nmemory usage: 5.3 KB\n",
     "output_type": "stream",
     "data": {}
    }
   ]
  },
  {
   "cell_type": "code",
   "metadata": {
    "tags": [],
    "cell_id": "00017-a11fd93b-1ec4-43c6-800e-60b7b656a298",
    "deepnote_to_be_reexecuted": false,
    "source_hash": "1e83bdc6",
    "execution_start": 1640443929574,
    "execution_millis": 43,
    "deepnote_output_heights": [
     206
    ],
    "deepnote_cell_type": "code"
   },
   "source": "#Step 6. Set the Year column as the index of the dataframe\ncrime = crime.set_index('Year', drop=True)\ncrime.head()",
   "execution_count": null,
   "outputs": [
    {
     "output_type": "execute_result",
     "execution_count": 16,
     "data": {
      "application/vnd.deepnote.dataframe.v3+json": {
       "column_count": 11,
       "row_count": 5,
       "columns": [
        {
         "name": "Population",
         "dtype": "int64",
         "stats": {
          "unique_count": 5,
          "nan_count": 0,
          "min": "179323175",
          "max": "191141000",
          "histogram": [
           {
            "bin_start": 179323175,
            "bin_end": 180504957.5,
            "count": 1
           },
           {
            "bin_start": 180504957.5,
            "bin_end": 181686740,
            "count": 0
           },
           {
            "bin_start": 181686740,
            "bin_end": 182868522.5,
            "count": 0
           },
           {
            "bin_start": 182868522.5,
            "bin_end": 184050305,
            "count": 1
           },
           {
            "bin_start": 184050305,
            "bin_end": 185232087.5,
            "count": 0
           },
           {
            "bin_start": 185232087.5,
            "bin_end": 186413870,
            "count": 1
           },
           {
            "bin_start": 186413870,
            "bin_end": 187595652.5,
            "count": 0
           },
           {
            "bin_start": 187595652.5,
            "bin_end": 188777435,
            "count": 1
           },
           {
            "bin_start": 188777435,
            "bin_end": 189959217.5,
            "count": 0
           },
           {
            "bin_start": 189959217.5,
            "bin_end": 191141000,
            "count": 1
           }
          ]
         }
        },
        {
         "name": "Total",
         "dtype": "int64",
         "stats": {
          "unique_count": 5,
          "nan_count": 0,
          "min": "3384200",
          "max": "4564600",
          "histogram": [
           {
            "bin_start": 3384200,
            "bin_end": 3502240,
            "count": 2
           },
           {
            "bin_start": 3502240,
            "bin_end": 3620280,
            "count": 0
           },
           {
            "bin_start": 3620280,
            "bin_end": 3738320,
            "count": 0
           },
           {
            "bin_start": 3738320,
            "bin_end": 3856360,
            "count": 1
           },
           {
            "bin_start": 3856360,
            "bin_end": 3974400,
            "count": 0
           },
           {
            "bin_start": 3974400,
            "bin_end": 4092440,
            "count": 0
           },
           {
            "bin_start": 4092440,
            "bin_end": 4210480,
            "count": 1
           },
           {
            "bin_start": 4210480,
            "bin_end": 4328520,
            "count": 0
           },
           {
            "bin_start": 4328520,
            "bin_end": 4446560,
            "count": 0
           },
           {
            "bin_start": 4446560,
            "bin_end": 4564600,
            "count": 1
           }
          ]
         }
        },
        {
         "name": "Violent",
         "dtype": "int64",
         "stats": {
          "unique_count": 5,
          "nan_count": 0,
          "min": "288460",
          "max": "364220",
          "histogram": [
           {
            "bin_start": 288460,
            "bin_end": 296036,
            "count": 2
           },
           {
            "bin_start": 296036,
            "bin_end": 303612,
            "count": 1
           },
           {
            "bin_start": 303612,
            "bin_end": 311188,
            "count": 0
           },
           {
            "bin_start": 311188,
            "bin_end": 318764,
            "count": 1
           },
           {
            "bin_start": 318764,
            "bin_end": 326340,
            "count": 0
           },
           {
            "bin_start": 326340,
            "bin_end": 333916,
            "count": 0
           },
           {
            "bin_start": 333916,
            "bin_end": 341492,
            "count": 0
           },
           {
            "bin_start": 341492,
            "bin_end": 349068,
            "count": 0
           },
           {
            "bin_start": 349068,
            "bin_end": 356644,
            "count": 0
           },
           {
            "bin_start": 356644,
            "bin_end": 364220,
            "count": 1
           }
          ]
         }
        },
        {
         "name": "Property",
         "dtype": "int64",
         "stats": {
          "unique_count": 5,
          "nan_count": 0,
          "min": "3095700",
          "max": "4200400",
          "histogram": [
           {
            "bin_start": 3095700,
            "bin_end": 3206170,
            "count": 2
           },
           {
            "bin_start": 3206170,
            "bin_end": 3316640,
            "count": 0
           },
           {
            "bin_start": 3316640,
            "bin_end": 3427110,
            "count": 0
           },
           {
            "bin_start": 3427110,
            "bin_end": 3537580,
            "count": 1
           },
           {
            "bin_start": 3537580,
            "bin_end": 3648050,
            "count": 0
           },
           {
            "bin_start": 3648050,
            "bin_end": 3758520,
            "count": 0
           },
           {
            "bin_start": 3758520,
            "bin_end": 3868990,
            "count": 1
           },
           {
            "bin_start": 3868990,
            "bin_end": 3979460,
            "count": 0
           },
           {
            "bin_start": 3979460,
            "bin_end": 4089930,
            "count": 0
           },
           {
            "bin_start": 4089930,
            "bin_end": 4200400,
            "count": 1
           }
          ]
         }
        },
        {
         "name": "Murder",
         "dtype": "int64",
         "stats": {
          "unique_count": 5,
          "nan_count": 0,
          "min": "8530",
          "max": "9360",
          "histogram": [
           {
            "bin_start": 8530,
            "bin_end": 8613,
            "count": 1
           },
           {
            "bin_start": 8613,
            "bin_end": 8696,
            "count": 1
           },
           {
            "bin_start": 8696,
            "bin_end": 8779,
            "count": 1
           },
           {
            "bin_start": 8779,
            "bin_end": 8862,
            "count": 0
           },
           {
            "bin_start": 8862,
            "bin_end": 8945,
            "count": 0
           },
           {
            "bin_start": 8945,
            "bin_end": 9028,
            "count": 0
           },
           {
            "bin_start": 9028,
            "bin_end": 9111,
            "count": 1
           },
           {
            "bin_start": 9111,
            "bin_end": 9194,
            "count": 0
           },
           {
            "bin_start": 9194,
            "bin_end": 9277,
            "count": 0
           },
           {
            "bin_start": 9277,
            "bin_end": 9360,
            "count": 1
           }
          ]
         }
        },
        {
         "name": "Forcible_Rape",
         "dtype": "int64",
         "stats": {
          "unique_count": 5,
          "nan_count": 0,
          "min": "17190",
          "max": "21420",
          "histogram": [
           {
            "bin_start": 17190,
            "bin_end": 17613,
            "count": 3
           },
           {
            "bin_start": 17613,
            "bin_end": 18036,
            "count": 1
           },
           {
            "bin_start": 18036,
            "bin_end": 18459,
            "count": 0
           },
           {
            "bin_start": 18459,
            "bin_end": 18882,
            "count": 0
           },
           {
            "bin_start": 18882,
            "bin_end": 19305,
            "count": 0
           },
           {
            "bin_start": 19305,
            "bin_end": 19728,
            "count": 0
           },
           {
            "bin_start": 19728,
            "bin_end": 20151,
            "count": 0
           },
           {
            "bin_start": 20151,
            "bin_end": 20574,
            "count": 0
           },
           {
            "bin_start": 20574,
            "bin_end": 20997,
            "count": 0
           },
           {
            "bin_start": 20997,
            "bin_end": 21420,
            "count": 1
           }
          ]
         }
        },
        {
         "name": "Robbery",
         "dtype": "int64",
         "stats": {
          "unique_count": 5,
          "nan_count": 0,
          "min": "106670",
          "max": "130390",
          "histogram": [
           {
            "bin_start": 106670,
            "bin_end": 109042,
            "count": 2
           },
           {
            "bin_start": 109042,
            "bin_end": 111414,
            "count": 1
           },
           {
            "bin_start": 111414,
            "bin_end": 113786,
            "count": 0
           },
           {
            "bin_start": 113786,
            "bin_end": 116158,
            "count": 0
           },
           {
            "bin_start": 116158,
            "bin_end": 118530,
            "count": 1
           },
           {
            "bin_start": 118530,
            "bin_end": 120902,
            "count": 0
           },
           {
            "bin_start": 120902,
            "bin_end": 123274,
            "count": 0
           },
           {
            "bin_start": 123274,
            "bin_end": 125646,
            "count": 0
           },
           {
            "bin_start": 125646,
            "bin_end": 128018,
            "count": 0
           },
           {
            "bin_start": 128018,
            "bin_end": 130390,
            "count": 1
           }
          ]
         }
        },
        {
         "name": "Aggravated_assault",
         "dtype": "int64",
         "stats": {
          "unique_count": 5,
          "nan_count": 0,
          "min": "154320",
          "max": "203050",
          "histogram": [
           {
            "bin_start": 154320,
            "bin_end": 159193,
            "count": 2
           },
           {
            "bin_start": 159193,
            "bin_end": 164066,
            "count": 0
           },
           {
            "bin_start": 164066,
            "bin_end": 168939,
            "count": 1
           },
           {
            "bin_start": 168939,
            "bin_end": 173812,
            "count": 0
           },
           {
            "bin_start": 173812,
            "bin_end": 178685,
            "count": 1
           },
           {
            "bin_start": 178685,
            "bin_end": 183558,
            "count": 0
           },
           {
            "bin_start": 183558,
            "bin_end": 188431,
            "count": 0
           },
           {
            "bin_start": 188431,
            "bin_end": 193304,
            "count": 0
           },
           {
            "bin_start": 193304,
            "bin_end": 198177,
            "count": 0
           },
           {
            "bin_start": 198177,
            "bin_end": 203050,
            "count": 1
           }
          ]
         }
        },
        {
         "name": "Burglary",
         "dtype": "int64",
         "stats": {
          "unique_count": 5,
          "nan_count": 0,
          "min": "912100",
          "max": "1213200",
          "histogram": [
           {
            "bin_start": 912100,
            "bin_end": 942210,
            "count": 1
           },
           {
            "bin_start": 942210,
            "bin_end": 972320,
            "count": 1
           },
           {
            "bin_start": 972320,
            "bin_end": 1002430,
            "count": 1
           },
           {
            "bin_start": 1002430,
            "bin_end": 1032540,
            "count": 0
           },
           {
            "bin_start": 1032540,
            "bin_end": 1062650,
            "count": 0
           },
           {
            "bin_start": 1062650,
            "bin_end": 1092760,
            "count": 1
           },
           {
            "bin_start": 1092760,
            "bin_end": 1122870,
            "count": 0
           },
           {
            "bin_start": 1122870,
            "bin_end": 1152980,
            "count": 0
           },
           {
            "bin_start": 1152980,
            "bin_end": 1183090,
            "count": 0
           },
           {
            "bin_start": 1183090,
            "bin_end": 1213200,
            "count": 1
           }
          ]
         }
        },
        {
         "name": "Larceny_Theft",
         "dtype": "int64",
         "stats": {
          "unique_count": 5,
          "nan_count": 0,
          "min": "1855400",
          "max": "2514400",
          "histogram": [
           {
            "bin_start": 1855400,
            "bin_end": 1921300,
            "count": 2
           },
           {
            "bin_start": 1921300,
            "bin_end": 1987200,
            "count": 0
           },
           {
            "bin_start": 1987200,
            "bin_end": 2053100,
            "count": 0
           },
           {
            "bin_start": 2053100,
            "bin_end": 2119000,
            "count": 1
           },
           {
            "bin_start": 2119000,
            "bin_end": 2184900,
            "count": 0
           },
           {
            "bin_start": 2184900,
            "bin_end": 2250800,
            "count": 0
           },
           {
            "bin_start": 2250800,
            "bin_end": 2316700,
            "count": 1
           },
           {
            "bin_start": 2316700,
            "bin_end": 2382600,
            "count": 0
           },
           {
            "bin_start": 2382600,
            "bin_end": 2448500,
            "count": 0
           },
           {
            "bin_start": 2448500,
            "bin_end": 2514400,
            "count": 1
           }
          ]
         }
        },
        {
         "name": "Vehicle_Theft",
         "dtype": "int64",
         "stats": {
          "unique_count": 5,
          "nan_count": 0,
          "min": "328200",
          "max": "472800",
          "histogram": [
           {
            "bin_start": 328200,
            "bin_end": 342660,
            "count": 2
           },
           {
            "bin_start": 342660,
            "bin_end": 357120,
            "count": 0
           },
           {
            "bin_start": 357120,
            "bin_end": 371580,
            "count": 1
           },
           {
            "bin_start": 371580,
            "bin_end": 386040,
            "count": 0
           },
           {
            "bin_start": 386040,
            "bin_end": 400500,
            "count": 0
           },
           {
            "bin_start": 400500,
            "bin_end": 414960,
            "count": 1
           },
           {
            "bin_start": 414960,
            "bin_end": 429420,
            "count": 0
           },
           {
            "bin_start": 429420,
            "bin_end": 443880,
            "count": 0
           },
           {
            "bin_start": 443880,
            "bin_end": 458340,
            "count": 0
           },
           {
            "bin_start": 458340,
            "bin_end": 472800,
            "count": 1
           }
          ]
         }
        },
        {
         "name": "_deepnote_index_column",
         "dtype": "datetime64[ns]"
        }
       ],
       "rows": [
        {
         "Population": 179323175,
         "Total": 3384200,
         "Violent": 288460,
         "Property": 3095700,
         "Murder": 9110,
         "Forcible_Rape": 17190,
         "Robbery": 107840,
         "Aggravated_assault": 154320,
         "Burglary": 912100,
         "Larceny_Theft": 1855400,
         "Vehicle_Theft": 328200,
         "_deepnote_index_column": "1960-01-01T00:00:00.000000"
        },
        {
         "Population": 182992000,
         "Total": 3488000,
         "Violent": 289390,
         "Property": 3198600,
         "Murder": 8740,
         "Forcible_Rape": 17220,
         "Robbery": 106670,
         "Aggravated_assault": 156760,
         "Burglary": 949600,
         "Larceny_Theft": 1913000,
         "Vehicle_Theft": 336000,
         "_deepnote_index_column": "1961-01-01T00:00:00.000000"
        },
        {
         "Population": 185771000,
         "Total": 3752200,
         "Violent": 301510,
         "Property": 3450700,
         "Murder": 8530,
         "Forcible_Rape": 17550,
         "Robbery": 110860,
         "Aggravated_assault": 164570,
         "Burglary": 994300,
         "Larceny_Theft": 2089600,
         "Vehicle_Theft": 366800,
         "_deepnote_index_column": "1962-01-01T00:00:00.000000"
        },
        {
         "Population": 188483000,
         "Total": 4109500,
         "Violent": 316970,
         "Property": 3792500,
         "Murder": 8640,
         "Forcible_Rape": 17650,
         "Robbery": 116470,
         "Aggravated_assault": 174210,
         "Burglary": 1086400,
         "Larceny_Theft": 2297800,
         "Vehicle_Theft": 408300,
         "_deepnote_index_column": "1963-01-01T00:00:00.000000"
        },
        {
         "Population": 191141000,
         "Total": 4564600,
         "Violent": 364220,
         "Property": 4200400,
         "Murder": 9360,
         "Forcible_Rape": 21420,
         "Robbery": 130390,
         "Aggravated_assault": 203050,
         "Burglary": 1213200,
         "Larceny_Theft": 2514400,
         "Vehicle_Theft": 472800,
         "_deepnote_index_column": "1964-01-01T00:00:00.000000"
        }
       ]
      },
      "text/plain": "            Population    Total  Violent  Property  Murder  Forcible_Rape  \\\nYear                                                                        \n1960-01-01   179323175  3384200   288460   3095700    9110          17190   \n1961-01-01   182992000  3488000   289390   3198600    8740          17220   \n1962-01-01   185771000  3752200   301510   3450700    8530          17550   \n1963-01-01   188483000  4109500   316970   3792500    8640          17650   \n1964-01-01   191141000  4564600   364220   4200400    9360          21420   \n\n            Robbery  Aggravated_assault  Burglary  Larceny_Theft  \\\nYear                                                               \n1960-01-01   107840              154320    912100        1855400   \n1961-01-01   106670              156760    949600        1913000   \n1962-01-01   110860              164570    994300        2089600   \n1963-01-01   116470              174210   1086400        2297800   \n1964-01-01   130390              203050   1213200        2514400   \n\n            Vehicle_Theft  \nYear                       \n1960-01-01         328200  \n1961-01-01         336000  \n1962-01-01         366800  \n1963-01-01         408300  \n1964-01-01         472800  ",
      "text/html": "<div>\n<style scoped>\n    .dataframe tbody tr th:only-of-type {\n        vertical-align: middle;\n    }\n\n    .dataframe tbody tr th {\n        vertical-align: top;\n    }\n\n    .dataframe thead th {\n        text-align: right;\n    }\n</style>\n<table border=\"1\" class=\"dataframe\">\n  <thead>\n    <tr style=\"text-align: right;\">\n      <th></th>\n      <th>Population</th>\n      <th>Total</th>\n      <th>Violent</th>\n      <th>Property</th>\n      <th>Murder</th>\n      <th>Forcible_Rape</th>\n      <th>Robbery</th>\n      <th>Aggravated_assault</th>\n      <th>Burglary</th>\n      <th>Larceny_Theft</th>\n      <th>Vehicle_Theft</th>\n    </tr>\n    <tr>\n      <th>Year</th>\n      <th></th>\n      <th></th>\n      <th></th>\n      <th></th>\n      <th></th>\n      <th></th>\n      <th></th>\n      <th></th>\n      <th></th>\n      <th></th>\n      <th></th>\n    </tr>\n  </thead>\n  <tbody>\n    <tr>\n      <th>1960-01-01</th>\n      <td>179323175</td>\n      <td>3384200</td>\n      <td>288460</td>\n      <td>3095700</td>\n      <td>9110</td>\n      <td>17190</td>\n      <td>107840</td>\n      <td>154320</td>\n      <td>912100</td>\n      <td>1855400</td>\n      <td>328200</td>\n    </tr>\n    <tr>\n      <th>1961-01-01</th>\n      <td>182992000</td>\n      <td>3488000</td>\n      <td>289390</td>\n      <td>3198600</td>\n      <td>8740</td>\n      <td>17220</td>\n      <td>106670</td>\n      <td>156760</td>\n      <td>949600</td>\n      <td>1913000</td>\n      <td>336000</td>\n    </tr>\n    <tr>\n      <th>1962-01-01</th>\n      <td>185771000</td>\n      <td>3752200</td>\n      <td>301510</td>\n      <td>3450700</td>\n      <td>8530</td>\n      <td>17550</td>\n      <td>110860</td>\n      <td>164570</td>\n      <td>994300</td>\n      <td>2089600</td>\n      <td>366800</td>\n    </tr>\n    <tr>\n      <th>1963-01-01</th>\n      <td>188483000</td>\n      <td>4109500</td>\n      <td>316970</td>\n      <td>3792500</td>\n      <td>8640</td>\n      <td>17650</td>\n      <td>116470</td>\n      <td>174210</td>\n      <td>1086400</td>\n      <td>2297800</td>\n      <td>408300</td>\n    </tr>\n    <tr>\n      <th>1964-01-01</th>\n      <td>191141000</td>\n      <td>4564600</td>\n      <td>364220</td>\n      <td>4200400</td>\n      <td>9360</td>\n      <td>21420</td>\n      <td>130390</td>\n      <td>203050</td>\n      <td>1213200</td>\n      <td>2514400</td>\n      <td>472800</td>\n    </tr>\n  </tbody>\n</table>\n</div>"
     },
     "metadata": {}
    }
   ]
  },
  {
   "cell_type": "code",
   "metadata": {
    "tags": [],
    "cell_id": "00018-74ae2db1-9219-494a-acc7-83ea9f2c5777",
    "deepnote_to_be_reexecuted": false,
    "source_hash": "f070dec8",
    "execution_start": 1640443984046,
    "execution_millis": 108,
    "deepnote_output_heights": [
     206
    ],
    "deepnote_cell_type": "code"
   },
   "source": "#Step 7. Delete the Total column\ndel crime['Total']\ncrime.head()",
   "execution_count": null,
   "outputs": [
    {
     "output_type": "execute_result",
     "execution_count": 17,
     "data": {
      "application/vnd.deepnote.dataframe.v3+json": {
       "column_count": 10,
       "row_count": 5,
       "columns": [
        {
         "name": "Population",
         "dtype": "int64",
         "stats": {
          "unique_count": 5,
          "nan_count": 0,
          "min": "179323175",
          "max": "191141000",
          "histogram": [
           {
            "bin_start": 179323175,
            "bin_end": 180504957.5,
            "count": 1
           },
           {
            "bin_start": 180504957.5,
            "bin_end": 181686740,
            "count": 0
           },
           {
            "bin_start": 181686740,
            "bin_end": 182868522.5,
            "count": 0
           },
           {
            "bin_start": 182868522.5,
            "bin_end": 184050305,
            "count": 1
           },
           {
            "bin_start": 184050305,
            "bin_end": 185232087.5,
            "count": 0
           },
           {
            "bin_start": 185232087.5,
            "bin_end": 186413870,
            "count": 1
           },
           {
            "bin_start": 186413870,
            "bin_end": 187595652.5,
            "count": 0
           },
           {
            "bin_start": 187595652.5,
            "bin_end": 188777435,
            "count": 1
           },
           {
            "bin_start": 188777435,
            "bin_end": 189959217.5,
            "count": 0
           },
           {
            "bin_start": 189959217.5,
            "bin_end": 191141000,
            "count": 1
           }
          ]
         }
        },
        {
         "name": "Violent",
         "dtype": "int64",
         "stats": {
          "unique_count": 5,
          "nan_count": 0,
          "min": "288460",
          "max": "364220",
          "histogram": [
           {
            "bin_start": 288460,
            "bin_end": 296036,
            "count": 2
           },
           {
            "bin_start": 296036,
            "bin_end": 303612,
            "count": 1
           },
           {
            "bin_start": 303612,
            "bin_end": 311188,
            "count": 0
           },
           {
            "bin_start": 311188,
            "bin_end": 318764,
            "count": 1
           },
           {
            "bin_start": 318764,
            "bin_end": 326340,
            "count": 0
           },
           {
            "bin_start": 326340,
            "bin_end": 333916,
            "count": 0
           },
           {
            "bin_start": 333916,
            "bin_end": 341492,
            "count": 0
           },
           {
            "bin_start": 341492,
            "bin_end": 349068,
            "count": 0
           },
           {
            "bin_start": 349068,
            "bin_end": 356644,
            "count": 0
           },
           {
            "bin_start": 356644,
            "bin_end": 364220,
            "count": 1
           }
          ]
         }
        },
        {
         "name": "Property",
         "dtype": "int64",
         "stats": {
          "unique_count": 5,
          "nan_count": 0,
          "min": "3095700",
          "max": "4200400",
          "histogram": [
           {
            "bin_start": 3095700,
            "bin_end": 3206170,
            "count": 2
           },
           {
            "bin_start": 3206170,
            "bin_end": 3316640,
            "count": 0
           },
           {
            "bin_start": 3316640,
            "bin_end": 3427110,
            "count": 0
           },
           {
            "bin_start": 3427110,
            "bin_end": 3537580,
            "count": 1
           },
           {
            "bin_start": 3537580,
            "bin_end": 3648050,
            "count": 0
           },
           {
            "bin_start": 3648050,
            "bin_end": 3758520,
            "count": 0
           },
           {
            "bin_start": 3758520,
            "bin_end": 3868990,
            "count": 1
           },
           {
            "bin_start": 3868990,
            "bin_end": 3979460,
            "count": 0
           },
           {
            "bin_start": 3979460,
            "bin_end": 4089930,
            "count": 0
           },
           {
            "bin_start": 4089930,
            "bin_end": 4200400,
            "count": 1
           }
          ]
         }
        },
        {
         "name": "Murder",
         "dtype": "int64",
         "stats": {
          "unique_count": 5,
          "nan_count": 0,
          "min": "8530",
          "max": "9360",
          "histogram": [
           {
            "bin_start": 8530,
            "bin_end": 8613,
            "count": 1
           },
           {
            "bin_start": 8613,
            "bin_end": 8696,
            "count": 1
           },
           {
            "bin_start": 8696,
            "bin_end": 8779,
            "count": 1
           },
           {
            "bin_start": 8779,
            "bin_end": 8862,
            "count": 0
           },
           {
            "bin_start": 8862,
            "bin_end": 8945,
            "count": 0
           },
           {
            "bin_start": 8945,
            "bin_end": 9028,
            "count": 0
           },
           {
            "bin_start": 9028,
            "bin_end": 9111,
            "count": 1
           },
           {
            "bin_start": 9111,
            "bin_end": 9194,
            "count": 0
           },
           {
            "bin_start": 9194,
            "bin_end": 9277,
            "count": 0
           },
           {
            "bin_start": 9277,
            "bin_end": 9360,
            "count": 1
           }
          ]
         }
        },
        {
         "name": "Forcible_Rape",
         "dtype": "int64",
         "stats": {
          "unique_count": 5,
          "nan_count": 0,
          "min": "17190",
          "max": "21420",
          "histogram": [
           {
            "bin_start": 17190,
            "bin_end": 17613,
            "count": 3
           },
           {
            "bin_start": 17613,
            "bin_end": 18036,
            "count": 1
           },
           {
            "bin_start": 18036,
            "bin_end": 18459,
            "count": 0
           },
           {
            "bin_start": 18459,
            "bin_end": 18882,
            "count": 0
           },
           {
            "bin_start": 18882,
            "bin_end": 19305,
            "count": 0
           },
           {
            "bin_start": 19305,
            "bin_end": 19728,
            "count": 0
           },
           {
            "bin_start": 19728,
            "bin_end": 20151,
            "count": 0
           },
           {
            "bin_start": 20151,
            "bin_end": 20574,
            "count": 0
           },
           {
            "bin_start": 20574,
            "bin_end": 20997,
            "count": 0
           },
           {
            "bin_start": 20997,
            "bin_end": 21420,
            "count": 1
           }
          ]
         }
        },
        {
         "name": "Robbery",
         "dtype": "int64",
         "stats": {
          "unique_count": 5,
          "nan_count": 0,
          "min": "106670",
          "max": "130390",
          "histogram": [
           {
            "bin_start": 106670,
            "bin_end": 109042,
            "count": 2
           },
           {
            "bin_start": 109042,
            "bin_end": 111414,
            "count": 1
           },
           {
            "bin_start": 111414,
            "bin_end": 113786,
            "count": 0
           },
           {
            "bin_start": 113786,
            "bin_end": 116158,
            "count": 0
           },
           {
            "bin_start": 116158,
            "bin_end": 118530,
            "count": 1
           },
           {
            "bin_start": 118530,
            "bin_end": 120902,
            "count": 0
           },
           {
            "bin_start": 120902,
            "bin_end": 123274,
            "count": 0
           },
           {
            "bin_start": 123274,
            "bin_end": 125646,
            "count": 0
           },
           {
            "bin_start": 125646,
            "bin_end": 128018,
            "count": 0
           },
           {
            "bin_start": 128018,
            "bin_end": 130390,
            "count": 1
           }
          ]
         }
        },
        {
         "name": "Aggravated_assault",
         "dtype": "int64",
         "stats": {
          "unique_count": 5,
          "nan_count": 0,
          "min": "154320",
          "max": "203050",
          "histogram": [
           {
            "bin_start": 154320,
            "bin_end": 159193,
            "count": 2
           },
           {
            "bin_start": 159193,
            "bin_end": 164066,
            "count": 0
           },
           {
            "bin_start": 164066,
            "bin_end": 168939,
            "count": 1
           },
           {
            "bin_start": 168939,
            "bin_end": 173812,
            "count": 0
           },
           {
            "bin_start": 173812,
            "bin_end": 178685,
            "count": 1
           },
           {
            "bin_start": 178685,
            "bin_end": 183558,
            "count": 0
           },
           {
            "bin_start": 183558,
            "bin_end": 188431,
            "count": 0
           },
           {
            "bin_start": 188431,
            "bin_end": 193304,
            "count": 0
           },
           {
            "bin_start": 193304,
            "bin_end": 198177,
            "count": 0
           },
           {
            "bin_start": 198177,
            "bin_end": 203050,
            "count": 1
           }
          ]
         }
        },
        {
         "name": "Burglary",
         "dtype": "int64",
         "stats": {
          "unique_count": 5,
          "nan_count": 0,
          "min": "912100",
          "max": "1213200",
          "histogram": [
           {
            "bin_start": 912100,
            "bin_end": 942210,
            "count": 1
           },
           {
            "bin_start": 942210,
            "bin_end": 972320,
            "count": 1
           },
           {
            "bin_start": 972320,
            "bin_end": 1002430,
            "count": 1
           },
           {
            "bin_start": 1002430,
            "bin_end": 1032540,
            "count": 0
           },
           {
            "bin_start": 1032540,
            "bin_end": 1062650,
            "count": 0
           },
           {
            "bin_start": 1062650,
            "bin_end": 1092760,
            "count": 1
           },
           {
            "bin_start": 1092760,
            "bin_end": 1122870,
            "count": 0
           },
           {
            "bin_start": 1122870,
            "bin_end": 1152980,
            "count": 0
           },
           {
            "bin_start": 1152980,
            "bin_end": 1183090,
            "count": 0
           },
           {
            "bin_start": 1183090,
            "bin_end": 1213200,
            "count": 1
           }
          ]
         }
        },
        {
         "name": "Larceny_Theft",
         "dtype": "int64",
         "stats": {
          "unique_count": 5,
          "nan_count": 0,
          "min": "1855400",
          "max": "2514400",
          "histogram": [
           {
            "bin_start": 1855400,
            "bin_end": 1921300,
            "count": 2
           },
           {
            "bin_start": 1921300,
            "bin_end": 1987200,
            "count": 0
           },
           {
            "bin_start": 1987200,
            "bin_end": 2053100,
            "count": 0
           },
           {
            "bin_start": 2053100,
            "bin_end": 2119000,
            "count": 1
           },
           {
            "bin_start": 2119000,
            "bin_end": 2184900,
            "count": 0
           },
           {
            "bin_start": 2184900,
            "bin_end": 2250800,
            "count": 0
           },
           {
            "bin_start": 2250800,
            "bin_end": 2316700,
            "count": 1
           },
           {
            "bin_start": 2316700,
            "bin_end": 2382600,
            "count": 0
           },
           {
            "bin_start": 2382600,
            "bin_end": 2448500,
            "count": 0
           },
           {
            "bin_start": 2448500,
            "bin_end": 2514400,
            "count": 1
           }
          ]
         }
        },
        {
         "name": "Vehicle_Theft",
         "dtype": "int64",
         "stats": {
          "unique_count": 5,
          "nan_count": 0,
          "min": "328200",
          "max": "472800",
          "histogram": [
           {
            "bin_start": 328200,
            "bin_end": 342660,
            "count": 2
           },
           {
            "bin_start": 342660,
            "bin_end": 357120,
            "count": 0
           },
           {
            "bin_start": 357120,
            "bin_end": 371580,
            "count": 1
           },
           {
            "bin_start": 371580,
            "bin_end": 386040,
            "count": 0
           },
           {
            "bin_start": 386040,
            "bin_end": 400500,
            "count": 0
           },
           {
            "bin_start": 400500,
            "bin_end": 414960,
            "count": 1
           },
           {
            "bin_start": 414960,
            "bin_end": 429420,
            "count": 0
           },
           {
            "bin_start": 429420,
            "bin_end": 443880,
            "count": 0
           },
           {
            "bin_start": 443880,
            "bin_end": 458340,
            "count": 0
           },
           {
            "bin_start": 458340,
            "bin_end": 472800,
            "count": 1
           }
          ]
         }
        },
        {
         "name": "_deepnote_index_column",
         "dtype": "datetime64[ns]"
        }
       ],
       "rows": [
        {
         "Population": 179323175,
         "Violent": 288460,
         "Property": 3095700,
         "Murder": 9110,
         "Forcible_Rape": 17190,
         "Robbery": 107840,
         "Aggravated_assault": 154320,
         "Burglary": 912100,
         "Larceny_Theft": 1855400,
         "Vehicle_Theft": 328200,
         "_deepnote_index_column": "1960-01-01T00:00:00.000000"
        },
        {
         "Population": 182992000,
         "Violent": 289390,
         "Property": 3198600,
         "Murder": 8740,
         "Forcible_Rape": 17220,
         "Robbery": 106670,
         "Aggravated_assault": 156760,
         "Burglary": 949600,
         "Larceny_Theft": 1913000,
         "Vehicle_Theft": 336000,
         "_deepnote_index_column": "1961-01-01T00:00:00.000000"
        },
        {
         "Population": 185771000,
         "Violent": 301510,
         "Property": 3450700,
         "Murder": 8530,
         "Forcible_Rape": 17550,
         "Robbery": 110860,
         "Aggravated_assault": 164570,
         "Burglary": 994300,
         "Larceny_Theft": 2089600,
         "Vehicle_Theft": 366800,
         "_deepnote_index_column": "1962-01-01T00:00:00.000000"
        },
        {
         "Population": 188483000,
         "Violent": 316970,
         "Property": 3792500,
         "Murder": 8640,
         "Forcible_Rape": 17650,
         "Robbery": 116470,
         "Aggravated_assault": 174210,
         "Burglary": 1086400,
         "Larceny_Theft": 2297800,
         "Vehicle_Theft": 408300,
         "_deepnote_index_column": "1963-01-01T00:00:00.000000"
        },
        {
         "Population": 191141000,
         "Violent": 364220,
         "Property": 4200400,
         "Murder": 9360,
         "Forcible_Rape": 21420,
         "Robbery": 130390,
         "Aggravated_assault": 203050,
         "Burglary": 1213200,
         "Larceny_Theft": 2514400,
         "Vehicle_Theft": 472800,
         "_deepnote_index_column": "1964-01-01T00:00:00.000000"
        }
       ]
      },
      "text/plain": "            Population  Violent  Property  Murder  Forcible_Rape  Robbery  \\\nYear                                                                        \n1960-01-01   179323175   288460   3095700    9110          17190   107840   \n1961-01-01   182992000   289390   3198600    8740          17220   106670   \n1962-01-01   185771000   301510   3450700    8530          17550   110860   \n1963-01-01   188483000   316970   3792500    8640          17650   116470   \n1964-01-01   191141000   364220   4200400    9360          21420   130390   \n\n            Aggravated_assault  Burglary  Larceny_Theft  Vehicle_Theft  \nYear                                                                    \n1960-01-01              154320    912100        1855400         328200  \n1961-01-01              156760    949600        1913000         336000  \n1962-01-01              164570    994300        2089600         366800  \n1963-01-01              174210   1086400        2297800         408300  \n1964-01-01              203050   1213200        2514400         472800  ",
      "text/html": "<div>\n<style scoped>\n    .dataframe tbody tr th:only-of-type {\n        vertical-align: middle;\n    }\n\n    .dataframe tbody tr th {\n        vertical-align: top;\n    }\n\n    .dataframe thead th {\n        text-align: right;\n    }\n</style>\n<table border=\"1\" class=\"dataframe\">\n  <thead>\n    <tr style=\"text-align: right;\">\n      <th></th>\n      <th>Population</th>\n      <th>Violent</th>\n      <th>Property</th>\n      <th>Murder</th>\n      <th>Forcible_Rape</th>\n      <th>Robbery</th>\n      <th>Aggravated_assault</th>\n      <th>Burglary</th>\n      <th>Larceny_Theft</th>\n      <th>Vehicle_Theft</th>\n    </tr>\n    <tr>\n      <th>Year</th>\n      <th></th>\n      <th></th>\n      <th></th>\n      <th></th>\n      <th></th>\n      <th></th>\n      <th></th>\n      <th></th>\n      <th></th>\n      <th></th>\n    </tr>\n  </thead>\n  <tbody>\n    <tr>\n      <th>1960-01-01</th>\n      <td>179323175</td>\n      <td>288460</td>\n      <td>3095700</td>\n      <td>9110</td>\n      <td>17190</td>\n      <td>107840</td>\n      <td>154320</td>\n      <td>912100</td>\n      <td>1855400</td>\n      <td>328200</td>\n    </tr>\n    <tr>\n      <th>1961-01-01</th>\n      <td>182992000</td>\n      <td>289390</td>\n      <td>3198600</td>\n      <td>8740</td>\n      <td>17220</td>\n      <td>106670</td>\n      <td>156760</td>\n      <td>949600</td>\n      <td>1913000</td>\n      <td>336000</td>\n    </tr>\n    <tr>\n      <th>1962-01-01</th>\n      <td>185771000</td>\n      <td>301510</td>\n      <td>3450700</td>\n      <td>8530</td>\n      <td>17550</td>\n      <td>110860</td>\n      <td>164570</td>\n      <td>994300</td>\n      <td>2089600</td>\n      <td>366800</td>\n    </tr>\n    <tr>\n      <th>1963-01-01</th>\n      <td>188483000</td>\n      <td>316970</td>\n      <td>3792500</td>\n      <td>8640</td>\n      <td>17650</td>\n      <td>116470</td>\n      <td>174210</td>\n      <td>1086400</td>\n      <td>2297800</td>\n      <td>408300</td>\n    </tr>\n    <tr>\n      <th>1964-01-01</th>\n      <td>191141000</td>\n      <td>364220</td>\n      <td>4200400</td>\n      <td>9360</td>\n      <td>21420</td>\n      <td>130390</td>\n      <td>203050</td>\n      <td>1213200</td>\n      <td>2514400</td>\n      <td>472800</td>\n    </tr>\n  </tbody>\n</table>\n</div>"
     },
     "metadata": {}
    }
   ]
  },
  {
   "cell_type": "code",
   "metadata": {
    "tags": [],
    "cell_id": "00019-01a8dc72-caa2-4c7f-8607-c873ed55f46b",
    "deepnote_to_be_reexecuted": false,
    "source_hash": "fd09a2d8",
    "execution_start": 1640444368802,
    "execution_millis": 111,
    "deepnote_cell_type": "code"
   },
   "source": "#Step 8. Group the year by decades and sum the values\n# Uses resample to sum each decade\ncrimes = crime.resample('10AS').sum()\n\n# Uses resample to get the max value only for the \"Population\" column\npopulation = crime['Population'].resample('10AS').max()\n\n# Updating the \"Population\" column\ncrimes['Population'] = population\n\ncrimes.head()",
   "execution_count": null,
   "outputs": [
    {
     "output_type": "execute_result",
     "execution_count": 18,
     "data": {
      "application/vnd.deepnote.dataframe.v3+json": {
       "column_count": 10,
       "row_count": 5,
       "columns": [
        {
         "name": "Population",
         "dtype": "int64",
         "stats": {
          "unique_count": 5,
          "nan_count": 0,
          "min": "201385000",
          "max": "307006550",
          "histogram": [
           {
            "bin_start": 201385000,
            "bin_end": 211947155,
            "count": 1
           },
           {
            "bin_start": 211947155,
            "bin_end": 222509310,
            "count": 1
           },
           {
            "bin_start": 222509310,
            "bin_end": 233071465,
            "count": 0
           },
           {
            "bin_start": 233071465,
            "bin_end": 243633620,
            "count": 0
           },
           {
            "bin_start": 243633620,
            "bin_end": 254195775,
            "count": 1
           },
           {
            "bin_start": 254195775,
            "bin_end": 264757930,
            "count": 0
           },
           {
            "bin_start": 264757930,
            "bin_end": 275320085,
            "count": 1
           },
           {
            "bin_start": 275320085,
            "bin_end": 285882240,
            "count": 0
           },
           {
            "bin_start": 285882240,
            "bin_end": 296444395,
            "count": 0
           },
           {
            "bin_start": 296444395,
            "bin_end": 307006550,
            "count": 1
           }
          ]
         }
        },
        {
         "name": "Violent",
         "dtype": "int64",
         "stats": {
          "unique_count": 5,
          "nan_count": 0,
          "min": "4134930",
          "max": "17527048",
          "histogram": [
           {
            "bin_start": 4134930,
            "bin_end": 5474141.8,
            "count": 1
           },
           {
            "bin_start": 5474141.8,
            "bin_end": 6813353.6,
            "count": 0
           },
           {
            "bin_start": 6813353.6,
            "bin_end": 8152565.4,
            "count": 0
           },
           {
            "bin_start": 8152565.4,
            "bin_end": 9491777.2,
            "count": 0
           },
           {
            "bin_start": 9491777.2,
            "bin_end": 10830989,
            "count": 1
           },
           {
            "bin_start": 10830989,
            "bin_end": 12170200.8,
            "count": 0
           },
           {
            "bin_start": 12170200.8,
            "bin_end": 13509412.6,
            "count": 0
           },
           {
            "bin_start": 13509412.6,
            "bin_end": 14848624.4,
            "count": 2
           },
           {
            "bin_start": 14848624.4,
            "bin_end": 16187836.200000001,
            "count": 0
           },
           {
            "bin_start": 16187836.200000001,
            "bin_end": 17527048,
            "count": 1
           }
          ]
         }
        },
        {
         "name": "Property",
         "dtype": "int64",
         "stats": {
          "unique_count": 5,
          "nan_count": 0,
          "min": "45160900",
          "max": "119053499",
          "histogram": [
           {
            "bin_start": 45160900,
            "bin_end": 52550159.9,
            "count": 1
           },
           {
            "bin_start": 52550159.9,
            "bin_end": 59939419.8,
            "count": 0
           },
           {
            "bin_start": 59939419.8,
            "bin_end": 67328679.7,
            "count": 0
           },
           {
            "bin_start": 67328679.7,
            "bin_end": 74717939.6,
            "count": 0
           },
           {
            "bin_start": 74717939.6,
            "bin_end": 82107199.5,
            "count": 0
           },
           {
            "bin_start": 82107199.5,
            "bin_end": 89496459.4,
            "count": 0
           },
           {
            "bin_start": 89496459.4,
            "bin_end": 96885719.30000001,
            "count": 1
           },
           {
            "bin_start": 96885719.30000001,
            "bin_end": 104274979.2,
            "count": 1
           },
           {
            "bin_start": 104274979.2,
            "bin_end": 111664239.1,
            "count": 0
           },
           {
            "bin_start": 111664239.1,
            "bin_end": 119053499,
            "count": 2
           }
          ]
         }
        },
        {
         "name": "Murder",
         "dtype": "int64",
         "stats": {
          "unique_count": 5,
          "nan_count": 0,
          "min": "106180",
          "max": "211664",
          "histogram": [
           {
            "bin_start": 106180,
            "bin_end": 116728.4,
            "count": 1
           },
           {
            "bin_start": 116728.4,
            "bin_end": 127276.8,
            "count": 0
           },
           {
            "bin_start": 127276.8,
            "bin_end": 137825.2,
            "count": 0
           },
           {
            "bin_start": 137825.2,
            "bin_end": 148373.6,
            "count": 0
           },
           {
            "bin_start": 148373.6,
            "bin_end": 158922,
            "count": 0
           },
           {
            "bin_start": 158922,
            "bin_end": 169470.4,
            "count": 1
           },
           {
            "bin_start": 169470.4,
            "bin_end": 180018.8,
            "count": 0
           },
           {
            "bin_start": 180018.8,
            "bin_end": 190567.2,
            "count": 0
           },
           {
            "bin_start": 190567.2,
            "bin_end": 201115.59999999998,
            "count": 1
           },
           {
            "bin_start": 201115.59999999998,
            "bin_end": 211664,
            "count": 2
           }
          ]
         }
        },
        {
         "name": "Forcible_Rape",
         "dtype": "int64",
         "stats": {
          "unique_count": 5,
          "nan_count": 0,
          "min": "236720",
          "max": "998827",
          "histogram": [
           {
            "bin_start": 236720,
            "bin_end": 312930.7,
            "count": 1
           },
           {
            "bin_start": 312930.7,
            "bin_end": 389141.4,
            "count": 0
           },
           {
            "bin_start": 389141.4,
            "bin_end": 465352.1,
            "count": 0
           },
           {
            "bin_start": 465352.1,
            "bin_end": 541562.8,
            "count": 0
           },
           {
            "bin_start": 541562.8,
            "bin_end": 617773.5,
            "count": 1
           },
           {
            "bin_start": 617773.5,
            "bin_end": 693984.2,
            "count": 0
           },
           {
            "bin_start": 693984.2,
            "bin_end": 770194.9,
            "count": 0
           },
           {
            "bin_start": 770194.9,
            "bin_end": 846405.6,
            "count": 0
           },
           {
            "bin_start": 846405.6,
            "bin_end": 922616.2999999999,
            "count": 2
           },
           {
            "bin_start": 922616.2999999999,
            "bin_end": 998827,
            "count": 1
           }
          ]
         }
        },
        {
         "name": "Robbery",
         "dtype": "int64",
         "stats": {
          "unique_count": 5,
          "nan_count": 0,
          "min": "1633510",
          "max": "5748930",
          "histogram": [
           {
            "bin_start": 1633510,
            "bin_end": 2045052,
            "count": 1
           },
           {
            "bin_start": 2045052,
            "bin_end": 2456594,
            "count": 0
           },
           {
            "bin_start": 2456594,
            "bin_end": 2868136,
            "count": 0
           },
           {
            "bin_start": 2868136,
            "bin_end": 3279678,
            "count": 0
           },
           {
            "bin_start": 3279678,
            "bin_end": 3691220,
            "count": 0
           },
           {
            "bin_start": 3691220,
            "bin_end": 4102762,
            "count": 0
           },
           {
            "bin_start": 4102762,
            "bin_end": 4514304,
            "count": 2
           },
           {
            "bin_start": 4514304,
            "bin_end": 4925846,
            "count": 0
           },
           {
            "bin_start": 4925846,
            "bin_end": 5337388,
            "count": 0
           },
           {
            "bin_start": 5337388,
            "bin_end": 5748930,
            "count": 2
           }
          ]
         }
        },
        {
         "name": "Aggravated_assault",
         "dtype": "int64",
         "stats": {
          "unique_count": 5,
          "nan_count": 0,
          "min": "2158520",
          "max": "10568963",
          "histogram": [
           {
            "bin_start": 2158520,
            "bin_end": 2999564.3,
            "count": 1
           },
           {
            "bin_start": 2999564.3,
            "bin_end": 3840608.6,
            "count": 0
           },
           {
            "bin_start": 3840608.6,
            "bin_end": 4681652.9,
            "count": 0
           },
           {
            "bin_start": 4681652.9,
            "bin_end": 5522697.2,
            "count": 1
           },
           {
            "bin_start": 5522697.2,
            "bin_end": 6363741.5,
            "count": 0
           },
           {
            "bin_start": 6363741.5,
            "bin_end": 7204785.800000001,
            "count": 0
           },
           {
            "bin_start": 7204785.800000001,
            "bin_end": 8045830.100000001,
            "count": 1
           },
           {
            "bin_start": 8045830.100000001,
            "bin_end": 8886874.4,
            "count": 1
           },
           {
            "bin_start": 8886874.4,
            "bin_end": 9727918.7,
            "count": 0
           },
           {
            "bin_start": 9727918.7,
            "bin_end": 10568963,
            "count": 1
           }
          ]
         }
        },
        {
         "name": "Burglary",
         "dtype": "int64",
         "stats": {
          "unique_count": 5,
          "nan_count": 0,
          "min": "13321100",
          "max": "33073494",
          "histogram": [
           {
            "bin_start": 13321100,
            "bin_end": 15296339.4,
            "count": 1
           },
           {
            "bin_start": 15296339.4,
            "bin_end": 17271578.8,
            "count": 0
           },
           {
            "bin_start": 17271578.8,
            "bin_end": 19246818.2,
            "count": 0
           },
           {
            "bin_start": 19246818.2,
            "bin_end": 21222057.6,
            "count": 0
           },
           {
            "bin_start": 21222057.6,
            "bin_end": 23197297,
            "count": 1
           },
           {
            "bin_start": 23197297,
            "bin_end": 25172536.4,
            "count": 0
           },
           {
            "bin_start": 25172536.4,
            "bin_end": 27147775.799999997,
            "count": 1
           },
           {
            "bin_start": 27147775.799999997,
            "bin_end": 29123015.2,
            "count": 1
           },
           {
            "bin_start": 29123015.2,
            "bin_end": 31098254.599999998,
            "count": 0
           },
           {
            "bin_start": 31098254.599999998,
            "bin_end": 33073494,
            "count": 1
           }
          ]
         }
        },
        {
         "name": "Larceny_Theft",
         "dtype": "int64",
         "stats": {
          "unique_count": 5,
          "nan_count": 0,
          "min": "26547700",
          "max": "77679366",
          "histogram": [
           {
            "bin_start": 26547700,
            "bin_end": 31660866.6,
            "count": 1
           },
           {
            "bin_start": 31660866.6,
            "bin_end": 36774033.2,
            "count": 0
           },
           {
            "bin_start": 36774033.2,
            "bin_end": 41887199.8,
            "count": 0
           },
           {
            "bin_start": 41887199.8,
            "bin_end": 47000366.4,
            "count": 0
           },
           {
            "bin_start": 47000366.4,
            "bin_end": 52113533,
            "count": 0
           },
           {
            "bin_start": 52113533,
            "bin_end": 57226699.599999994,
            "count": 1
           },
           {
            "bin_start": 57226699.599999994,
            "bin_end": 62339866.199999996,
            "count": 0
           },
           {
            "bin_start": 62339866.199999996,
            "bin_end": 67453032.8,
            "count": 0
           },
           {
            "bin_start": 67453032.8,
            "bin_end": 72566199.4,
            "count": 2
           },
           {
            "bin_start": 72566199.4,
            "bin_end": 77679366,
            "count": 1
           }
          ]
         }
        },
        {
         "name": "Vehicle_Theft",
         "dtype": "int64",
         "stats": {
          "unique_count": 5,
          "nan_count": 0,
          "min": "5292100",
          "max": "14624418",
          "histogram": [
           {
            "bin_start": 5292100,
            "bin_end": 6225331.8,
            "count": 1
           },
           {
            "bin_start": 6225331.8,
            "bin_end": 7158563.6,
            "count": 0
           },
           {
            "bin_start": 7158563.6,
            "bin_end": 8091795.4,
            "count": 0
           },
           {
            "bin_start": 8091795.4,
            "bin_end": 9025027.2,
            "count": 0
           },
           {
            "bin_start": 9025027.2,
            "bin_end": 9958259,
            "count": 1
           },
           {
            "bin_start": 9958259,
            "bin_end": 10891490.8,
            "count": 0
           },
           {
            "bin_start": 10891490.8,
            "bin_end": 11824722.600000001,
            "count": 1
           },
           {
            "bin_start": 11824722.600000001,
            "bin_end": 12757954.4,
            "count": 1
           },
           {
            "bin_start": 12757954.4,
            "bin_end": 13691186.200000001,
            "count": 0
           },
           {
            "bin_start": 13691186.200000001,
            "bin_end": 14624418,
            "count": 1
           }
          ]
         }
        },
        {
         "name": "_deepnote_index_column",
         "dtype": "datetime64[ns]"
        }
       ],
       "rows": [
        {
         "Population": 201385000,
         "Violent": 4134930,
         "Property": 45160900,
         "Murder": 106180,
         "Forcible_Rape": 236720,
         "Robbery": 1633510,
         "Aggravated_assault": 2158520,
         "Burglary": 13321100,
         "Larceny_Theft": 26547700,
         "Vehicle_Theft": 5292100,
         "_deepnote_index_column": "1960-01-01T00:00:00.000000"
        },
        {
         "Population": 220099000,
         "Violent": 9607930,
         "Property": 91383800,
         "Murder": 192230,
         "Forcible_Rape": 554570,
         "Robbery": 4159020,
         "Aggravated_assault": 4702120,
         "Burglary": 28486000,
         "Larceny_Theft": 53157800,
         "Vehicle_Theft": 9739900,
         "_deepnote_index_column": "1970-01-01T00:00:00.000000"
        },
        {
         "Population": 248239000,
         "Violent": 14074328,
         "Property": 117048900,
         "Murder": 206439,
         "Forcible_Rape": 865639,
         "Robbery": 5383109,
         "Aggravated_assault": 7619130,
         "Burglary": 33073494,
         "Larceny_Theft": 72040253,
         "Vehicle_Theft": 11935411,
         "_deepnote_index_column": "1980-01-01T00:00:00.000000"
        },
        {
         "Population": 272690813,
         "Violent": 17527048,
         "Property": 119053499,
         "Murder": 211664,
         "Forcible_Rape": 998827,
         "Robbery": 5748930,
         "Aggravated_assault": 10568963,
         "Burglary": 26750015,
         "Larceny_Theft": 77679366,
         "Vehicle_Theft": 14624418,
         "_deepnote_index_column": "1990-01-01T00:00:00.000000"
        },
        {
         "Population": 307006550,
         "Violent": 13968056,
         "Property": 100944369,
         "Murder": 163068,
         "Forcible_Rape": 922499,
         "Robbery": 4230366,
         "Aggravated_assault": 8652124,
         "Burglary": 21565176,
         "Larceny_Theft": 67970291,
         "Vehicle_Theft": 11412834,
         "_deepnote_index_column": "2000-01-01T00:00:00.000000"
        }
       ]
      },
      "text/plain": "            Population   Violent   Property  Murder  Forcible_Rape  Robbery  \\\nYear                                                                          \n1960-01-01   201385000   4134930   45160900  106180         236720  1633510   \n1970-01-01   220099000   9607930   91383800  192230         554570  4159020   \n1980-01-01   248239000  14074328  117048900  206439         865639  5383109   \n1990-01-01   272690813  17527048  119053499  211664         998827  5748930   \n2000-01-01   307006550  13968056  100944369  163068         922499  4230366   \n\n            Aggravated_assault  Burglary  Larceny_Theft  Vehicle_Theft  \nYear                                                                    \n1960-01-01             2158520  13321100       26547700        5292100  \n1970-01-01             4702120  28486000       53157800        9739900  \n1980-01-01             7619130  33073494       72040253       11935411  \n1990-01-01            10568963  26750015       77679366       14624418  \n2000-01-01             8652124  21565176       67970291       11412834  ",
      "text/html": "<div>\n<style scoped>\n    .dataframe tbody tr th:only-of-type {\n        vertical-align: middle;\n    }\n\n    .dataframe tbody tr th {\n        vertical-align: top;\n    }\n\n    .dataframe thead th {\n        text-align: right;\n    }\n</style>\n<table border=\"1\" class=\"dataframe\">\n  <thead>\n    <tr style=\"text-align: right;\">\n      <th></th>\n      <th>Population</th>\n      <th>Violent</th>\n      <th>Property</th>\n      <th>Murder</th>\n      <th>Forcible_Rape</th>\n      <th>Robbery</th>\n      <th>Aggravated_assault</th>\n      <th>Burglary</th>\n      <th>Larceny_Theft</th>\n      <th>Vehicle_Theft</th>\n    </tr>\n    <tr>\n      <th>Year</th>\n      <th></th>\n      <th></th>\n      <th></th>\n      <th></th>\n      <th></th>\n      <th></th>\n      <th></th>\n      <th></th>\n      <th></th>\n      <th></th>\n    </tr>\n  </thead>\n  <tbody>\n    <tr>\n      <th>1960-01-01</th>\n      <td>201385000</td>\n      <td>4134930</td>\n      <td>45160900</td>\n      <td>106180</td>\n      <td>236720</td>\n      <td>1633510</td>\n      <td>2158520</td>\n      <td>13321100</td>\n      <td>26547700</td>\n      <td>5292100</td>\n    </tr>\n    <tr>\n      <th>1970-01-01</th>\n      <td>220099000</td>\n      <td>9607930</td>\n      <td>91383800</td>\n      <td>192230</td>\n      <td>554570</td>\n      <td>4159020</td>\n      <td>4702120</td>\n      <td>28486000</td>\n      <td>53157800</td>\n      <td>9739900</td>\n    </tr>\n    <tr>\n      <th>1980-01-01</th>\n      <td>248239000</td>\n      <td>14074328</td>\n      <td>117048900</td>\n      <td>206439</td>\n      <td>865639</td>\n      <td>5383109</td>\n      <td>7619130</td>\n      <td>33073494</td>\n      <td>72040253</td>\n      <td>11935411</td>\n    </tr>\n    <tr>\n      <th>1990-01-01</th>\n      <td>272690813</td>\n      <td>17527048</td>\n      <td>119053499</td>\n      <td>211664</td>\n      <td>998827</td>\n      <td>5748930</td>\n      <td>10568963</td>\n      <td>26750015</td>\n      <td>77679366</td>\n      <td>14624418</td>\n    </tr>\n    <tr>\n      <th>2000-01-01</th>\n      <td>307006550</td>\n      <td>13968056</td>\n      <td>100944369</td>\n      <td>163068</td>\n      <td>922499</td>\n      <td>4230366</td>\n      <td>8652124</td>\n      <td>21565176</td>\n      <td>67970291</td>\n      <td>11412834</td>\n    </tr>\n  </tbody>\n</table>\n</div>"
     },
     "metadata": {}
    }
   ]
  },
  {
   "cell_type": "code",
   "metadata": {
    "tags": [],
    "cell_id": "00020-e24449c8-0e5e-40b8-bca7-3e11d44e17ba",
    "deepnote_to_be_reexecuted": false,
    "source_hash": "8809775",
    "execution_start": 1640444456191,
    "execution_millis": 140,
    "deepnote_output_heights": [
     213.171875
    ],
    "deepnote_cell_type": "code"
   },
   "source": "#Step 9. What is the most dangerous decade to live in the US?\ncrimes.idxmax(0)",
   "execution_count": null,
   "outputs": [
    {
     "output_type": "execute_result",
     "execution_count": 20,
     "data": {
      "text/plain": "Population           2010-01-01\nViolent              1990-01-01\nProperty             1990-01-01\nMurder               1990-01-01\nForcible_Rape        1990-01-01\nRobbery              1990-01-01\nAggravated_assault   1990-01-01\nBurglary             1980-01-01\nLarceny_Theft        1990-01-01\nVehicle_Theft        1990-01-01\ndtype: datetime64[ns]"
     },
     "metadata": {}
    }
   ]
  },
  {
   "cell_type": "code",
   "metadata": {
    "tags": [],
    "cell_id": "00021-4d035228-3b4f-4091-9ebd-c656342d325b",
    "deepnote_cell_type": "code"
   },
   "source": "",
   "execution_count": null,
   "outputs": []
  },
  {
   "cell_type": "markdown",
   "source": "<a style='text-decoration:none;line-height:16px;display:flex;color:#5B5B62;padding:10px;justify-content:end;' href='https://deepnote.com?utm_source=created-in-deepnote-cell&projectId=45c49efa-db65-4a6b-8257-e14d42e76b9f' target=\"_blank\">\n<img alt='Created in deepnote.com' style='display:inline;max-height:16px;margin:0px;margin-right:7.5px;' src='data:image/svg+xml;base64,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' > </img>\nCreated in <span style='font-weight:600;margin-left:4px;'>Deepnote</span></a>",
   "metadata": {
    "tags": [],
    "created_in_deepnote_cell": true,
    "deepnote_cell_type": "markdown"
   }
  }
 ],
 "nbformat": 4,
 "nbformat_minor": 2,
 "metadata": {
  "orig_nbformat": 2,
  "deepnote": {
   "is_reactive": false
  },
  "deepnote_notebook_id": "ab150e87-5da4-4535-af2e-6ed257c54555",
  "deepnote_execution_queue": []
 }
}