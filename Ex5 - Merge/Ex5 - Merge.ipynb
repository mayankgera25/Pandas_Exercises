{
 "cells": [
  {
   "cell_type": "code",
   "metadata": {
    "tags": [],
    "cell_id": "00000-0c03301a-0509-4a3b-9cde-89d5302b5c29",
    "deepnote_cell_type": "code"
   },
   "source": "# Start writing code here...",
   "execution_count": null,
   "outputs": []
  },
  {
   "cell_type": "markdown",
   "source": "# MPG Cars",
   "metadata": {
    "tags": [],
    "is_collapsed": false,
    "cell_id": "00001-7bd3aa3d-8b55-47dd-a084-db24e323c3cf",
    "deepnote_cell_type": "text-cell-h1"
   }
  },
  {
   "cell_type": "code",
   "source": "import pandas as pd\nimport numpy as np",
   "metadata": {
    "tags": [],
    "cell_id": "00002-33102a5f-a9dc-4b63-9720-79ed8e6f1c61",
    "deepnote_to_be_reexecuted": false,
    "source_hash": "c76c7c51",
    "execution_start": 1640453247914,
    "execution_millis": 3,
    "deepnote_cell_type": "code"
   },
   "outputs": [],
   "execution_count": null
  },
  {
   "cell_type": "code",
   "source": "cars1 = pd.read_csv(\"https://raw.githubusercontent.com/guipsamora/pandas_exercises/master/05_Merge/Auto_MPG/cars1.csv\")\ncars2 = pd.read_csv(\"https://raw.githubusercontent.com/guipsamora/pandas_exercises/master/05_Merge/Auto_MPG/cars2.csv\")\n\nprint(cars1.head())\nprint(cars2.head())",
   "metadata": {
    "tags": [],
    "cell_id": "00003-7610412e-3d33-4cf8-a620-26e36dde0e6e",
    "deepnote_to_be_reexecuted": false,
    "source_hash": "caaf68bd",
    "execution_start": 1640453267260,
    "execution_millis": 318,
    "deepnote_cell_type": "code"
   },
   "outputs": [
    {
     "name": "stdout",
     "text": "    mpg  cylinders  displacement horsepower  weight  acceleration  model  \\\n0  18.0          8           307        130    3504          12.0     70   \n1  15.0          8           350        165    3693          11.5     70   \n2  18.0          8           318        150    3436          11.0     70   \n3  16.0          8           304        150    3433          12.0     70   \n4  17.0          8           302        140    3449          10.5     70   \n\n   origin                        car  Unnamed: 9  Unnamed: 10  Unnamed: 11  \\\n0       1  chevrolet chevelle malibu         NaN          NaN          NaN   \n1       1          buick skylark 320         NaN          NaN          NaN   \n2       1         plymouth satellite         NaN          NaN          NaN   \n3       1              amc rebel sst         NaN          NaN          NaN   \n4       1                ford torino         NaN          NaN          NaN   \n\n   Unnamed: 12  Unnamed: 13  \n0          NaN          NaN  \n1          NaN          NaN  \n2          NaN          NaN  \n3          NaN          NaN  \n4          NaN          NaN  \n    mpg  cylinders  displacement horsepower  weight  acceleration  model  \\\n0  33.0          4            91         53    1795          17.4     76   \n1  20.0          6           225        100    3651          17.7     76   \n2  18.0          6           250         78    3574          21.0     76   \n3  18.5          6           250        110    3645          16.2     76   \n4  17.5          6           258         95    3193          17.8     76   \n\n   origin                 car  \n0       3         honda civic  \n1       1      dodge aspen se  \n2       1   ford granada ghia  \n3       1  pontiac ventura sj  \n4       1       amc pacer d/l  \n",
     "output_type": "stream",
     "data": {}
    }
   ],
   "execution_count": null
  },
  {
   "cell_type": "code",
   "source": "#Step 4. Oops, it seems our first dataset has some unnamed blank columns, fix cars1\ncars1.dropna(axis=1, how='all', inplace=True)\ncars1.head()",
   "metadata": {
    "tags": [],
    "cell_id": "00004-c21112d8-2352-477b-8c4a-d44335aa068b",
    "deepnote_to_be_reexecuted": false,
    "source_hash": "451677f4",
    "execution_start": 1640453476576,
    "execution_millis": 229,
    "deepnote_output_heights": [
     177
    ],
    "deepnote_cell_type": "code"
   },
   "outputs": [
    {
     "output_type": "execute_result",
     "execution_count": 3,
     "data": {
      "application/vnd.deepnote.dataframe.v3+json": {
       "column_count": 9,
       "row_count": 5,
       "columns": [
        {
         "name": "mpg",
         "dtype": "float64",
         "stats": {
          "unique_count": 4,
          "nan_count": 0,
          "min": "15.0",
          "max": "18.0",
          "histogram": [
           {
            "bin_start": 15,
            "bin_end": 15.3,
            "count": 1
           },
           {
            "bin_start": 15.3,
            "bin_end": 15.6,
            "count": 0
           },
           {
            "bin_start": 15.6,
            "bin_end": 15.9,
            "count": 0
           },
           {
            "bin_start": 15.9,
            "bin_end": 16.2,
            "count": 1
           },
           {
            "bin_start": 16.2,
            "bin_end": 16.5,
            "count": 0
           },
           {
            "bin_start": 16.5,
            "bin_end": 16.8,
            "count": 0
           },
           {
            "bin_start": 16.8,
            "bin_end": 17.1,
            "count": 1
           },
           {
            "bin_start": 17.1,
            "bin_end": 17.4,
            "count": 0
           },
           {
            "bin_start": 17.4,
            "bin_end": 17.7,
            "count": 0
           },
           {
            "bin_start": 17.7,
            "bin_end": 18,
            "count": 2
           }
          ]
         }
        },
        {
         "name": "cylinders",
         "dtype": "int64",
         "stats": {
          "unique_count": 1,
          "nan_count": 0,
          "min": "8",
          "max": "8",
          "histogram": [
           {
            "bin_start": 7.5,
            "bin_end": 7.6,
            "count": 0
           },
           {
            "bin_start": 7.6,
            "bin_end": 7.7,
            "count": 0
           },
           {
            "bin_start": 7.7,
            "bin_end": 7.8,
            "count": 0
           },
           {
            "bin_start": 7.8,
            "bin_end": 7.9,
            "count": 0
           },
           {
            "bin_start": 7.9,
            "bin_end": 8,
            "count": 0
           },
           {
            "bin_start": 8,
            "bin_end": 8.1,
            "count": 5
           },
           {
            "bin_start": 8.1,
            "bin_end": 8.2,
            "count": 0
           },
           {
            "bin_start": 8.2,
            "bin_end": 8.3,
            "count": 0
           },
           {
            "bin_start": 8.3,
            "bin_end": 8.4,
            "count": 0
           },
           {
            "bin_start": 8.4,
            "bin_end": 8.5,
            "count": 0
           }
          ]
         }
        },
        {
         "name": "displacement",
         "dtype": "int64",
         "stats": {
          "unique_count": 5,
          "nan_count": 0,
          "min": "302",
          "max": "350",
          "histogram": [
           {
            "bin_start": 302,
            "bin_end": 306.8,
            "count": 2
           },
           {
            "bin_start": 306.8,
            "bin_end": 311.6,
            "count": 1
           },
           {
            "bin_start": 311.6,
            "bin_end": 316.4,
            "count": 0
           },
           {
            "bin_start": 316.4,
            "bin_end": 321.2,
            "count": 1
           },
           {
            "bin_start": 321.2,
            "bin_end": 326,
            "count": 0
           },
           {
            "bin_start": 326,
            "bin_end": 330.8,
            "count": 0
           },
           {
            "bin_start": 330.8,
            "bin_end": 335.6,
            "count": 0
           },
           {
            "bin_start": 335.6,
            "bin_end": 340.4,
            "count": 0
           },
           {
            "bin_start": 340.4,
            "bin_end": 345.2,
            "count": 0
           },
           {
            "bin_start": 345.2,
            "bin_end": 350,
            "count": 1
           }
          ]
         }
        },
        {
         "name": "horsepower",
         "dtype": "object",
         "stats": {
          "unique_count": 4,
          "nan_count": 0,
          "categories": [
           {
            "name": "150",
            "count": 2
           },
           {
            "name": "130",
            "count": 1
           },
           {
            "name": "2 others",
            "count": 2
           }
          ]
         }
        },
        {
         "name": "weight",
         "dtype": "int64",
         "stats": {
          "unique_count": 5,
          "nan_count": 0,
          "min": "3433",
          "max": "3693",
          "histogram": [
           {
            "bin_start": 3433,
            "bin_end": 3459,
            "count": 3
           },
           {
            "bin_start": 3459,
            "bin_end": 3485,
            "count": 0
           },
           {
            "bin_start": 3485,
            "bin_end": 3511,
            "count": 1
           },
           {
            "bin_start": 3511,
            "bin_end": 3537,
            "count": 0
           },
           {
            "bin_start": 3537,
            "bin_end": 3563,
            "count": 0
           },
           {
            "bin_start": 3563,
            "bin_end": 3589,
            "count": 0
           },
           {
            "bin_start": 3589,
            "bin_end": 3615,
            "count": 0
           },
           {
            "bin_start": 3615,
            "bin_end": 3641,
            "count": 0
           },
           {
            "bin_start": 3641,
            "bin_end": 3667,
            "count": 0
           },
           {
            "bin_start": 3667,
            "bin_end": 3693,
            "count": 1
           }
          ]
         }
        },
        {
         "name": "acceleration",
         "dtype": "float64",
         "stats": {
          "unique_count": 4,
          "nan_count": 0,
          "min": "10.5",
          "max": "12.0",
          "histogram": [
           {
            "bin_start": 10.5,
            "bin_end": 10.65,
            "count": 1
           },
           {
            "bin_start": 10.65,
            "bin_end": 10.8,
            "count": 0
           },
           {
            "bin_start": 10.8,
            "bin_end": 10.95,
            "count": 0
           },
           {
            "bin_start": 10.95,
            "bin_end": 11.1,
            "count": 1
           },
           {
            "bin_start": 11.1,
            "bin_end": 11.25,
            "count": 0
           },
           {
            "bin_start": 11.25,
            "bin_end": 11.4,
            "count": 0
           },
           {
            "bin_start": 11.4,
            "bin_end": 11.55,
            "count": 1
           },
           {
            "bin_start": 11.55,
            "bin_end": 11.7,
            "count": 0
           },
           {
            "bin_start": 11.7,
            "bin_end": 11.85,
            "count": 0
           },
           {
            "bin_start": 11.85,
            "bin_end": 12,
            "count": 2
           }
          ]
         }
        },
        {
         "name": "model",
         "dtype": "int64",
         "stats": {
          "unique_count": 1,
          "nan_count": 0,
          "min": "70",
          "max": "70",
          "histogram": [
           {
            "bin_start": 69.5,
            "bin_end": 69.6,
            "count": 0
           },
           {
            "bin_start": 69.6,
            "bin_end": 69.7,
            "count": 0
           },
           {
            "bin_start": 69.7,
            "bin_end": 69.8,
            "count": 0
           },
           {
            "bin_start": 69.8,
            "bin_end": 69.9,
            "count": 0
           },
           {
            "bin_start": 69.9,
            "bin_end": 70,
            "count": 0
           },
           {
            "bin_start": 70,
            "bin_end": 70.1,
            "count": 5
           },
           {
            "bin_start": 70.1,
            "bin_end": 70.2,
            "count": 0
           },
           {
            "bin_start": 70.2,
            "bin_end": 70.3,
            "count": 0
           },
           {
            "bin_start": 70.3,
            "bin_end": 70.4,
            "count": 0
           },
           {
            "bin_start": 70.4,
            "bin_end": 70.5,
            "count": 0
           }
          ]
         }
        },
        {
         "name": "origin",
         "dtype": "int64",
         "stats": {
          "unique_count": 1,
          "nan_count": 0,
          "min": "1",
          "max": "1",
          "histogram": [
           {
            "bin_start": 0.5,
            "bin_end": 0.6,
            "count": 0
           },
           {
            "bin_start": 0.6,
            "bin_end": 0.7,
            "count": 0
           },
           {
            "bin_start": 0.7,
            "bin_end": 0.8,
            "count": 0
           },
           {
            "bin_start": 0.8,
            "bin_end": 0.9,
            "count": 0
           },
           {
            "bin_start": 0.9,
            "bin_end": 1,
            "count": 0
           },
           {
            "bin_start": 1,
            "bin_end": 1.1,
            "count": 5
           },
           {
            "bin_start": 1.1,
            "bin_end": 1.2000000000000002,
            "count": 0
           },
           {
            "bin_start": 1.2000000000000002,
            "bin_end": 1.3,
            "count": 0
           },
           {
            "bin_start": 1.3,
            "bin_end": 1.4,
            "count": 0
           },
           {
            "bin_start": 1.4,
            "bin_end": 1.5,
            "count": 0
           }
          ]
         }
        },
        {
         "name": "car",
         "dtype": "object",
         "stats": {
          "unique_count": 5,
          "nan_count": 0,
          "categories": [
           {
            "name": "chevrolet chevelle malibu",
            "count": 1
           },
           {
            "name": "buick skylark 320",
            "count": 1
           },
           {
            "name": "3 others",
            "count": 3
           }
          ]
         }
        },
        {
         "name": "_deepnote_index_column",
         "dtype": "int64"
        }
       ],
       "rows": [
        {
         "mpg": 18,
         "cylinders": 8,
         "displacement": 307,
         "horsepower": "130",
         "weight": 3504,
         "acceleration": 12,
         "model": 70,
         "origin": 1,
         "car": "chevrolet chevelle malibu",
         "_deepnote_index_column": 0
        },
        {
         "mpg": 15,
         "cylinders": 8,
         "displacement": 350,
         "horsepower": "165",
         "weight": 3693,
         "acceleration": 11.5,
         "model": 70,
         "origin": 1,
         "car": "buick skylark 320",
         "_deepnote_index_column": 1
        },
        {
         "mpg": 18,
         "cylinders": 8,
         "displacement": 318,
         "horsepower": "150",
         "weight": 3436,
         "acceleration": 11,
         "model": 70,
         "origin": 1,
         "car": "plymouth satellite",
         "_deepnote_index_column": 2
        },
        {
         "mpg": 16,
         "cylinders": 8,
         "displacement": 304,
         "horsepower": "150",
         "weight": 3433,
         "acceleration": 12,
         "model": 70,
         "origin": 1,
         "car": "amc rebel sst",
         "_deepnote_index_column": 3
        },
        {
         "mpg": 17,
         "cylinders": 8,
         "displacement": 302,
         "horsepower": "140",
         "weight": 3449,
         "acceleration": 10.5,
         "model": 70,
         "origin": 1,
         "car": "ford torino",
         "_deepnote_index_column": 4
        }
       ]
      },
      "text/plain": "    mpg  cylinders  displacement horsepower  weight  acceleration  model  \\\n0  18.0          8           307        130    3504          12.0     70   \n1  15.0          8           350        165    3693          11.5     70   \n2  18.0          8           318        150    3436          11.0     70   \n3  16.0          8           304        150    3433          12.0     70   \n4  17.0          8           302        140    3449          10.5     70   \n\n   origin                        car  \n0       1  chevrolet chevelle malibu  \n1       1          buick skylark 320  \n2       1         plymouth satellite  \n3       1              amc rebel sst  \n4       1                ford torino  ",
      "text/html": "<div>\n<style scoped>\n    .dataframe tbody tr th:only-of-type {\n        vertical-align: middle;\n    }\n\n    .dataframe tbody tr th {\n        vertical-align: top;\n    }\n\n    .dataframe thead th {\n        text-align: right;\n    }\n</style>\n<table border=\"1\" class=\"dataframe\">\n  <thead>\n    <tr style=\"text-align: right;\">\n      <th></th>\n      <th>mpg</th>\n      <th>cylinders</th>\n      <th>displacement</th>\n      <th>horsepower</th>\n      <th>weight</th>\n      <th>acceleration</th>\n      <th>model</th>\n      <th>origin</th>\n      <th>car</th>\n    </tr>\n  </thead>\n  <tbody>\n    <tr>\n      <th>0</th>\n      <td>18.0</td>\n      <td>8</td>\n      <td>307</td>\n      <td>130</td>\n      <td>3504</td>\n      <td>12.0</td>\n      <td>70</td>\n      <td>1</td>\n      <td>chevrolet chevelle malibu</td>\n    </tr>\n    <tr>\n      <th>1</th>\n      <td>15.0</td>\n      <td>8</td>\n      <td>350</td>\n      <td>165</td>\n      <td>3693</td>\n      <td>11.5</td>\n      <td>70</td>\n      <td>1</td>\n      <td>buick skylark 320</td>\n    </tr>\n    <tr>\n      <th>2</th>\n      <td>18.0</td>\n      <td>8</td>\n      <td>318</td>\n      <td>150</td>\n      <td>3436</td>\n      <td>11.0</td>\n      <td>70</td>\n      <td>1</td>\n      <td>plymouth satellite</td>\n    </tr>\n    <tr>\n      <th>3</th>\n      <td>16.0</td>\n      <td>8</td>\n      <td>304</td>\n      <td>150</td>\n      <td>3433</td>\n      <td>12.0</td>\n      <td>70</td>\n      <td>1</td>\n      <td>amc rebel sst</td>\n    </tr>\n    <tr>\n      <th>4</th>\n      <td>17.0</td>\n      <td>8</td>\n      <td>302</td>\n      <td>140</td>\n      <td>3449</td>\n      <td>10.5</td>\n      <td>70</td>\n      <td>1</td>\n      <td>ford torino</td>\n    </tr>\n  </tbody>\n</table>\n</div>"
     },
     "metadata": {}
    }
   ],
   "execution_count": null
  },
  {
   "cell_type": "code",
   "source": "#Step 5. What is the number of observations in each dataset?\nprint(cars1.shape)\nprint(cars2.shape)",
   "metadata": {
    "tags": [],
    "cell_id": "00005-ce576547-3620-4dbb-97d1-4f715343e8d6",
    "deepnote_to_be_reexecuted": false,
    "source_hash": "e5d1e02a",
    "execution_start": 1640453562903,
    "execution_millis": 5,
    "deepnote_output_heights": [
     21.1875
    ],
    "deepnote_cell_type": "code"
   },
   "outputs": [
    {
     "name": "stdout",
     "text": "(198, 9)\n(200, 9)\n",
     "output_type": "stream",
     "data": {}
    }
   ],
   "execution_count": null
  },
  {
   "cell_type": "code",
   "source": "#Step 6. Join cars1 and cars2 into a single DataFrame called cars\ncars = cars1.append(cars2)\ncars.head()",
   "metadata": {
    "tags": [],
    "cell_id": "00006-4937ae7c-7059-4c9a-b073-fa3d972a4cc3",
    "deepnote_to_be_reexecuted": false,
    "source_hash": "da48fd28",
    "execution_start": 1640453598108,
    "execution_millis": 205,
    "deepnote_output_heights": [
     177
    ],
    "deepnote_cell_type": "code"
   },
   "outputs": [
    {
     "output_type": "execute_result",
     "execution_count": 8,
     "data": {
      "application/vnd.deepnote.dataframe.v3+json": {
       "column_count": 9,
       "row_count": 5,
       "columns": [
        {
         "name": "mpg",
         "dtype": "float64",
         "stats": {
          "unique_count": 4,
          "nan_count": 0,
          "min": "15.0",
          "max": "18.0",
          "histogram": [
           {
            "bin_start": 15,
            "bin_end": 15.3,
            "count": 1
           },
           {
            "bin_start": 15.3,
            "bin_end": 15.6,
            "count": 0
           },
           {
            "bin_start": 15.6,
            "bin_end": 15.9,
            "count": 0
           },
           {
            "bin_start": 15.9,
            "bin_end": 16.2,
            "count": 1
           },
           {
            "bin_start": 16.2,
            "bin_end": 16.5,
            "count": 0
           },
           {
            "bin_start": 16.5,
            "bin_end": 16.8,
            "count": 0
           },
           {
            "bin_start": 16.8,
            "bin_end": 17.1,
            "count": 1
           },
           {
            "bin_start": 17.1,
            "bin_end": 17.4,
            "count": 0
           },
           {
            "bin_start": 17.4,
            "bin_end": 17.7,
            "count": 0
           },
           {
            "bin_start": 17.7,
            "bin_end": 18,
            "count": 2
           }
          ]
         }
        },
        {
         "name": "cylinders",
         "dtype": "int64",
         "stats": {
          "unique_count": 1,
          "nan_count": 0,
          "min": "8",
          "max": "8",
          "histogram": [
           {
            "bin_start": 7.5,
            "bin_end": 7.6,
            "count": 0
           },
           {
            "bin_start": 7.6,
            "bin_end": 7.7,
            "count": 0
           },
           {
            "bin_start": 7.7,
            "bin_end": 7.8,
            "count": 0
           },
           {
            "bin_start": 7.8,
            "bin_end": 7.9,
            "count": 0
           },
           {
            "bin_start": 7.9,
            "bin_end": 8,
            "count": 0
           },
           {
            "bin_start": 8,
            "bin_end": 8.1,
            "count": 5
           },
           {
            "bin_start": 8.1,
            "bin_end": 8.2,
            "count": 0
           },
           {
            "bin_start": 8.2,
            "bin_end": 8.3,
            "count": 0
           },
           {
            "bin_start": 8.3,
            "bin_end": 8.4,
            "count": 0
           },
           {
            "bin_start": 8.4,
            "bin_end": 8.5,
            "count": 0
           }
          ]
         }
        },
        {
         "name": "displacement",
         "dtype": "int64",
         "stats": {
          "unique_count": 5,
          "nan_count": 0,
          "min": "302",
          "max": "350",
          "histogram": [
           {
            "bin_start": 302,
            "bin_end": 306.8,
            "count": 2
           },
           {
            "bin_start": 306.8,
            "bin_end": 311.6,
            "count": 1
           },
           {
            "bin_start": 311.6,
            "bin_end": 316.4,
            "count": 0
           },
           {
            "bin_start": 316.4,
            "bin_end": 321.2,
            "count": 1
           },
           {
            "bin_start": 321.2,
            "bin_end": 326,
            "count": 0
           },
           {
            "bin_start": 326,
            "bin_end": 330.8,
            "count": 0
           },
           {
            "bin_start": 330.8,
            "bin_end": 335.6,
            "count": 0
           },
           {
            "bin_start": 335.6,
            "bin_end": 340.4,
            "count": 0
           },
           {
            "bin_start": 340.4,
            "bin_end": 345.2,
            "count": 0
           },
           {
            "bin_start": 345.2,
            "bin_end": 350,
            "count": 1
           }
          ]
         }
        },
        {
         "name": "horsepower",
         "dtype": "object",
         "stats": {
          "unique_count": 4,
          "nan_count": 0,
          "categories": [
           {
            "name": "150",
            "count": 2
           },
           {
            "name": "130",
            "count": 1
           },
           {
            "name": "2 others",
            "count": 2
           }
          ]
         }
        },
        {
         "name": "weight",
         "dtype": "int64",
         "stats": {
          "unique_count": 5,
          "nan_count": 0,
          "min": "3433",
          "max": "3693",
          "histogram": [
           {
            "bin_start": 3433,
            "bin_end": 3459,
            "count": 3
           },
           {
            "bin_start": 3459,
            "bin_end": 3485,
            "count": 0
           },
           {
            "bin_start": 3485,
            "bin_end": 3511,
            "count": 1
           },
           {
            "bin_start": 3511,
            "bin_end": 3537,
            "count": 0
           },
           {
            "bin_start": 3537,
            "bin_end": 3563,
            "count": 0
           },
           {
            "bin_start": 3563,
            "bin_end": 3589,
            "count": 0
           },
           {
            "bin_start": 3589,
            "bin_end": 3615,
            "count": 0
           },
           {
            "bin_start": 3615,
            "bin_end": 3641,
            "count": 0
           },
           {
            "bin_start": 3641,
            "bin_end": 3667,
            "count": 0
           },
           {
            "bin_start": 3667,
            "bin_end": 3693,
            "count": 1
           }
          ]
         }
        },
        {
         "name": "acceleration",
         "dtype": "float64",
         "stats": {
          "unique_count": 4,
          "nan_count": 0,
          "min": "10.5",
          "max": "12.0",
          "histogram": [
           {
            "bin_start": 10.5,
            "bin_end": 10.65,
            "count": 1
           },
           {
            "bin_start": 10.65,
            "bin_end": 10.8,
            "count": 0
           },
           {
            "bin_start": 10.8,
            "bin_end": 10.95,
            "count": 0
           },
           {
            "bin_start": 10.95,
            "bin_end": 11.1,
            "count": 1
           },
           {
            "bin_start": 11.1,
            "bin_end": 11.25,
            "count": 0
           },
           {
            "bin_start": 11.25,
            "bin_end": 11.4,
            "count": 0
           },
           {
            "bin_start": 11.4,
            "bin_end": 11.55,
            "count": 1
           },
           {
            "bin_start": 11.55,
            "bin_end": 11.7,
            "count": 0
           },
           {
            "bin_start": 11.7,
            "bin_end": 11.85,
            "count": 0
           },
           {
            "bin_start": 11.85,
            "bin_end": 12,
            "count": 2
           }
          ]
         }
        },
        {
         "name": "model",
         "dtype": "int64",
         "stats": {
          "unique_count": 1,
          "nan_count": 0,
          "min": "70",
          "max": "70",
          "histogram": [
           {
            "bin_start": 69.5,
            "bin_end": 69.6,
            "count": 0
           },
           {
            "bin_start": 69.6,
            "bin_end": 69.7,
            "count": 0
           },
           {
            "bin_start": 69.7,
            "bin_end": 69.8,
            "count": 0
           },
           {
            "bin_start": 69.8,
            "bin_end": 69.9,
            "count": 0
           },
           {
            "bin_start": 69.9,
            "bin_end": 70,
            "count": 0
           },
           {
            "bin_start": 70,
            "bin_end": 70.1,
            "count": 5
           },
           {
            "bin_start": 70.1,
            "bin_end": 70.2,
            "count": 0
           },
           {
            "bin_start": 70.2,
            "bin_end": 70.3,
            "count": 0
           },
           {
            "bin_start": 70.3,
            "bin_end": 70.4,
            "count": 0
           },
           {
            "bin_start": 70.4,
            "bin_end": 70.5,
            "count": 0
           }
          ]
         }
        },
        {
         "name": "origin",
         "dtype": "int64",
         "stats": {
          "unique_count": 1,
          "nan_count": 0,
          "min": "1",
          "max": "1",
          "histogram": [
           {
            "bin_start": 0.5,
            "bin_end": 0.6,
            "count": 0
           },
           {
            "bin_start": 0.6,
            "bin_end": 0.7,
            "count": 0
           },
           {
            "bin_start": 0.7,
            "bin_end": 0.8,
            "count": 0
           },
           {
            "bin_start": 0.8,
            "bin_end": 0.9,
            "count": 0
           },
           {
            "bin_start": 0.9,
            "bin_end": 1,
            "count": 0
           },
           {
            "bin_start": 1,
            "bin_end": 1.1,
            "count": 5
           },
           {
            "bin_start": 1.1,
            "bin_end": 1.2000000000000002,
            "count": 0
           },
           {
            "bin_start": 1.2000000000000002,
            "bin_end": 1.3,
            "count": 0
           },
           {
            "bin_start": 1.3,
            "bin_end": 1.4,
            "count": 0
           },
           {
            "bin_start": 1.4,
            "bin_end": 1.5,
            "count": 0
           }
          ]
         }
        },
        {
         "name": "car",
         "dtype": "object",
         "stats": {
          "unique_count": 5,
          "nan_count": 0,
          "categories": [
           {
            "name": "chevrolet chevelle malibu",
            "count": 1
           },
           {
            "name": "buick skylark 320",
            "count": 1
           },
           {
            "name": "3 others",
            "count": 3
           }
          ]
         }
        },
        {
         "name": "_deepnote_index_column",
         "dtype": "int64"
        }
       ],
       "rows": [
        {
         "mpg": 18,
         "cylinders": 8,
         "displacement": 307,
         "horsepower": "130",
         "weight": 3504,
         "acceleration": 12,
         "model": 70,
         "origin": 1,
         "car": "chevrolet chevelle malibu",
         "_deepnote_index_column": 0
        },
        {
         "mpg": 15,
         "cylinders": 8,
         "displacement": 350,
         "horsepower": "165",
         "weight": 3693,
         "acceleration": 11.5,
         "model": 70,
         "origin": 1,
         "car": "buick skylark 320",
         "_deepnote_index_column": 1
        },
        {
         "mpg": 18,
         "cylinders": 8,
         "displacement": 318,
         "horsepower": "150",
         "weight": 3436,
         "acceleration": 11,
         "model": 70,
         "origin": 1,
         "car": "plymouth satellite",
         "_deepnote_index_column": 2
        },
        {
         "mpg": 16,
         "cylinders": 8,
         "displacement": 304,
         "horsepower": "150",
         "weight": 3433,
         "acceleration": 12,
         "model": 70,
         "origin": 1,
         "car": "amc rebel sst",
         "_deepnote_index_column": 3
        },
        {
         "mpg": 17,
         "cylinders": 8,
         "displacement": 302,
         "horsepower": "140",
         "weight": 3449,
         "acceleration": 10.5,
         "model": 70,
         "origin": 1,
         "car": "ford torino",
         "_deepnote_index_column": 4
        }
       ]
      },
      "text/plain": "    mpg  cylinders  displacement horsepower  weight  acceleration  model  \\\n0  18.0          8           307        130    3504          12.0     70   \n1  15.0          8           350        165    3693          11.5     70   \n2  18.0          8           318        150    3436          11.0     70   \n3  16.0          8           304        150    3433          12.0     70   \n4  17.0          8           302        140    3449          10.5     70   \n\n   origin                        car  \n0       1  chevrolet chevelle malibu  \n1       1          buick skylark 320  \n2       1         plymouth satellite  \n3       1              amc rebel sst  \n4       1                ford torino  ",
      "text/html": "<div>\n<style scoped>\n    .dataframe tbody tr th:only-of-type {\n        vertical-align: middle;\n    }\n\n    .dataframe tbody tr th {\n        vertical-align: top;\n    }\n\n    .dataframe thead th {\n        text-align: right;\n    }\n</style>\n<table border=\"1\" class=\"dataframe\">\n  <thead>\n    <tr style=\"text-align: right;\">\n      <th></th>\n      <th>mpg</th>\n      <th>cylinders</th>\n      <th>displacement</th>\n      <th>horsepower</th>\n      <th>weight</th>\n      <th>acceleration</th>\n      <th>model</th>\n      <th>origin</th>\n      <th>car</th>\n    </tr>\n  </thead>\n  <tbody>\n    <tr>\n      <th>0</th>\n      <td>18.0</td>\n      <td>8</td>\n      <td>307</td>\n      <td>130</td>\n      <td>3504</td>\n      <td>12.0</td>\n      <td>70</td>\n      <td>1</td>\n      <td>chevrolet chevelle malibu</td>\n    </tr>\n    <tr>\n      <th>1</th>\n      <td>15.0</td>\n      <td>8</td>\n      <td>350</td>\n      <td>165</td>\n      <td>3693</td>\n      <td>11.5</td>\n      <td>70</td>\n      <td>1</td>\n      <td>buick skylark 320</td>\n    </tr>\n    <tr>\n      <th>2</th>\n      <td>18.0</td>\n      <td>8</td>\n      <td>318</td>\n      <td>150</td>\n      <td>3436</td>\n      <td>11.0</td>\n      <td>70</td>\n      <td>1</td>\n      <td>plymouth satellite</td>\n    </tr>\n    <tr>\n      <th>3</th>\n      <td>16.0</td>\n      <td>8</td>\n      <td>304</td>\n      <td>150</td>\n      <td>3433</td>\n      <td>12.0</td>\n      <td>70</td>\n      <td>1</td>\n      <td>amc rebel sst</td>\n    </tr>\n    <tr>\n      <th>4</th>\n      <td>17.0</td>\n      <td>8</td>\n      <td>302</td>\n      <td>140</td>\n      <td>3449</td>\n      <td>10.5</td>\n      <td>70</td>\n      <td>1</td>\n      <td>ford torino</td>\n    </tr>\n  </tbody>\n</table>\n</div>"
     },
     "metadata": {}
    }
   ],
   "execution_count": null
  },
  {
   "cell_type": "code",
   "source": "#Step 7. Oops, there is a column missing, called owners. Create a random number Series from 15,000 to 73,000.\nnr_owners = np.random.randint(15000, high=73001, size=398, dtype='l')\nnr_owners",
   "metadata": {
    "tags": [],
    "cell_id": "00007-b7874a52-ec14-46eb-9342-e41407e224bc",
    "deepnote_to_be_reexecuted": false,
    "source_hash": "ed1e5dbd",
    "execution_start": 1640453670500,
    "execution_millis": 45,
    "deepnote_output_heights": [
     611
    ],
    "deepnote_cell_type": "code"
   },
   "outputs": [
    {
     "output_type": "execute_result",
     "execution_count": 10,
     "data": {
      "text/plain": "array([48592, 27663, 26378, 34600, 38876, 48011, 30878, 55582, 55655,\n       20101, 64881, 52542, 64782, 22643, 48683, 39437, 70163, 16000,\n       60975, 19038, 41760, 50339, 35156, 24061, 42056, 33519, 55720,\n       30519, 55016, 47369, 60805, 59979, 69949, 40717, 63264, 30314,\n       68214, 16669, 66024, 66454, 32446, 59824, 43032, 27247, 47851,\n       56957, 41553, 57637, 25443, 54276, 64900, 37119, 61359, 59052,\n       68314, 59877, 61837, 52780, 40306, 41313, 62577, 64178, 66736,\n       34863, 26138, 33640, 40023, 47424, 66438, 19059, 63959, 58961,\n       39708, 32041, 61983, 41215, 16805, 60993, 63249, 35298, 22325,\n       43661, 69208, 17203, 22786, 42747, 17690, 39206, 52214, 27109,\n       34608, 69571, 70894, 47448, 36408, 67983, 51757, 22379, 27244,\n       52631, 18178, 28039, 40400, 67106, 57546, 32900, 66186, 27707,\n       66474, 58134, 33476, 26213, 62730, 59391, 35868, 38472, 32882,\n       52483, 25402, 71147, 16019, 52587, 37051, 62124, 59246, 20959,\n       33988, 64074, 57459, 37852, 61293, 42791, 22729, 60235, 25877,\n       42472, 29349, 59580, 63143, 46472, 66959, 52816, 30345, 45593,\n       16232, 28843, 49663, 44899, 48211, 39867, 27004, 72288, 53884,\n       57675, 63446, 61628, 62646, 48439, 57014, 46437, 29782, 23681,\n       53322, 30333, 28787, 28181, 24525, 31562, 51641, 57635, 16896,\n       17331, 61724, 47115, 68332, 58842, 55006, 43780, 53924, 18417,\n       27841, 65096, 64837, 54618, 57840, 54246, 21191, 61928, 39874,\n       54876, 66580, 29239, 39629, 16533, 20137, 17509, 30678, 30595,\n       47053, 27752, 66786, 33570, 34798, 68724, 63759, 51354, 18112,\n       58455, 44776, 68203, 67824, 50423, 47532, 15606, 21518, 41490,\n       43063, 69963, 38935, 32257, 49931, 69127, 22761, 46881, 35072,\n       30222, 18722, 36742, 52780, 61395, 21661, 38902, 17877, 39741,\n       49749, 58142, 27246, 57320, 24430, 48542, 29155, 49814, 66093,\n       68455, 55856, 19320, 39182, 19500, 18723, 29201, 25262, 35663,\n       23148, 57568, 15155, 48399, 21214, 27986, 63503, 53278, 46821,\n       63975, 69347, 23500, 32423, 63401, 72019, 62205, 35592, 46999,\n       63345, 32299, 35505, 69230, 58224, 27644, 15932, 46354, 61313,\n       26828, 29369, 27659, 62038, 48245, 30147, 34292, 20932, 45075,\n       48887, 57995, 70851, 56206, 52483, 45643, 19042, 35974, 69502,\n       47829, 31548, 69219, 29109, 46648, 42046, 15369, 22456, 45506,\n       48138, 42815, 15160, 46775, 61032, 24931, 45914, 54086, 44335,\n       70244, 56024, 29876, 52760, 65276, 39668, 71120, 16809, 65854,\n       16334, 51273, 29717, 65163, 50310, 19156, 26808, 17223, 72527,\n       30286, 59085, 64335, 53141, 52387, 40642, 72398, 39971, 62026,\n       27436, 29092, 62450, 42867, 31989, 26602, 40160, 38468, 34882,\n       26441, 18320, 25786, 64627, 18152, 69282, 26774, 38237, 63905,\n       23490, 67339, 52572, 32764, 58339, 25199, 46682, 26323, 71358,\n       46428, 62276, 26373, 22298, 58233, 58018, 35484, 15951, 65374,\n       34887, 24500, 18519, 58214, 48608, 63932, 39524, 15775, 65812,\n       32096, 54100, 49291, 44855, 51953, 69803, 72132, 40075, 41732,\n       29006, 28582])"
     },
     "metadata": {}
    }
   ],
   "execution_count": null
  },
  {
   "cell_type": "code",
   "source": "#Step 8. Add the column owners to cars\ncars['owners'] = nr_owners\ncars.tail()",
   "metadata": {
    "tags": [],
    "cell_id": "00008-bf842f3a-c24e-4440-8bf3-57e5ed8467c1",
    "deepnote_to_be_reexecuted": false,
    "source_hash": "b8f8242",
    "execution_start": 1640453714136,
    "execution_millis": 294,
    "deepnote_output_heights": [
     177
    ],
    "deepnote_cell_type": "code"
   },
   "outputs": [
    {
     "output_type": "execute_result",
     "execution_count": 12,
     "data": {
      "application/vnd.deepnote.dataframe.v3+json": {
       "column_count": 10,
       "row_count": 5,
       "columns": [
        {
         "name": "mpg",
         "dtype": "float64",
         "stats": {
          "unique_count": 5,
          "nan_count": 0,
          "min": "27.0",
          "max": "44.0",
          "histogram": [
           {
            "bin_start": 27,
            "bin_end": 28.7,
            "count": 2
           },
           {
            "bin_start": 28.7,
            "bin_end": 30.4,
            "count": 0
           },
           {
            "bin_start": 30.4,
            "bin_end": 32.1,
            "count": 2
           },
           {
            "bin_start": 32.1,
            "bin_end": 33.8,
            "count": 0
           },
           {
            "bin_start": 33.8,
            "bin_end": 35.5,
            "count": 0
           },
           {
            "bin_start": 35.5,
            "bin_end": 37.2,
            "count": 0
           },
           {
            "bin_start": 37.2,
            "bin_end": 38.9,
            "count": 0
           },
           {
            "bin_start": 38.9,
            "bin_end": 40.6,
            "count": 0
           },
           {
            "bin_start": 40.6,
            "bin_end": 42.3,
            "count": 0
           },
           {
            "bin_start": 42.3,
            "bin_end": 44,
            "count": 1
           }
          ]
         }
        },
        {
         "name": "cylinders",
         "dtype": "int64",
         "stats": {
          "unique_count": 1,
          "nan_count": 0,
          "min": "4",
          "max": "4",
          "histogram": [
           {
            "bin_start": 3.5,
            "bin_end": 3.6,
            "count": 0
           },
           {
            "bin_start": 3.6,
            "bin_end": 3.7,
            "count": 0
           },
           {
            "bin_start": 3.7,
            "bin_end": 3.8,
            "count": 0
           },
           {
            "bin_start": 3.8,
            "bin_end": 3.9,
            "count": 0
           },
           {
            "bin_start": 3.9,
            "bin_end": 4,
            "count": 0
           },
           {
            "bin_start": 4,
            "bin_end": 4.1,
            "count": 5
           },
           {
            "bin_start": 4.1,
            "bin_end": 4.2,
            "count": 0
           },
           {
            "bin_start": 4.2,
            "bin_end": 4.3,
            "count": 0
           },
           {
            "bin_start": 4.3,
            "bin_end": 4.4,
            "count": 0
           },
           {
            "bin_start": 4.4,
            "bin_end": 4.5,
            "count": 0
           }
          ]
         }
        },
        {
         "name": "displacement",
         "dtype": "int64",
         "stats": {
          "unique_count": 5,
          "nan_count": 0,
          "min": "97",
          "max": "140",
          "histogram": [
           {
            "bin_start": 97,
            "bin_end": 101.3,
            "count": 1
           },
           {
            "bin_start": 101.3,
            "bin_end": 105.6,
            "count": 0
           },
           {
            "bin_start": 105.6,
            "bin_end": 109.9,
            "count": 0
           },
           {
            "bin_start": 109.9,
            "bin_end": 114.2,
            "count": 0
           },
           {
            "bin_start": 114.2,
            "bin_end": 118.5,
            "count": 0
           },
           {
            "bin_start": 118.5,
            "bin_end": 122.8,
            "count": 2
           },
           {
            "bin_start": 122.8,
            "bin_end": 127.1,
            "count": 0
           },
           {
            "bin_start": 127.1,
            "bin_end": 131.4,
            "count": 0
           },
           {
            "bin_start": 131.4,
            "bin_end": 135.7,
            "count": 1
           },
           {
            "bin_start": 135.7,
            "bin_end": 140,
            "count": 1
           }
          ]
         }
        },
        {
         "name": "horsepower",
         "dtype": "object",
         "stats": {
          "unique_count": 5,
          "nan_count": 0,
          "categories": [
           {
            "name": "86",
            "count": 1
           },
           {
            "name": "52",
            "count": 1
           },
           {
            "name": "3 others",
            "count": 3
           }
          ]
         }
        },
        {
         "name": "weight",
         "dtype": "int64",
         "stats": {
          "unique_count": 5,
          "nan_count": 0,
          "min": "2130",
          "max": "2790",
          "histogram": [
           {
            "bin_start": 2130,
            "bin_end": 2196,
            "count": 1
           },
           {
            "bin_start": 2196,
            "bin_end": 2262,
            "count": 0
           },
           {
            "bin_start": 2262,
            "bin_end": 2328,
            "count": 1
           },
           {
            "bin_start": 2328,
            "bin_end": 2394,
            "count": 0
           },
           {
            "bin_start": 2394,
            "bin_end": 2460,
            "count": 0
           },
           {
            "bin_start": 2460,
            "bin_end": 2526,
            "count": 0
           },
           {
            "bin_start": 2526,
            "bin_end": 2592,
            "count": 0
           },
           {
            "bin_start": 2592,
            "bin_end": 2658,
            "count": 1
           },
           {
            "bin_start": 2658,
            "bin_end": 2724,
            "count": 1
           },
           {
            "bin_start": 2724,
            "bin_end": 2790,
            "count": 1
           }
          ]
         }
        },
        {
         "name": "acceleration",
         "dtype": "float64",
         "stats": {
          "unique_count": 5,
          "nan_count": 0,
          "min": "11.6",
          "max": "24.6",
          "histogram": [
           {
            "bin_start": 11.6,
            "bin_end": 12.9,
            "count": 1
           },
           {
            "bin_start": 12.9,
            "bin_end": 14.2,
            "count": 0
           },
           {
            "bin_start": 14.2,
            "bin_end": 15.5,
            "count": 0
           },
           {
            "bin_start": 15.5,
            "bin_end": 16.8,
            "count": 1
           },
           {
            "bin_start": 16.8,
            "bin_end": 18.1,
            "count": 0
           },
           {
            "bin_start": 18.1,
            "bin_end": 19.400000000000002,
            "count": 2
           },
           {
            "bin_start": 19.400000000000002,
            "bin_end": 20.700000000000003,
            "count": 0
           },
           {
            "bin_start": 20.700000000000003,
            "bin_end": 22,
            "count": 0
           },
           {
            "bin_start": 22,
            "bin_end": 23.300000000000004,
            "count": 0
           },
           {
            "bin_start": 23.300000000000004,
            "bin_end": 24.6,
            "count": 1
           }
          ]
         }
        },
        {
         "name": "model",
         "dtype": "int64",
         "stats": {
          "unique_count": 1,
          "nan_count": 0,
          "min": "82",
          "max": "82",
          "histogram": [
           {
            "bin_start": 81.5,
            "bin_end": 81.6,
            "count": 0
           },
           {
            "bin_start": 81.6,
            "bin_end": 81.7,
            "count": 0
           },
           {
            "bin_start": 81.7,
            "bin_end": 81.8,
            "count": 0
           },
           {
            "bin_start": 81.8,
            "bin_end": 81.9,
            "count": 0
           },
           {
            "bin_start": 81.9,
            "bin_end": 82,
            "count": 0
           },
           {
            "bin_start": 82,
            "bin_end": 82.1,
            "count": 5
           },
           {
            "bin_start": 82.1,
            "bin_end": 82.2,
            "count": 0
           },
           {
            "bin_start": 82.2,
            "bin_end": 82.3,
            "count": 0
           },
           {
            "bin_start": 82.3,
            "bin_end": 82.4,
            "count": 0
           },
           {
            "bin_start": 82.4,
            "bin_end": 82.5,
            "count": 0
           }
          ]
         }
        },
        {
         "name": "origin",
         "dtype": "int64",
         "stats": {
          "unique_count": 2,
          "nan_count": 0,
          "min": "1",
          "max": "2",
          "histogram": [
           {
            "bin_start": 1,
            "bin_end": 1.1,
            "count": 4
           },
           {
            "bin_start": 1.1,
            "bin_end": 1.2,
            "count": 0
           },
           {
            "bin_start": 1.2,
            "bin_end": 1.3,
            "count": 0
           },
           {
            "bin_start": 1.3,
            "bin_end": 1.4,
            "count": 0
           },
           {
            "bin_start": 1.4,
            "bin_end": 1.5,
            "count": 0
           },
           {
            "bin_start": 1.5,
            "bin_end": 1.6,
            "count": 0
           },
           {
            "bin_start": 1.6,
            "bin_end": 1.7000000000000002,
            "count": 0
           },
           {
            "bin_start": 1.7000000000000002,
            "bin_end": 1.8,
            "count": 0
           },
           {
            "bin_start": 1.8,
            "bin_end": 1.9,
            "count": 0
           },
           {
            "bin_start": 1.9,
            "bin_end": 2,
            "count": 1
           }
          ]
         }
        },
        {
         "name": "car",
         "dtype": "object",
         "stats": {
          "unique_count": 5,
          "nan_count": 0,
          "categories": [
           {
            "name": "ford mustang gl",
            "count": 1
           },
           {
            "name": "vw pickup",
            "count": 1
           },
           {
            "name": "3 others",
            "count": 3
           }
          ]
         }
        },
        {
         "name": "owners",
         "dtype": "int64",
         "stats": {
          "unique_count": 5,
          "nan_count": 0,
          "min": "28582",
          "max": "72132",
          "histogram": [
           {
            "bin_start": 28582,
            "bin_end": 32937,
            "count": 2
           },
           {
            "bin_start": 32937,
            "bin_end": 37292,
            "count": 0
           },
           {
            "bin_start": 37292,
            "bin_end": 41647,
            "count": 1
           },
           {
            "bin_start": 41647,
            "bin_end": 46002,
            "count": 1
           },
           {
            "bin_start": 46002,
            "bin_end": 50357,
            "count": 0
           },
           {
            "bin_start": 50357,
            "bin_end": 54712,
            "count": 0
           },
           {
            "bin_start": 54712,
            "bin_end": 59067,
            "count": 0
           },
           {
            "bin_start": 59067,
            "bin_end": 63422,
            "count": 0
           },
           {
            "bin_start": 63422,
            "bin_end": 67777,
            "count": 0
           },
           {
            "bin_start": 67777,
            "bin_end": 72132,
            "count": 1
           }
          ]
         }
        },
        {
         "name": "_deepnote_index_column",
         "dtype": "int64"
        }
       ],
       "rows": [
        {
         "mpg": 27,
         "cylinders": 4,
         "displacement": 140,
         "horsepower": "86",
         "weight": 2790,
         "acceleration": 15.6,
         "model": 82,
         "origin": 1,
         "car": "ford mustang gl",
         "owners": 72132,
         "_deepnote_index_column": 195
        },
        {
         "mpg": 44,
         "cylinders": 4,
         "displacement": 97,
         "horsepower": "52",
         "weight": 2130,
         "acceleration": 24.6,
         "model": 82,
         "origin": 2,
         "car": "vw pickup",
         "owners": 40075,
         "_deepnote_index_column": 196
        },
        {
         "mpg": 32,
         "cylinders": 4,
         "displacement": 135,
         "horsepower": "84",
         "weight": 2295,
         "acceleration": 11.6,
         "model": 82,
         "origin": 1,
         "car": "dodge rampage",
         "owners": 41732,
         "_deepnote_index_column": 197
        },
        {
         "mpg": 28,
         "cylinders": 4,
         "displacement": 120,
         "horsepower": "79",
         "weight": 2625,
         "acceleration": 18.6,
         "model": 82,
         "origin": 1,
         "car": "ford ranger",
         "owners": 29006,
         "_deepnote_index_column": 198
        },
        {
         "mpg": 31,
         "cylinders": 4,
         "displacement": 119,
         "horsepower": "82",
         "weight": 2720,
         "acceleration": 19.4,
         "model": 82,
         "origin": 1,
         "car": "chevy s-10",
         "owners": 28582,
         "_deepnote_index_column": 199
        }
       ]
      },
      "text/plain": "      mpg  cylinders  displacement horsepower  weight  acceleration  model  \\\n195  27.0          4           140         86    2790          15.6     82   \n196  44.0          4            97         52    2130          24.6     82   \n197  32.0          4           135         84    2295          11.6     82   \n198  28.0          4           120         79    2625          18.6     82   \n199  31.0          4           119         82    2720          19.4     82   \n\n     origin              car  owners  \n195       1  ford mustang gl   72132  \n196       2        vw pickup   40075  \n197       1    dodge rampage   41732  \n198       1      ford ranger   29006  \n199       1       chevy s-10   28582  ",
      "text/html": "<div>\n<style scoped>\n    .dataframe tbody tr th:only-of-type {\n        vertical-align: middle;\n    }\n\n    .dataframe tbody tr th {\n        vertical-align: top;\n    }\n\n    .dataframe thead th {\n        text-align: right;\n    }\n</style>\n<table border=\"1\" class=\"dataframe\">\n  <thead>\n    <tr style=\"text-align: right;\">\n      <th></th>\n      <th>mpg</th>\n      <th>cylinders</th>\n      <th>displacement</th>\n      <th>horsepower</th>\n      <th>weight</th>\n      <th>acceleration</th>\n      <th>model</th>\n      <th>origin</th>\n      <th>car</th>\n      <th>owners</th>\n    </tr>\n  </thead>\n  <tbody>\n    <tr>\n      <th>195</th>\n      <td>27.0</td>\n      <td>4</td>\n      <td>140</td>\n      <td>86</td>\n      <td>2790</td>\n      <td>15.6</td>\n      <td>82</td>\n      <td>1</td>\n      <td>ford mustang gl</td>\n      <td>72132</td>\n    </tr>\n    <tr>\n      <th>196</th>\n      <td>44.0</td>\n      <td>4</td>\n      <td>97</td>\n      <td>52</td>\n      <td>2130</td>\n      <td>24.6</td>\n      <td>82</td>\n      <td>2</td>\n      <td>vw pickup</td>\n      <td>40075</td>\n    </tr>\n    <tr>\n      <th>197</th>\n      <td>32.0</td>\n      <td>4</td>\n      <td>135</td>\n      <td>84</td>\n      <td>2295</td>\n      <td>11.6</td>\n      <td>82</td>\n      <td>1</td>\n      <td>dodge rampage</td>\n      <td>41732</td>\n    </tr>\n    <tr>\n      <th>198</th>\n      <td>28.0</td>\n      <td>4</td>\n      <td>120</td>\n      <td>79</td>\n      <td>2625</td>\n      <td>18.6</td>\n      <td>82</td>\n      <td>1</td>\n      <td>ford ranger</td>\n      <td>29006</td>\n    </tr>\n    <tr>\n      <th>199</th>\n      <td>31.0</td>\n      <td>4</td>\n      <td>119</td>\n      <td>82</td>\n      <td>2720</td>\n      <td>19.4</td>\n      <td>82</td>\n      <td>1</td>\n      <td>chevy s-10</td>\n      <td>28582</td>\n    </tr>\n  </tbody>\n</table>\n</div>"
     },
     "metadata": {}
    }
   ],
   "execution_count": null
  },
  {
   "cell_type": "code",
   "source": "",
   "metadata": {
    "tags": [],
    "cell_id": "00009-4798312a-de70-4238-ab8a-ff7021633eb9",
    "deepnote_cell_type": "code"
   },
   "outputs": [],
   "execution_count": null
  },
  {
   "cell_type": "markdown",
   "source": "# Fictitious Names",
   "metadata": {
    "tags": [],
    "is_collapsed": false,
    "cell_id": "00010-eb5c5d8d-5173-456e-88e2-faf983498e7b",
    "deepnote_cell_type": "text-cell-h1"
   }
  },
  {
   "cell_type": "code",
   "source": "import pandas as pd",
   "metadata": {
    "tags": [],
    "cell_id": "00011-dade19a2-41a9-4ea7-8b2a-4f20ddc6f6eb",
    "deepnote_to_be_reexecuted": false,
    "source_hash": "9b82ee11",
    "execution_start": 1640453778793,
    "execution_millis": 8,
    "deepnote_cell_type": "code"
   },
   "outputs": [],
   "execution_count": null
  },
  {
   "cell_type": "code",
   "source": "raw_data_1 = {\n        'subject_id': ['1', '2', '3', '4', '5'],\n        'first_name': ['Alex', 'Amy', 'Allen', 'Alice', 'Ayoung'], \n        'last_name': ['Anderson', 'Ackerman', 'Ali', 'Aoni', 'Atiches']}\n\nraw_data_2 = {\n        'subject_id': ['4', '5', '6', '7', '8'],\n        'first_name': ['Billy', 'Brian', 'Bran', 'Bryce', 'Betty'], \n        'last_name': ['Bonder', 'Black', 'Balwner', 'Brice', 'Btisan']}\n\nraw_data_3 = {\n        'subject_id': ['1', '2', '3', '4', '5', '7', '8', '9', '10', '11'],\n        'test_id': [51, 15, 15, 61, 16, 14, 15, 1, 61, 16]}",
   "metadata": {
    "tags": [],
    "cell_id": "00012-0c86980e-5b00-4cd3-adb5-9fa76720b94a",
    "deepnote_to_be_reexecuted": false,
    "source_hash": "7b298b84",
    "execution_start": 1640453786408,
    "execution_millis": 5,
    "deepnote_cell_type": "code"
   },
   "outputs": [],
   "execution_count": null
  },
  {
   "cell_type": "code",
   "source": "data1 = pd.DataFrame(raw_data_1, columns = ['subject_id', 'first_name', 'last_name'])\ndata2 = pd.DataFrame(raw_data_2, columns = ['subject_id', 'first_name', 'last_name'])\ndata3 = pd.DataFrame(raw_data_3, columns = ['subject_id','test_id'])\n\ndata3",
   "metadata": {
    "tags": [],
    "cell_id": "00013-c5592cc7-9bdb-4b0d-b111-5b02bb95be34",
    "deepnote_to_be_reexecuted": false,
    "source_hash": "b87f500d",
    "execution_start": 1640453816072,
    "execution_millis": 213,
    "deepnote_cell_type": "code"
   },
   "outputs": [
    {
     "output_type": "execute_result",
     "execution_count": 15,
     "data": {
      "application/vnd.deepnote.dataframe.v3+json": {
       "column_count": 2,
       "row_count": 10,
       "columns": [
        {
         "name": "subject_id",
         "dtype": "object",
         "stats": {
          "unique_count": 10,
          "nan_count": 0,
          "categories": [
           {
            "name": "1",
            "count": 1
           },
           {
            "name": "2",
            "count": 1
           },
           {
            "name": "8 others",
            "count": 8
           }
          ]
         }
        },
        {
         "name": "test_id",
         "dtype": "int64",
         "stats": {
          "unique_count": 6,
          "nan_count": 0,
          "min": "1",
          "max": "61",
          "histogram": [
           {
            "bin_start": 1,
            "bin_end": 7,
            "count": 1
           },
           {
            "bin_start": 7,
            "bin_end": 13,
            "count": 0
           },
           {
            "bin_start": 13,
            "bin_end": 19,
            "count": 6
           },
           {
            "bin_start": 19,
            "bin_end": 25,
            "count": 0
           },
           {
            "bin_start": 25,
            "bin_end": 31,
            "count": 0
           },
           {
            "bin_start": 31,
            "bin_end": 37,
            "count": 0
           },
           {
            "bin_start": 37,
            "bin_end": 43,
            "count": 0
           },
           {
            "bin_start": 43,
            "bin_end": 49,
            "count": 0
           },
           {
            "bin_start": 49,
            "bin_end": 55,
            "count": 1
           },
           {
            "bin_start": 55,
            "bin_end": 61,
            "count": 2
           }
          ]
         }
        },
        {
         "name": "_deepnote_index_column",
         "dtype": "int64"
        }
       ],
       "rows": [
        {
         "subject_id": "1",
         "test_id": 51,
         "_deepnote_index_column": 0
        },
        {
         "subject_id": "2",
         "test_id": 15,
         "_deepnote_index_column": 1
        },
        {
         "subject_id": "3",
         "test_id": 15,
         "_deepnote_index_column": 2
        },
        {
         "subject_id": "4",
         "test_id": 61,
         "_deepnote_index_column": 3
        },
        {
         "subject_id": "5",
         "test_id": 16,
         "_deepnote_index_column": 4
        },
        {
         "subject_id": "7",
         "test_id": 14,
         "_deepnote_index_column": 5
        },
        {
         "subject_id": "8",
         "test_id": 15,
         "_deepnote_index_column": 6
        },
        {
         "subject_id": "9",
         "test_id": 1,
         "_deepnote_index_column": 7
        },
        {
         "subject_id": "10",
         "test_id": 61,
         "_deepnote_index_column": 8
        },
        {
         "subject_id": "11",
         "test_id": 16,
         "_deepnote_index_column": 9
        }
       ]
      },
      "text/plain": "  subject_id  test_id\n0          1       51\n1          2       15\n2          3       15\n3          4       61\n4          5       16\n5          7       14\n6          8       15\n7          9        1\n8         10       61\n9         11       16",
      "text/html": "<div>\n<style scoped>\n    .dataframe tbody tr th:only-of-type {\n        vertical-align: middle;\n    }\n\n    .dataframe tbody tr th {\n        vertical-align: top;\n    }\n\n    .dataframe thead th {\n        text-align: right;\n    }\n</style>\n<table border=\"1\" class=\"dataframe\">\n  <thead>\n    <tr style=\"text-align: right;\">\n      <th></th>\n      <th>subject_id</th>\n      <th>test_id</th>\n    </tr>\n  </thead>\n  <tbody>\n    <tr>\n      <th>0</th>\n      <td>1</td>\n      <td>51</td>\n    </tr>\n    <tr>\n      <th>1</th>\n      <td>2</td>\n      <td>15</td>\n    </tr>\n    <tr>\n      <th>2</th>\n      <td>3</td>\n      <td>15</td>\n    </tr>\n    <tr>\n      <th>3</th>\n      <td>4</td>\n      <td>61</td>\n    </tr>\n    <tr>\n      <th>4</th>\n      <td>5</td>\n      <td>16</td>\n    </tr>\n    <tr>\n      <th>5</th>\n      <td>7</td>\n      <td>14</td>\n    </tr>\n    <tr>\n      <th>6</th>\n      <td>8</td>\n      <td>15</td>\n    </tr>\n    <tr>\n      <th>7</th>\n      <td>9</td>\n      <td>1</td>\n    </tr>\n    <tr>\n      <th>8</th>\n      <td>10</td>\n      <td>61</td>\n    </tr>\n    <tr>\n      <th>9</th>\n      <td>11</td>\n      <td>16</td>\n    </tr>\n  </tbody>\n</table>\n</div>"
     },
     "metadata": {}
    }
   ],
   "execution_count": null
  },
  {
   "cell_type": "code",
   "source": "#Step 4. Join the two dataframes along rows and assign all_data\nall_data = pd.concat([data1, data2])\nall_data.head()",
   "metadata": {
    "tags": [],
    "cell_id": "00014-c6202442-b9ee-4817-a88e-fe90296b9cba",
    "deepnote_to_be_reexecuted": false,
    "source_hash": "1e1743c2",
    "execution_start": 1640453870717,
    "execution_millis": 98,
    "deepnote_cell_type": "code"
   },
   "outputs": [
    {
     "output_type": "execute_result",
     "execution_count": 16,
     "data": {
      "application/vnd.deepnote.dataframe.v3+json": {
       "column_count": 3,
       "row_count": 5,
       "columns": [
        {
         "name": "subject_id",
         "dtype": "object",
         "stats": {
          "unique_count": 5,
          "nan_count": 0,
          "categories": [
           {
            "name": "1",
            "count": 1
           },
           {
            "name": "2",
            "count": 1
           },
           {
            "name": "3 others",
            "count": 3
           }
          ]
         }
        },
        {
         "name": "first_name",
         "dtype": "object",
         "stats": {
          "unique_count": 5,
          "nan_count": 0,
          "categories": [
           {
            "name": "Alex",
            "count": 1
           },
           {
            "name": "Amy",
            "count": 1
           },
           {
            "name": "3 others",
            "count": 3
           }
          ]
         }
        },
        {
         "name": "last_name",
         "dtype": "object",
         "stats": {
          "unique_count": 5,
          "nan_count": 0,
          "categories": [
           {
            "name": "Anderson",
            "count": 1
           },
           {
            "name": "Ackerman",
            "count": 1
           },
           {
            "name": "3 others",
            "count": 3
           }
          ]
         }
        },
        {
         "name": "_deepnote_index_column",
         "dtype": "int64"
        }
       ],
       "rows": [
        {
         "subject_id": "1",
         "first_name": "Alex",
         "last_name": "Anderson",
         "_deepnote_index_column": 0
        },
        {
         "subject_id": "2",
         "first_name": "Amy",
         "last_name": "Ackerman",
         "_deepnote_index_column": 1
        },
        {
         "subject_id": "3",
         "first_name": "Allen",
         "last_name": "Ali",
         "_deepnote_index_column": 2
        },
        {
         "subject_id": "4",
         "first_name": "Alice",
         "last_name": "Aoni",
         "_deepnote_index_column": 3
        },
        {
         "subject_id": "5",
         "first_name": "Ayoung",
         "last_name": "Atiches",
         "_deepnote_index_column": 4
        }
       ]
      },
      "text/plain": "  subject_id first_name last_name\n0          1       Alex  Anderson\n1          2        Amy  Ackerman\n2          3      Allen       Ali\n3          4      Alice      Aoni\n4          5     Ayoung   Atiches",
      "text/html": "<div>\n<style scoped>\n    .dataframe tbody tr th:only-of-type {\n        vertical-align: middle;\n    }\n\n    .dataframe tbody tr th {\n        vertical-align: top;\n    }\n\n    .dataframe thead th {\n        text-align: right;\n    }\n</style>\n<table border=\"1\" class=\"dataframe\">\n  <thead>\n    <tr style=\"text-align: right;\">\n      <th></th>\n      <th>subject_id</th>\n      <th>first_name</th>\n      <th>last_name</th>\n    </tr>\n  </thead>\n  <tbody>\n    <tr>\n      <th>0</th>\n      <td>1</td>\n      <td>Alex</td>\n      <td>Anderson</td>\n    </tr>\n    <tr>\n      <th>1</th>\n      <td>2</td>\n      <td>Amy</td>\n      <td>Ackerman</td>\n    </tr>\n    <tr>\n      <th>2</th>\n      <td>3</td>\n      <td>Allen</td>\n      <td>Ali</td>\n    </tr>\n    <tr>\n      <th>3</th>\n      <td>4</td>\n      <td>Alice</td>\n      <td>Aoni</td>\n    </tr>\n    <tr>\n      <th>4</th>\n      <td>5</td>\n      <td>Ayoung</td>\n      <td>Atiches</td>\n    </tr>\n  </tbody>\n</table>\n</div>"
     },
     "metadata": {}
    }
   ],
   "execution_count": null
  },
  {
   "cell_type": "code",
   "source": "#Step 5. Join the two dataframes along columns and assing to all_data_col\nall_data_col = pd.concat([data1, data2], axis=1)\nall_data_col",
   "metadata": {
    "tags": [],
    "cell_id": "00015-53f75750-4fd5-499b-8e3f-968f99a56ee6",
    "deepnote_to_be_reexecuted": false,
    "source_hash": "b4146788",
    "execution_start": 1640453954503,
    "execution_millis": 158,
    "deepnote_cell_type": "code"
   },
   "outputs": [
    {
     "output_type": "execute_result",
     "execution_count": 17,
     "data": {
      "application/vnd.deepnote.dataframe.v3+json": {
       "column_count": 6,
       "row_count": 5,
       "columns": [
        {
         "name": "subject_id",
         "dtype": "object",
         "stats": {
          "unique_count": 5,
          "nan_count": 0,
          "categories": [
           {
            "name": "1",
            "count": 1
           },
           {
            "name": "2",
            "count": 1
           },
           {
            "name": "3 others",
            "count": 3
           }
          ]
         }
        },
        {
         "name": "first_name",
         "dtype": "object",
         "stats": {
          "unique_count": 5,
          "nan_count": 0,
          "categories": [
           {
            "name": "Alex",
            "count": 1
           },
           {
            "name": "Amy",
            "count": 1
           },
           {
            "name": "3 others",
            "count": 3
           }
          ]
         }
        },
        {
         "name": "last_name",
         "dtype": "object",
         "stats": {
          "unique_count": 5,
          "nan_count": 0,
          "categories": [
           {
            "name": "Anderson",
            "count": 1
           },
           {
            "name": "Ackerman",
            "count": 1
           },
           {
            "name": "3 others",
            "count": 3
           }
          ]
         }
        },
        {
         "name": "subject_id.1",
         "dtype": "object",
         "stats": {
          "unique_count": 5,
          "nan_count": 0,
          "categories": [
           {
            "name": "4",
            "count": 1
           },
           {
            "name": "5",
            "count": 1
           },
           {
            "name": "3 others",
            "count": 3
           }
          ]
         }
        },
        {
         "name": "first_name.1",
         "dtype": "object",
         "stats": {
          "unique_count": 5,
          "nan_count": 0,
          "categories": [
           {
            "name": "Billy",
            "count": 1
           },
           {
            "name": "Brian",
            "count": 1
           },
           {
            "name": "3 others",
            "count": 3
           }
          ]
         }
        },
        {
         "name": "last_name.1",
         "dtype": "object",
         "stats": {
          "unique_count": 5,
          "nan_count": 0,
          "categories": [
           {
            "name": "Bonder",
            "count": 1
           },
           {
            "name": "Black",
            "count": 1
           },
           {
            "name": "3 others",
            "count": 3
           }
          ]
         }
        },
        {
         "name": "_deepnote_index_column",
         "dtype": "int64"
        }
       ],
       "rows": [
        {
         "subject_id": "1",
         "first_name": "Alex",
         "last_name": "Anderson",
         "subject_id.1": "4",
         "first_name.1": "Billy",
         "last_name.1": "Bonder",
         "_deepnote_index_column": 0
        },
        {
         "subject_id": "2",
         "first_name": "Amy",
         "last_name": "Ackerman",
         "subject_id.1": "5",
         "first_name.1": "Brian",
         "last_name.1": "Black",
         "_deepnote_index_column": 1
        },
        {
         "subject_id": "3",
         "first_name": "Allen",
         "last_name": "Ali",
         "subject_id.1": "6",
         "first_name.1": "Bran",
         "last_name.1": "Balwner",
         "_deepnote_index_column": 2
        },
        {
         "subject_id": "4",
         "first_name": "Alice",
         "last_name": "Aoni",
         "subject_id.1": "7",
         "first_name.1": "Bryce",
         "last_name.1": "Brice",
         "_deepnote_index_column": 3
        },
        {
         "subject_id": "5",
         "first_name": "Ayoung",
         "last_name": "Atiches",
         "subject_id.1": "8",
         "first_name.1": "Betty",
         "last_name.1": "Btisan",
         "_deepnote_index_column": 4
        }
       ]
      },
      "text/plain": "  subject_id first_name last_name subject_id first_name last_name\n0          1       Alex  Anderson          4      Billy    Bonder\n1          2        Amy  Ackerman          5      Brian     Black\n2          3      Allen       Ali          6       Bran   Balwner\n3          4      Alice      Aoni          7      Bryce     Brice\n4          5     Ayoung   Atiches          8      Betty    Btisan",
      "text/html": "<div>\n<style scoped>\n    .dataframe tbody tr th:only-of-type {\n        vertical-align: middle;\n    }\n\n    .dataframe tbody tr th {\n        vertical-align: top;\n    }\n\n    .dataframe thead th {\n        text-align: right;\n    }\n</style>\n<table border=\"1\" class=\"dataframe\">\n  <thead>\n    <tr style=\"text-align: right;\">\n      <th></th>\n      <th>subject_id</th>\n      <th>first_name</th>\n      <th>last_name</th>\n      <th>subject_id</th>\n      <th>first_name</th>\n      <th>last_name</th>\n    </tr>\n  </thead>\n  <tbody>\n    <tr>\n      <th>0</th>\n      <td>1</td>\n      <td>Alex</td>\n      <td>Anderson</td>\n      <td>4</td>\n      <td>Billy</td>\n      <td>Bonder</td>\n    </tr>\n    <tr>\n      <th>1</th>\n      <td>2</td>\n      <td>Amy</td>\n      <td>Ackerman</td>\n      <td>5</td>\n      <td>Brian</td>\n      <td>Black</td>\n    </tr>\n    <tr>\n      <th>2</th>\n      <td>3</td>\n      <td>Allen</td>\n      <td>Ali</td>\n      <td>6</td>\n      <td>Bran</td>\n      <td>Balwner</td>\n    </tr>\n    <tr>\n      <th>3</th>\n      <td>4</td>\n      <td>Alice</td>\n      <td>Aoni</td>\n      <td>7</td>\n      <td>Bryce</td>\n      <td>Brice</td>\n    </tr>\n    <tr>\n      <th>4</th>\n      <td>5</td>\n      <td>Ayoung</td>\n      <td>Atiches</td>\n      <td>8</td>\n      <td>Betty</td>\n      <td>Btisan</td>\n    </tr>\n  </tbody>\n</table>\n</div>"
     },
     "metadata": {}
    }
   ],
   "execution_count": null
  },
  {
   "cell_type": "code",
   "source": "#Step 7. Merge all_data and data3 along the subject_id value\npd.merge(all_data, data3, on='subject_id')",
   "metadata": {
    "tags": [],
    "cell_id": "00016-1fe7cf79-13f2-4590-b0c1-45c4c572d5e3",
    "deepnote_to_be_reexecuted": false,
    "source_hash": "df646507",
    "execution_start": 1640454019076,
    "execution_millis": 78,
    "deepnote_output_heights": [
     293
    ],
    "deepnote_cell_type": "code"
   },
   "outputs": [
    {
     "output_type": "execute_result",
     "execution_count": 18,
     "data": {
      "application/vnd.deepnote.dataframe.v3+json": {
       "column_count": 4,
       "row_count": 9,
       "columns": [
        {
         "name": "subject_id",
         "dtype": "object",
         "stats": {
          "unique_count": 7,
          "nan_count": 0,
          "categories": [
           {
            "name": "4",
            "count": 2
           },
           {
            "name": "5",
            "count": 2
           },
           {
            "name": "5 others",
            "count": 5
           }
          ]
         }
        },
        {
         "name": "first_name",
         "dtype": "object",
         "stats": {
          "unique_count": 9,
          "nan_count": 0,
          "categories": [
           {
            "name": "Alex",
            "count": 1
           },
           {
            "name": "Amy",
            "count": 1
           },
           {
            "name": "7 others",
            "count": 7
           }
          ]
         }
        },
        {
         "name": "last_name",
         "dtype": "object",
         "stats": {
          "unique_count": 9,
          "nan_count": 0,
          "categories": [
           {
            "name": "Anderson",
            "count": 1
           },
           {
            "name": "Ackerman",
            "count": 1
           },
           {
            "name": "7 others",
            "count": 7
           }
          ]
         }
        },
        {
         "name": "test_id",
         "dtype": "int64",
         "stats": {
          "unique_count": 5,
          "nan_count": 0,
          "min": "14",
          "max": "61",
          "histogram": [
           {
            "bin_start": 14,
            "bin_end": 18.7,
            "count": 6
           },
           {
            "bin_start": 18.7,
            "bin_end": 23.4,
            "count": 0
           },
           {
            "bin_start": 23.4,
            "bin_end": 28.1,
            "count": 0
           },
           {
            "bin_start": 28.1,
            "bin_end": 32.8,
            "count": 0
           },
           {
            "bin_start": 32.8,
            "bin_end": 37.5,
            "count": 0
           },
           {
            "bin_start": 37.5,
            "bin_end": 42.2,
            "count": 0
           },
           {
            "bin_start": 42.2,
            "bin_end": 46.9,
            "count": 0
           },
           {
            "bin_start": 46.9,
            "bin_end": 51.6,
            "count": 1
           },
           {
            "bin_start": 51.6,
            "bin_end": 56.300000000000004,
            "count": 0
           },
           {
            "bin_start": 56.300000000000004,
            "bin_end": 61,
            "count": 2
           }
          ]
         }
        },
        {
         "name": "_deepnote_index_column",
         "dtype": "int64"
        }
       ],
       "rows": [
        {
         "subject_id": "1",
         "first_name": "Alex",
         "last_name": "Anderson",
         "test_id": 51,
         "_deepnote_index_column": 0
        },
        {
         "subject_id": "2",
         "first_name": "Amy",
         "last_name": "Ackerman",
         "test_id": 15,
         "_deepnote_index_column": 1
        },
        {
         "subject_id": "3",
         "first_name": "Allen",
         "last_name": "Ali",
         "test_id": 15,
         "_deepnote_index_column": 2
        },
        {
         "subject_id": "4",
         "first_name": "Alice",
         "last_name": "Aoni",
         "test_id": 61,
         "_deepnote_index_column": 3
        },
        {
         "subject_id": "4",
         "first_name": "Billy",
         "last_name": "Bonder",
         "test_id": 61,
         "_deepnote_index_column": 4
        },
        {
         "subject_id": "5",
         "first_name": "Ayoung",
         "last_name": "Atiches",
         "test_id": 16,
         "_deepnote_index_column": 5
        },
        {
         "subject_id": "5",
         "first_name": "Brian",
         "last_name": "Black",
         "test_id": 16,
         "_deepnote_index_column": 6
        },
        {
         "subject_id": "7",
         "first_name": "Bryce",
         "last_name": "Brice",
         "test_id": 14,
         "_deepnote_index_column": 7
        },
        {
         "subject_id": "8",
         "first_name": "Betty",
         "last_name": "Btisan",
         "test_id": 15,
         "_deepnote_index_column": 8
        }
       ]
      },
      "text/plain": "  subject_id first_name last_name  test_id\n0          1       Alex  Anderson       51\n1          2        Amy  Ackerman       15\n2          3      Allen       Ali       15\n3          4      Alice      Aoni       61\n4          4      Billy    Bonder       61\n5          5     Ayoung   Atiches       16\n6          5      Brian     Black       16\n7          7      Bryce     Brice       14\n8          8      Betty    Btisan       15",
      "text/html": "<div>\n<style scoped>\n    .dataframe tbody tr th:only-of-type {\n        vertical-align: middle;\n    }\n\n    .dataframe tbody tr th {\n        vertical-align: top;\n    }\n\n    .dataframe thead th {\n        text-align: right;\n    }\n</style>\n<table border=\"1\" class=\"dataframe\">\n  <thead>\n    <tr style=\"text-align: right;\">\n      <th></th>\n      <th>subject_id</th>\n      <th>first_name</th>\n      <th>last_name</th>\n      <th>test_id</th>\n    </tr>\n  </thead>\n  <tbody>\n    <tr>\n      <th>0</th>\n      <td>1</td>\n      <td>Alex</td>\n      <td>Anderson</td>\n      <td>51</td>\n    </tr>\n    <tr>\n      <th>1</th>\n      <td>2</td>\n      <td>Amy</td>\n      <td>Ackerman</td>\n      <td>15</td>\n    </tr>\n    <tr>\n      <th>2</th>\n      <td>3</td>\n      <td>Allen</td>\n      <td>Ali</td>\n      <td>15</td>\n    </tr>\n    <tr>\n      <th>3</th>\n      <td>4</td>\n      <td>Alice</td>\n      <td>Aoni</td>\n      <td>61</td>\n    </tr>\n    <tr>\n      <th>4</th>\n      <td>4</td>\n      <td>Billy</td>\n      <td>Bonder</td>\n      <td>61</td>\n    </tr>\n    <tr>\n      <th>5</th>\n      <td>5</td>\n      <td>Ayoung</td>\n      <td>Atiches</td>\n      <td>16</td>\n    </tr>\n    <tr>\n      <th>6</th>\n      <td>5</td>\n      <td>Brian</td>\n      <td>Black</td>\n      <td>16</td>\n    </tr>\n    <tr>\n      <th>7</th>\n      <td>7</td>\n      <td>Bryce</td>\n      <td>Brice</td>\n      <td>14</td>\n    </tr>\n    <tr>\n      <th>8</th>\n      <td>8</td>\n      <td>Betty</td>\n      <td>Btisan</td>\n      <td>15</td>\n    </tr>\n  </tbody>\n</table>\n</div>"
     },
     "metadata": {}
    }
   ],
   "execution_count": null
  },
  {
   "cell_type": "code",
   "source": "#Step 8. Merge only the data that has the same 'subject_id' on both data1 and data2\npd.merge(data1, data2, on='subject_id', how='inner')",
   "metadata": {
    "tags": [],
    "cell_id": "00017-4a911f6b-4e95-40cd-a4a2-ae97132d5f3f",
    "deepnote_to_be_reexecuted": false,
    "source_hash": "bfdda905",
    "execution_start": 1640454159562,
    "execution_millis": 81,
    "deepnote_cell_type": "code"
   },
   "outputs": [
    {
     "output_type": "execute_result",
     "execution_count": 19,
     "data": {
      "application/vnd.deepnote.dataframe.v3+json": {
       "column_count": 5,
       "row_count": 2,
       "columns": [
        {
         "name": "subject_id",
         "dtype": "object",
         "stats": {
          "unique_count": 2,
          "nan_count": 0,
          "categories": [
           {
            "name": "4",
            "count": 1
           },
           {
            "name": "5",
            "count": 1
           }
          ]
         }
        },
        {
         "name": "first_name_x",
         "dtype": "object",
         "stats": {
          "unique_count": 2,
          "nan_count": 0,
          "categories": [
           {
            "name": "Alice",
            "count": 1
           },
           {
            "name": "Ayoung",
            "count": 1
           }
          ]
         }
        },
        {
         "name": "last_name_x",
         "dtype": "object",
         "stats": {
          "unique_count": 2,
          "nan_count": 0,
          "categories": [
           {
            "name": "Aoni",
            "count": 1
           },
           {
            "name": "Atiches",
            "count": 1
           }
          ]
         }
        },
        {
         "name": "first_name_y",
         "dtype": "object",
         "stats": {
          "unique_count": 2,
          "nan_count": 0,
          "categories": [
           {
            "name": "Billy",
            "count": 1
           },
           {
            "name": "Brian",
            "count": 1
           }
          ]
         }
        },
        {
         "name": "last_name_y",
         "dtype": "object",
         "stats": {
          "unique_count": 2,
          "nan_count": 0,
          "categories": [
           {
            "name": "Bonder",
            "count": 1
           },
           {
            "name": "Black",
            "count": 1
           }
          ]
         }
        },
        {
         "name": "_deepnote_index_column",
         "dtype": "int64"
        }
       ],
       "rows": [
        {
         "subject_id": "4",
         "first_name_x": "Alice",
         "last_name_x": "Aoni",
         "first_name_y": "Billy",
         "last_name_y": "Bonder",
         "_deepnote_index_column": 0
        },
        {
         "subject_id": "5",
         "first_name_x": "Ayoung",
         "last_name_x": "Atiches",
         "first_name_y": "Brian",
         "last_name_y": "Black",
         "_deepnote_index_column": 1
        }
       ]
      },
      "text/plain": "  subject_id first_name_x last_name_x first_name_y last_name_y\n0          4        Alice        Aoni        Billy      Bonder\n1          5       Ayoung     Atiches        Brian       Black",
      "text/html": "<div>\n<style scoped>\n    .dataframe tbody tr th:only-of-type {\n        vertical-align: middle;\n    }\n\n    .dataframe tbody tr th {\n        vertical-align: top;\n    }\n\n    .dataframe thead th {\n        text-align: right;\n    }\n</style>\n<table border=\"1\" class=\"dataframe\">\n  <thead>\n    <tr style=\"text-align: right;\">\n      <th></th>\n      <th>subject_id</th>\n      <th>first_name_x</th>\n      <th>last_name_x</th>\n      <th>first_name_y</th>\n      <th>last_name_y</th>\n    </tr>\n  </thead>\n  <tbody>\n    <tr>\n      <th>0</th>\n      <td>4</td>\n      <td>Alice</td>\n      <td>Aoni</td>\n      <td>Billy</td>\n      <td>Bonder</td>\n    </tr>\n    <tr>\n      <th>1</th>\n      <td>5</td>\n      <td>Ayoung</td>\n      <td>Atiches</td>\n      <td>Brian</td>\n      <td>Black</td>\n    </tr>\n  </tbody>\n</table>\n</div>"
     },
     "metadata": {}
    }
   ],
   "execution_count": null
  },
  {
   "cell_type": "code",
   "source": "#Step 9. Merge all values in data1 and data2, with matching records from both sides where available.\npd.merge(data1, data2, on='subject_id', how='outer')",
   "metadata": {
    "tags": [],
    "cell_id": "00018-2cbb9cf8-dc36-4b7f-8daf-0e99e75fdb71",
    "deepnote_to_be_reexecuted": false,
    "source_hash": "ec598f3d",
    "execution_start": 1640454209591,
    "execution_millis": 209,
    "deepnote_cell_type": "code"
   },
   "outputs": [
    {
     "output_type": "execute_result",
     "execution_count": 21,
     "data": {
      "application/vnd.deepnote.dataframe.v3+json": {
       "column_count": 5,
       "row_count": 8,
       "columns": [
        {
         "name": "subject_id",
         "dtype": "object",
         "stats": {
          "unique_count": 8,
          "nan_count": 0,
          "categories": [
           {
            "name": "1",
            "count": 1
           },
           {
            "name": "2",
            "count": 1
           },
           {
            "name": "6 others",
            "count": 6
           }
          ]
         }
        },
        {
         "name": "first_name_x",
         "dtype": "object",
         "stats": {
          "unique_count": 5,
          "nan_count": 3,
          "categories": [
           {
            "name": "Alex",
            "count": 1
           },
           {
            "name": "4 others",
            "count": 4
           },
           {
            "name": "Missing",
            "count": 3
           }
          ]
         }
        },
        {
         "name": "last_name_x",
         "dtype": "object",
         "stats": {
          "unique_count": 5,
          "nan_count": 3,
          "categories": [
           {
            "name": "Anderson",
            "count": 1
           },
           {
            "name": "4 others",
            "count": 4
           },
           {
            "name": "Missing",
            "count": 3
           }
          ]
         }
        },
        {
         "name": "first_name_y",
         "dtype": "object",
         "stats": {
          "unique_count": 5,
          "nan_count": 3,
          "categories": [
           {
            "name": "Billy",
            "count": 1
           },
           {
            "name": "4 others",
            "count": 4
           },
           {
            "name": "Missing",
            "count": 3
           }
          ]
         }
        },
        {
         "name": "last_name_y",
         "dtype": "object",
         "stats": {
          "unique_count": 5,
          "nan_count": 3,
          "categories": [
           {
            "name": "Bonder",
            "count": 1
           },
           {
            "name": "4 others",
            "count": 4
           },
           {
            "name": "Missing",
            "count": 3
           }
          ]
         }
        },
        {
         "name": "_deepnote_index_column",
         "dtype": "int64"
        }
       ],
       "rows": [
        {
         "subject_id": "1",
         "first_name_x": "Alex",
         "last_name_x": "Anderson",
         "first_name_y": "nan",
         "last_name_y": "nan",
         "_deepnote_index_column": 0
        },
        {
         "subject_id": "2",
         "first_name_x": "Amy",
         "last_name_x": "Ackerman",
         "first_name_y": "nan",
         "last_name_y": "nan",
         "_deepnote_index_column": 1
        },
        {
         "subject_id": "3",
         "first_name_x": "Allen",
         "last_name_x": "Ali",
         "first_name_y": "nan",
         "last_name_y": "nan",
         "_deepnote_index_column": 2
        },
        {
         "subject_id": "4",
         "first_name_x": "Alice",
         "last_name_x": "Aoni",
         "first_name_y": "Billy",
         "last_name_y": "Bonder",
         "_deepnote_index_column": 3
        },
        {
         "subject_id": "5",
         "first_name_x": "Ayoung",
         "last_name_x": "Atiches",
         "first_name_y": "Brian",
         "last_name_y": "Black",
         "_deepnote_index_column": 4
        },
        {
         "subject_id": "6",
         "first_name_x": "nan",
         "last_name_x": "nan",
         "first_name_y": "Bran",
         "last_name_y": "Balwner",
         "_deepnote_index_column": 5
        },
        {
         "subject_id": "7",
         "first_name_x": "nan",
         "last_name_x": "nan",
         "first_name_y": "Bryce",
         "last_name_y": "Brice",
         "_deepnote_index_column": 6
        },
        {
         "subject_id": "8",
         "first_name_x": "nan",
         "last_name_x": "nan",
         "first_name_y": "Betty",
         "last_name_y": "Btisan",
         "_deepnote_index_column": 7
        }
       ]
      },
      "text/plain": "  subject_id first_name_x last_name_x first_name_y last_name_y\n0          1         Alex    Anderson          NaN         NaN\n1          2          Amy    Ackerman          NaN         NaN\n2          3        Allen         Ali          NaN         NaN\n3          4        Alice        Aoni        Billy      Bonder\n4          5       Ayoung     Atiches        Brian       Black\n5          6          NaN         NaN         Bran     Balwner\n6          7          NaN         NaN        Bryce       Brice\n7          8          NaN         NaN        Betty      Btisan",
      "text/html": "<div>\n<style scoped>\n    .dataframe tbody tr th:only-of-type {\n        vertical-align: middle;\n    }\n\n    .dataframe tbody tr th {\n        vertical-align: top;\n    }\n\n    .dataframe thead th {\n        text-align: right;\n    }\n</style>\n<table border=\"1\" class=\"dataframe\">\n  <thead>\n    <tr style=\"text-align: right;\">\n      <th></th>\n      <th>subject_id</th>\n      <th>first_name_x</th>\n      <th>last_name_x</th>\n      <th>first_name_y</th>\n      <th>last_name_y</th>\n    </tr>\n  </thead>\n  <tbody>\n    <tr>\n      <th>0</th>\n      <td>1</td>\n      <td>Alex</td>\n      <td>Anderson</td>\n      <td>NaN</td>\n      <td>NaN</td>\n    </tr>\n    <tr>\n      <th>1</th>\n      <td>2</td>\n      <td>Amy</td>\n      <td>Ackerman</td>\n      <td>NaN</td>\n      <td>NaN</td>\n    </tr>\n    <tr>\n      <th>2</th>\n      <td>3</td>\n      <td>Allen</td>\n      <td>Ali</td>\n      <td>NaN</td>\n      <td>NaN</td>\n    </tr>\n    <tr>\n      <th>3</th>\n      <td>4</td>\n      <td>Alice</td>\n      <td>Aoni</td>\n      <td>Billy</td>\n      <td>Bonder</td>\n    </tr>\n    <tr>\n      <th>4</th>\n      <td>5</td>\n      <td>Ayoung</td>\n      <td>Atiches</td>\n      <td>Brian</td>\n      <td>Black</td>\n    </tr>\n    <tr>\n      <th>5</th>\n      <td>6</td>\n      <td>NaN</td>\n      <td>NaN</td>\n      <td>Bran</td>\n      <td>Balwner</td>\n    </tr>\n    <tr>\n      <th>6</th>\n      <td>7</td>\n      <td>NaN</td>\n      <td>NaN</td>\n      <td>Bryce</td>\n      <td>Brice</td>\n    </tr>\n    <tr>\n      <th>7</th>\n      <td>8</td>\n      <td>NaN</td>\n      <td>NaN</td>\n      <td>Betty</td>\n      <td>Btisan</td>\n    </tr>\n  </tbody>\n</table>\n</div>"
     },
     "metadata": {}
    }
   ],
   "execution_count": null
  },
  {
   "cell_type": "code",
   "source": "",
   "metadata": {
    "tags": [],
    "cell_id": "00019-a8370152-9e57-498b-8435-46939651031c",
    "deepnote_cell_type": "code"
   },
   "outputs": [],
   "execution_count": null
  },
  {
   "cell_type": "markdown",
   "source": "# Housing Market",
   "metadata": {
    "tags": [],
    "is_collapsed": false,
    "cell_id": "00020-411640be-f8f7-47c5-8677-9666de0d3fa9",
    "deepnote_cell_type": "text-cell-h1"
   }
  },
  {
   "cell_type": "code",
   "source": "import pandas as pd\nimport numpy as np",
   "metadata": {
    "tags": [],
    "cell_id": "00021-b0971eb2-8a5f-4a85-9aff-5369a57fe09c",
    "deepnote_to_be_reexecuted": false,
    "source_hash": "c76c7c51",
    "execution_start": 1640454267663,
    "execution_millis": 1,
    "deepnote_cell_type": "code"
   },
   "outputs": [],
   "execution_count": null
  },
  {
   "cell_type": "code",
   "source": "s1 = pd.Series(np.random.randint(1, high=5, size=100, dtype='l'))\ns2 = pd.Series(np.random.randint(1, high=4, size=100, dtype='l'))\ns3 = pd.Series(np.random.randint(10000, high=30001, size=100, dtype='l'))\n\nprint(s1, s2, s3)",
   "metadata": {
    "tags": [],
    "cell_id": "00022-80522c53-9305-4933-8a4d-01a344420850",
    "deepnote_to_be_reexecuted": false,
    "source_hash": "e7c7de78",
    "execution_start": 1640454293719,
    "execution_millis": 6,
    "deepnote_cell_type": "code"
   },
   "outputs": [
    {
     "name": "stdout",
     "text": "0     3\n1     1\n2     3\n3     1\n4     3\n     ..\n95    2\n96    4\n97    1\n98    2\n99    1\nLength: 100, dtype: int64 0     2\n1     3\n2     3\n3     2\n4     1\n     ..\n95    1\n96    3\n97    3\n98    2\n99    1\nLength: 100, dtype: int64 0     27091\n1     16837\n2     20378\n3     20148\n4     12123\n      ...  \n95    10545\n96    29162\n97    21505\n98    20356\n99    14762\nLength: 100, dtype: int64\n",
     "output_type": "stream",
     "data": {}
    }
   ],
   "execution_count": null
  },
  {
   "cell_type": "code",
   "source": "#Step 3. Let's create a DataFrame by joinning the Series by column\nhousemkt = pd.concat([s1,s2,s3],axis=1)\nhousemkt.head()",
   "metadata": {
    "tags": [],
    "cell_id": "00023-a02d7d74-18fb-4dbd-9eec-0cba26e6a166",
    "deepnote_to_be_reexecuted": false,
    "source_hash": "7ba9a5a4",
    "execution_start": 1640454382050,
    "execution_millis": 60,
    "deepnote_output_heights": [
     177
    ],
    "deepnote_cell_type": "code"
   },
   "outputs": [
    {
     "output_type": "execute_result",
     "execution_count": 25,
     "data": {
      "application/vnd.deepnote.dataframe.v3+json": {
       "column_count": 3,
       "row_count": 5,
       "columns": [
        {
         "name": 0,
         "dtype": "int64",
         "stats": {
          "unique_count": 2,
          "nan_count": 0,
          "min": "1",
          "max": "3",
          "histogram": [
           {
            "bin_start": 1,
            "bin_end": 1.2,
            "count": 2
           },
           {
            "bin_start": 1.2,
            "bin_end": 1.4,
            "count": 0
           },
           {
            "bin_start": 1.4,
            "bin_end": 1.6,
            "count": 0
           },
           {
            "bin_start": 1.6,
            "bin_end": 1.8,
            "count": 0
           },
           {
            "bin_start": 1.8,
            "bin_end": 2,
            "count": 0
           },
           {
            "bin_start": 2,
            "bin_end": 2.2,
            "count": 0
           },
           {
            "bin_start": 2.2,
            "bin_end": 2.4000000000000004,
            "count": 0
           },
           {
            "bin_start": 2.4000000000000004,
            "bin_end": 2.6,
            "count": 0
           },
           {
            "bin_start": 2.6,
            "bin_end": 2.8,
            "count": 0
           },
           {
            "bin_start": 2.8,
            "bin_end": 3,
            "count": 3
           }
          ]
         }
        },
        {
         "name": 1,
         "dtype": "int64",
         "stats": {
          "unique_count": 3,
          "nan_count": 0,
          "min": "1",
          "max": "3",
          "histogram": [
           {
            "bin_start": 1,
            "bin_end": 1.2,
            "count": 1
           },
           {
            "bin_start": 1.2,
            "bin_end": 1.4,
            "count": 0
           },
           {
            "bin_start": 1.4,
            "bin_end": 1.6,
            "count": 0
           },
           {
            "bin_start": 1.6,
            "bin_end": 1.8,
            "count": 0
           },
           {
            "bin_start": 1.8,
            "bin_end": 2,
            "count": 0
           },
           {
            "bin_start": 2,
            "bin_end": 2.2,
            "count": 2
           },
           {
            "bin_start": 2.2,
            "bin_end": 2.4000000000000004,
            "count": 0
           },
           {
            "bin_start": 2.4000000000000004,
            "bin_end": 2.6,
            "count": 0
           },
           {
            "bin_start": 2.6,
            "bin_end": 2.8,
            "count": 0
           },
           {
            "bin_start": 2.8,
            "bin_end": 3,
            "count": 2
           }
          ]
         }
        },
        {
         "name": 2,
         "dtype": "int64",
         "stats": {
          "unique_count": 5,
          "nan_count": 0,
          "min": "12123",
          "max": "27091",
          "histogram": [
           {
            "bin_start": 12123,
            "bin_end": 13619.8,
            "count": 1
           },
           {
            "bin_start": 13619.8,
            "bin_end": 15116.6,
            "count": 0
           },
           {
            "bin_start": 15116.6,
            "bin_end": 16613.4,
            "count": 0
           },
           {
            "bin_start": 16613.4,
            "bin_end": 18110.2,
            "count": 1
           },
           {
            "bin_start": 18110.2,
            "bin_end": 19607,
            "count": 0
           },
           {
            "bin_start": 19607,
            "bin_end": 21103.8,
            "count": 2
           },
           {
            "bin_start": 21103.8,
            "bin_end": 22600.6,
            "count": 0
           },
           {
            "bin_start": 22600.6,
            "bin_end": 24097.4,
            "count": 0
           },
           {
            "bin_start": 24097.4,
            "bin_end": 25594.199999999997,
            "count": 0
           },
           {
            "bin_start": 25594.199999999997,
            "bin_end": 27091,
            "count": 1
           }
          ]
         }
        },
        {
         "name": "_deepnote_index_column",
         "dtype": "int64"
        }
       ],
       "rows": [
        {
         "0": 3,
         "1": 2,
         "2": 27091,
         "_deepnote_index_column": 0
        },
        {
         "0": 1,
         "1": 3,
         "2": 16837,
         "_deepnote_index_column": 1
        },
        {
         "0": 3,
         "1": 3,
         "2": 20378,
         "_deepnote_index_column": 2
        },
        {
         "0": 1,
         "1": 2,
         "2": 20148,
         "_deepnote_index_column": 3
        },
        {
         "0": 3,
         "1": 1,
         "2": 12123,
         "_deepnote_index_column": 4
        }
       ]
      },
      "text/plain": "   0  1      2\n0  3  2  27091\n1  1  3  16837\n2  3  3  20378\n3  1  2  20148\n4  3  1  12123",
      "text/html": "<div>\n<style scoped>\n    .dataframe tbody tr th:only-of-type {\n        vertical-align: middle;\n    }\n\n    .dataframe tbody tr th {\n        vertical-align: top;\n    }\n\n    .dataframe thead th {\n        text-align: right;\n    }\n</style>\n<table border=\"1\" class=\"dataframe\">\n  <thead>\n    <tr style=\"text-align: right;\">\n      <th></th>\n      <th>0</th>\n      <th>1</th>\n      <th>2</th>\n    </tr>\n  </thead>\n  <tbody>\n    <tr>\n      <th>0</th>\n      <td>3</td>\n      <td>2</td>\n      <td>27091</td>\n    </tr>\n    <tr>\n      <th>1</th>\n      <td>1</td>\n      <td>3</td>\n      <td>16837</td>\n    </tr>\n    <tr>\n      <th>2</th>\n      <td>3</td>\n      <td>3</td>\n      <td>20378</td>\n    </tr>\n    <tr>\n      <th>3</th>\n      <td>1</td>\n      <td>2</td>\n      <td>20148</td>\n    </tr>\n    <tr>\n      <th>4</th>\n      <td>3</td>\n      <td>1</td>\n      <td>12123</td>\n    </tr>\n  </tbody>\n</table>\n</div>"
     },
     "metadata": {}
    }
   ],
   "execution_count": null
  },
  {
   "cell_type": "code",
   "source": "#Step 4. Change the name of the columns to bedrs, bathrs, price_sqr_meter\nhousemkt.rename(columns={0:'bedrs', 1:'bathrs', 2:'price_sqr_meter'}, inplace=True)\nhousemkt",
   "metadata": {
    "tags": [],
    "cell_id": "00024-aa20c3e5-ccc1-4bde-a27d-0d5797404b51",
    "deepnote_to_be_reexecuted": false,
    "source_hash": "532acfc3",
    "execution_start": 1640454540939,
    "execution_millis": 45,
    "deepnote_output_heights": [
     382.1875
    ],
    "deepnote_cell_type": "code"
   },
   "outputs": [
    {
     "output_type": "execute_result",
     "execution_count": 27,
     "data": {
      "application/vnd.deepnote.dataframe.v3+json": {
       "column_count": 3,
       "row_count": 100,
       "columns": [
        {
         "name": "bedrs",
         "dtype": "int64",
         "stats": {
          "unique_count": 4,
          "nan_count": 0,
          "min": "1",
          "max": "4",
          "histogram": [
           {
            "bin_start": 1,
            "bin_end": 1.3,
            "count": 29
           },
           {
            "bin_start": 1.3,
            "bin_end": 1.6,
            "count": 0
           },
           {
            "bin_start": 1.6,
            "bin_end": 1.9,
            "count": 0
           },
           {
            "bin_start": 1.9,
            "bin_end": 2.2,
            "count": 27
           },
           {
            "bin_start": 2.2,
            "bin_end": 2.5,
            "count": 0
           },
           {
            "bin_start": 2.5,
            "bin_end": 2.8,
            "count": 0
           },
           {
            "bin_start": 2.8,
            "bin_end": 3.1,
            "count": 29
           },
           {
            "bin_start": 3.1,
            "bin_end": 3.4,
            "count": 0
           },
           {
            "bin_start": 3.4,
            "bin_end": 3.6999999999999997,
            "count": 0
           },
           {
            "bin_start": 3.6999999999999997,
            "bin_end": 4,
            "count": 15
           }
          ]
         }
        },
        {
         "name": "bathrs",
         "dtype": "int64",
         "stats": {
          "unique_count": 3,
          "nan_count": 0,
          "min": "1",
          "max": "3",
          "histogram": [
           {
            "bin_start": 1,
            "bin_end": 1.2,
            "count": 33
           },
           {
            "bin_start": 1.2,
            "bin_end": 1.4,
            "count": 0
           },
           {
            "bin_start": 1.4,
            "bin_end": 1.6,
            "count": 0
           },
           {
            "bin_start": 1.6,
            "bin_end": 1.8,
            "count": 0
           },
           {
            "bin_start": 1.8,
            "bin_end": 2,
            "count": 0
           },
           {
            "bin_start": 2,
            "bin_end": 2.2,
            "count": 30
           },
           {
            "bin_start": 2.2,
            "bin_end": 2.4000000000000004,
            "count": 0
           },
           {
            "bin_start": 2.4000000000000004,
            "bin_end": 2.6,
            "count": 0
           },
           {
            "bin_start": 2.6,
            "bin_end": 2.8,
            "count": 0
           },
           {
            "bin_start": 2.8,
            "bin_end": 3,
            "count": 37
           }
          ]
         }
        },
        {
         "name": "price_sqr_meter",
         "dtype": "int64",
         "stats": {
          "unique_count": 99,
          "nan_count": 0,
          "min": "10307",
          "max": "29741",
          "histogram": [
           {
            "bin_start": 10307,
            "bin_end": 12250.4,
            "count": 7
           },
           {
            "bin_start": 12250.4,
            "bin_end": 14193.8,
            "count": 15
           },
           {
            "bin_start": 14193.8,
            "bin_end": 16137.2,
            "count": 11
           },
           {
            "bin_start": 16137.2,
            "bin_end": 18080.6,
            "count": 7
           },
           {
            "bin_start": 18080.6,
            "bin_end": 20024,
            "count": 12
           },
           {
            "bin_start": 20024,
            "bin_end": 21967.4,
            "count": 14
           },
           {
            "bin_start": 21967.4,
            "bin_end": 23910.800000000003,
            "count": 9
           },
           {
            "bin_start": 23910.800000000003,
            "bin_end": 25854.2,
            "count": 7
           },
           {
            "bin_start": 25854.2,
            "bin_end": 27797.600000000002,
            "count": 7
           },
           {
            "bin_start": 27797.600000000002,
            "bin_end": 29741,
            "count": 11
           }
          ]
         }
        },
        {
         "name": "_deepnote_index_column",
         "dtype": "int64"
        }
       ],
       "rows": [
        {
         "bedrs": 3,
         "bathrs": 2,
         "price_sqr_meter": 27091,
         "_deepnote_index_column": 0
        },
        {
         "bedrs": 1,
         "bathrs": 3,
         "price_sqr_meter": 16837,
         "_deepnote_index_column": 1
        },
        {
         "bedrs": 3,
         "bathrs": 3,
         "price_sqr_meter": 20378,
         "_deepnote_index_column": 2
        },
        {
         "bedrs": 1,
         "bathrs": 2,
         "price_sqr_meter": 20148,
         "_deepnote_index_column": 3
        },
        {
         "bedrs": 3,
         "bathrs": 1,
         "price_sqr_meter": 12123,
         "_deepnote_index_column": 4
        },
        {
         "bedrs": 3,
         "bathrs": 1,
         "price_sqr_meter": 20251,
         "_deepnote_index_column": 5
        },
        {
         "bedrs": 3,
         "bathrs": 3,
         "price_sqr_meter": 22078,
         "_deepnote_index_column": 6
        },
        {
         "bedrs": 1,
         "bathrs": 1,
         "price_sqr_meter": 21837,
         "_deepnote_index_column": 7
        },
        {
         "bedrs": 1,
         "bathrs": 2,
         "price_sqr_meter": 29509,
         "_deepnote_index_column": 8
        },
        {
         "bedrs": 1,
         "bathrs": 1,
         "price_sqr_meter": 29502,
         "_deepnote_index_column": 9
        }
       ]
      },
      "text/plain": "    bedrs  bathrs  price_sqr_meter\n0       3       2            27091\n1       1       3            16837\n2       3       3            20378\n3       1       2            20148\n4       3       1            12123\n..    ...     ...              ...\n95      2       1            10545\n96      4       3            29162\n97      1       3            21505\n98      2       2            20356\n99      1       1            14762\n\n[100 rows x 3 columns]",
      "text/html": "<div>\n<style scoped>\n    .dataframe tbody tr th:only-of-type {\n        vertical-align: middle;\n    }\n\n    .dataframe tbody tr th {\n        vertical-align: top;\n    }\n\n    .dataframe thead th {\n        text-align: right;\n    }\n</style>\n<table border=\"1\" class=\"dataframe\">\n  <thead>\n    <tr style=\"text-align: right;\">\n      <th></th>\n      <th>bedrs</th>\n      <th>bathrs</th>\n      <th>price_sqr_meter</th>\n    </tr>\n  </thead>\n  <tbody>\n    <tr>\n      <th>0</th>\n      <td>3</td>\n      <td>2</td>\n      <td>27091</td>\n    </tr>\n    <tr>\n      <th>1</th>\n      <td>1</td>\n      <td>3</td>\n      <td>16837</td>\n    </tr>\n    <tr>\n      <th>2</th>\n      <td>3</td>\n      <td>3</td>\n      <td>20378</td>\n    </tr>\n    <tr>\n      <th>3</th>\n      <td>1</td>\n      <td>2</td>\n      <td>20148</td>\n    </tr>\n    <tr>\n      <th>4</th>\n      <td>3</td>\n      <td>1</td>\n      <td>12123</td>\n    </tr>\n    <tr>\n      <th>...</th>\n      <td>...</td>\n      <td>...</td>\n      <td>...</td>\n    </tr>\n    <tr>\n      <th>95</th>\n      <td>2</td>\n      <td>1</td>\n      <td>10545</td>\n    </tr>\n    <tr>\n      <th>96</th>\n      <td>4</td>\n      <td>3</td>\n      <td>29162</td>\n    </tr>\n    <tr>\n      <th>97</th>\n      <td>1</td>\n      <td>3</td>\n      <td>21505</td>\n    </tr>\n    <tr>\n      <th>98</th>\n      <td>2</td>\n      <td>2</td>\n      <td>20356</td>\n    </tr>\n    <tr>\n      <th>99</th>\n      <td>1</td>\n      <td>1</td>\n      <td>14762</td>\n    </tr>\n  </tbody>\n</table>\n<p>100 rows × 3 columns</p>\n</div>"
     },
     "metadata": {}
    }
   ],
   "execution_count": null
  },
  {
   "cell_type": "code",
   "source": "#Step 5. Create a one column DataFrame with the values of the 3 Series and assign it to 'bigcolumn'\nbigcolumn =pd.concat([s1,s2,s3], axis=0)\nbigcolumn = bigcolumn.to_frame()\nbigcolumn",
   "metadata": {
    "tags": [],
    "cell_id": "00025-f0f94be4-4dfa-401c-a83d-05c6bee1784e",
    "deepnote_to_be_reexecuted": false,
    "source_hash": "35a6e754",
    "execution_start": 1640454775034,
    "execution_millis": 105,
    "deepnote_output_heights": [
     382.1875
    ],
    "deepnote_cell_type": "code"
   },
   "outputs": [
    {
     "output_type": "execute_result",
     "execution_count": 29,
     "data": {
      "application/vnd.deepnote.dataframe.v3+json": {
       "column_count": 1,
       "row_count": 300,
       "columns": [
        {
         "name": 0,
         "dtype": "int64",
         "stats": {
          "unique_count": 103,
          "nan_count": 0,
          "min": "1",
          "max": "29741",
          "histogram": [
           {
            "bin_start": 1,
            "bin_end": 2975,
            "count": 200
           },
           {
            "bin_start": 2975,
            "bin_end": 5949,
            "count": 0
           },
           {
            "bin_start": 5949,
            "bin_end": 8923,
            "count": 0
           },
           {
            "bin_start": 8923,
            "bin_end": 11897,
            "count": 6
           },
           {
            "bin_start": 11897,
            "bin_end": 14871,
            "count": 21
           },
           {
            "bin_start": 14871,
            "bin_end": 17845,
            "count": 13
           },
           {
            "bin_start": 17845,
            "bin_end": 20819,
            "count": 19
           },
           {
            "bin_start": 20819,
            "bin_end": 23793,
            "count": 15
           },
           {
            "bin_start": 23793,
            "bin_end": 26767,
            "count": 13
           },
           {
            "bin_start": 26767,
            "bin_end": 29741,
            "count": 13
           }
          ]
         }
        },
        {
         "name": "_deepnote_index_column",
         "dtype": "int64"
        }
       ],
       "rows": [
        {
         "0": 3,
         "_deepnote_index_column": 0
        },
        {
         "0": 1,
         "_deepnote_index_column": 1
        },
        {
         "0": 3,
         "_deepnote_index_column": 2
        },
        {
         "0": 1,
         "_deepnote_index_column": 3
        },
        {
         "0": 3,
         "_deepnote_index_column": 4
        },
        {
         "0": 3,
         "_deepnote_index_column": 5
        },
        {
         "0": 3,
         "_deepnote_index_column": 6
        },
        {
         "0": 1,
         "_deepnote_index_column": 7
        },
        {
         "0": 1,
         "_deepnote_index_column": 8
        },
        {
         "0": 1,
         "_deepnote_index_column": 9
        }
       ]
      },
      "text/plain": "        0\n0       3\n1       1\n2       3\n3       1\n4       3\n..    ...\n95  10545\n96  29162\n97  21505\n98  20356\n99  14762\n\n[300 rows x 1 columns]",
      "text/html": "<div>\n<style scoped>\n    .dataframe tbody tr th:only-of-type {\n        vertical-align: middle;\n    }\n\n    .dataframe tbody tr th {\n        vertical-align: top;\n    }\n\n    .dataframe thead th {\n        text-align: right;\n    }\n</style>\n<table border=\"1\" class=\"dataframe\">\n  <thead>\n    <tr style=\"text-align: right;\">\n      <th></th>\n      <th>0</th>\n    </tr>\n  </thead>\n  <tbody>\n    <tr>\n      <th>0</th>\n      <td>3</td>\n    </tr>\n    <tr>\n      <th>1</th>\n      <td>1</td>\n    </tr>\n    <tr>\n      <th>2</th>\n      <td>3</td>\n    </tr>\n    <tr>\n      <th>3</th>\n      <td>1</td>\n    </tr>\n    <tr>\n      <th>4</th>\n      <td>3</td>\n    </tr>\n    <tr>\n      <th>...</th>\n      <td>...</td>\n    </tr>\n    <tr>\n      <th>95</th>\n      <td>10545</td>\n    </tr>\n    <tr>\n      <th>96</th>\n      <td>29162</td>\n    </tr>\n    <tr>\n      <th>97</th>\n      <td>21505</td>\n    </tr>\n    <tr>\n      <th>98</th>\n      <td>20356</td>\n    </tr>\n    <tr>\n      <th>99</th>\n      <td>14762</td>\n    </tr>\n  </tbody>\n</table>\n<p>300 rows × 1 columns</p>\n</div>"
     },
     "metadata": {}
    }
   ],
   "execution_count": null
  },
  {
   "cell_type": "code",
   "source": "#Step 6. Oops, it seems it is going only until index 99. Is it true?\nbigcolumn.size",
   "metadata": {
    "tags": [],
    "cell_id": "00026-18cb8d2d-61b6-4ea9-8fa6-4e97ec7b2765",
    "deepnote_to_be_reexecuted": false,
    "source_hash": "239ba027",
    "execution_start": 1640454812769,
    "execution_millis": 130,
    "deepnote_output_heights": [
     21.1875
    ],
    "deepnote_cell_type": "code"
   },
   "outputs": [
    {
     "output_type": "execute_result",
     "execution_count": 30,
     "data": {
      "text/plain": "300"
     },
     "metadata": {}
    }
   ],
   "execution_count": null
  },
  {
   "cell_type": "code",
   "source": "#Step 7. Reindex the DataFrame so it goes from 0 to 299\nbigcolumn.reset_index(drop=True, inplace=True)\nbigcolumn",
   "metadata": {
    "tags": [],
    "cell_id": "00027-676fbdb1-ad7f-4c75-8136-b1fc5ffb123f",
    "deepnote_to_be_reexecuted": false,
    "source_hash": "77e4154c",
    "execution_start": 1640454837187,
    "execution_millis": 31,
    "deepnote_output_heights": [
     382.1875
    ],
    "deepnote_cell_type": "code"
   },
   "outputs": [
    {
     "output_type": "execute_result",
     "execution_count": 31,
     "data": {
      "application/vnd.deepnote.dataframe.v3+json": {
       "column_count": 1,
       "row_count": 300,
       "columns": [
        {
         "name": 0,
         "dtype": "int64",
         "stats": {
          "unique_count": 103,
          "nan_count": 0,
          "min": "1",
          "max": "29741",
          "histogram": [
           {
            "bin_start": 1,
            "bin_end": 2975,
            "count": 200
           },
           {
            "bin_start": 2975,
            "bin_end": 5949,
            "count": 0
           },
           {
            "bin_start": 5949,
            "bin_end": 8923,
            "count": 0
           },
           {
            "bin_start": 8923,
            "bin_end": 11897,
            "count": 6
           },
           {
            "bin_start": 11897,
            "bin_end": 14871,
            "count": 21
           },
           {
            "bin_start": 14871,
            "bin_end": 17845,
            "count": 13
           },
           {
            "bin_start": 17845,
            "bin_end": 20819,
            "count": 19
           },
           {
            "bin_start": 20819,
            "bin_end": 23793,
            "count": 15
           },
           {
            "bin_start": 23793,
            "bin_end": 26767,
            "count": 13
           },
           {
            "bin_start": 26767,
            "bin_end": 29741,
            "count": 13
           }
          ]
         }
        },
        {
         "name": "_deepnote_index_column",
         "dtype": "int64"
        }
       ],
       "rows": [
        {
         "0": 3,
         "_deepnote_index_column": 0
        },
        {
         "0": 1,
         "_deepnote_index_column": 1
        },
        {
         "0": 3,
         "_deepnote_index_column": 2
        },
        {
         "0": 1,
         "_deepnote_index_column": 3
        },
        {
         "0": 3,
         "_deepnote_index_column": 4
        },
        {
         "0": 3,
         "_deepnote_index_column": 5
        },
        {
         "0": 3,
         "_deepnote_index_column": 6
        },
        {
         "0": 1,
         "_deepnote_index_column": 7
        },
        {
         "0": 1,
         "_deepnote_index_column": 8
        },
        {
         "0": 1,
         "_deepnote_index_column": 9
        }
       ]
      },
      "text/plain": "         0\n0        3\n1        1\n2        3\n3        1\n4        3\n..     ...\n295  10545\n296  29162\n297  21505\n298  20356\n299  14762\n\n[300 rows x 1 columns]",
      "text/html": "<div>\n<style scoped>\n    .dataframe tbody tr th:only-of-type {\n        vertical-align: middle;\n    }\n\n    .dataframe tbody tr th {\n        vertical-align: top;\n    }\n\n    .dataframe thead th {\n        text-align: right;\n    }\n</style>\n<table border=\"1\" class=\"dataframe\">\n  <thead>\n    <tr style=\"text-align: right;\">\n      <th></th>\n      <th>0</th>\n    </tr>\n  </thead>\n  <tbody>\n    <tr>\n      <th>0</th>\n      <td>3</td>\n    </tr>\n    <tr>\n      <th>1</th>\n      <td>1</td>\n    </tr>\n    <tr>\n      <th>2</th>\n      <td>3</td>\n    </tr>\n    <tr>\n      <th>3</th>\n      <td>1</td>\n    </tr>\n    <tr>\n      <th>4</th>\n      <td>3</td>\n    </tr>\n    <tr>\n      <th>...</th>\n      <td>...</td>\n    </tr>\n    <tr>\n      <th>295</th>\n      <td>10545</td>\n    </tr>\n    <tr>\n      <th>296</th>\n      <td>29162</td>\n    </tr>\n    <tr>\n      <th>297</th>\n      <td>21505</td>\n    </tr>\n    <tr>\n      <th>298</th>\n      <td>20356</td>\n    </tr>\n    <tr>\n      <th>299</th>\n      <td>14762</td>\n    </tr>\n  </tbody>\n</table>\n<p>300 rows × 1 columns</p>\n</div>"
     },
     "metadata": {}
    }
   ],
   "execution_count": null
  },
  {
   "cell_type": "code",
   "source": "",
   "metadata": {
    "tags": [],
    "cell_id": "00028-aaa00204-2757-46be-8995-fe9d22dd7950",
    "deepnote_cell_type": "code"
   },
   "outputs": [],
   "execution_count": null
  },
  {
   "cell_type": "markdown",
   "source": "<a style='text-decoration:none;line-height:16px;display:flex;color:#5B5B62;padding:10px;justify-content:end;' href='https://deepnote.com?utm_source=created-in-deepnote-cell&projectId=c8373d44-6f9d-4f40-9d16-056f9771ed89' target=\"_blank\">\n<img alt='Created in deepnote.com' style='display:inline;max-height:16px;margin:0px;margin-right:7.5px;' src='data:image/svg+xml;base64,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' > </img>\nCreated in <span style='font-weight:600;margin-left:4px;'>Deepnote</span></a>",
   "metadata": {
    "tags": [],
    "created_in_deepnote_cell": true,
    "deepnote_cell_type": "markdown"
   }
  }
 ],
 "nbformat": 4,
 "nbformat_minor": 2,
 "metadata": {
  "orig_nbformat": 2,
  "deepnote": {
   "is_reactive": false
  },
  "deepnote_notebook_id": "4588c471-bf39-4c0f-af52-fbb7db57e77d",
  "deepnote_execution_queue": []
 }
}