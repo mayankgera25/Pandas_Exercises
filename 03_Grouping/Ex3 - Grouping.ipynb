{
 "cells": [
  {
   "cell_type": "code",
   "metadata": {
    "tags": [],
    "cell_id": "00000-7825bda1-739c-4f7c-8304-4c2636054662",
    "deepnote_to_be_reexecuted": false,
    "source_hash": "9b82ee11",
    "execution_start": 1640245949709,
    "execution_millis": 3,
    "deepnote_cell_type": "code"
   },
   "source": "import pandas as pd",
   "execution_count": null,
   "outputs": []
  },
  {
   "cell_type": "code",
   "metadata": {
    "tags": [],
    "cell_id": "00001-5e7df88a-fa66-47c7-b50c-5bfaba9b8a04",
    "deepnote_to_be_reexecuted": false,
    "source_hash": "4efb34b2",
    "execution_start": 1640245950695,
    "execution_millis": 193,
    "deepnote_cell_type": "code"
   },
   "source": "#Import data and assign to variable\ndrinks = pd.read_csv('https://raw.githubusercontent.com/justmarkham/DAT8/master/data/drinks.csv', sep=\",\")\ndrinks.head()",
   "execution_count": null,
   "outputs": [
    {
     "output_type": "execute_result",
     "execution_count": 3,
     "data": {
      "application/vnd.deepnote.dataframe.v3+json": {
       "column_count": 6,
       "row_count": 5,
       "columns": [
        {
         "name": "country",
         "dtype": "object",
         "stats": {
          "unique_count": 5,
          "nan_count": 0,
          "categories": [
           {
            "name": "Afghanistan",
            "count": 1
           },
           {
            "name": "Albania",
            "count": 1
           },
           {
            "name": "3 others",
            "count": 3
           }
          ]
         }
        },
        {
         "name": "beer_servings",
         "dtype": "int64",
         "stats": {
          "unique_count": 5,
          "nan_count": 0,
          "min": "0",
          "max": "245",
          "histogram": [
           {
            "bin_start": 0,
            "bin_end": 24.5,
            "count": 1
           },
           {
            "bin_start": 24.5,
            "bin_end": 49,
            "count": 1
           },
           {
            "bin_start": 49,
            "bin_end": 73.5,
            "count": 0
           },
           {
            "bin_start": 73.5,
            "bin_end": 98,
            "count": 1
           },
           {
            "bin_start": 98,
            "bin_end": 122.5,
            "count": 0
           },
           {
            "bin_start": 122.5,
            "bin_end": 147,
            "count": 0
           },
           {
            "bin_start": 147,
            "bin_end": 171.5,
            "count": 0
           },
           {
            "bin_start": 171.5,
            "bin_end": 196,
            "count": 0
           },
           {
            "bin_start": 196,
            "bin_end": 220.5,
            "count": 1
           },
           {
            "bin_start": 220.5,
            "bin_end": 245,
            "count": 1
           }
          ]
         }
        },
        {
         "name": "spirit_servings",
         "dtype": "int64",
         "stats": {
          "unique_count": 4,
          "nan_count": 0,
          "min": "0",
          "max": "138",
          "histogram": [
           {
            "bin_start": 0,
            "bin_end": 13.8,
            "count": 2
           },
           {
            "bin_start": 13.8,
            "bin_end": 27.6,
            "count": 0
           },
           {
            "bin_start": 27.6,
            "bin_end": 41.400000000000006,
            "count": 0
           },
           {
            "bin_start": 41.400000000000006,
            "bin_end": 55.2,
            "count": 0
           },
           {
            "bin_start": 55.2,
            "bin_end": 69,
            "count": 1
           },
           {
            "bin_start": 69,
            "bin_end": 82.80000000000001,
            "count": 0
           },
           {
            "bin_start": 82.80000000000001,
            "bin_end": 96.60000000000001,
            "count": 0
           },
           {
            "bin_start": 96.60000000000001,
            "bin_end": 110.4,
            "count": 0
           },
           {
            "bin_start": 110.4,
            "bin_end": 124.2,
            "count": 0
           },
           {
            "bin_start": 124.2,
            "bin_end": 138,
            "count": 2
           }
          ]
         }
        },
        {
         "name": "wine_servings",
         "dtype": "int64",
         "stats": {
          "unique_count": 5,
          "nan_count": 0,
          "min": "0",
          "max": "312",
          "histogram": [
           {
            "bin_start": 0,
            "bin_end": 31.2,
            "count": 2
           },
           {
            "bin_start": 31.2,
            "bin_end": 62.4,
            "count": 2
           },
           {
            "bin_start": 62.4,
            "bin_end": 93.6,
            "count": 0
           },
           {
            "bin_start": 93.6,
            "bin_end": 124.8,
            "count": 0
           },
           {
            "bin_start": 124.8,
            "bin_end": 156,
            "count": 0
           },
           {
            "bin_start": 156,
            "bin_end": 187.2,
            "count": 0
           },
           {
            "bin_start": 187.2,
            "bin_end": 218.4,
            "count": 0
           },
           {
            "bin_start": 218.4,
            "bin_end": 249.6,
            "count": 0
           },
           {
            "bin_start": 249.6,
            "bin_end": 280.8,
            "count": 0
           },
           {
            "bin_start": 280.8,
            "bin_end": 312,
            "count": 1
           }
          ]
         }
        },
        {
         "name": "total_litres_of_pure_alcohol",
         "dtype": "float64",
         "stats": {
          "unique_count": 5,
          "nan_count": 0,
          "min": "0.0",
          "max": "12.4",
          "histogram": [
           {
            "bin_start": 0,
            "bin_end": 1.24,
            "count": 2
           },
           {
            "bin_start": 1.24,
            "bin_end": 2.48,
            "count": 0
           },
           {
            "bin_start": 2.48,
            "bin_end": 3.7199999999999998,
            "count": 0
           },
           {
            "bin_start": 3.7199999999999998,
            "bin_end": 4.96,
            "count": 1
           },
           {
            "bin_start": 4.96,
            "bin_end": 6.2,
            "count": 1
           },
           {
            "bin_start": 6.2,
            "bin_end": 7.4399999999999995,
            "count": 0
           },
           {
            "bin_start": 7.4399999999999995,
            "bin_end": 8.68,
            "count": 0
           },
           {
            "bin_start": 8.68,
            "bin_end": 9.92,
            "count": 0
           },
           {
            "bin_start": 9.92,
            "bin_end": 11.16,
            "count": 0
           },
           {
            "bin_start": 11.16,
            "bin_end": 12.4,
            "count": 1
           }
          ]
         }
        },
        {
         "name": "continent",
         "dtype": "object",
         "stats": {
          "unique_count": 3,
          "nan_count": 0,
          "categories": [
           {
            "name": "EU",
            "count": 2
           },
           {
            "name": "AF",
            "count": 2
           },
           {
            "name": "AS",
            "count": 1
           }
          ]
         }
        },
        {
         "name": "_deepnote_index_column",
         "dtype": "int64"
        }
       ],
       "rows": [
        {
         "country": "Afghanistan",
         "beer_servings": 0,
         "spirit_servings": 0,
         "wine_servings": 0,
         "total_litres_of_pure_alcohol": 0,
         "continent": "AS",
         "_deepnote_index_column": 0
        },
        {
         "country": "Albania",
         "beer_servings": 89,
         "spirit_servings": 132,
         "wine_servings": 54,
         "total_litres_of_pure_alcohol": 4.9,
         "continent": "EU",
         "_deepnote_index_column": 1
        },
        {
         "country": "Algeria",
         "beer_servings": 25,
         "spirit_servings": 0,
         "wine_servings": 14,
         "total_litres_of_pure_alcohol": 0.7,
         "continent": "AF",
         "_deepnote_index_column": 2
        },
        {
         "country": "Andorra",
         "beer_servings": 245,
         "spirit_servings": 138,
         "wine_servings": 312,
         "total_litres_of_pure_alcohol": 12.4,
         "continent": "EU",
         "_deepnote_index_column": 3
        },
        {
         "country": "Angola",
         "beer_servings": 217,
         "spirit_servings": 57,
         "wine_servings": 45,
         "total_litres_of_pure_alcohol": 5.9,
         "continent": "AF",
         "_deepnote_index_column": 4
        }
       ]
      },
      "text/plain": "       country  beer_servings  spirit_servings  wine_servings  \\\n0  Afghanistan              0                0              0   \n1      Albania             89              132             54   \n2      Algeria             25                0             14   \n3      Andorra            245              138            312   \n4       Angola            217               57             45   \n\n   total_litres_of_pure_alcohol continent  \n0                           0.0        AS  \n1                           4.9        EU  \n2                           0.7        AF  \n3                          12.4        EU  \n4                           5.9        AF  ",
      "text/html": "<div>\n<style scoped>\n    .dataframe tbody tr th:only-of-type {\n        vertical-align: middle;\n    }\n\n    .dataframe tbody tr th {\n        vertical-align: top;\n    }\n\n    .dataframe thead th {\n        text-align: right;\n    }\n</style>\n<table border=\"1\" class=\"dataframe\">\n  <thead>\n    <tr style=\"text-align: right;\">\n      <th></th>\n      <th>country</th>\n      <th>beer_servings</th>\n      <th>spirit_servings</th>\n      <th>wine_servings</th>\n      <th>total_litres_of_pure_alcohol</th>\n      <th>continent</th>\n    </tr>\n  </thead>\n  <tbody>\n    <tr>\n      <th>0</th>\n      <td>Afghanistan</td>\n      <td>0</td>\n      <td>0</td>\n      <td>0</td>\n      <td>0.0</td>\n      <td>AS</td>\n    </tr>\n    <tr>\n      <th>1</th>\n      <td>Albania</td>\n      <td>89</td>\n      <td>132</td>\n      <td>54</td>\n      <td>4.9</td>\n      <td>EU</td>\n    </tr>\n    <tr>\n      <th>2</th>\n      <td>Algeria</td>\n      <td>25</td>\n      <td>0</td>\n      <td>14</td>\n      <td>0.7</td>\n      <td>AF</td>\n    </tr>\n    <tr>\n      <th>3</th>\n      <td>Andorra</td>\n      <td>245</td>\n      <td>138</td>\n      <td>312</td>\n      <td>12.4</td>\n      <td>EU</td>\n    </tr>\n    <tr>\n      <th>4</th>\n      <td>Angola</td>\n      <td>217</td>\n      <td>57</td>\n      <td>45</td>\n      <td>5.9</td>\n      <td>AF</td>\n    </tr>\n  </tbody>\n</table>\n</div>"
     },
     "metadata": {}
    }
   ]
  },
  {
   "cell_type": "code",
   "metadata": {
    "tags": [],
    "cell_id": "00002-95966510-8afd-4074-819b-e1e1e7d7cb81",
    "deepnote_to_be_reexecuted": false,
    "source_hash": "48b473b8",
    "execution_start": 1640245951915,
    "execution_millis": 22,
    "deepnote_output_heights": [
     136.375
    ],
    "deepnote_cell_type": "code"
   },
   "source": "#Step 4. Which continent drinks more beer on average?\n#drinks.groupby('continent').mean().sort_values('beer_servings', ascending=False)\ndrinks.groupby('continent').beer_servings.mean().sort_values(ascending=False)",
   "execution_count": null,
   "outputs": [
    {
     "output_type": "execute_result",
     "execution_count": 4,
     "data": {
      "text/plain": "continent\nEU    193.777778\nSA    175.083333\nOC     89.687500\nAF     61.471698\nAS     37.045455\nName: beer_servings, dtype: float64"
     },
     "metadata": {}
    }
   ]
  },
  {
   "cell_type": "code",
   "metadata": {
    "tags": [],
    "cell_id": "00003-1525ccb5-3e95-4830-8a22-878ccf777ae0",
    "deepnote_to_be_reexecuted": false,
    "source_hash": "37414c56",
    "execution_start": 1640246100733,
    "execution_millis": 114,
    "deepnote_output_heights": [
     206
    ],
    "deepnote_cell_type": "code"
   },
   "source": "#Step 5. For each continent print the statistics for wine consumption.\ndrinks.groupby('continent').wine_servings.describe()",
   "execution_count": null,
   "outputs": [
    {
     "output_type": "execute_result",
     "execution_count": 11,
     "data": {
      "application/vnd.deepnote.dataframe.v3+json": {
       "column_count": 8,
       "row_count": 5,
       "columns": [
        {
         "name": "count",
         "dtype": "float64",
         "stats": {
          "unique_count": 5,
          "nan_count": 0,
          "min": "12.0",
          "max": "53.0",
          "histogram": [
           {
            "bin_start": 12,
            "bin_end": 16.1,
            "count": 2
           },
           {
            "bin_start": 16.1,
            "bin_end": 20.2,
            "count": 0
           },
           {
            "bin_start": 20.2,
            "bin_end": 24.299999999999997,
            "count": 0
           },
           {
            "bin_start": 24.299999999999997,
            "bin_end": 28.4,
            "count": 0
           },
           {
            "bin_start": 28.4,
            "bin_end": 32.5,
            "count": 0
           },
           {
            "bin_start": 32.5,
            "bin_end": 36.599999999999994,
            "count": 0
           },
           {
            "bin_start": 36.599999999999994,
            "bin_end": 40.699999999999996,
            "count": 0
           },
           {
            "bin_start": 40.699999999999996,
            "bin_end": 44.8,
            "count": 1
           },
           {
            "bin_start": 44.8,
            "bin_end": 48.9,
            "count": 1
           },
           {
            "bin_start": 48.9,
            "bin_end": 53,
            "count": 1
           }
          ]
         }
        },
        {
         "name": "mean",
         "dtype": "float64",
         "stats": {
          "unique_count": 5,
          "nan_count": 0,
          "min": "9.068181818181818",
          "max": "142.22222222222223",
          "histogram": [
           {
            "bin_start": 9.068181818181818,
            "bin_end": 22.38358585858586,
            "count": 2
           },
           {
            "bin_start": 22.38358585858586,
            "bin_end": 35.6989898989899,
            "count": 1
           },
           {
            "bin_start": 35.6989898989899,
            "bin_end": 49.01439393939395,
            "count": 0
           },
           {
            "bin_start": 49.01439393939395,
            "bin_end": 62.32979797979799,
            "count": 0
           },
           {
            "bin_start": 62.32979797979799,
            "bin_end": 75.64520202020202,
            "count": 1
           },
           {
            "bin_start": 75.64520202020202,
            "bin_end": 88.96060606060607,
            "count": 0
           },
           {
            "bin_start": 88.96060606060607,
            "bin_end": 102.2760101010101,
            "count": 0
           },
           {
            "bin_start": 102.2760101010101,
            "bin_end": 115.59141414141415,
            "count": 0
           },
           {
            "bin_start": 115.59141414141415,
            "bin_end": 128.9068181818182,
            "count": 0
           },
           {
            "bin_start": 128.9068181818182,
            "bin_end": 142.22222222222223,
            "count": 1
           }
          ]
         }
        },
        {
         "name": "std",
         "dtype": "float64",
         "stats": {
          "unique_count": 5,
          "nan_count": 0,
          "min": "21.667033931944488",
          "max": "97.42173756146494",
          "histogram": [
           {
            "bin_start": 21.667033931944488,
            "bin_end": 29.242504294896534,
            "count": 1
           },
           {
            "bin_start": 29.242504294896534,
            "bin_end": 36.81797465784858,
            "count": 0
           },
           {
            "bin_start": 36.81797465784858,
            "bin_end": 44.39344502080062,
            "count": 1
           },
           {
            "bin_start": 44.39344502080062,
            "bin_end": 51.968915383752666,
            "count": 0
           },
           {
            "bin_start": 51.968915383752666,
            "bin_end": 59.54438574670471,
            "count": 0
           },
           {
            "bin_start": 59.54438574670471,
            "bin_end": 67.11985610965675,
            "count": 1
           },
           {
            "bin_start": 67.11985610965675,
            "bin_end": 74.6953264726088,
            "count": 0
           },
           {
            "bin_start": 74.6953264726088,
            "bin_end": 82.27079683556084,
            "count": 0
           },
           {
            "bin_start": 82.27079683556084,
            "bin_end": 89.84626719851289,
            "count": 1
           },
           {
            "bin_start": 89.84626719851289,
            "bin_end": 97.42173756146494,
            "count": 1
           }
          ]
         }
        },
        {
         "name": "min",
         "dtype": "float64",
         "stats": {
          "unique_count": 2,
          "nan_count": 0,
          "min": "0.0",
          "max": "1.0",
          "histogram": [
           {
            "bin_start": 0,
            "bin_end": 0.1,
            "count": 4
           },
           {
            "bin_start": 0.1,
            "bin_end": 0.2,
            "count": 0
           },
           {
            "bin_start": 0.2,
            "bin_end": 0.30000000000000004,
            "count": 0
           },
           {
            "bin_start": 0.30000000000000004,
            "bin_end": 0.4,
            "count": 0
           },
           {
            "bin_start": 0.4,
            "bin_end": 0.5,
            "count": 0
           },
           {
            "bin_start": 0.5,
            "bin_end": 0.6000000000000001,
            "count": 0
           },
           {
            "bin_start": 0.6000000000000001,
            "bin_end": 0.7000000000000001,
            "count": 0
           },
           {
            "bin_start": 0.7000000000000001,
            "bin_end": 0.8,
            "count": 0
           },
           {
            "bin_start": 0.8,
            "bin_end": 0.9,
            "count": 0
           },
           {
            "bin_start": 0.9,
            "bin_end": 1,
            "count": 1
           }
          ]
         }
        },
        {
         "name": "25%",
         "dtype": "float64",
         "stats": {
          "unique_count": 4,
          "nan_count": 0,
          "min": "0.0",
          "max": "59.0",
          "histogram": [
           {
            "bin_start": 0,
            "bin_end": 5.9,
            "count": 4
           },
           {
            "bin_start": 5.9,
            "bin_end": 11.8,
            "count": 0
           },
           {
            "bin_start": 11.8,
            "bin_end": 17.700000000000003,
            "count": 0
           },
           {
            "bin_start": 17.700000000000003,
            "bin_end": 23.6,
            "count": 0
           },
           {
            "bin_start": 23.6,
            "bin_end": 29.5,
            "count": 0
           },
           {
            "bin_start": 29.5,
            "bin_end": 35.400000000000006,
            "count": 0
           },
           {
            "bin_start": 35.400000000000006,
            "bin_end": 41.300000000000004,
            "count": 0
           },
           {
            "bin_start": 41.300000000000004,
            "bin_end": 47.2,
            "count": 0
           },
           {
            "bin_start": 47.2,
            "bin_end": 53.1,
            "count": 0
           },
           {
            "bin_start": 53.1,
            "bin_end": 59,
            "count": 1
           }
          ]
         }
        },
        {
         "name": "50%",
         "dtype": "float64",
         "stats": {
          "unique_count": 5,
          "nan_count": 0,
          "min": "1.0",
          "max": "128.0",
          "histogram": [
           {
            "bin_start": 1,
            "bin_end": 13.7,
            "count": 4
           },
           {
            "bin_start": 13.7,
            "bin_end": 26.4,
            "count": 0
           },
           {
            "bin_start": 26.4,
            "bin_end": 39.099999999999994,
            "count": 0
           },
           {
            "bin_start": 39.099999999999994,
            "bin_end": 51.8,
            "count": 0
           },
           {
            "bin_start": 51.8,
            "bin_end": 64.5,
            "count": 0
           },
           {
            "bin_start": 64.5,
            "bin_end": 77.19999999999999,
            "count": 0
           },
           {
            "bin_start": 77.19999999999999,
            "bin_end": 89.89999999999999,
            "count": 0
           },
           {
            "bin_start": 89.89999999999999,
            "bin_end": 102.6,
            "count": 0
           },
           {
            "bin_start": 102.6,
            "bin_end": 115.3,
            "count": 0
           },
           {
            "bin_start": 115.3,
            "bin_end": 128,
            "count": 1
           }
          ]
         }
        },
        {
         "name": "75%",
         "dtype": "float64",
         "stats": {
          "unique_count": 5,
          "nan_count": 0,
          "min": "8.0",
          "max": "195.0",
          "histogram": [
           {
            "bin_start": 8,
            "bin_end": 26.7,
            "count": 3
           },
           {
            "bin_start": 26.7,
            "bin_end": 45.4,
            "count": 0
           },
           {
            "bin_start": 45.4,
            "bin_end": 64.1,
            "count": 0
           },
           {
            "bin_start": 64.1,
            "bin_end": 82.8,
            "count": 0
           },
           {
            "bin_start": 82.8,
            "bin_end": 101.5,
            "count": 1
           },
           {
            "bin_start": 101.5,
            "bin_end": 120.19999999999999,
            "count": 0
           },
           {
            "bin_start": 120.19999999999999,
            "bin_end": 138.9,
            "count": 0
           },
           {
            "bin_start": 138.9,
            "bin_end": 157.6,
            "count": 0
           },
           {
            "bin_start": 157.6,
            "bin_end": 176.29999999999998,
            "count": 0
           },
           {
            "bin_start": 176.29999999999998,
            "bin_end": 195,
            "count": 1
           }
          ]
         }
        },
        {
         "name": "max",
         "dtype": "float64",
         "stats": {
          "unique_count": 5,
          "nan_count": 0,
          "min": "123.0",
          "max": "370.0",
          "histogram": [
           {
            "bin_start": 123,
            "bin_end": 147.7,
            "count": 1
           },
           {
            "bin_start": 147.7,
            "bin_end": 172.4,
            "count": 0
           },
           {
            "bin_start": 172.4,
            "bin_end": 197.1,
            "count": 0
           },
           {
            "bin_start": 197.1,
            "bin_end": 221.8,
            "count": 2
           },
           {
            "bin_start": 221.8,
            "bin_end": 246.5,
            "count": 1
           },
           {
            "bin_start": 246.5,
            "bin_end": 271.2,
            "count": 0
           },
           {
            "bin_start": 271.2,
            "bin_end": 295.9,
            "count": 0
           },
           {
            "bin_start": 295.9,
            "bin_end": 320.6,
            "count": 0
           },
           {
            "bin_start": 320.6,
            "bin_end": 345.29999999999995,
            "count": 0
           },
           {
            "bin_start": 345.29999999999995,
            "bin_end": 370,
            "count": 1
           }
          ]
         }
        },
        {
         "name": "_deepnote_index_column",
         "dtype": "object"
        }
       ],
       "rows": [
        {
         "count": 53,
         "mean": 16.264150943396228,
         "std": 38.84641897335842,
         "min": 0,
         "25%": 1,
         "50%": 2,
         "75%": 13,
         "max": 233,
         "_deepnote_index_column": "AF"
        },
        {
         "count": 44,
         "mean": 9.068181818181818,
         "std": 21.667033931944488,
         "min": 0,
         "25%": 0,
         "50%": 1,
         "75%": 8,
         "max": 123,
         "_deepnote_index_column": "AS"
        },
        {
         "count": 45,
         "mean": 142.22222222222223,
         "std": 97.42173756146494,
         "min": 0,
         "25%": 59,
         "50%": 128,
         "75%": 195,
         "max": 370,
         "_deepnote_index_column": "EU"
        },
        {
         "count": 16,
         "mean": 35.625,
         "std": 64.55578982554547,
         "min": 0,
         "25%": 1,
         "50%": 8.5,
         "75%": 23.25,
         "max": 212,
         "_deepnote_index_column": "OC"
        },
        {
         "count": 12,
         "mean": 62.416666666666664,
         "std": 88.62018888937148,
         "min": 1,
         "25%": 3,
         "50%": 12,
         "75%": 98.5,
         "max": 221,
         "_deepnote_index_column": "SA"
        }
       ]
      },
      "text/plain": "           count        mean        std  min   25%    50%     75%    max\ncontinent                                                               \nAF          53.0   16.264151  38.846419  0.0   1.0    2.0   13.00  233.0\nAS          44.0    9.068182  21.667034  0.0   0.0    1.0    8.00  123.0\nEU          45.0  142.222222  97.421738  0.0  59.0  128.0  195.00  370.0\nOC          16.0   35.625000  64.555790  0.0   1.0    8.5   23.25  212.0\nSA          12.0   62.416667  88.620189  1.0   3.0   12.0   98.50  221.0",
      "text/html": "<div>\n<style scoped>\n    .dataframe tbody tr th:only-of-type {\n        vertical-align: middle;\n    }\n\n    .dataframe tbody tr th {\n        vertical-align: top;\n    }\n\n    .dataframe thead th {\n        text-align: right;\n    }\n</style>\n<table border=\"1\" class=\"dataframe\">\n  <thead>\n    <tr style=\"text-align: right;\">\n      <th></th>\n      <th>count</th>\n      <th>mean</th>\n      <th>std</th>\n      <th>min</th>\n      <th>25%</th>\n      <th>50%</th>\n      <th>75%</th>\n      <th>max</th>\n    </tr>\n    <tr>\n      <th>continent</th>\n      <th></th>\n      <th></th>\n      <th></th>\n      <th></th>\n      <th></th>\n      <th></th>\n      <th></th>\n      <th></th>\n    </tr>\n  </thead>\n  <tbody>\n    <tr>\n      <th>AF</th>\n      <td>53.0</td>\n      <td>16.264151</td>\n      <td>38.846419</td>\n      <td>0.0</td>\n      <td>1.0</td>\n      <td>2.0</td>\n      <td>13.00</td>\n      <td>233.0</td>\n    </tr>\n    <tr>\n      <th>AS</th>\n      <td>44.0</td>\n      <td>9.068182</td>\n      <td>21.667034</td>\n      <td>0.0</td>\n      <td>0.0</td>\n      <td>1.0</td>\n      <td>8.00</td>\n      <td>123.0</td>\n    </tr>\n    <tr>\n      <th>EU</th>\n      <td>45.0</td>\n      <td>142.222222</td>\n      <td>97.421738</td>\n      <td>0.0</td>\n      <td>59.0</td>\n      <td>128.0</td>\n      <td>195.00</td>\n      <td>370.0</td>\n    </tr>\n    <tr>\n      <th>OC</th>\n      <td>16.0</td>\n      <td>35.625000</td>\n      <td>64.555790</td>\n      <td>0.0</td>\n      <td>1.0</td>\n      <td>8.5</td>\n      <td>23.25</td>\n      <td>212.0</td>\n    </tr>\n    <tr>\n      <th>SA</th>\n      <td>12.0</td>\n      <td>62.416667</td>\n      <td>88.620189</td>\n      <td>1.0</td>\n      <td>3.0</td>\n      <td>12.0</td>\n      <td>98.50</td>\n      <td>221.0</td>\n    </tr>\n  </tbody>\n</table>\n</div>"
     },
     "metadata": {}
    }
   ]
  },
  {
   "cell_type": "code",
   "metadata": {
    "tags": [],
    "cell_id": "00004-0b7837fe-9251-4496-b1f9-cc6aab653df8",
    "deepnote_to_be_reexecuted": false,
    "source_hash": "6ddf8801",
    "execution_start": 1640246194102,
    "execution_millis": 208,
    "deepnote_cell_type": "code"
   },
   "source": " #Step 6. Print the mean alcohol consumption per continent for every column\ndrinks.groupby('continent').mean()",
   "execution_count": null,
   "outputs": [
    {
     "output_type": "execute_result",
     "execution_count": 12,
     "data": {
      "application/vnd.deepnote.dataframe.v3+json": {
       "column_count": 4,
       "row_count": 5,
       "columns": [
        {
         "name": "beer_servings",
         "dtype": "float64",
         "stats": {
          "unique_count": 5,
          "nan_count": 0,
          "min": "37.04545454545455",
          "max": "193.77777777777777",
          "histogram": [
           {
            "bin_start": 37.04545454545455,
            "bin_end": 52.718686868686866,
            "count": 1
           },
           {
            "bin_start": 52.718686868686866,
            "bin_end": 68.39191919191919,
            "count": 1
           },
           {
            "bin_start": 68.39191919191919,
            "bin_end": 84.06515151515151,
            "count": 0
           },
           {
            "bin_start": 84.06515151515151,
            "bin_end": 99.73838383838384,
            "count": 1
           },
           {
            "bin_start": 99.73838383838384,
            "bin_end": 115.41161616161615,
            "count": 0
           },
           {
            "bin_start": 115.41161616161615,
            "bin_end": 131.08484848484846,
            "count": 0
           },
           {
            "bin_start": 131.08484848484846,
            "bin_end": 146.7580808080808,
            "count": 0
           },
           {
            "bin_start": 146.7580808080808,
            "bin_end": 162.43131313131312,
            "count": 0
           },
           {
            "bin_start": 162.43131313131312,
            "bin_end": 178.10454545454542,
            "count": 1
           },
           {
            "bin_start": 178.10454545454542,
            "bin_end": 193.77777777777777,
            "count": 1
           }
          ]
         }
        },
        {
         "name": "spirit_servings",
         "dtype": "float64",
         "stats": {
          "unique_count": 5,
          "nan_count": 0,
          "min": "16.339622641509433",
          "max": "132.55555555555554",
          "histogram": [
           {
            "bin_start": 16.339622641509433,
            "bin_end": 27.961215932914044,
            "count": 1
           },
           {
            "bin_start": 27.961215932914044,
            "bin_end": 39.58280922431865,
            "count": 0
           },
           {
            "bin_start": 39.58280922431865,
            "bin_end": 51.204402515723274,
            "count": 0
           },
           {
            "bin_start": 51.204402515723274,
            "bin_end": 62.82599580712788,
            "count": 2
           },
           {
            "bin_start": 62.82599580712788,
            "bin_end": 74.44758909853249,
            "count": 0
           },
           {
            "bin_start": 74.44758909853249,
            "bin_end": 86.06918238993711,
            "count": 0
           },
           {
            "bin_start": 86.06918238993711,
            "bin_end": 97.69077568134172,
            "count": 0
           },
           {
            "bin_start": 97.69077568134172,
            "bin_end": 109.31236897274633,
            "count": 0
           },
           {
            "bin_start": 109.31236897274633,
            "bin_end": 120.93396226415094,
            "count": 1
           },
           {
            "bin_start": 120.93396226415094,
            "bin_end": 132.55555555555554,
            "count": 1
           }
          ]
         }
        },
        {
         "name": "wine_servings",
         "dtype": "float64",
         "stats": {
          "unique_count": 5,
          "nan_count": 0,
          "min": "9.068181818181818",
          "max": "142.22222222222223",
          "histogram": [
           {
            "bin_start": 9.068181818181818,
            "bin_end": 22.38358585858586,
            "count": 2
           },
           {
            "bin_start": 22.38358585858586,
            "bin_end": 35.6989898989899,
            "count": 1
           },
           {
            "bin_start": 35.6989898989899,
            "bin_end": 49.01439393939395,
            "count": 0
           },
           {
            "bin_start": 49.01439393939395,
            "bin_end": 62.32979797979799,
            "count": 0
           },
           {
            "bin_start": 62.32979797979799,
            "bin_end": 75.64520202020202,
            "count": 1
           },
           {
            "bin_start": 75.64520202020202,
            "bin_end": 88.96060606060607,
            "count": 0
           },
           {
            "bin_start": 88.96060606060607,
            "bin_end": 102.2760101010101,
            "count": 0
           },
           {
            "bin_start": 102.2760101010101,
            "bin_end": 115.59141414141415,
            "count": 0
           },
           {
            "bin_start": 115.59141414141415,
            "bin_end": 128.9068181818182,
            "count": 0
           },
           {
            "bin_start": 128.9068181818182,
            "bin_end": 142.22222222222223,
            "count": 1
           }
          ]
         }
        },
        {
         "name": "total_litres_of_pure_alcohol",
         "dtype": "float64",
         "stats": {
          "unique_count": 5,
          "nan_count": 0,
          "min": "2.1704545454545454",
          "max": "8.617777777777777",
          "histogram": [
           {
            "bin_start": 2.1704545454545454,
            "bin_end": 2.815186868686869,
            "count": 1
           },
           {
            "bin_start": 2.815186868686869,
            "bin_end": 3.459919191919192,
            "count": 2
           },
           {
            "bin_start": 3.459919191919192,
            "bin_end": 4.104651515151515,
            "count": 0
           },
           {
            "bin_start": 4.104651515151515,
            "bin_end": 4.749383838383839,
            "count": 0
           },
           {
            "bin_start": 4.749383838383839,
            "bin_end": 5.394116161616161,
            "count": 0
           },
           {
            "bin_start": 5.394116161616161,
            "bin_end": 6.038848484848485,
            "count": 0
           },
           {
            "bin_start": 6.038848484848485,
            "bin_end": 6.683580808080809,
            "count": 1
           },
           {
            "bin_start": 6.683580808080809,
            "bin_end": 7.328313131313131,
            "count": 0
           },
           {
            "bin_start": 7.328313131313131,
            "bin_end": 7.9730454545454545,
            "count": 0
           },
           {
            "bin_start": 7.9730454545454545,
            "bin_end": 8.617777777777777,
            "count": 1
           }
          ]
         }
        },
        {
         "name": "_deepnote_index_column",
         "dtype": "object"
        }
       ],
       "rows": [
        {
         "beer_servings": 61.471698113207545,
         "spirit_servings": 16.339622641509433,
         "wine_servings": 16.264150943396228,
         "total_litres_of_pure_alcohol": 3.00754716981132,
         "_deepnote_index_column": "AF"
        },
        {
         "beer_servings": 37.04545454545455,
         "spirit_servings": 60.84090909090909,
         "wine_servings": 9.068181818181818,
         "total_litres_of_pure_alcohol": 2.1704545454545454,
         "_deepnote_index_column": "AS"
        },
        {
         "beer_servings": 193.77777777777777,
         "spirit_servings": 132.55555555555554,
         "wine_servings": 142.22222222222223,
         "total_litres_of_pure_alcohol": 8.617777777777777,
         "_deepnote_index_column": "EU"
        },
        {
         "beer_servings": 89.6875,
         "spirit_servings": 58.4375,
         "wine_servings": 35.625,
         "total_litres_of_pure_alcohol": 3.3812500000000005,
         "_deepnote_index_column": "OC"
        },
        {
         "beer_servings": 175.08333333333334,
         "spirit_servings": 114.75,
         "wine_servings": 62.416666666666664,
         "total_litres_of_pure_alcohol": 6.308333333333334,
         "_deepnote_index_column": "SA"
        }
       ]
      },
      "text/plain": "           beer_servings  spirit_servings  wine_servings  \\\ncontinent                                                  \nAF             61.471698        16.339623      16.264151   \nAS             37.045455        60.840909       9.068182   \nEU            193.777778       132.555556     142.222222   \nOC             89.687500        58.437500      35.625000   \nSA            175.083333       114.750000      62.416667   \n\n           total_litres_of_pure_alcohol  \ncontinent                                \nAF                             3.007547  \nAS                             2.170455  \nEU                             8.617778  \nOC                             3.381250  \nSA                             6.308333  ",
      "text/html": "<div>\n<style scoped>\n    .dataframe tbody tr th:only-of-type {\n        vertical-align: middle;\n    }\n\n    .dataframe tbody tr th {\n        vertical-align: top;\n    }\n\n    .dataframe thead th {\n        text-align: right;\n    }\n</style>\n<table border=\"1\" class=\"dataframe\">\n  <thead>\n    <tr style=\"text-align: right;\">\n      <th></th>\n      <th>beer_servings</th>\n      <th>spirit_servings</th>\n      <th>wine_servings</th>\n      <th>total_litres_of_pure_alcohol</th>\n    </tr>\n    <tr>\n      <th>continent</th>\n      <th></th>\n      <th></th>\n      <th></th>\n      <th></th>\n    </tr>\n  </thead>\n  <tbody>\n    <tr>\n      <th>AF</th>\n      <td>61.471698</td>\n      <td>16.339623</td>\n      <td>16.264151</td>\n      <td>3.007547</td>\n    </tr>\n    <tr>\n      <th>AS</th>\n      <td>37.045455</td>\n      <td>60.840909</td>\n      <td>9.068182</td>\n      <td>2.170455</td>\n    </tr>\n    <tr>\n      <th>EU</th>\n      <td>193.777778</td>\n      <td>132.555556</td>\n      <td>142.222222</td>\n      <td>8.617778</td>\n    </tr>\n    <tr>\n      <th>OC</th>\n      <td>89.687500</td>\n      <td>58.437500</td>\n      <td>35.625000</td>\n      <td>3.381250</td>\n    </tr>\n    <tr>\n      <th>SA</th>\n      <td>175.083333</td>\n      <td>114.750000</td>\n      <td>62.416667</td>\n      <td>6.308333</td>\n    </tr>\n  </tbody>\n</table>\n</div>"
     },
     "metadata": {}
    }
   ]
  },
  {
   "cell_type": "code",
   "metadata": {
    "tags": [],
    "cell_id": "00005-9f55f9a1-8df5-44eb-ac71-dd04a1532fef",
    "deepnote_to_be_reexecuted": false,
    "source_hash": "140b54e0",
    "execution_start": 1640246218350,
    "execution_millis": 49,
    "deepnote_cell_type": "code"
   },
   "source": "#Step 7. Print the median alcohol consumption per continent for every column\ndrinks.groupby('continent').median()",
   "execution_count": null,
   "outputs": [
    {
     "output_type": "execute_result",
     "execution_count": 13,
     "data": {
      "application/vnd.deepnote.dataframe.v3+json": {
       "column_count": 4,
       "row_count": 5,
       "columns": [
        {
         "name": "beer_servings",
         "dtype": "float64",
         "stats": {
          "unique_count": 5,
          "nan_count": 0,
          "min": "17.5",
          "max": "219.0",
          "histogram": [
           {
            "bin_start": 17.5,
            "bin_end": 37.65,
            "count": 2
           },
           {
            "bin_start": 37.65,
            "bin_end": 57.8,
            "count": 1
           },
           {
            "bin_start": 57.8,
            "bin_end": 77.94999999999999,
            "count": 0
           },
           {
            "bin_start": 77.94999999999999,
            "bin_end": 98.1,
            "count": 0
           },
           {
            "bin_start": 98.1,
            "bin_end": 118.25,
            "count": 0
           },
           {
            "bin_start": 118.25,
            "bin_end": 138.39999999999998,
            "count": 0
           },
           {
            "bin_start": 138.39999999999998,
            "bin_end": 158.54999999999998,
            "count": 0
           },
           {
            "bin_start": 158.54999999999998,
            "bin_end": 178.7,
            "count": 1
           },
           {
            "bin_start": 178.7,
            "bin_end": 198.85,
            "count": 0
           },
           {
            "bin_start": 198.85,
            "bin_end": 219,
            "count": 1
           }
          ]
         }
        },
        {
         "name": "spirit_servings",
         "dtype": "float64",
         "stats": {
          "unique_count": 5,
          "nan_count": 0,
          "min": "3.0",
          "max": "122.0",
          "histogram": [
           {
            "bin_start": 3,
            "bin_end": 14.9,
            "count": 1
           },
           {
            "bin_start": 14.9,
            "bin_end": 26.8,
            "count": 1
           },
           {
            "bin_start": 26.8,
            "bin_end": 38.7,
            "count": 1
           },
           {
            "bin_start": 38.7,
            "bin_end": 50.6,
            "count": 0
           },
           {
            "bin_start": 50.6,
            "bin_end": 62.5,
            "count": 0
           },
           {
            "bin_start": 62.5,
            "bin_end": 74.4,
            "count": 0
           },
           {
            "bin_start": 74.4,
            "bin_end": 86.3,
            "count": 0
           },
           {
            "bin_start": 86.3,
            "bin_end": 98.2,
            "count": 0
           },
           {
            "bin_start": 98.2,
            "bin_end": 110.10000000000001,
            "count": 1
           },
           {
            "bin_start": 110.10000000000001,
            "bin_end": 122,
            "count": 1
           }
          ]
         }
        },
        {
         "name": "wine_servings",
         "dtype": "float64",
         "stats": {
          "unique_count": 5,
          "nan_count": 0,
          "min": "1.0",
          "max": "128.0",
          "histogram": [
           {
            "bin_start": 1,
            "bin_end": 13.7,
            "count": 4
           },
           {
            "bin_start": 13.7,
            "bin_end": 26.4,
            "count": 0
           },
           {
            "bin_start": 26.4,
            "bin_end": 39.099999999999994,
            "count": 0
           },
           {
            "bin_start": 39.099999999999994,
            "bin_end": 51.8,
            "count": 0
           },
           {
            "bin_start": 51.8,
            "bin_end": 64.5,
            "count": 0
           },
           {
            "bin_start": 64.5,
            "bin_end": 77.19999999999999,
            "count": 0
           },
           {
            "bin_start": 77.19999999999999,
            "bin_end": 89.89999999999999,
            "count": 0
           },
           {
            "bin_start": 89.89999999999999,
            "bin_end": 102.6,
            "count": 0
           },
           {
            "bin_start": 102.6,
            "bin_end": 115.3,
            "count": 0
           },
           {
            "bin_start": 115.3,
            "bin_end": 128,
            "count": 1
           }
          ]
         }
        },
        {
         "name": "total_litres_of_pure_alcohol",
         "dtype": "float64",
         "stats": {
          "unique_count": 5,
          "nan_count": 0,
          "min": "1.2",
          "max": "10.0",
          "histogram": [
           {
            "bin_start": 1.2,
            "bin_end": 2.08,
            "count": 2
           },
           {
            "bin_start": 2.08,
            "bin_end": 2.96,
            "count": 1
           },
           {
            "bin_start": 2.96,
            "bin_end": 3.8400000000000007,
            "count": 0
           },
           {
            "bin_start": 3.8400000000000007,
            "bin_end": 4.720000000000001,
            "count": 0
           },
           {
            "bin_start": 4.720000000000001,
            "bin_end": 5.6000000000000005,
            "count": 0
           },
           {
            "bin_start": 5.6000000000000005,
            "bin_end": 6.480000000000001,
            "count": 0
           },
           {
            "bin_start": 6.480000000000001,
            "bin_end": 7.360000000000001,
            "count": 1
           },
           {
            "bin_start": 7.360000000000001,
            "bin_end": 8.24,
            "count": 0
           },
           {
            "bin_start": 8.24,
            "bin_end": 9.120000000000001,
            "count": 0
           },
           {
            "bin_start": 9.120000000000001,
            "bin_end": 10,
            "count": 1
           }
          ]
         }
        },
        {
         "name": "_deepnote_index_column",
         "dtype": "object"
        }
       ],
       "rows": [
        {
         "beer_servings": 32,
         "spirit_servings": 3,
         "wine_servings": 2,
         "total_litres_of_pure_alcohol": 2.3,
         "_deepnote_index_column": "AF"
        },
        {
         "beer_servings": 17.5,
         "spirit_servings": 16,
         "wine_servings": 1,
         "total_litres_of_pure_alcohol": 1.2,
         "_deepnote_index_column": "AS"
        },
        {
         "beer_servings": 219,
         "spirit_servings": 122,
         "wine_servings": 128,
         "total_litres_of_pure_alcohol": 10,
         "_deepnote_index_column": "EU"
        },
        {
         "beer_servings": 52.5,
         "spirit_servings": 37,
         "wine_servings": 8.5,
         "total_litres_of_pure_alcohol": 1.75,
         "_deepnote_index_column": "OC"
        },
        {
         "beer_servings": 162.5,
         "spirit_servings": 108.5,
         "wine_servings": 12,
         "total_litres_of_pure_alcohol": 6.85,
         "_deepnote_index_column": "SA"
        }
       ]
      },
      "text/plain": "           beer_servings  spirit_servings  wine_servings  \\\ncontinent                                                  \nAF                  32.0              3.0            2.0   \nAS                  17.5             16.0            1.0   \nEU                 219.0            122.0          128.0   \nOC                  52.5             37.0            8.5   \nSA                 162.5            108.5           12.0   \n\n           total_litres_of_pure_alcohol  \ncontinent                                \nAF                                 2.30  \nAS                                 1.20  \nEU                                10.00  \nOC                                 1.75  \nSA                                 6.85  ",
      "text/html": "<div>\n<style scoped>\n    .dataframe tbody tr th:only-of-type {\n        vertical-align: middle;\n    }\n\n    .dataframe tbody tr th {\n        vertical-align: top;\n    }\n\n    .dataframe thead th {\n        text-align: right;\n    }\n</style>\n<table border=\"1\" class=\"dataframe\">\n  <thead>\n    <tr style=\"text-align: right;\">\n      <th></th>\n      <th>beer_servings</th>\n      <th>spirit_servings</th>\n      <th>wine_servings</th>\n      <th>total_litres_of_pure_alcohol</th>\n    </tr>\n    <tr>\n      <th>continent</th>\n      <th></th>\n      <th></th>\n      <th></th>\n      <th></th>\n    </tr>\n  </thead>\n  <tbody>\n    <tr>\n      <th>AF</th>\n      <td>32.0</td>\n      <td>3.0</td>\n      <td>2.0</td>\n      <td>2.30</td>\n    </tr>\n    <tr>\n      <th>AS</th>\n      <td>17.5</td>\n      <td>16.0</td>\n      <td>1.0</td>\n      <td>1.20</td>\n    </tr>\n    <tr>\n      <th>EU</th>\n      <td>219.0</td>\n      <td>122.0</td>\n      <td>128.0</td>\n      <td>10.00</td>\n    </tr>\n    <tr>\n      <th>OC</th>\n      <td>52.5</td>\n      <td>37.0</td>\n      <td>8.5</td>\n      <td>1.75</td>\n    </tr>\n    <tr>\n      <th>SA</th>\n      <td>162.5</td>\n      <td>108.5</td>\n      <td>12.0</td>\n      <td>6.85</td>\n    </tr>\n  </tbody>\n</table>\n</div>"
     },
     "metadata": {}
    }
   ]
  },
  {
   "cell_type": "code",
   "metadata": {
    "tags": [],
    "cell_id": "00006-d564f313-d019-4275-865f-40dc62603908",
    "deepnote_to_be_reexecuted": false,
    "source_hash": "bcdab8d1",
    "execution_start": 1640246260821,
    "execution_millis": 136,
    "deepnote_output_heights": [
     174.78125
    ],
    "deepnote_cell_type": "code"
   },
   "source": "#Step 8. Print the mean, min and max values for spirit consumption.\ndrinks.spirit_servings.describe()",
   "execution_count": null,
   "outputs": [
    {
     "output_type": "execute_result",
     "execution_count": 14,
     "data": {
      "text/plain": "count    193.000000\nmean      80.994819\nstd       88.284312\nmin        0.000000\n25%        4.000000\n50%       56.000000\n75%      128.000000\nmax      438.000000\nName: spirit_servings, dtype: float64"
     },
     "metadata": {}
    }
   ]
  },
  {
   "cell_type": "code",
   "metadata": {
    "tags": [],
    "cell_id": "00007-777f6e5b-1601-41a3-87c2-1164e326160c",
    "deepnote_to_be_reexecuted": false,
    "source_hash": "afe0a348",
    "execution_start": 1640246388169,
    "execution_millis": 10,
    "deepnote_cell_type": "code"
   },
   "source": "#Step 8. Print the mean, min and max values for spirit consumption\ndrinks.groupby('continent').spirit_servings.agg(['mean', 'min', 'max'])",
   "execution_count": null,
   "outputs": [
    {
     "output_type": "execute_result",
     "execution_count": 15,
     "data": {
      "application/vnd.deepnote.dataframe.v3+json": {
       "column_count": 3,
       "row_count": 5,
       "columns": [
        {
         "name": "mean",
         "dtype": "float64",
         "stats": {
          "unique_count": 5,
          "nan_count": 0,
          "min": "16.339622641509433",
          "max": "132.55555555555554",
          "histogram": [
           {
            "bin_start": 16.339622641509433,
            "bin_end": 27.961215932914044,
            "count": 1
           },
           {
            "bin_start": 27.961215932914044,
            "bin_end": 39.58280922431865,
            "count": 0
           },
           {
            "bin_start": 39.58280922431865,
            "bin_end": 51.204402515723274,
            "count": 0
           },
           {
            "bin_start": 51.204402515723274,
            "bin_end": 62.82599580712788,
            "count": 2
           },
           {
            "bin_start": 62.82599580712788,
            "bin_end": 74.44758909853249,
            "count": 0
           },
           {
            "bin_start": 74.44758909853249,
            "bin_end": 86.06918238993711,
            "count": 0
           },
           {
            "bin_start": 86.06918238993711,
            "bin_end": 97.69077568134172,
            "count": 0
           },
           {
            "bin_start": 97.69077568134172,
            "bin_end": 109.31236897274633,
            "count": 0
           },
           {
            "bin_start": 109.31236897274633,
            "bin_end": 120.93396226415094,
            "count": 1
           },
           {
            "bin_start": 120.93396226415094,
            "bin_end": 132.55555555555554,
            "count": 1
           }
          ]
         }
        },
        {
         "name": "min",
         "dtype": "int64",
         "stats": {
          "unique_count": 2,
          "nan_count": 0,
          "min": "0",
          "max": "25",
          "histogram": [
           {
            "bin_start": 0,
            "bin_end": 2.5,
            "count": 4
           },
           {
            "bin_start": 2.5,
            "bin_end": 5,
            "count": 0
           },
           {
            "bin_start": 5,
            "bin_end": 7.5,
            "count": 0
           },
           {
            "bin_start": 7.5,
            "bin_end": 10,
            "count": 0
           },
           {
            "bin_start": 10,
            "bin_end": 12.5,
            "count": 0
           },
           {
            "bin_start": 12.5,
            "bin_end": 15,
            "count": 0
           },
           {
            "bin_start": 15,
            "bin_end": 17.5,
            "count": 0
           },
           {
            "bin_start": 17.5,
            "bin_end": 20,
            "count": 0
           },
           {
            "bin_start": 20,
            "bin_end": 22.5,
            "count": 0
           },
           {
            "bin_start": 22.5,
            "bin_end": 25,
            "count": 1
           }
          ]
         }
        },
        {
         "name": "max",
         "dtype": "int64",
         "stats": {
          "unique_count": 5,
          "nan_count": 0,
          "min": "152",
          "max": "373",
          "histogram": [
           {
            "bin_start": 152,
            "bin_end": 174.1,
            "count": 1
           },
           {
            "bin_start": 174.1,
            "bin_end": 196.2,
            "count": 0
           },
           {
            "bin_start": 196.2,
            "bin_end": 218.3,
            "count": 0
           },
           {
            "bin_start": 218.3,
            "bin_end": 240.4,
            "count": 0
           },
           {
            "bin_start": 240.4,
            "bin_end": 262.5,
            "count": 1
           },
           {
            "bin_start": 262.5,
            "bin_end": 284.6,
            "count": 0
           },
           {
            "bin_start": 284.6,
            "bin_end": 306.70000000000005,
            "count": 1
           },
           {
            "bin_start": 306.70000000000005,
            "bin_end": 328.8,
            "count": 1
           },
           {
            "bin_start": 328.8,
            "bin_end": 350.9,
            "count": 0
           },
           {
            "bin_start": 350.9,
            "bin_end": 373,
            "count": 1
           }
          ]
         }
        },
        {
         "name": "_deepnote_index_column",
         "dtype": "object"
        }
       ],
       "rows": [
        {
         "mean": 16.339622641509433,
         "min": 0,
         "max": 152,
         "_deepnote_index_column": "AF"
        },
        {
         "mean": 60.84090909090909,
         "min": 0,
         "max": 326,
         "_deepnote_index_column": "AS"
        },
        {
         "mean": 132.55555555555554,
         "min": 0,
         "max": 373,
         "_deepnote_index_column": "EU"
        },
        {
         "mean": 58.4375,
         "min": 0,
         "max": 254,
         "_deepnote_index_column": "OC"
        },
        {
         "mean": 114.75,
         "min": 25,
         "max": 302,
         "_deepnote_index_column": "SA"
        }
       ]
      },
      "text/plain": "                 mean  min  max\ncontinent                      \nAF          16.339623    0  152\nAS          60.840909    0  326\nEU         132.555556    0  373\nOC          58.437500    0  254\nSA         114.750000   25  302",
      "text/html": "<div>\n<style scoped>\n    .dataframe tbody tr th:only-of-type {\n        vertical-align: middle;\n    }\n\n    .dataframe tbody tr th {\n        vertical-align: top;\n    }\n\n    .dataframe thead th {\n        text-align: right;\n    }\n</style>\n<table border=\"1\" class=\"dataframe\">\n  <thead>\n    <tr style=\"text-align: right;\">\n      <th></th>\n      <th>mean</th>\n      <th>min</th>\n      <th>max</th>\n    </tr>\n    <tr>\n      <th>continent</th>\n      <th></th>\n      <th></th>\n      <th></th>\n    </tr>\n  </thead>\n  <tbody>\n    <tr>\n      <th>AF</th>\n      <td>16.339623</td>\n      <td>0</td>\n      <td>152</td>\n    </tr>\n    <tr>\n      <th>AS</th>\n      <td>60.840909</td>\n      <td>0</td>\n      <td>326</td>\n    </tr>\n    <tr>\n      <th>EU</th>\n      <td>132.555556</td>\n      <td>0</td>\n      <td>373</td>\n    </tr>\n    <tr>\n      <th>OC</th>\n      <td>58.437500</td>\n      <td>0</td>\n      <td>254</td>\n    </tr>\n    <tr>\n      <th>SA</th>\n      <td>114.750000</td>\n      <td>25</td>\n      <td>302</td>\n    </tr>\n  </tbody>\n</table>\n</div>"
     },
     "metadata": {}
    }
   ]
  },
  {
   "cell_type": "markdown",
   "source": "# Occupation",
   "metadata": {
    "tags": [],
    "is_collapsed": false,
    "cell_id": "00009-dd7aa913-732f-4d8b-8dac-9577dc1be3ef",
    "deepnote_cell_type": "text-cell-h1"
   }
  },
  {
   "cell_type": "code",
   "metadata": {
    "tags": [],
    "cell_id": "00010-35a2d482-9635-4237-a7e6-eb06fb4274a8",
    "deepnote_to_be_reexecuted": false,
    "source_hash": "9b82ee11",
    "execution_start": 1640284305607,
    "execution_millis": 2,
    "deepnote_cell_type": "code"
   },
   "source": "import pandas as pd",
   "execution_count": null,
   "outputs": []
  },
  {
   "cell_type": "code",
   "metadata": {
    "tags": [],
    "cell_id": "00010-31ceeae4-0357-44b1-b093-b6cd9d2a7810",
    "deepnote_to_be_reexecuted": false,
    "source_hash": "7112908e",
    "execution_start": 1640284388941,
    "execution_millis": 245,
    "deepnote_output_heights": [
     206
    ],
    "deepnote_cell_type": "code"
   },
   "source": "#import dataframe and assign to vairable users\nusers =pd.read_csv('https://raw.githubusercontent.com/justmarkham/DAT8/master/data/u.user', sep=\"|\", index_col='user_id')\nusers.head()",
   "execution_count": null,
   "outputs": [
    {
     "output_type": "execute_result",
     "execution_count": 2,
     "data": {
      "application/vnd.deepnote.dataframe.v3+json": {
       "column_count": 4,
       "row_count": 5,
       "columns": [
        {
         "name": "age",
         "dtype": "int64",
         "stats": {
          "unique_count": 4,
          "nan_count": 0,
          "min": "23",
          "max": "53",
          "histogram": [
           {
            "bin_start": 23,
            "bin_end": 26,
            "count": 3
           },
           {
            "bin_start": 26,
            "bin_end": 29,
            "count": 0
           },
           {
            "bin_start": 29,
            "bin_end": 32,
            "count": 0
           },
           {
            "bin_start": 32,
            "bin_end": 35,
            "count": 1
           },
           {
            "bin_start": 35,
            "bin_end": 38,
            "count": 0
           },
           {
            "bin_start": 38,
            "bin_end": 41,
            "count": 0
           },
           {
            "bin_start": 41,
            "bin_end": 44,
            "count": 0
           },
           {
            "bin_start": 44,
            "bin_end": 47,
            "count": 0
           },
           {
            "bin_start": 47,
            "bin_end": 50,
            "count": 0
           },
           {
            "bin_start": 50,
            "bin_end": 53,
            "count": 1
           }
          ]
         }
        },
        {
         "name": "gender",
         "dtype": "object",
         "stats": {
          "unique_count": 2,
          "nan_count": 0,
          "categories": [
           {
            "name": "M",
            "count": 3
           },
           {
            "name": "F",
            "count": 2
           }
          ]
         }
        },
        {
         "name": "occupation",
         "dtype": "object",
         "stats": {
          "unique_count": 3,
          "nan_count": 0,
          "categories": [
           {
            "name": "technician",
            "count": 2
           },
           {
            "name": "other",
            "count": 2
           },
           {
            "name": "writer",
            "count": 1
           }
          ]
         }
        },
        {
         "name": "zip_code",
         "dtype": "object",
         "stats": {
          "unique_count": 5,
          "nan_count": 0,
          "categories": [
           {
            "name": "85711",
            "count": 1
           },
           {
            "name": "94043",
            "count": 1
           },
           {
            "name": "3 others",
            "count": 3
           }
          ]
         }
        },
        {
         "name": "_deepnote_index_column",
         "dtype": "int64"
        }
       ],
       "rows": [
        {
         "age": 24,
         "gender": "M",
         "occupation": "technician",
         "zip_code": "85711",
         "_deepnote_index_column": 1
        },
        {
         "age": 53,
         "gender": "F",
         "occupation": "other",
         "zip_code": "94043",
         "_deepnote_index_column": 2
        },
        {
         "age": 23,
         "gender": "M",
         "occupation": "writer",
         "zip_code": "32067",
         "_deepnote_index_column": 3
        },
        {
         "age": 24,
         "gender": "M",
         "occupation": "technician",
         "zip_code": "43537",
         "_deepnote_index_column": 4
        },
        {
         "age": 33,
         "gender": "F",
         "occupation": "other",
         "zip_code": "15213",
         "_deepnote_index_column": 5
        }
       ]
      },
      "text/plain": "         age gender  occupation zip_code\nuser_id                                 \n1         24      M  technician    85711\n2         53      F       other    94043\n3         23      M      writer    32067\n4         24      M  technician    43537\n5         33      F       other    15213",
      "text/html": "<div>\n<style scoped>\n    .dataframe tbody tr th:only-of-type {\n        vertical-align: middle;\n    }\n\n    .dataframe tbody tr th {\n        vertical-align: top;\n    }\n\n    .dataframe thead th {\n        text-align: right;\n    }\n</style>\n<table border=\"1\" class=\"dataframe\">\n  <thead>\n    <tr style=\"text-align: right;\">\n      <th></th>\n      <th>age</th>\n      <th>gender</th>\n      <th>occupation</th>\n      <th>zip_code</th>\n    </tr>\n    <tr>\n      <th>user_id</th>\n      <th></th>\n      <th></th>\n      <th></th>\n      <th></th>\n    </tr>\n  </thead>\n  <tbody>\n    <tr>\n      <th>1</th>\n      <td>24</td>\n      <td>M</td>\n      <td>technician</td>\n      <td>85711</td>\n    </tr>\n    <tr>\n      <th>2</th>\n      <td>53</td>\n      <td>F</td>\n      <td>other</td>\n      <td>94043</td>\n    </tr>\n    <tr>\n      <th>3</th>\n      <td>23</td>\n      <td>M</td>\n      <td>writer</td>\n      <td>32067</td>\n    </tr>\n    <tr>\n      <th>4</th>\n      <td>24</td>\n      <td>M</td>\n      <td>technician</td>\n      <td>43537</td>\n    </tr>\n    <tr>\n      <th>5</th>\n      <td>33</td>\n      <td>F</td>\n      <td>other</td>\n      <td>15213</td>\n    </tr>\n  </tbody>\n</table>\n</div>"
     },
     "metadata": {}
    }
   ]
  },
  {
   "cell_type": "code",
   "metadata": {
    "tags": [],
    "cell_id": "00011-d5a34a5c-48ba-4113-942a-3ac86d0179d4",
    "deepnote_to_be_reexecuted": false,
    "source_hash": "70e8e2fc",
    "execution_start": 1640284391525,
    "execution_millis": 13,
    "deepnote_output_heights": [
     443.546875
    ],
    "deepnote_cell_type": "code"
   },
   "source": "#Step 4. Discover what is the mean age per occupation\nusers.groupby('occupation').age.mean()",
   "execution_count": null,
   "outputs": [
    {
     "output_type": "execute_result",
     "execution_count": 3,
     "data": {
      "text/plain": "occupation\nadministrator    38.746835\nartist           31.392857\ndoctor           43.571429\neducator         42.010526\nengineer         36.388060\nentertainment    29.222222\nexecutive        38.718750\nhealthcare       41.562500\nhomemaker        32.571429\nlawyer           36.750000\nlibrarian        40.000000\nmarketing        37.615385\nnone             26.555556\nother            34.523810\nprogrammer       33.121212\nretired          63.071429\nsalesman         35.666667\nscientist        35.548387\nstudent          22.081633\ntechnician       33.148148\nwriter           36.311111\nName: age, dtype: float64"
     },
     "metadata": {}
    }
   ]
  },
  {
   "cell_type": "code",
   "metadata": {
    "tags": [],
    "cell_id": "00012-6685af54-0bc0-4cf1-93cb-2b068344fa91",
    "deepnote_to_be_reexecuted": false,
    "source_hash": "29d20c6d",
    "execution_start": 1640284392775,
    "execution_millis": 238,
    "deepnote_output_heights": [
     424.34375
    ],
    "deepnote_cell_type": "code"
   },
   "source": "#Step 5. Discover the Male ratio per occupation and sort it from the most to the least\ndef gender_to_numeric(x):\n    if x=='M':\n        return 1\n    if x=='F':\n        return 0\n\nusers['gender_n'] = users['gender'].apply(gender_to_numeric)\n#users.head()\n\na = (users.groupby('occupation').gender_n.sum() / users.occupation.value_counts())*100\na.sort_values(ascending=False)\n",
   "execution_count": null,
   "outputs": [
    {
     "output_type": "execute_result",
     "execution_count": 4,
     "data": {
      "text/plain": "doctor           100.000000\nengineer          97.014925\ntechnician        96.296296\nretired           92.857143\nprogrammer        90.909091\nexecutive         90.625000\nscientist         90.322581\nentertainment     88.888889\nlawyer            83.333333\nsalesman          75.000000\neducator          72.631579\nstudent           69.387755\nother             65.714286\nmarketing         61.538462\nwriter            57.777778\nnone              55.555556\nadministrator     54.430380\nartist            53.571429\nlibrarian         43.137255\nhealthcare        31.250000\nhomemaker         14.285714\ndtype: float64"
     },
     "metadata": {}
    }
   ]
  },
  {
   "cell_type": "code",
   "metadata": {
    "tags": [],
    "cell_id": "00013-fb32b1ed-56ac-4048-a360-6f9c467697c1",
    "deepnote_to_be_reexecuted": false,
    "source_hash": "22100e8a",
    "execution_start": 1640284394205,
    "execution_millis": 61,
    "deepnote_output_heights": [
     611
    ],
    "deepnote_cell_type": "code"
   },
   "source": "#Step 6. For each occupation, calculate the minimum and maximum ages\nusers.groupby('occupation').age.agg(['min', 'max'])",
   "execution_count": null,
   "outputs": [
    {
     "output_type": "execute_result",
     "execution_count": 5,
     "data": {
      "application/vnd.deepnote.dataframe.v3+json": {
       "column_count": 2,
       "row_count": 21,
       "columns": [
        {
         "name": "min",
         "dtype": "int64",
         "stats": {
          "unique_count": 13,
          "nan_count": 0,
          "min": "7",
          "max": "51",
          "histogram": [
           {
            "bin_start": 7,
            "bin_end": 11.4,
            "count": 2
           },
           {
            "bin_start": 11.4,
            "bin_end": 15.8,
            "count": 2
           },
           {
            "bin_start": 15.8,
            "bin_end": 20.200000000000003,
            "count": 5
           },
           {
            "bin_start": 20.200000000000003,
            "bin_end": 24.6,
            "count": 10
           },
           {
            "bin_start": 24.6,
            "bin_end": 29,
            "count": 1
           },
           {
            "bin_start": 29,
            "bin_end": 33.400000000000006,
            "count": 0
           },
           {
            "bin_start": 33.400000000000006,
            "bin_end": 37.800000000000004,
            "count": 0
           },
           {
            "bin_start": 37.800000000000004,
            "bin_end": 42.2,
            "count": 0
           },
           {
            "bin_start": 42.2,
            "bin_end": 46.6,
            "count": 0
           },
           {
            "bin_start": 46.6,
            "bin_end": 51,
            "count": 1
           }
          ]
         }
        },
        {
         "name": "max",
         "dtype": "int64",
         "stats": {
          "unique_count": 13,
          "nan_count": 0,
          "min": "42",
          "max": "73",
          "histogram": [
           {
            "bin_start": 42,
            "bin_end": 45.1,
            "count": 1
           },
           {
            "bin_start": 45.1,
            "bin_end": 48.2,
            "count": 1
           },
           {
            "bin_start": 48.2,
            "bin_end": 51.3,
            "count": 2
           },
           {
            "bin_start": 51.3,
            "bin_end": 54.4,
            "count": 1
           },
           {
            "bin_start": 54.4,
            "bin_end": 57.5,
            "count": 4
           },
           {
            "bin_start": 57.5,
            "bin_end": 60.6,
            "count": 1
           },
           {
            "bin_start": 60.6,
            "bin_end": 63.7,
            "count": 3
           },
           {
            "bin_start": 63.7,
            "bin_end": 66.8,
            "count": 3
           },
           {
            "bin_start": 66.8,
            "bin_end": 69.9,
            "count": 2
           },
           {
            "bin_start": 69.9,
            "bin_end": 73,
            "count": 3
           }
          ]
         }
        },
        {
         "name": "_deepnote_index_column",
         "dtype": "object"
        }
       ],
       "rows": [
        {
         "min": 21,
         "max": 70,
         "_deepnote_index_column": "administrator"
        },
        {
         "min": 19,
         "max": 48,
         "_deepnote_index_column": "artist"
        },
        {
         "min": 28,
         "max": 64,
         "_deepnote_index_column": "doctor"
        },
        {
         "min": 23,
         "max": 63,
         "_deepnote_index_column": "educator"
        },
        {
         "min": 22,
         "max": 70,
         "_deepnote_index_column": "engineer"
        },
        {
         "min": 15,
         "max": 50,
         "_deepnote_index_column": "entertainment"
        },
        {
         "min": 22,
         "max": 69,
         "_deepnote_index_column": "executive"
        },
        {
         "min": 22,
         "max": 62,
         "_deepnote_index_column": "healthcare"
        },
        {
         "min": 20,
         "max": 50,
         "_deepnote_index_column": "homemaker"
        },
        {
         "min": 21,
         "max": 53,
         "_deepnote_index_column": "lawyer"
        }
       ]
      },
      "text/plain": "               min  max\noccupation             \nadministrator   21   70\nartist          19   48\ndoctor          28   64\neducator        23   63\nengineer        22   70\nentertainment   15   50\nexecutive       22   69\nhealthcare      22   62\nhomemaker       20   50\nlawyer          21   53\nlibrarian       23   69\nmarketing       24   55\nnone            11   55\nother           13   64\nprogrammer      20   63\nretired         51   73\nsalesman        18   66\nscientist       23   55\nstudent          7   42\ntechnician      21   55\nwriter          18   60",
      "text/html": "<div>\n<style scoped>\n    .dataframe tbody tr th:only-of-type {\n        vertical-align: middle;\n    }\n\n    .dataframe tbody tr th {\n        vertical-align: top;\n    }\n\n    .dataframe thead th {\n        text-align: right;\n    }\n</style>\n<table border=\"1\" class=\"dataframe\">\n  <thead>\n    <tr style=\"text-align: right;\">\n      <th></th>\n      <th>min</th>\n      <th>max</th>\n    </tr>\n    <tr>\n      <th>occupation</th>\n      <th></th>\n      <th></th>\n    </tr>\n  </thead>\n  <tbody>\n    <tr>\n      <th>administrator</th>\n      <td>21</td>\n      <td>70</td>\n    </tr>\n    <tr>\n      <th>artist</th>\n      <td>19</td>\n      <td>48</td>\n    </tr>\n    <tr>\n      <th>doctor</th>\n      <td>28</td>\n      <td>64</td>\n    </tr>\n    <tr>\n      <th>educator</th>\n      <td>23</td>\n      <td>63</td>\n    </tr>\n    <tr>\n      <th>engineer</th>\n      <td>22</td>\n      <td>70</td>\n    </tr>\n    <tr>\n      <th>entertainment</th>\n      <td>15</td>\n      <td>50</td>\n    </tr>\n    <tr>\n      <th>executive</th>\n      <td>22</td>\n      <td>69</td>\n    </tr>\n    <tr>\n      <th>healthcare</th>\n      <td>22</td>\n      <td>62</td>\n    </tr>\n    <tr>\n      <th>homemaker</th>\n      <td>20</td>\n      <td>50</td>\n    </tr>\n    <tr>\n      <th>lawyer</th>\n      <td>21</td>\n      <td>53</td>\n    </tr>\n    <tr>\n      <th>librarian</th>\n      <td>23</td>\n      <td>69</td>\n    </tr>\n    <tr>\n      <th>marketing</th>\n      <td>24</td>\n      <td>55</td>\n    </tr>\n    <tr>\n      <th>none</th>\n      <td>11</td>\n      <td>55</td>\n    </tr>\n    <tr>\n      <th>other</th>\n      <td>13</td>\n      <td>64</td>\n    </tr>\n    <tr>\n      <th>programmer</th>\n      <td>20</td>\n      <td>63</td>\n    </tr>\n    <tr>\n      <th>retired</th>\n      <td>51</td>\n      <td>73</td>\n    </tr>\n    <tr>\n      <th>salesman</th>\n      <td>18</td>\n      <td>66</td>\n    </tr>\n    <tr>\n      <th>scientist</th>\n      <td>23</td>\n      <td>55</td>\n    </tr>\n    <tr>\n      <th>student</th>\n      <td>7</td>\n      <td>42</td>\n    </tr>\n    <tr>\n      <th>technician</th>\n      <td>21</td>\n      <td>55</td>\n    </tr>\n    <tr>\n      <th>writer</th>\n      <td>18</td>\n      <td>60</td>\n    </tr>\n  </tbody>\n</table>\n</div>"
     },
     "metadata": {}
    }
   ]
  },
  {
   "cell_type": "code",
   "metadata": {
    "tags": [],
    "cell_id": "00014-4a124dd5-427a-4d00-93d9-210808442cde",
    "deepnote_to_be_reexecuted": false,
    "source_hash": "d6233768",
    "execution_start": 1640284395476,
    "execution_millis": 25,
    "deepnote_output_heights": [
     611
    ],
    "deepnote_cell_type": "code"
   },
   "source": "#Step 7. For each combination of occupation and gender, calculate the mean age\nusers.groupby(['occupation', 'gender']).age.mean()",
   "execution_count": null,
   "outputs": [
    {
     "output_type": "execute_result",
     "execution_count": 6,
     "data": {
      "text/plain": "occupation     gender\nadministrator  F         40.638889\n               M         37.162791\nartist         F         30.307692\n               M         32.333333\ndoctor         M         43.571429\neducator       F         39.115385\n               M         43.101449\nengineer       F         29.500000\n               M         36.600000\nentertainment  F         31.000000\n               M         29.000000\nexecutive      F         44.000000\n               M         38.172414\nhealthcare     F         39.818182\n               M         45.400000\nhomemaker      F         34.166667\n               M         23.000000\nlawyer         F         39.500000\n               M         36.200000\nlibrarian      F         40.000000\n               M         40.000000\nmarketing      F         37.200000\n               M         37.875000\nnone           F         36.500000\n               M         18.600000\nother          F         35.472222\n               M         34.028986\nprogrammer     F         32.166667\n               M         33.216667\nretired        F         70.000000\n               M         62.538462\nsalesman       F         27.000000\n               M         38.555556\nscientist      F         28.333333\n               M         36.321429\nstudent        F         20.750000\n               M         22.669118\ntechnician     F         38.000000\n               M         32.961538\nwriter         F         37.631579\n               M         35.346154\nName: age, dtype: float64"
     },
     "metadata": {}
    }
   ]
  },
  {
   "cell_type": "code",
   "metadata": {
    "tags": [],
    "cell_id": "00015-e375f9a7-02c0-4f75-8c9f-ee410eea202c",
    "deepnote_to_be_reexecuted": false,
    "source_hash": "40d12971",
    "execution_start": 1640284633435,
    "execution_millis": 41,
    "deepnote_output_heights": [
     611
    ],
    "deepnote_cell_type": "code"
   },
   "source": "#Step 8. For each occupation present the percentage of women and men\nb = users.groupby(['occupation', 'gender'])['gender'].count()\nc = users.groupby('occupation')['gender'].count()\nratio =(b/c)*100\nratio",
   "execution_count": null,
   "outputs": [
    {
     "output_type": "execute_result",
     "execution_count": 17,
     "data": {
      "text/plain": "occupation     gender\nadministrator  F          45.569620\n               M          54.430380\nartist         F          46.428571\n               M          53.571429\ndoctor         M         100.000000\neducator       F          27.368421\n               M          72.631579\nengineer       F           2.985075\n               M          97.014925\nentertainment  F          11.111111\n               M          88.888889\nexecutive      F           9.375000\n               M          90.625000\nhealthcare     F          68.750000\n               M          31.250000\nhomemaker      F          85.714286\n               M          14.285714\nlawyer         F          16.666667\n               M          83.333333\nlibrarian      F          56.862745\n               M          43.137255\nmarketing      F          38.461538\n               M          61.538462\nnone           F          44.444444\n               M          55.555556\nother          F          34.285714\n               M          65.714286\nprogrammer     F           9.090909\n               M          90.909091\nretired        F           7.142857\n               M          92.857143\nsalesman       F          25.000000\n               M          75.000000\nscientist      F           9.677419\n               M          90.322581\nstudent        F          30.612245\n               M          69.387755\ntechnician     F           3.703704\n               M          96.296296\nwriter         F          42.222222\n               M          57.777778\nName: gender, dtype: float64"
     },
     "metadata": {}
    }
   ]
  },
  {
   "cell_type": "code",
   "metadata": {
    "tags": [],
    "cell_id": "00016-2b6aa4e5-51f8-4724-920e-39a25074be84",
    "deepnote_cell_type": "code"
   },
   "source": "",
   "execution_count": null,
   "outputs": []
  },
  {
   "cell_type": "markdown",
   "source": "# Regiment",
   "metadata": {
    "tags": [],
    "is_collapsed": false,
    "cell_id": "00017-1255516c-a75c-464d-9755-8479c1e57d0f",
    "deepnote_cell_type": "text-cell-h1"
   }
  },
  {
   "cell_type": "code",
   "metadata": {
    "tags": [],
    "cell_id": "00018-fdb52ae4-fb99-4db1-a683-e62f5d8b66f1",
    "deepnote_to_be_reexecuted": false,
    "source_hash": "9b82ee11",
    "execution_start": 1640284730913,
    "execution_millis": 1,
    "deepnote_cell_type": "code"
   },
   "source": "import pandas as pd",
   "execution_count": null,
   "outputs": []
  },
  {
   "cell_type": "code",
   "metadata": {
    "tags": [],
    "cell_id": "00019-e4fa34ee-6578-45e9-8316-afe20b9cd7b1",
    "deepnote_to_be_reexecuted": false,
    "source_hash": "f85b7802",
    "execution_start": 1640284781385,
    "execution_millis": 14808,
    "deepnote_cell_type": "code"
   },
   "source": "#Step 2. Create the DataFrame with the following values:\nraw_data = {'regiment': ['Nighthawks', 'Nighthawks', 'Nighthawks', 'Nighthawks', 'Dragoons', 'Dragoons', 'Dragoons', 'Dragoons', 'Scouts', 'Scouts', 'Scouts', 'Scouts'], \n        'company': ['1st', '1st', '2nd', '2nd', '1st', '1st', '2nd', '2nd','1st', '1st', '2nd', '2nd'], \n        'name': ['Miller', 'Jacobson', 'Ali', 'Milner', 'Cooze', 'Jacon', 'Ryaner', 'Sone', 'Sloan', 'Piger', 'Riani', 'Ali'], \n        'preTestScore': [4, 24, 31, 2, 3, 4, 24, 31, 2, 3, 2, 3],\n        'postTestScore': [25, 94, 57, 62, 70, 25, 94, 57, 62, 70, 62, 70]}",
   "execution_count": null,
   "outputs": []
  },
  {
   "cell_type": "code",
   "metadata": {
    "tags": [],
    "cell_id": "00020-104edb11-4137-4a90-a1eb-487766ce5a54",
    "deepnote_to_be_reexecuted": false,
    "source_hash": "a84c158e",
    "execution_start": 1640284804411,
    "execution_millis": 110,
    "deepnote_cell_type": "code"
   },
   "source": "#Step 3. Assign it to a variable called regiment.\nregiment = pd.DataFrame(raw_data, columns = raw_data.keys())\nregiment.head()",
   "execution_count": null,
   "outputs": [
    {
     "output_type": "execute_result",
     "execution_count": 22,
     "data": {
      "application/vnd.deepnote.dataframe.v3+json": {
       "column_count": 5,
       "row_count": 5,
       "columns": [
        {
         "name": "regiment",
         "dtype": "object",
         "stats": {
          "unique_count": 2,
          "nan_count": 0,
          "categories": [
           {
            "name": "Nighthawks",
            "count": 4
           },
           {
            "name": "Dragoons",
            "count": 1
           }
          ]
         }
        },
        {
         "name": "company",
         "dtype": "object",
         "stats": {
          "unique_count": 2,
          "nan_count": 0,
          "categories": [
           {
            "name": "1st",
            "count": 3
           },
           {
            "name": "2nd",
            "count": 2
           }
          ]
         }
        },
        {
         "name": "name",
         "dtype": "object",
         "stats": {
          "unique_count": 5,
          "nan_count": 0,
          "categories": [
           {
            "name": "Miller",
            "count": 1
           },
           {
            "name": "Jacobson",
            "count": 1
           },
           {
            "name": "3 others",
            "count": 3
           }
          ]
         }
        },
        {
         "name": "preTestScore",
         "dtype": "int64",
         "stats": {
          "unique_count": 5,
          "nan_count": 0,
          "min": "2",
          "max": "31",
          "histogram": [
           {
            "bin_start": 2,
            "bin_end": 4.9,
            "count": 3
           },
           {
            "bin_start": 4.9,
            "bin_end": 7.8,
            "count": 0
           },
           {
            "bin_start": 7.8,
            "bin_end": 10.7,
            "count": 0
           },
           {
            "bin_start": 10.7,
            "bin_end": 13.6,
            "count": 0
           },
           {
            "bin_start": 13.6,
            "bin_end": 16.5,
            "count": 0
           },
           {
            "bin_start": 16.5,
            "bin_end": 19.4,
            "count": 0
           },
           {
            "bin_start": 19.4,
            "bin_end": 22.3,
            "count": 0
           },
           {
            "bin_start": 22.3,
            "bin_end": 25.2,
            "count": 1
           },
           {
            "bin_start": 25.2,
            "bin_end": 28.099999999999998,
            "count": 0
           },
           {
            "bin_start": 28.099999999999998,
            "bin_end": 31,
            "count": 1
           }
          ]
         }
        },
        {
         "name": "postTestScore",
         "dtype": "int64",
         "stats": {
          "unique_count": 5,
          "nan_count": 0,
          "min": "25",
          "max": "94",
          "histogram": [
           {
            "bin_start": 25,
            "bin_end": 31.9,
            "count": 1
           },
           {
            "bin_start": 31.9,
            "bin_end": 38.8,
            "count": 0
           },
           {
            "bin_start": 38.8,
            "bin_end": 45.7,
            "count": 0
           },
           {
            "bin_start": 45.7,
            "bin_end": 52.6,
            "count": 0
           },
           {
            "bin_start": 52.6,
            "bin_end": 59.5,
            "count": 1
           },
           {
            "bin_start": 59.5,
            "bin_end": 66.4,
            "count": 1
           },
           {
            "bin_start": 66.4,
            "bin_end": 73.30000000000001,
            "count": 1
           },
           {
            "bin_start": 73.30000000000001,
            "bin_end": 80.2,
            "count": 0
           },
           {
            "bin_start": 80.2,
            "bin_end": 87.1,
            "count": 0
           },
           {
            "bin_start": 87.1,
            "bin_end": 94,
            "count": 1
           }
          ]
         }
        },
        {
         "name": "_deepnote_index_column",
         "dtype": "int64"
        }
       ],
       "rows": [
        {
         "regiment": "Nighthawks",
         "company": "1st",
         "name": "Miller",
         "preTestScore": 4,
         "postTestScore": 25,
         "_deepnote_index_column": 0
        },
        {
         "regiment": "Nighthawks",
         "company": "1st",
         "name": "Jacobson",
         "preTestScore": 24,
         "postTestScore": 94,
         "_deepnote_index_column": 1
        },
        {
         "regiment": "Nighthawks",
         "company": "2nd",
         "name": "Ali",
         "preTestScore": 31,
         "postTestScore": 57,
         "_deepnote_index_column": 2
        },
        {
         "regiment": "Nighthawks",
         "company": "2nd",
         "name": "Milner",
         "preTestScore": 2,
         "postTestScore": 62,
         "_deepnote_index_column": 3
        },
        {
         "regiment": "Dragoons",
         "company": "1st",
         "name": "Cooze",
         "preTestScore": 3,
         "postTestScore": 70,
         "_deepnote_index_column": 4
        }
       ]
      },
      "text/plain": "     regiment company      name  preTestScore  postTestScore\n0  Nighthawks     1st    Miller             4             25\n1  Nighthawks     1st  Jacobson            24             94\n2  Nighthawks     2nd       Ali            31             57\n3  Nighthawks     2nd    Milner             2             62\n4    Dragoons     1st     Cooze             3             70",
      "text/html": "<div>\n<style scoped>\n    .dataframe tbody tr th:only-of-type {\n        vertical-align: middle;\n    }\n\n    .dataframe tbody tr th {\n        vertical-align: top;\n    }\n\n    .dataframe thead th {\n        text-align: right;\n    }\n</style>\n<table border=\"1\" class=\"dataframe\">\n  <thead>\n    <tr style=\"text-align: right;\">\n      <th></th>\n      <th>regiment</th>\n      <th>company</th>\n      <th>name</th>\n      <th>preTestScore</th>\n      <th>postTestScore</th>\n    </tr>\n  </thead>\n  <tbody>\n    <tr>\n      <th>0</th>\n      <td>Nighthawks</td>\n      <td>1st</td>\n      <td>Miller</td>\n      <td>4</td>\n      <td>25</td>\n    </tr>\n    <tr>\n      <th>1</th>\n      <td>Nighthawks</td>\n      <td>1st</td>\n      <td>Jacobson</td>\n      <td>24</td>\n      <td>94</td>\n    </tr>\n    <tr>\n      <th>2</th>\n      <td>Nighthawks</td>\n      <td>2nd</td>\n      <td>Ali</td>\n      <td>31</td>\n      <td>57</td>\n    </tr>\n    <tr>\n      <th>3</th>\n      <td>Nighthawks</td>\n      <td>2nd</td>\n      <td>Milner</td>\n      <td>2</td>\n      <td>62</td>\n    </tr>\n    <tr>\n      <th>4</th>\n      <td>Dragoons</td>\n      <td>1st</td>\n      <td>Cooze</td>\n      <td>3</td>\n      <td>70</td>\n    </tr>\n  </tbody>\n</table>\n</div>"
     },
     "metadata": {}
    }
   ]
  },
  {
   "cell_type": "code",
   "metadata": {
    "tags": [],
    "cell_id": "00021-24a45c73-0c79-47f3-917f-bb4ef33b7a2c",
    "deepnote_to_be_reexecuted": false,
    "source_hash": "b7c490bb",
    "execution_start": 1640285115669,
    "execution_millis": 271,
    "deepnote_output_heights": [
     21.1875
    ],
    "deepnote_cell_type": "code"
   },
   "source": "#Step 4. What is the mean preTestScore from the regiment Nighthawks?\nregiment.groupby('regiment').preTestScore.mean()['Nighthawks']",
   "execution_count": null,
   "outputs": [
    {
     "output_type": "execute_result",
     "execution_count": 32,
     "data": {
      "text/plain": "15.25"
     },
     "metadata": {}
    }
   ]
  },
  {
   "cell_type": "code",
   "metadata": {
    "tags": [],
    "cell_id": "00022-75b0c181-7942-4d47-abd2-28b0bd6b2335",
    "deepnote_to_be_reexecuted": false,
    "source_hash": "69876aed",
    "execution_start": 1640285117881,
    "execution_millis": 496,
    "deepnote_output_heights": [
     148
    ],
    "deepnote_cell_type": "code"
   },
   "source": "#Step 5. Present general statistics by company\nregiment.groupby('company').describe()",
   "execution_count": null,
   "outputs": [
    {
     "output_type": "execute_result",
     "execution_count": 33,
     "data": {
      "application/vnd.deepnote.dataframe.v3+json": {
       "column_count": 16,
       "row_count": 2,
       "columns": [
        {
         "name": [
          "preTestScore",
          "count"
         ],
         "dtype": "float64",
         "stats": {
          "unique_count": 1,
          "nan_count": 0,
          "min": "6.0",
          "max": "6.0",
          "histogram": [
           {
            "bin_start": 5.5,
            "bin_end": 5.6,
            "count": 0
           },
           {
            "bin_start": 5.6,
            "bin_end": 5.7,
            "count": 0
           },
           {
            "bin_start": 5.7,
            "bin_end": 5.8,
            "count": 0
           },
           {
            "bin_start": 5.8,
            "bin_end": 5.9,
            "count": 0
           },
           {
            "bin_start": 5.9,
            "bin_end": 6,
            "count": 0
           },
           {
            "bin_start": 6,
            "bin_end": 6.1,
            "count": 2
           },
           {
            "bin_start": 6.1,
            "bin_end": 6.2,
            "count": 0
           },
           {
            "bin_start": 6.2,
            "bin_end": 6.3,
            "count": 0
           },
           {
            "bin_start": 6.3,
            "bin_end": 6.4,
            "count": 0
           },
           {
            "bin_start": 6.4,
            "bin_end": 6.5,
            "count": 0
           }
          ]
         }
        },
        {
         "name": [
          "preTestScore",
          "mean"
         ],
         "dtype": "float64",
         "stats": {
          "unique_count": 2,
          "nan_count": 0,
          "min": "6.666666666666667",
          "max": "15.5",
          "histogram": [
           {
            "bin_start": 6.666666666666667,
            "bin_end": 7.55,
            "count": 1
           },
           {
            "bin_start": 7.55,
            "bin_end": 8.433333333333334,
            "count": 0
           },
           {
            "bin_start": 8.433333333333334,
            "bin_end": 9.316666666666666,
            "count": 0
           },
           {
            "bin_start": 9.316666666666666,
            "bin_end": 10.2,
            "count": 0
           },
           {
            "bin_start": 10.2,
            "bin_end": 11.083333333333332,
            "count": 0
           },
           {
            "bin_start": 11.083333333333332,
            "bin_end": 11.966666666666665,
            "count": 0
           },
           {
            "bin_start": 11.966666666666665,
            "bin_end": 12.85,
            "count": 0
           },
           {
            "bin_start": 12.85,
            "bin_end": 13.733333333333333,
            "count": 0
           },
           {
            "bin_start": 13.733333333333333,
            "bin_end": 14.616666666666665,
            "count": 0
           },
           {
            "bin_start": 14.616666666666665,
            "bin_end": 15.5,
            "count": 1
           }
          ]
         }
        },
        {
         "name": [
          "preTestScore",
          "std"
         ],
         "dtype": "float64",
         "stats": {
          "unique_count": 2,
          "nan_count": 0,
          "min": "8.524474568362947",
          "max": "14.652644812456213",
          "histogram": [
           {
            "bin_start": 8.524474568362947,
            "bin_end": 9.137291592772273,
            "count": 1
           },
           {
            "bin_start": 9.137291592772273,
            "bin_end": 9.750108617181601,
            "count": 0
           },
           {
            "bin_start": 9.750108617181601,
            "bin_end": 10.362925641590927,
            "count": 0
           },
           {
            "bin_start": 10.362925641590927,
            "bin_end": 10.975742666000254,
            "count": 0
           },
           {
            "bin_start": 10.975742666000254,
            "bin_end": 11.58855969040958,
            "count": 0
           },
           {
            "bin_start": 11.58855969040958,
            "bin_end": 12.201376714818906,
            "count": 0
           },
           {
            "bin_start": 12.201376714818906,
            "bin_end": 12.814193739228234,
            "count": 0
           },
           {
            "bin_start": 12.814193739228234,
            "bin_end": 13.42701076363756,
            "count": 0
           },
           {
            "bin_start": 13.42701076363756,
            "bin_end": 14.039827788046885,
            "count": 0
           },
           {
            "bin_start": 14.039827788046885,
            "bin_end": 14.652644812456213,
            "count": 1
           }
          ]
         }
        },
        {
         "name": [
          "preTestScore",
          "min"
         ],
         "dtype": "float64",
         "stats": {
          "unique_count": 1,
          "nan_count": 0,
          "min": "2.0",
          "max": "2.0",
          "histogram": [
           {
            "bin_start": 1.5,
            "bin_end": 1.6,
            "count": 0
           },
           {
            "bin_start": 1.6,
            "bin_end": 1.7,
            "count": 0
           },
           {
            "bin_start": 1.7,
            "bin_end": 1.8,
            "count": 0
           },
           {
            "bin_start": 1.8,
            "bin_end": 1.9,
            "count": 0
           },
           {
            "bin_start": 1.9,
            "bin_end": 2,
            "count": 0
           },
           {
            "bin_start": 2,
            "bin_end": 2.1,
            "count": 2
           },
           {
            "bin_start": 2.1,
            "bin_end": 2.2,
            "count": 0
           },
           {
            "bin_start": 2.2,
            "bin_end": 2.3,
            "count": 0
           },
           {
            "bin_start": 2.3,
            "bin_end": 2.4,
            "count": 0
           },
           {
            "bin_start": 2.4,
            "bin_end": 2.5,
            "count": 0
           }
          ]
         }
        },
        {
         "name": [
          "preTestScore",
          "25%"
         ],
         "dtype": "float64",
         "stats": {
          "unique_count": 2,
          "nan_count": 0,
          "min": "2.25",
          "max": "3.0",
          "histogram": [
           {
            "bin_start": 2.25,
            "bin_end": 2.325,
            "count": 1
           },
           {
            "bin_start": 2.325,
            "bin_end": 2.4,
            "count": 0
           },
           {
            "bin_start": 2.4,
            "bin_end": 2.475,
            "count": 0
           },
           {
            "bin_start": 2.475,
            "bin_end": 2.55,
            "count": 0
           },
           {
            "bin_start": 2.55,
            "bin_end": 2.625,
            "count": 0
           },
           {
            "bin_start": 2.625,
            "bin_end": 2.7,
            "count": 0
           },
           {
            "bin_start": 2.7,
            "bin_end": 2.775,
            "count": 0
           },
           {
            "bin_start": 2.775,
            "bin_end": 2.85,
            "count": 0
           },
           {
            "bin_start": 2.85,
            "bin_end": 2.925,
            "count": 0
           },
           {
            "bin_start": 2.925,
            "bin_end": 3,
            "count": 1
           }
          ]
         }
        },
        {
         "name": [
          "preTestScore",
          "50%"
         ],
         "dtype": "float64",
         "stats": {
          "unique_count": 2,
          "nan_count": 0,
          "min": "3.5",
          "max": "13.5",
          "histogram": [
           {
            "bin_start": 3.5,
            "bin_end": 4.5,
            "count": 1
           },
           {
            "bin_start": 4.5,
            "bin_end": 5.5,
            "count": 0
           },
           {
            "bin_start": 5.5,
            "bin_end": 6.5,
            "count": 0
           },
           {
            "bin_start": 6.5,
            "bin_end": 7.5,
            "count": 0
           },
           {
            "bin_start": 7.5,
            "bin_end": 8.5,
            "count": 0
           },
           {
            "bin_start": 8.5,
            "bin_end": 9.5,
            "count": 0
           },
           {
            "bin_start": 9.5,
            "bin_end": 10.5,
            "count": 0
           },
           {
            "bin_start": 10.5,
            "bin_end": 11.5,
            "count": 0
           },
           {
            "bin_start": 11.5,
            "bin_end": 12.5,
            "count": 0
           },
           {
            "bin_start": 12.5,
            "bin_end": 13.5,
            "count": 1
           }
          ]
         }
        },
        {
         "name": [
          "preTestScore",
          "75%"
         ],
         "dtype": "float64",
         "stats": {
          "unique_count": 2,
          "nan_count": 0,
          "min": "4.0",
          "max": "29.25",
          "histogram": [
           {
            "bin_start": 4,
            "bin_end": 6.525,
            "count": 1
           },
           {
            "bin_start": 6.525,
            "bin_end": 9.05,
            "count": 0
           },
           {
            "bin_start": 9.05,
            "bin_end": 11.575,
            "count": 0
           },
           {
            "bin_start": 11.575,
            "bin_end": 14.1,
            "count": 0
           },
           {
            "bin_start": 14.1,
            "bin_end": 16.625,
            "count": 0
           },
           {
            "bin_start": 16.625,
            "bin_end": 19.15,
            "count": 0
           },
           {
            "bin_start": 19.15,
            "bin_end": 21.675,
            "count": 0
           },
           {
            "bin_start": 21.675,
            "bin_end": 24.2,
            "count": 0
           },
           {
            "bin_start": 24.2,
            "bin_end": 26.724999999999998,
            "count": 0
           },
           {
            "bin_start": 26.724999999999998,
            "bin_end": 29.25,
            "count": 1
           }
          ]
         }
        },
        {
         "name": [
          "preTestScore",
          "max"
         ],
         "dtype": "float64",
         "stats": {
          "unique_count": 2,
          "nan_count": 0,
          "min": "24.0",
          "max": "31.0",
          "histogram": [
           {
            "bin_start": 24,
            "bin_end": 24.7,
            "count": 1
           },
           {
            "bin_start": 24.7,
            "bin_end": 25.4,
            "count": 0
           },
           {
            "bin_start": 25.4,
            "bin_end": 26.1,
            "count": 0
           },
           {
            "bin_start": 26.1,
            "bin_end": 26.8,
            "count": 0
           },
           {
            "bin_start": 26.8,
            "bin_end": 27.5,
            "count": 0
           },
           {
            "bin_start": 27.5,
            "bin_end": 28.2,
            "count": 0
           },
           {
            "bin_start": 28.2,
            "bin_end": 28.9,
            "count": 0
           },
           {
            "bin_start": 28.9,
            "bin_end": 29.6,
            "count": 0
           },
           {
            "bin_start": 29.6,
            "bin_end": 30.3,
            "count": 0
           },
           {
            "bin_start": 30.3,
            "bin_end": 31,
            "count": 1
           }
          ]
         }
        },
        {
         "name": [
          "postTestScore",
          "count"
         ],
         "dtype": "float64",
         "stats": {
          "unique_count": 1,
          "nan_count": 0,
          "min": "6.0",
          "max": "6.0",
          "histogram": [
           {
            "bin_start": 5.5,
            "bin_end": 5.6,
            "count": 0
           },
           {
            "bin_start": 5.6,
            "bin_end": 5.7,
            "count": 0
           },
           {
            "bin_start": 5.7,
            "bin_end": 5.8,
            "count": 0
           },
           {
            "bin_start": 5.8,
            "bin_end": 5.9,
            "count": 0
           },
           {
            "bin_start": 5.9,
            "bin_end": 6,
            "count": 0
           },
           {
            "bin_start": 6,
            "bin_end": 6.1,
            "count": 2
           },
           {
            "bin_start": 6.1,
            "bin_end": 6.2,
            "count": 0
           },
           {
            "bin_start": 6.2,
            "bin_end": 6.3,
            "count": 0
           },
           {
            "bin_start": 6.3,
            "bin_end": 6.4,
            "count": 0
           },
           {
            "bin_start": 6.4,
            "bin_end": 6.5,
            "count": 0
           }
          ]
         }
        },
        {
         "name": [
          "postTestScore",
          "mean"
         ],
         "dtype": "float64",
         "stats": {
          "unique_count": 2,
          "nan_count": 0,
          "min": "57.666666666666664",
          "max": "67.0",
          "histogram": [
           {
            "bin_start": 57.666666666666664,
            "bin_end": 58.599999999999994,
            "count": 1
           },
           {
            "bin_start": 58.599999999999994,
            "bin_end": 59.53333333333333,
            "count": 0
           },
           {
            "bin_start": 59.53333333333333,
            "bin_end": 60.46666666666667,
            "count": 0
           },
           {
            "bin_start": 60.46666666666667,
            "bin_end": 61.4,
            "count": 0
           },
           {
            "bin_start": 61.4,
            "bin_end": 62.33333333333333,
            "count": 0
           },
           {
            "bin_start": 62.33333333333333,
            "bin_end": 63.266666666666666,
            "count": 0
           },
           {
            "bin_start": 63.266666666666666,
            "bin_end": 64.2,
            "count": 0
           },
           {
            "bin_start": 64.2,
            "bin_end": 65.13333333333333,
            "count": 0
           },
           {
            "bin_start": 65.13333333333333,
            "bin_end": 66.06666666666666,
            "count": 0
           },
           {
            "bin_start": 66.06666666666666,
            "bin_end": 67,
            "count": 1
           }
          ]
         }
        },
        {
         "name": [
          "postTestScore",
          "std"
         ],
         "dtype": "float64",
         "stats": {
          "unique_count": 2,
          "nan_count": 0,
          "min": "14.057026712644463",
          "max": "27.48575388572536",
          "histogram": [
           {
            "bin_start": 14.057026712644463,
            "bin_end": 15.399899429952553,
            "count": 1
           },
           {
            "bin_start": 15.399899429952553,
            "bin_end": 16.74277214726064,
            "count": 0
           },
           {
            "bin_start": 16.74277214726064,
            "bin_end": 18.08564486456873,
            "count": 0
           },
           {
            "bin_start": 18.08564486456873,
            "bin_end": 19.42851758187682,
            "count": 0
           },
           {
            "bin_start": 19.42851758187682,
            "bin_end": 20.77139029918491,
            "count": 0
           },
           {
            "bin_start": 20.77139029918491,
            "bin_end": 22.114263016493,
            "count": 0
           },
           {
            "bin_start": 22.114263016493,
            "bin_end": 23.45713573380109,
            "count": 0
           },
           {
            "bin_start": 23.45713573380109,
            "bin_end": 24.80000845110918,
            "count": 0
           },
           {
            "bin_start": 24.80000845110918,
            "bin_end": 26.14288116841727,
            "count": 0
           },
           {
            "bin_start": 26.14288116841727,
            "bin_end": 27.48575388572536,
            "count": 1
           }
          ]
         }
        },
        {
         "name": [
          "postTestScore",
          "min"
         ],
         "dtype": "float64",
         "stats": {
          "unique_count": 2,
          "nan_count": 0,
          "min": "25.0",
          "max": "57.0",
          "histogram": [
           {
            "bin_start": 25,
            "bin_end": 28.2,
            "count": 1
           },
           {
            "bin_start": 28.2,
            "bin_end": 31.4,
            "count": 0
           },
           {
            "bin_start": 31.4,
            "bin_end": 34.6,
            "count": 0
           },
           {
            "bin_start": 34.6,
            "bin_end": 37.8,
            "count": 0
           },
           {
            "bin_start": 37.8,
            "bin_end": 41,
            "count": 0
           },
           {
            "bin_start": 41,
            "bin_end": 44.2,
            "count": 0
           },
           {
            "bin_start": 44.2,
            "bin_end": 47.400000000000006,
            "count": 0
           },
           {
            "bin_start": 47.400000000000006,
            "bin_end": 50.6,
            "count": 0
           },
           {
            "bin_start": 50.6,
            "bin_end": 53.8,
            "count": 0
           },
           {
            "bin_start": 53.8,
            "bin_end": 57,
            "count": 1
           }
          ]
         }
        },
        {
         "name": [
          "postTestScore",
          "25%"
         ],
         "dtype": "float64",
         "stats": {
          "unique_count": 2,
          "nan_count": 0,
          "min": "34.25",
          "max": "58.25",
          "histogram": [
           {
            "bin_start": 34.25,
            "bin_end": 36.65,
            "count": 1
           },
           {
            "bin_start": 36.65,
            "bin_end": 39.05,
            "count": 0
           },
           {
            "bin_start": 39.05,
            "bin_end": 41.45,
            "count": 0
           },
           {
            "bin_start": 41.45,
            "bin_end": 43.85,
            "count": 0
           },
           {
            "bin_start": 43.85,
            "bin_end": 46.25,
            "count": 0
           },
           {
            "bin_start": 46.25,
            "bin_end": 48.65,
            "count": 0
           },
           {
            "bin_start": 48.65,
            "bin_end": 51.05,
            "count": 0
           },
           {
            "bin_start": 51.05,
            "bin_end": 53.45,
            "count": 0
           },
           {
            "bin_start": 53.45,
            "bin_end": 55.849999999999994,
            "count": 0
           },
           {
            "bin_start": 55.849999999999994,
            "bin_end": 58.25,
            "count": 1
           }
          ]
         }
        },
        {
         "name": [
          "postTestScore",
          "50%"
         ],
         "dtype": "float64",
         "stats": {
          "unique_count": 2,
          "nan_count": 0,
          "min": "62.0",
          "max": "66.0",
          "histogram": [
           {
            "bin_start": 62,
            "bin_end": 62.4,
            "count": 1
           },
           {
            "bin_start": 62.4,
            "bin_end": 62.8,
            "count": 0
           },
           {
            "bin_start": 62.8,
            "bin_end": 63.2,
            "count": 0
           },
           {
            "bin_start": 63.2,
            "bin_end": 63.6,
            "count": 0
           },
           {
            "bin_start": 63.6,
            "bin_end": 64,
            "count": 0
           },
           {
            "bin_start": 64,
            "bin_end": 64.4,
            "count": 0
           },
           {
            "bin_start": 64.4,
            "bin_end": 64.8,
            "count": 0
           },
           {
            "bin_start": 64.8,
            "bin_end": 65.2,
            "count": 0
           },
           {
            "bin_start": 65.2,
            "bin_end": 65.6,
            "count": 0
           },
           {
            "bin_start": 65.6,
            "bin_end": 66,
            "count": 1
           }
          ]
         }
        },
        {
         "name": [
          "postTestScore",
          "75%"
         ],
         "dtype": "float64",
         "stats": {
          "unique_count": 2,
          "nan_count": 0,
          "min": "68.0",
          "max": "70.0",
          "histogram": [
           {
            "bin_start": 68,
            "bin_end": 68.2,
            "count": 1
           },
           {
            "bin_start": 68.2,
            "bin_end": 68.4,
            "count": 0
           },
           {
            "bin_start": 68.4,
            "bin_end": 68.6,
            "count": 0
           },
           {
            "bin_start": 68.6,
            "bin_end": 68.8,
            "count": 0
           },
           {
            "bin_start": 68.8,
            "bin_end": 69,
            "count": 0
           },
           {
            "bin_start": 69,
            "bin_end": 69.2,
            "count": 0
           },
           {
            "bin_start": 69.2,
            "bin_end": 69.4,
            "count": 0
           },
           {
            "bin_start": 69.4,
            "bin_end": 69.6,
            "count": 0
           },
           {
            "bin_start": 69.6,
            "bin_end": 69.8,
            "count": 0
           },
           {
            "bin_start": 69.8,
            "bin_end": 70,
            "count": 1
           }
          ]
         }
        },
        {
         "name": [
          "postTestScore",
          "max"
         ],
         "dtype": "float64",
         "stats": {
          "unique_count": 1,
          "nan_count": 0,
          "min": "94.0",
          "max": "94.0",
          "histogram": [
           {
            "bin_start": 93.5,
            "bin_end": 93.6,
            "count": 0
           },
           {
            "bin_start": 93.6,
            "bin_end": 93.7,
            "count": 0
           },
           {
            "bin_start": 93.7,
            "bin_end": 93.8,
            "count": 0
           },
           {
            "bin_start": 93.8,
            "bin_end": 93.9,
            "count": 0
           },
           {
            "bin_start": 93.9,
            "bin_end": 94,
            "count": 0
           },
           {
            "bin_start": 94,
            "bin_end": 94.1,
            "count": 2
           },
           {
            "bin_start": 94.1,
            "bin_end": 94.2,
            "count": 0
           },
           {
            "bin_start": 94.2,
            "bin_end": 94.3,
            "count": 0
           },
           {
            "bin_start": 94.3,
            "bin_end": 94.4,
            "count": 0
           },
           {
            "bin_start": 94.4,
            "bin_end": 94.5,
            "count": 0
           }
          ]
         }
        },
        {
         "name": "_deepnote_index_column",
         "dtype": "object"
        }
       ],
       "rows": [
        {
         "('preTestScore', 'count')": 6,
         "('preTestScore', 'mean')": 6.666666666666667,
         "('preTestScore', 'std')": 8.524474568362947,
         "('preTestScore', 'min')": 2,
         "('preTestScore', '25%')": 3,
         "('preTestScore', '50%')": 3.5,
         "('preTestScore', '75%')": 4,
         "('preTestScore', 'max')": 24,
         "('postTestScore', 'count')": 6,
         "('postTestScore', 'mean')": 57.666666666666664,
         "('postTestScore', 'std')": 27.48575388572536,
         "('postTestScore', 'min')": 25,
         "('postTestScore', '25%')": 34.25,
         "('postTestScore', '50%')": 66,
         "('postTestScore', '75%')": 70,
         "('postTestScore', 'max')": 94,
         "_deepnote_index_column": "1st"
        },
        {
         "('preTestScore', 'count')": 6,
         "('preTestScore', 'mean')": 15.5,
         "('preTestScore', 'std')": 14.652644812456213,
         "('preTestScore', 'min')": 2,
         "('preTestScore', '25%')": 2.25,
         "('preTestScore', '50%')": 13.5,
         "('preTestScore', '75%')": 29.25,
         "('preTestScore', 'max')": 31,
         "('postTestScore', 'count')": 6,
         "('postTestScore', 'mean')": 67,
         "('postTestScore', 'std')": 14.057026712644463,
         "('postTestScore', 'min')": 57,
         "('postTestScore', '25%')": 58.25,
         "('postTestScore', '50%')": 62,
         "('postTestScore', '75%')": 68,
         "('postTestScore', 'max')": 94,
         "_deepnote_index_column": "2nd"
        }
       ]
      },
      "text/plain": "        preTestScore                                                      \\\n               count       mean        std  min   25%   50%    75%   max   \ncompany                                                                    \n1st              6.0   6.666667   8.524475  2.0  3.00   3.5   4.00  24.0   \n2nd              6.0  15.500000  14.652645  2.0  2.25  13.5  29.25  31.0   \n\n        postTestScore                                                       \n                count       mean        std   min    25%   50%   75%   max  \ncompany                                                                     \n1st               6.0  57.666667  27.485754  25.0  34.25  66.0  70.0  94.0  \n2nd               6.0  67.000000  14.057027  57.0  58.25  62.0  68.0  94.0  ",
      "text/html": "<div>\n<style scoped>\n    .dataframe tbody tr th:only-of-type {\n        vertical-align: middle;\n    }\n\n    .dataframe tbody tr th {\n        vertical-align: top;\n    }\n\n    .dataframe thead tr th {\n        text-align: left;\n    }\n\n    .dataframe thead tr:last-of-type th {\n        text-align: right;\n    }\n</style>\n<table border=\"1\" class=\"dataframe\">\n  <thead>\n    <tr>\n      <th></th>\n      <th colspan=\"8\" halign=\"left\">preTestScore</th>\n      <th colspan=\"8\" halign=\"left\">postTestScore</th>\n    </tr>\n    <tr>\n      <th></th>\n      <th>count</th>\n      <th>mean</th>\n      <th>std</th>\n      <th>min</th>\n      <th>25%</th>\n      <th>50%</th>\n      <th>75%</th>\n      <th>max</th>\n      <th>count</th>\n      <th>mean</th>\n      <th>std</th>\n      <th>min</th>\n      <th>25%</th>\n      <th>50%</th>\n      <th>75%</th>\n      <th>max</th>\n    </tr>\n    <tr>\n      <th>company</th>\n      <th></th>\n      <th></th>\n      <th></th>\n      <th></th>\n      <th></th>\n      <th></th>\n      <th></th>\n      <th></th>\n      <th></th>\n      <th></th>\n      <th></th>\n      <th></th>\n      <th></th>\n      <th></th>\n      <th></th>\n      <th></th>\n    </tr>\n  </thead>\n  <tbody>\n    <tr>\n      <th>1st</th>\n      <td>6.0</td>\n      <td>6.666667</td>\n      <td>8.524475</td>\n      <td>2.0</td>\n      <td>3.00</td>\n      <td>3.5</td>\n      <td>4.00</td>\n      <td>24.0</td>\n      <td>6.0</td>\n      <td>57.666667</td>\n      <td>27.485754</td>\n      <td>25.0</td>\n      <td>34.25</td>\n      <td>66.0</td>\n      <td>70.0</td>\n      <td>94.0</td>\n    </tr>\n    <tr>\n      <th>2nd</th>\n      <td>6.0</td>\n      <td>15.500000</td>\n      <td>14.652645</td>\n      <td>2.0</td>\n      <td>2.25</td>\n      <td>13.5</td>\n      <td>29.25</td>\n      <td>31.0</td>\n      <td>6.0</td>\n      <td>67.000000</td>\n      <td>14.057027</td>\n      <td>57.0</td>\n      <td>58.25</td>\n      <td>62.0</td>\n      <td>68.0</td>\n      <td>94.0</td>\n    </tr>\n  </tbody>\n</table>\n</div>"
     },
     "metadata": {}
    }
   ]
  },
  {
   "cell_type": "code",
   "metadata": {
    "tags": [],
    "cell_id": "00023-1a0d4d74-f360-4e5a-bd13-ebde02584a60",
    "deepnote_to_be_reexecuted": false,
    "source_hash": "c2af558b",
    "execution_start": 1640285198235,
    "execution_millis": 16,
    "deepnote_output_heights": [
     null,
     78.78125
    ],
    "deepnote_cell_type": "code"
   },
   "source": "3Step 6. What is the mean of each company's preTestScore?\nregiment.groupby('company').preTestScore.mean()",
   "execution_count": null,
   "outputs": [
    {
     "name": "stdout",
     "text": "Object `preTestScore` not found.\n",
     "output_type": "stream",
     "data": {}
    },
    {
     "output_type": "execute_result",
     "execution_count": 35,
     "data": {
      "text/plain": "company\n1st     6.666667\n2nd    15.500000\nName: preTestScore, dtype: float64"
     },
     "metadata": {}
    }
   ]
  },
  {
   "cell_type": "code",
   "metadata": {
    "tags": [],
    "cell_id": "00024-08f6f867-aaa2-44e7-b79e-0846d5dbe7b5",
    "deepnote_to_be_reexecuted": false,
    "source_hash": "4216d50c",
    "execution_start": 1640285254057,
    "execution_millis": 18,
    "deepnote_output_heights": [
     155.578125
    ],
    "deepnote_cell_type": "code"
   },
   "source": "#Step 7. Present the mean preTestScores grouped by regiment and company\nregiment.groupby(['regiment', 'company']).preTestScore.mean()",
   "execution_count": null,
   "outputs": [
    {
     "output_type": "execute_result",
     "execution_count": 36,
     "data": {
      "text/plain": "regiment    company\nDragoons    1st         3.5\n            2nd        27.5\nNighthawks  1st        14.0\n            2nd        16.5\nScouts      1st         2.5\n            2nd         2.5\nName: preTestScore, dtype: float64"
     },
     "metadata": {}
    }
   ]
  },
  {
   "cell_type": "code",
   "metadata": {
    "tags": [],
    "cell_id": "00025-9b85b3d8-6bb7-4b72-925e-cac05bbda785",
    "deepnote_to_be_reexecuted": false,
    "source_hash": "7b95357d",
    "execution_start": 1640285306408,
    "execution_millis": 93,
    "deepnote_output_heights": [
     148
    ],
    "deepnote_cell_type": "code"
   },
   "source": "#Step 8. Present the mean preTestScores grouped by regiment and company without heirarchical indexing\nregiment.groupby(['regiment', 'company']).preTestScore.mean().unstack()",
   "execution_count": null,
   "outputs": [
    {
     "output_type": "execute_result",
     "execution_count": 37,
     "data": {
      "application/vnd.deepnote.dataframe.v3+json": {
       "column_count": 2,
       "row_count": 3,
       "columns": [
        {
         "name": "1st",
         "dtype": "float64",
         "stats": {
          "unique_count": 3,
          "nan_count": 0,
          "min": "2.5",
          "max": "14.0",
          "histogram": [
           {
            "bin_start": 2.5,
            "bin_end": 3.65,
            "count": 2
           },
           {
            "bin_start": 3.65,
            "bin_end": 4.8,
            "count": 0
           },
           {
            "bin_start": 4.8,
            "bin_end": 5.949999999999999,
            "count": 0
           },
           {
            "bin_start": 5.949999999999999,
            "bin_end": 7.1,
            "count": 0
           },
           {
            "bin_start": 7.1,
            "bin_end": 8.25,
            "count": 0
           },
           {
            "bin_start": 8.25,
            "bin_end": 9.399999999999999,
            "count": 0
           },
           {
            "bin_start": 9.399999999999999,
            "bin_end": 10.549999999999999,
            "count": 0
           },
           {
            "bin_start": 10.549999999999999,
            "bin_end": 11.7,
            "count": 0
           },
           {
            "bin_start": 11.7,
            "bin_end": 12.85,
            "count": 0
           },
           {
            "bin_start": 12.85,
            "bin_end": 14,
            "count": 1
           }
          ]
         }
        },
        {
         "name": "2nd",
         "dtype": "float64",
         "stats": {
          "unique_count": 3,
          "nan_count": 0,
          "min": "2.5",
          "max": "27.5",
          "histogram": [
           {
            "bin_start": 2.5,
            "bin_end": 5,
            "count": 1
           },
           {
            "bin_start": 5,
            "bin_end": 7.5,
            "count": 0
           },
           {
            "bin_start": 7.5,
            "bin_end": 10,
            "count": 0
           },
           {
            "bin_start": 10,
            "bin_end": 12.5,
            "count": 0
           },
           {
            "bin_start": 12.5,
            "bin_end": 15,
            "count": 0
           },
           {
            "bin_start": 15,
            "bin_end": 17.5,
            "count": 1
           },
           {
            "bin_start": 17.5,
            "bin_end": 20,
            "count": 0
           },
           {
            "bin_start": 20,
            "bin_end": 22.5,
            "count": 0
           },
           {
            "bin_start": 22.5,
            "bin_end": 25,
            "count": 0
           },
           {
            "bin_start": 25,
            "bin_end": 27.5,
            "count": 1
           }
          ]
         }
        },
        {
         "name": "_deepnote_index_column",
         "dtype": "object"
        }
       ],
       "rows": [
        {
         "1st": 3.5,
         "2nd": 27.5,
         "_deepnote_index_column": "Dragoons"
        },
        {
         "1st": 14,
         "2nd": 16.5,
         "_deepnote_index_column": "Nighthawks"
        },
        {
         "1st": 2.5,
         "2nd": 2.5,
         "_deepnote_index_column": "Scouts"
        }
       ]
      },
      "text/plain": "company      1st   2nd\nregiment              \nDragoons     3.5  27.5\nNighthawks  14.0  16.5\nScouts       2.5   2.5",
      "text/html": "<div>\n<style scoped>\n    .dataframe tbody tr th:only-of-type {\n        vertical-align: middle;\n    }\n\n    .dataframe tbody tr th {\n        vertical-align: top;\n    }\n\n    .dataframe thead th {\n        text-align: right;\n    }\n</style>\n<table border=\"1\" class=\"dataframe\">\n  <thead>\n    <tr style=\"text-align: right;\">\n      <th>company</th>\n      <th>1st</th>\n      <th>2nd</th>\n    </tr>\n    <tr>\n      <th>regiment</th>\n      <th></th>\n      <th></th>\n    </tr>\n  </thead>\n  <tbody>\n    <tr>\n      <th>Dragoons</th>\n      <td>3.5</td>\n      <td>27.5</td>\n    </tr>\n    <tr>\n      <th>Nighthawks</th>\n      <td>14.0</td>\n      <td>16.5</td>\n    </tr>\n    <tr>\n      <th>Scouts</th>\n      <td>2.5</td>\n      <td>2.5</td>\n    </tr>\n  </tbody>\n</table>\n</div>"
     },
     "metadata": {}
    }
   ]
  },
  {
   "cell_type": "code",
   "metadata": {
    "tags": [],
    "cell_id": "00026-2c760972-b508-46f5-8739-c34ee270f165",
    "deepnote_to_be_reexecuted": false,
    "source_hash": "59732ea9",
    "execution_start": 1640285406895,
    "execution_millis": 52,
    "deepnote_cell_type": "code"
   },
   "source": "#Step 9. Group the entire dataframe by regiment and company\nregiment.groupby(['regiment', 'company']).mean()",
   "execution_count": null,
   "outputs": [
    {
     "output_type": "execute_result",
     "execution_count": 38,
     "data": {
      "application/vnd.deepnote.dataframe.v3+json": {
       "column_count": 2,
       "row_count": 6,
       "columns": [
        {
         "name": "preTestScore",
         "dtype": "float64",
         "stats": {
          "unique_count": 5,
          "nan_count": 0,
          "min": "2.5",
          "max": "27.5",
          "histogram": [
           {
            "bin_start": 2.5,
            "bin_end": 5,
            "count": 3
           },
           {
            "bin_start": 5,
            "bin_end": 7.5,
            "count": 0
           },
           {
            "bin_start": 7.5,
            "bin_end": 10,
            "count": 0
           },
           {
            "bin_start": 10,
            "bin_end": 12.5,
            "count": 0
           },
           {
            "bin_start": 12.5,
            "bin_end": 15,
            "count": 1
           },
           {
            "bin_start": 15,
            "bin_end": 17.5,
            "count": 1
           },
           {
            "bin_start": 17.5,
            "bin_end": 20,
            "count": 0
           },
           {
            "bin_start": 20,
            "bin_end": 22.5,
            "count": 0
           },
           {
            "bin_start": 22.5,
            "bin_end": 25,
            "count": 0
           },
           {
            "bin_start": 25,
            "bin_end": 27.5,
            "count": 1
           }
          ]
         }
        },
        {
         "name": "postTestScore",
         "dtype": "float64",
         "stats": {
          "unique_count": 4,
          "nan_count": 0,
          "min": "47.5",
          "max": "75.5",
          "histogram": [
           {
            "bin_start": 47.5,
            "bin_end": 50.3,
            "count": 1
           },
           {
            "bin_start": 50.3,
            "bin_end": 53.1,
            "count": 0
           },
           {
            "bin_start": 53.1,
            "bin_end": 55.9,
            "count": 0
           },
           {
            "bin_start": 55.9,
            "bin_end": 58.7,
            "count": 0
           },
           {
            "bin_start": 58.7,
            "bin_end": 61.5,
            "count": 2
           },
           {
            "bin_start": 61.5,
            "bin_end": 64.3,
            "count": 0
           },
           {
            "bin_start": 64.3,
            "bin_end": 67.1,
            "count": 2
           },
           {
            "bin_start": 67.1,
            "bin_end": 69.9,
            "count": 0
           },
           {
            "bin_start": 69.9,
            "bin_end": 72.7,
            "count": 0
           },
           {
            "bin_start": 72.7,
            "bin_end": 75.5,
            "count": 1
           }
          ]
         }
        },
        {
         "name": "_deepnote_index_column",
         "dtype": "object"
        }
       ],
       "rows": [
        {
         "preTestScore": 3.5,
         "postTestScore": 47.5,
         "_deepnote_index_column": "('Dragoons', '1st')"
        },
        {
         "preTestScore": 27.5,
         "postTestScore": 75.5,
         "_deepnote_index_column": "('Dragoons', '2nd')"
        },
        {
         "preTestScore": 14,
         "postTestScore": 59.5,
         "_deepnote_index_column": "('Nighthawks', '1st')"
        },
        {
         "preTestScore": 16.5,
         "postTestScore": 59.5,
         "_deepnote_index_column": "('Nighthawks', '2nd')"
        },
        {
         "preTestScore": 2.5,
         "postTestScore": 66,
         "_deepnote_index_column": "('Scouts', '1st')"
        },
        {
         "preTestScore": 2.5,
         "postTestScore": 66,
         "_deepnote_index_column": "('Scouts', '2nd')"
        }
       ]
      },
      "text/plain": "                    preTestScore  postTestScore\nregiment   company                             \nDragoons   1st               3.5           47.5\n           2nd              27.5           75.5\nNighthawks 1st              14.0           59.5\n           2nd              16.5           59.5\nScouts     1st               2.5           66.0\n           2nd               2.5           66.0",
      "text/html": "<div>\n<style scoped>\n    .dataframe tbody tr th:only-of-type {\n        vertical-align: middle;\n    }\n\n    .dataframe tbody tr th {\n        vertical-align: top;\n    }\n\n    .dataframe thead th {\n        text-align: right;\n    }\n</style>\n<table border=\"1\" class=\"dataframe\">\n  <thead>\n    <tr style=\"text-align: right;\">\n      <th></th>\n      <th></th>\n      <th>preTestScore</th>\n      <th>postTestScore</th>\n    </tr>\n    <tr>\n      <th>regiment</th>\n      <th>company</th>\n      <th></th>\n      <th></th>\n    </tr>\n  </thead>\n  <tbody>\n    <tr>\n      <th rowspan=\"2\" valign=\"top\">Dragoons</th>\n      <th>1st</th>\n      <td>3.5</td>\n      <td>47.5</td>\n    </tr>\n    <tr>\n      <th>2nd</th>\n      <td>27.5</td>\n      <td>75.5</td>\n    </tr>\n    <tr>\n      <th rowspan=\"2\" valign=\"top\">Nighthawks</th>\n      <th>1st</th>\n      <td>14.0</td>\n      <td>59.5</td>\n    </tr>\n    <tr>\n      <th>2nd</th>\n      <td>16.5</td>\n      <td>59.5</td>\n    </tr>\n    <tr>\n      <th rowspan=\"2\" valign=\"top\">Scouts</th>\n      <th>1st</th>\n      <td>2.5</td>\n      <td>66.0</td>\n    </tr>\n    <tr>\n      <th>2nd</th>\n      <td>2.5</td>\n      <td>66.0</td>\n    </tr>\n  </tbody>\n</table>\n</div>"
     },
     "metadata": {}
    }
   ]
  },
  {
   "cell_type": "code",
   "metadata": {
    "tags": [],
    "cell_id": "00027-5648a5bd-ce51-458a-aed8-1523270e4a8d",
    "deepnote_to_be_reexecuted": false,
    "source_hash": "32a46978",
    "execution_start": 1640285493144,
    "execution_millis": 24,
    "deepnote_output_heights": [
     155.578125
    ],
    "deepnote_cell_type": "code"
   },
   "source": "#Step 10. What is the number of observations in each regiment and company\nregiment.groupby(['regiment','company']).size()",
   "execution_count": null,
   "outputs": [
    {
     "output_type": "execute_result",
     "execution_count": 44,
     "data": {
      "text/plain": "regiment    company\nDragoons    1st        2\n            2nd        2\nNighthawks  1st        2\n            2nd        2\nScouts      1st        2\n            2nd        2\ndtype: int64"
     },
     "metadata": {}
    }
   ]
  },
  {
   "cell_type": "code",
   "metadata": {
    "tags": [],
    "cell_id": "00028-3d1d1503-140f-4393-8676-df784fbefdb6",
    "deepnote_to_be_reexecuted": false,
    "source_hash": "3c2966d",
    "execution_start": 1640285572932,
    "execution_millis": 2,
    "deepnote_cell_type": "code"
   },
   "source": "#Step 11. Iterate over a group and print the name and the whole data from the regiment\n# Group the dataframe by regiment, and for each regiment,\nfor name, group in regiment.groupby('regiment'):\n    # print the name of the regiment\n    print(name)\n    # print the data of that regiment\n    print(group)",
   "execution_count": null,
   "outputs": [
    {
     "name": "stdout",
     "text": "Dragoons\n   regiment company    name  preTestScore  postTestScore\n4  Dragoons     1st   Cooze             3             70\n5  Dragoons     1st   Jacon             4             25\n6  Dragoons     2nd  Ryaner            24             94\n7  Dragoons     2nd    Sone            31             57\nNighthawks\n     regiment company      name  preTestScore  postTestScore\n0  Nighthawks     1st    Miller             4             25\n1  Nighthawks     1st  Jacobson            24             94\n2  Nighthawks     2nd       Ali            31             57\n3  Nighthawks     2nd    Milner             2             62\nScouts\n   regiment company   name  preTestScore  postTestScore\n8    Scouts     1st  Sloan             2             62\n9    Scouts     1st  Piger             3             70\n10   Scouts     2nd  Riani             2             62\n11   Scouts     2nd    Ali             3             70\n",
     "output_type": "stream",
     "data": {}
    }
   ]
  },
  {
   "cell_type": "code",
   "metadata": {
    "tags": [],
    "cell_id": "00029-72004f38-7f44-4f70-8155-611352a17ea9",
    "deepnote_cell_type": "code"
   },
   "source": "",
   "execution_count": null,
   "outputs": []
  },
  {
   "cell_type": "markdown",
   "source": "<a style='text-decoration:none;line-height:16px;display:flex;color:#5B5B62;padding:10px;justify-content:end;' href='https://deepnote.com?utm_source=created-in-deepnote-cell&projectId=c4cc4bb2-1551-4c9c-9e66-9f4241a44bb1' target=\"_blank\">\n<img alt='Created in deepnote.com' style='display:inline;max-height:16px;margin:0px;margin-right:7.5px;' src='data:image/svg+xml;base64,PD94bWwgdmVyc2lvbj0iMS4wIiBlbmNvZGluZz0iVVRGLTgiPz4KPHN2ZyB3aWR0aD0iODBweCIgaGVpZ2h0PSI4MHB4IiB2aWV3Qm94PSIwIDAgODAgODAiIHZlcnNpb249IjEuMSIgeG1sbnM9Imh0dHA6Ly93d3cudzMub3JnLzIwMDAvc3ZnIiB4bWxuczp4bGluaz0iaHR0cDovL3d3dy53My5vcmcvMTk5OS94bGluayI+CiAgICA8IS0tIEdlbmVyYXRvcjogU2tldGNoIDU0LjEgKDc2NDkwKSAtIGh0dHBzOi8vc2tldGNoYXBwLmNvbSAtLT4KICAgIDx0aXRsZT5Hcm91cCAzPC90aXRsZT4KICAgIDxkZXNjPkNyZWF0ZWQgd2l0aCBTa2V0Y2guPC9kZXNjPgogICAgPGcgaWQ9IkxhbmRpbmciIHN0cm9rZT0ibm9uZSIgc3Ryb2tlLXdpZHRoPSIxIiBmaWxsPSJub25lIiBmaWxsLXJ1bGU9ImV2ZW5vZGQiPgogICAgICAgIDxnIGlkPSJBcnRib2FyZCIgdHJhbnNmb3JtPSJ0cmFuc2xhdGUoLTEyMzUuMDAwMDAwLCAtNzkuMDAwMDAwKSI+CiAgICAgICAgICAgIDxnIGlkPSJHcm91cC0zIiB0cmFuc2Zvcm09InRyYW5zbGF0ZSgxMjM1LjAwMDAwMCwgNzkuMDAwMDAwKSI+CiAgICAgICAgICAgICAgICA8cG9seWdvbiBpZD0iUGF0aC0yMCIgZmlsbD0iIzAyNjVCNCIgcG9pbnRzPSIyLjM3NjIzNzYyIDgwIDM4LjA0NzY2NjcgODAgNTcuODIxNzgyMiA3My44MDU3NTkyIDU3LjgyMTc4MjIgMzIuNzU5MjczOSAzOS4xNDAyMjc4IDMxLjY4MzE2ODMiPjwvcG9seWdvbj4KICAgICAgICAgICAgICAgIDxwYXRoIGQ9Ik0zNS4wMDc3MTgsODAgQzQyLjkwNjIwMDcsNzYuNDU0OTM1OCA0Ny41NjQ5MTY3LDcxLjU0MjI2NzEgNDguOTgzODY2LDY1LjI2MTk5MzkgQzUxLjExMjI4OTksNTUuODQxNTg0MiA0MS42NzcxNzk1LDQ5LjIxMjIyODQgMjUuNjIzOTg0Niw0OS4yMTIyMjg0IEMyNS40ODQ5Mjg5LDQ5LjEyNjg0NDggMjkuODI2MTI5Niw0My4yODM4MjQ4IDM4LjY0NzU4NjksMzEuNjgzMTY4MyBMNzIuODcxMjg3MSwzMi41NTQ0MjUgTDY1LjI4MDk3Myw2Ny42NzYzNDIxIEw1MS4xMTIyODk5LDc3LjM3NjE0NCBMMzUuMDA3NzE4LDgwIFoiIGlkPSJQYXRoLTIyIiBmaWxsPSIjMDAyODY4Ij48L3BhdGg+CiAgICAgICAgICAgICAgICA8cGF0aCBkPSJNMCwzNy43MzA0NDA1IEwyNy4xMTQ1MzcsMC4yNTcxMTE0MzYgQzYyLjM3MTUxMjMsLTEuOTkwNzE3MDEgODAsMTAuNTAwMzkyNyA4MCwzNy43MzA0NDA1IEM4MCw2NC45NjA0ODgyIDY0Ljc3NjUwMzgsNzkuMDUwMzQxNCAzNC4zMjk1MTEzLDgwIEM0Ny4wNTUzNDg5LDc3LjU2NzA4MDggNTMuNDE4MjY3Nyw3MC4zMTM2MTAzIDUzLjQxODI2NzcsNTguMjM5NTg4NSBDNTMuNDE4MjY3Nyw0MC4xMjg1NTU3IDM2LjMwMzk1NDQsMzcuNzMwNDQwNSAyNS4yMjc0MTcsMzcuNzMwNDQwNSBDMTcuODQzMDU4NiwzNy43MzA0NDA1IDkuNDMzOTE5NjYsMzcuNzMwNDQwNSAwLDM3LjczMDQ0MDUgWiIgaWQ9IlBhdGgtMTkiIGZpbGw9IiMzNzkzRUYiPjwvcGF0aD4KICAgICAgICAgICAgPC9nPgogICAgICAgIDwvZz4KICAgIDwvZz4KPC9zdmc+' > </img>\nCreated in <span style='font-weight:600;margin-left:4px;'>Deepnote</span></a>",
   "metadata": {
    "tags": [],
    "created_in_deepnote_cell": true,
    "deepnote_cell_type": "markdown"
   }
  }
 ],
 "nbformat": 4,
 "nbformat_minor": 2,
 "metadata": {
  "orig_nbformat": 2,
  "deepnote": {
   "is_reactive": false
  },
  "deepnote_notebook_id": "5ff5bbfd-f00c-4e3f-bbdf-912ba0e10577",
  "deepnote_execution_queue": []
 }
}